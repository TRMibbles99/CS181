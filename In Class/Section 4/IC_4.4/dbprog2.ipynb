{
 "cells": [
  {
   "cell_type": "markdown",
   "metadata": {},
   "source": [
    "# Denison CS-181/DA-210 Homework"
   ]
  },
  {
   "cell_type": "markdown",
   "metadata": {},
   "source": [
    "---"
   ]
  },
  {
   "cell_type": "markdown",
   "metadata": {},
   "source": [
    "## Database Programming II"
   ]
  },
  {
   "cell_type": "code",
   "execution_count": 29,
   "metadata": {},
   "outputs": [],
   "source": [
    "import os\n",
    "import sys\n",
    "import lxml\n",
    "import pandas as pd\n",
    "import sqlalchemy as sa\n",
    "\n",
    "from IPython.display import Markdown as md\n",
    "from IPython.display import Image\n",
    "\n",
    "def add_modules():\n",
    "    \"\"\"\n",
    "    Starting at the current directory and proceeding up the file system\n",
    "    tree, search for a directory named `modules`.  If found, and if not\n",
    "    already there, add to the Python module search path.\n",
    "    \n",
    "    Params: None\n",
    "    \n",
    "    Return: None\n",
    "    \"\"\"\n",
    "    directory = \".\"\n",
    "    levels = 0\n",
    "    while not os.path.isdir(os.path.join(directory, \"modules\")) and \\\n",
    "          levels < 5:\n",
    "        directory = os.path.join(directory, \"..\")\n",
    "        levels += 1\n",
    "    module_path = os.path.abspath(os.path.join(directory, \"modules\"))\n",
    "    if os.path.isdir(module_path):\n",
    "        if not module_path in sys.path:\n",
    "            sys.path.append(module_path)\n",
    "\n",
    "add_modules()\n",
    "import util\n",
    "\n",
    "datadir = util.resolve_dir(\"dbfiles\")\n",
    "figsdir = util.resolve_dir(\"figs\")"
   ]
  },
  {
   "cell_type": "markdown",
   "metadata": {},
   "source": [
    "### Connection Review"
   ]
  },
  {
   "cell_type": "markdown",
   "metadata": {},
   "source": [
    "**Practice 1:** Fill in the body of this function:\n",
    "\n",
    "    sqlite_connect(datadir, database)\n",
    "    \n",
    "which performs the common setup functionality from the connection setup steps of yesterday's notebook, namely:\n",
    "\n",
    "1. Create and verify a path to the database file comprised of the data directory, and the name of the database with a `\".db\"` appended.\n",
    "2. Create an sqlite connection string with `sqlite:///` and then the path from step 1.\n",
    "3. Create an engine object using `create_engine()` from the `sqlalchemy` (i.e. `sa`) module.  Note that the import with alias for the package is already done for you in the prologue step.\n",
    "4. Create a connection object by invoking the `connect()` method of the engine object.\n",
    "\n",
    "The function should return the tuple of the engine and the connection object, to be used in subsequent operations, or (None, None) if the path does not exist as a file."
   ]
  },
  {
   "cell_type": "code",
   "execution_count": 30,
   "metadata": {
    "deletable": false,
    "nbgrader": {
     "cell_type": "code",
     "checksum": "dff6285227d1228c62d4b1f2b473ff82",
     "grade": false,
     "grade_id": "cell-f97b64a23c382434",
     "locked": false,
     "schema_version": 3,
     "solution": true,
     "task": false
    }
   },
   "outputs": [],
   "source": [
    "def sqlite_connect(datadir, database):\n",
    "    # 1. Create path\n",
    "    # 2. Create connection string\n",
    "    # 3. Call create_engine()\n",
    "    # 4. Call connect()\n",
    "    \n",
    "    path = os.path.join(datadir, database + \".db\")\n",
    "    assert os.path.isfile(path)\n",
    "    cstring = f\"sqlite:///{path}\"\n",
    "    engine = sa.create_engine(cstring)\n",
    "    conn = engine.connect()\n",
    "    \n",
    "    return engine, conn\n",
    "    "
   ]
  },
  {
   "cell_type": "code",
   "execution_count": 31,
   "metadata": {},
   "outputs": [],
   "source": [
    "engine, conn = sqlite_connect(datadir, \"book\")"
   ]
  },
  {
   "cell_type": "code",
   "execution_count": 32,
   "metadata": {
    "deletable": false,
    "editable": false,
    "nbgrader": {
     "cell_type": "code",
     "checksum": "479f78a9f5a32f9b0394e322cef65325",
     "grade": true,
     "grade_id": "cell-38e079a206dc37b0",
     "locked": true,
     "points": 1,
     "schema_version": 3,
     "solution": false,
     "task": false
    }
   },
   "outputs": [],
   "source": [
    "# Testing cell\n",
    "assert engine is not None\n",
    "assert conn is not None\n",
    "assert isinstance(conn, sa.engine.base.Connection)\n",
    "assert not conn.closed"
   ]
  },
  {
   "cell_type": "code",
   "execution_count": 33,
   "metadata": {},
   "outputs": [],
   "source": [
    "def sqlite_teardown(engine, connection):\n",
    "    try: \n",
    "        if isinstance(connection, sa.engine.base.Connection):\n",
    "            connection.close()\n",
    "        del connection\n",
    "    except:\n",
    "        pass\n",
    "    try:\n",
    "        del engine\n",
    "    except:\n",
    "        pass"
   ]
  },
  {
   "cell_type": "code",
   "execution_count": 34,
   "metadata": {},
   "outputs": [],
   "source": [
    "#sqlite_teardown(engine, conn)"
   ]
  },
  {
   "cell_type": "markdown",
   "metadata": {},
   "source": [
    "### Function to Query Full Table\n",
    "\n",
    "**Practice 2:** Given what we learned yesterday, let us create a function:\n",
    "\n",
    "    get_table(connection, table)\n",
    "\n",
    "that obtains all rows and all columns from the table passed as a parameter.  This example both reinforces the idea of abstracting a set of steps in a function, along with the idea we want to develop further today of incorporating the values of Python variables (the parameter `table`, in this case) into an SQL query we wish to construct.\n",
    "\n",
    "Steps:\n",
    "\n",
    "1. Use a Python format string to create the query string.\n",
    "2. Execute the query and return a result proxy\n",
    "3. Accumulate the rows of the result into a list (of tuples)\n",
    "    - Use a while loop, with the result of fetchone() returning None when there are no more rows to fetch.\n",
    "4. Build and return a DataFrame"
   ]
  },
  {
   "cell_type": "code",
   "execution_count": 35,
   "metadata": {
    "deletable": false,
    "nbgrader": {
     "cell_type": "code",
     "checksum": "0802b1e0cbfbc2a4d0e18efceceff18d",
     "grade": true,
     "grade_id": "cell-14e3450d90ed7ea5",
     "locked": false,
     "points": 1,
     "schema_version": 3,
     "solution": true,
     "task": false
    }
   },
   "outputs": [],
   "source": [
    "def get_table(connection, table):\n",
    "    query = f\"SELECT * FROM {table}\"\n",
    "    rproxy = connection.execute(query)\n",
    "    L = rproxy.keys()\n",
    "    LoT = []\n",
    "    arow = rproxy.fetchone()\n",
    "    while(arow != None):\n",
    "        LoT.append(arow)\n",
    "        arow = rproxy.fetchone()\n",
    "    \n",
    "    df = pd.DataFrame(LoT, columns = L)\n",
    "    return df"
   ]
  },
  {
   "cell_type": "code",
   "execution_count": 36,
   "metadata": {},
   "outputs": [
    {
     "data": {
      "text/html": [
       "<div>\n",
       "<style scoped>\n",
       "    .dataframe tbody tr th:only-of-type {\n",
       "        vertical-align: middle;\n",
       "    }\n",
       "\n",
       "    .dataframe tbody tr th {\n",
       "        vertical-align: top;\n",
       "    }\n",
       "\n",
       "    .dataframe thead th {\n",
       "        text-align: right;\n",
       "    }\n",
       "</style>\n",
       "<table border=\"1\" class=\"dataframe\">\n",
       "  <thead>\n",
       "    <tr style=\"text-align: right;\">\n",
       "      <th></th>\n",
       "      <th>year</th>\n",
       "      <th>sex</th>\n",
       "      <th>name</th>\n",
       "      <th>count</th>\n",
       "    </tr>\n",
       "  </thead>\n",
       "  <tbody>\n",
       "    <tr>\n",
       "      <th>0</th>\n",
       "      <td>1880</td>\n",
       "      <td>Female</td>\n",
       "      <td>Mary</td>\n",
       "      <td>7065</td>\n",
       "    </tr>\n",
       "    <tr>\n",
       "      <th>1</th>\n",
       "      <td>1880</td>\n",
       "      <td>Male</td>\n",
       "      <td>John</td>\n",
       "      <td>9655</td>\n",
       "    </tr>\n",
       "    <tr>\n",
       "      <th>2</th>\n",
       "      <td>1881</td>\n",
       "      <td>Female</td>\n",
       "      <td>Mary</td>\n",
       "      <td>6919</td>\n",
       "    </tr>\n",
       "    <tr>\n",
       "      <th>3</th>\n",
       "      <td>1881</td>\n",
       "      <td>Male</td>\n",
       "      <td>John</td>\n",
       "      <td>8769</td>\n",
       "    </tr>\n",
       "    <tr>\n",
       "      <th>4</th>\n",
       "      <td>1882</td>\n",
       "      <td>Female</td>\n",
       "      <td>Mary</td>\n",
       "      <td>8148</td>\n",
       "    </tr>\n",
       "  </tbody>\n",
       "</table>\n",
       "</div>"
      ],
      "text/plain": [
       "   year     sex  name  count\n",
       "0  1880  Female  Mary   7065\n",
       "1  1880    Male  John   9655\n",
       "2  1881  Female  Mary   6919\n",
       "3  1881    Male  John   8769\n",
       "4  1882  Female  Mary   8148"
      ]
     },
     "execution_count": 36,
     "metadata": {},
     "output_type": "execute_result"
    }
   ],
   "source": [
    "df = get_table(conn, \"topnames\")\n",
    "df.head()"
   ]
  },
  {
   "cell_type": "markdown",
   "metadata": {},
   "source": [
    "**Practice 3:** One of the great things about packages that are the most dominant in an area is that we, as programmers, can rely on them and they can \"know\" about each other.\n",
    "\n",
    "- `pandas` \"knows\" about `sqlalchemy` and has a DataFrame constructor function that can take the string of a query, along with a connection object, and take care of all the steps to  create a DataFrame.\n",
    "- `sqlalchemy` \"knows\" about `pandas` and has a function to use a table or a result proxy to create a data frame.\n",
    "\n",
    "In the (global) cell that follows, create a query string of your choosing, then invoke `read_sql_query()` of `pd`, passing the query as the first argument, and using a named argument of `con=` with the Python variable for your connection.   Assign to `df`."
   ]
  },
  {
   "cell_type": "code",
   "execution_count": 37,
   "metadata": {
    "deletable": false,
    "nbgrader": {
     "cell_type": "code",
     "checksum": "02ff1c5c28b40867e27ce9db296fab4f",
     "grade": true,
     "grade_id": "cell-810a3e78177b14b7",
     "locked": false,
     "points": 1,
     "schema_version": 3,
     "solution": true,
     "task": false
    }
   },
   "outputs": [
    {
     "data": {
      "text/html": [
       "<div>\n",
       "<style scoped>\n",
       "    .dataframe tbody tr th:only-of-type {\n",
       "        vertical-align: middle;\n",
       "    }\n",
       "\n",
       "    .dataframe tbody tr th {\n",
       "        vertical-align: top;\n",
       "    }\n",
       "\n",
       "    .dataframe thead th {\n",
       "        text-align: right;\n",
       "    }\n",
       "</style>\n",
       "<table border=\"1\" class=\"dataframe\">\n",
       "  <thead>\n",
       "    <tr style=\"text-align: right;\">\n",
       "      <th></th>\n",
       "      <th>name</th>\n",
       "    </tr>\n",
       "  </thead>\n",
       "  <tbody>\n",
       "    <tr>\n",
       "      <th>0</th>\n",
       "      <td>Mary</td>\n",
       "    </tr>\n",
       "    <tr>\n",
       "      <th>1</th>\n",
       "      <td>John</td>\n",
       "    </tr>\n",
       "    <tr>\n",
       "      <th>2</th>\n",
       "      <td>Robert</td>\n",
       "    </tr>\n",
       "    <tr>\n",
       "      <th>3</th>\n",
       "      <td>James</td>\n",
       "    </tr>\n",
       "    <tr>\n",
       "      <th>4</th>\n",
       "      <td>Linda</td>\n",
       "    </tr>\n",
       "    <tr>\n",
       "      <th>5</th>\n",
       "      <td>Michael</td>\n",
       "    </tr>\n",
       "    <tr>\n",
       "      <th>6</th>\n",
       "      <td>David</td>\n",
       "    </tr>\n",
       "    <tr>\n",
       "      <th>7</th>\n",
       "      <td>Lisa</td>\n",
       "    </tr>\n",
       "    <tr>\n",
       "      <th>8</th>\n",
       "      <td>Jennifer</td>\n",
       "    </tr>\n",
       "    <tr>\n",
       "      <th>9</th>\n",
       "      <td>Jessica</td>\n",
       "    </tr>\n",
       "    <tr>\n",
       "      <th>10</th>\n",
       "      <td>Ashley</td>\n",
       "    </tr>\n",
       "    <tr>\n",
       "      <th>11</th>\n",
       "      <td>Emily</td>\n",
       "    </tr>\n",
       "    <tr>\n",
       "      <th>12</th>\n",
       "      <td>Jacob</td>\n",
       "    </tr>\n",
       "    <tr>\n",
       "      <th>13</th>\n",
       "      <td>Emma</td>\n",
       "    </tr>\n",
       "    <tr>\n",
       "      <th>14</th>\n",
       "      <td>Isabella</td>\n",
       "    </tr>\n",
       "    <tr>\n",
       "      <th>15</th>\n",
       "      <td>Sophia</td>\n",
       "    </tr>\n",
       "    <tr>\n",
       "      <th>16</th>\n",
       "      <td>Noah</td>\n",
       "    </tr>\n",
       "    <tr>\n",
       "      <th>17</th>\n",
       "      <td>Liam</td>\n",
       "    </tr>\n",
       "  </tbody>\n",
       "</table>\n",
       "</div>"
      ],
      "text/plain": [
       "        name\n",
       "0       Mary\n",
       "1       John\n",
       "2     Robert\n",
       "3      James\n",
       "4      Linda\n",
       "5    Michael\n",
       "6      David\n",
       "7       Lisa\n",
       "8   Jennifer\n",
       "9    Jessica\n",
       "10    Ashley\n",
       "11     Emily\n",
       "12     Jacob\n",
       "13      Emma\n",
       "14  Isabella\n",
       "15    Sophia\n",
       "16      Noah\n",
       "17      Liam"
      ]
     },
     "execution_count": 37,
     "metadata": {},
     "output_type": "execute_result"
    }
   ],
   "source": [
    "df = pd.read_sql_query(\"SELECT DISTINCT name FROM topnames\", con=conn)\n",
    "df"
   ]
  },
  {
   "cell_type": "markdown",
   "metadata": {},
   "source": [
    "### More Incorporating Variables"
   ]
  },
  {
   "cell_type": "markdown",
   "metadata": {},
   "source": [
    "**Practice 4:** Let us assume a variable `lowlife`, that contains a numeric value such that, based on that value, we want to select the set of rows from `indicators0` whose value of the `life` column is greater than `lowlife`.\n",
    "\n",
    "**Use a Python Format String** to create the variable `query` whose contents will be the SQL to perform this query and to incorporate `lowlife`.  Test it out by performing an execute() on the connection.\n",
    "\n",
    "This time, retrieve the results by invoking the `fetchall()` method on the result proxy, and assign to variable `allrows`."
   ]
  },
  {
   "cell_type": "code",
   "execution_count": 38,
   "metadata": {
    "deletable": false,
    "nbgrader": {
     "cell_type": "code",
     "checksum": "21f63aa753ec5e2d8240a2dff943e347",
     "grade": true,
     "grade_id": "cell-58c7985010a38b4a",
     "locked": false,
     "points": 1,
     "schema_version": 3,
     "solution": true,
     "task": false
    }
   },
   "outputs": [
    {
     "name": "stdout",
     "output_type": "stream",
     "text": [
      "Query: SELECT * FROM indicators0 WHERE life > 70\n",
      "[('CHN', 1386.4, 12143.5, 76.4, 1469.88), ('FRA', 66.87, 2586.29, 82.5, 69.02), ('GBR', 66.06, 2637.87, 81.2, 79.1), ('USA', 325.15, 19485.4, 78.5, 391.6)]\n"
     ]
    },
    {
     "data": {
      "text/html": [
       "<div>\n",
       "<style scoped>\n",
       "    .dataframe tbody tr th:only-of-type {\n",
       "        vertical-align: middle;\n",
       "    }\n",
       "\n",
       "    .dataframe tbody tr th {\n",
       "        vertical-align: top;\n",
       "    }\n",
       "\n",
       "    .dataframe thead th {\n",
       "        text-align: right;\n",
       "    }\n",
       "</style>\n",
       "<table border=\"1\" class=\"dataframe\">\n",
       "  <thead>\n",
       "    <tr style=\"text-align: right;\">\n",
       "      <th></th>\n",
       "      <th>code</th>\n",
       "      <th>pop</th>\n",
       "      <th>gdp</th>\n",
       "      <th>life</th>\n",
       "      <th>cell</th>\n",
       "    </tr>\n",
       "  </thead>\n",
       "  <tbody>\n",
       "    <tr>\n",
       "      <th>0</th>\n",
       "      <td>CHN</td>\n",
       "      <td>1386.40</td>\n",
       "      <td>12143.50</td>\n",
       "      <td>76.4</td>\n",
       "      <td>1469.88</td>\n",
       "    </tr>\n",
       "    <tr>\n",
       "      <th>1</th>\n",
       "      <td>FRA</td>\n",
       "      <td>66.87</td>\n",
       "      <td>2586.29</td>\n",
       "      <td>82.5</td>\n",
       "      <td>69.02</td>\n",
       "    </tr>\n",
       "    <tr>\n",
       "      <th>2</th>\n",
       "      <td>GBR</td>\n",
       "      <td>66.06</td>\n",
       "      <td>2637.87</td>\n",
       "      <td>81.2</td>\n",
       "      <td>79.10</td>\n",
       "    </tr>\n",
       "    <tr>\n",
       "      <th>3</th>\n",
       "      <td>USA</td>\n",
       "      <td>325.15</td>\n",
       "      <td>19485.40</td>\n",
       "      <td>78.5</td>\n",
       "      <td>391.60</td>\n",
       "    </tr>\n",
       "  </tbody>\n",
       "</table>\n",
       "</div>"
      ],
      "text/plain": [
       "  code      pop       gdp  life     cell\n",
       "0  CHN  1386.40  12143.50  76.4  1469.88\n",
       "1  FRA    66.87   2586.29  82.5    69.02\n",
       "2  GBR    66.06   2637.87  81.2    79.10\n",
       "3  USA   325.15  19485.40  78.5   391.60"
      ]
     },
     "execution_count": 38,
     "metadata": {},
     "output_type": "execute_result"
    }
   ],
   "source": [
    "lowlife = 70\n",
    "\n",
    "query = f\"SELECT * FROM indicators0 WHERE life > {lowlife}\"\n",
    "\n",
    "print(\"Query:\", query)\n",
    "\n",
    "rproxy = conn.execute(query)\n",
    "allrows = rproxy.fetchall()\n",
    "print(allrows)\n",
    "\n",
    "df = pd.DataFrame(allrows, columns=rproxy.keys())\n",
    "df"
   ]
  },
  {
   "cell_type": "code",
   "execution_count": 23,
   "metadata": {},
   "outputs": [],
   "source": [
    "sqlite_teardown(engine, conn)\n",
    "engine, school_conn = sqlite_connect(datadir, \"school\")"
   ]
  },
  {
   "cell_type": "markdown",
   "metadata": {},
   "source": [
    "**Practice 5:** Consider a query of the form\n",
    "\n",
    "```sql\n",
    "SELECT student_name, studentmajor\n",
    "FROM students\n",
    "WHERE studentlast BETWEEN low AND high\n",
    "```\n",
    "where we compose student_name from studentlast and studentfirst, and want to incorporate values of variables for low and high.\n",
    "\n",
    "Complete the following function, where we pass as parameters the low and high (as well as the connection) to make that query. "
   ]
  },
  {
   "cell_type": "code",
   "execution_count": 47,
   "metadata": {
    "deletable": false,
    "nbgrader": {
     "cell_type": "code",
     "checksum": "80394326321850b06208d426c571a845",
     "grade": true,
     "grade_id": "cell-1510c3b7c8527e4f",
     "locked": false,
     "points": 1,
     "schema_version": 3,
     "solution": true,
     "task": false
    }
   },
   "outputs": [],
   "source": [
    "def student_range(conn, low, high):\n",
    "    query = f\"\"\"\n",
    "    SELECT studentlast || \", \" || studentfirst AS student_name, studentmajor\n",
    "    FROM students\n",
    "    WHERE studentlast BETWEEN '{low}' AND '{high}'\n",
    "    \"\"\"\n",
    "    \n",
    "    rproxy = conn.execute(query)\n",
    "    allrows = rproxy.fetchall()\n",
    "    df = pd.DataFrame(allrows, columns = rproxy.keys())\n",
    "    return df"
   ]
  },
  {
   "cell_type": "code",
   "execution_count": 50,
   "metadata": {},
   "outputs": [
    {
     "data": {
      "text/html": [
       "<div>\n",
       "<style scoped>\n",
       "    .dataframe tbody tr th:only-of-type {\n",
       "        vertical-align: middle;\n",
       "    }\n",
       "\n",
       "    .dataframe tbody tr th {\n",
       "        vertical-align: top;\n",
       "    }\n",
       "\n",
       "    .dataframe thead th {\n",
       "        text-align: right;\n",
       "    }\n",
       "</style>\n",
       "<table border=\"1\" class=\"dataframe\">\n",
       "  <thead>\n",
       "    <tr style=\"text-align: right;\">\n",
       "      <th></th>\n",
       "      <th>student_name</th>\n",
       "      <th>studentmajor</th>\n",
       "    </tr>\n",
       "  </thead>\n",
       "  <tbody>\n",
       "    <tr>\n",
       "      <th>0</th>\n",
       "      <td>Price, Charlie</td>\n",
       "      <td>PSYC</td>\n",
       "    </tr>\n",
       "    <tr>\n",
       "      <th>1</th>\n",
       "      <td>Price, Elizabeth</td>\n",
       "      <td>ECON</td>\n",
       "    </tr>\n",
       "    <tr>\n",
       "      <th>2</th>\n",
       "      <td>Price, Olivia</td>\n",
       "      <td>None</td>\n",
       "    </tr>\n",
       "    <tr>\n",
       "      <th>3</th>\n",
       "      <td>Price, Kathleen</td>\n",
       "      <td>ARTS</td>\n",
       "    </tr>\n",
       "    <tr>\n",
       "      <th>4</th>\n",
       "      <td>Price, Millie</td>\n",
       "      <td>ENVS</td>\n",
       "    </tr>\n",
       "    <tr>\n",
       "      <th>5</th>\n",
       "      <td>Price, Stephanie</td>\n",
       "      <td>BIOL</td>\n",
       "    </tr>\n",
       "  </tbody>\n",
       "</table>\n",
       "</div>"
      ],
      "text/plain": [
       "       student_name studentmajor\n",
       "0    Price, Charlie         PSYC\n",
       "1  Price, Elizabeth         ECON\n",
       "2     Price, Olivia         None\n",
       "3   Price, Kathleen         ARTS\n",
       "4     Price, Millie         ENVS\n",
       "5  Price, Stephanie         BIOL"
      ]
     },
     "execution_count": 50,
     "metadata": {},
     "output_type": "execute_result"
    }
   ],
   "source": [
    "table = student_range(school_conn, 'Pq', 'Ps')\n",
    "table"
   ]
  },
  {
   "cell_type": "code",
   "execution_count": null,
   "metadata": {},
   "outputs": [],
   "source": []
  }
 ],
 "metadata": {
  "kernelspec": {
   "display_name": "Python 3",
   "language": "python",
   "name": "python3"
  },
  "language_info": {
   "codemirror_mode": {
    "name": "ipython",
    "version": 3
   },
   "file_extension": ".py",
   "mimetype": "text/x-python",
   "name": "python",
   "nbconvert_exporter": "python",
   "pygments_lexer": "ipython3",
   "version": "3.8.5"
  }
 },
 "nbformat": 4,
 "nbformat_minor": 5
}
