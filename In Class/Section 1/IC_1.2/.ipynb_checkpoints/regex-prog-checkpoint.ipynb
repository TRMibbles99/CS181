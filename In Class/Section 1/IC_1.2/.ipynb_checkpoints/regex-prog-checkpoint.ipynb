{
 "cells": [
  {
   "cell_type": "markdown",
   "metadata": {},
   "source": [
    "# Denison CS-181/DA-210 Homework"
   ]
  },
  {
   "cell_type": "markdown",
   "metadata": {},
   "source": [
    "---"
   ]
  },
  {
   "cell_type": "markdown",
   "metadata": {},
   "source": [
    "## Regular Expression Programming in Python\n",
    "\n",
    "*Execute the prolog cell*"
   ]
  },
  {
   "cell_type": "code",
   "execution_count": 4,
   "metadata": {},
   "outputs": [],
   "source": [
    "import re\n",
    "\n",
    "import os\n",
    "import io\n",
    "import sys\n",
    "\n",
    "from contextlib import redirect_stdout\n",
    "from IPython.core.debugger import set_trace\n",
    "\n",
    "def add_modules():\n",
    "    \"\"\"\n",
    "    Starting at the current directory and proceeding up the file system\n",
    "    tree, search for a directory named `modules`.  If found, and if not\n",
    "    already there, add to the Python module search path.\n",
    "    \n",
    "    Params: None\n",
    "    \n",
    "    Return: None\n",
    "    \"\"\"\n",
    "    directory = \".\"\n",
    "    levels = 0\n",
    "    while not os.path.isdir(os.path.join(directory, \"modules\")) and \\\n",
    "          levels < 5:\n",
    "        directory = os.path.join(directory, \"..\")\n",
    "        levels += 1\n",
    "    module_path = os.path.abspath(os.path.join(directory, \"modules\"))\n",
    "    if os.path.isdir(module_path):\n",
    "        if not module_path in sys.path:\n",
    "            sys.path.append(module_path)\n",
    "\n",
    "add_modules()\n",
    "import util"
   ]
  },
  {
   "cell_type": "markdown",
   "metadata": {},
   "source": [
    "**Q** From the reading in the book and from any class discussion, explain why we use **raw** strings when we specify regular expression patterns.  In your discussion, be clear on why we do **not** use raw strings on the target strings within which we are looking for matches to a pattern."
   ]
  },
  {
   "cell_type": "markdown",
   "metadata": {
    "deletable": false,
    "nbgrader": {
     "cell_type": "markdown",
     "checksum": "919d57a18e93f8aaedb9b1174e9bf6cf",
     "grade": true,
     "grade_id": "cell-3db8e98ebfa3c830",
     "locked": false,
     "points": 1,
     "schema_version": 3,
     "solution": true,
     "task": false
    }
   },
   "source": [
    "YOUR ANSWER HERE"
   ]
  },
  {
   "cell_type": "markdown",
   "metadata": {},
   "source": [
    "**Q** Suppose we want the **regular expression** pattern of:\n",
    "    \n",
    "`\\w+\\s+\\\\\\.`\n",
    "\n",
    "Using a **regular Python string** constant literal, assign to `p` the string that results in this pattern."
   ]
  },
  {
   "cell_type": "code",
   "execution_count": 5,
   "metadata": {
    "deletable": false,
    "nbgrader": {
     "cell_type": "code",
     "checksum": "2e03c86a0622592c502179cf88dd5bd2",
     "grade": false,
     "grade_id": "cell-a2e514b33f6dd18b",
     "locked": false,
     "schema_version": 3,
     "solution": true,
     "task": false
    }
   },
   "outputs": [
    {
     "name": "stdout",
     "output_type": "stream",
     "text": [
      "\\w+\\s+\\\\\\.\n"
     ]
    }
   ],
   "source": [
    "p = \"\\\\w+\\\\s+\\\\\\\\\\\\.\"\n",
    "\n",
    "print(p)"
   ]
  },
  {
   "cell_type": "code",
   "execution_count": 6,
   "metadata": {
    "deletable": false,
    "editable": false,
    "nbgrader": {
     "cell_type": "code",
     "checksum": "ecf9978c352643a56bd1069a7186c573",
     "grade": true,
     "grade_id": "cell-a7ebd8a50d6f6319",
     "locked": true,
     "points": 1,
     "schema_version": 3,
     "solution": false,
     "task": false
    }
   },
   "outputs": [],
   "source": [
    "assert True"
   ]
  },
  {
   "cell_type": "markdown",
   "metadata": {},
   "source": [
    "**Q** Suppose we again want the **regular expression** pattern of:\n",
    "    \n",
    "`\\w+\\s+\\\\\\.`\n",
    "\n",
    "Using a **raw Python string** constant literal, assign to `p` the string that results in this pattern."
   ]
  },
  {
   "cell_type": "code",
   "execution_count": 7,
   "metadata": {
    "deletable": false,
    "nbgrader": {
     "cell_type": "code",
     "checksum": "6df2f53243a89a524b8e660ff9c55be4",
     "grade": false,
     "grade_id": "cell-15e729adc47ef66a",
     "locked": false,
     "schema_version": 3,
     "solution": true,
     "task": false
    }
   },
   "outputs": [
    {
     "name": "stdout",
     "output_type": "stream",
     "text": [
      "\\w+\\s+\\\\\\.\n"
     ]
    }
   ],
   "source": [
    "p = r\"\\w+\\s+\\\\\\.\"\n",
    "\n",
    "print(p)"
   ]
  },
  {
   "cell_type": "code",
   "execution_count": 8,
   "metadata": {
    "deletable": false,
    "editable": false,
    "nbgrader": {
     "cell_type": "code",
     "checksum": "bbcf99833a8a6346e00a5cf84337419f",
     "grade": true,
     "grade_id": "cell-8d311ce6538120fc",
     "locked": true,
     "points": 1,
     "schema_version": 3,
     "solution": false,
     "task": false
    }
   },
   "outputs": [],
   "source": [
    "assert True"
   ]
  },
  {
   "cell_type": "markdown",
   "metadata": {},
   "source": [
    "#### Primary Functions in `re`\n",
    "\n",
    "Function | Return Type | Short Description\n",
    ":-------:|-------------|-----------------------------------------------------------------\n",
    "`search()` | *Match Object* | Find first match of pattern *anywhere* in target\n",
    "`match()` | *Match Object* | Find match of pattern at *start* of target\n",
    "`findall()` | *List of strings* | Find all matches and return list of matched strings, or list of tuples of captured groups\n",
    "`finditer()` | *Match Object Iterator* | Find all matches through an iterator of successful match objects"
   ]
  },
  {
   "cell_type": "code",
   "execution_count": 9,
   "metadata": {},
   "outputs": [],
   "source": [
    "target = \"\"\"From: Robert Elz <kre@munnari.OZ.AU>\n",
    "To: Chris Garrigues <cwg-dated-1030376441.95dd45@DeepEddy.com>\n",
    "Cc: exmh-workers@example.com\n",
    "Subject: Re: New Sequences Window From: external\n",
    "Sender: exmh-workers-admin@example.com\n",
    "Date: Thu, 22 Aug 2002 21:55:18 +0700\n",
    "\"\"\""
   ]
  },
  {
   "cell_type": "markdown",
   "metadata": {},
   "source": [
    "**Q** Find the first match of the `.com` pattern within the given text. Use print to show a representation of the match object returned."
   ]
  },
  {
   "cell_type": "code",
   "execution_count": 10,
   "metadata": {
    "deletable": false,
    "nbgrader": {
     "cell_type": "code",
     "checksum": "565892b239c18ff91abc623d64255fa5",
     "grade": true,
     "grade_id": "cell-f753195de910fd77",
     "locked": false,
     "points": 1,
     "schema_version": 3,
     "solution": true,
     "task": false
    }
   },
   "outputs": [
    {
     "name": "stdout",
     "output_type": "stream",
     "text": [
      "<re.Match object; span=(94, 98), match='.com'>\n"
     ]
    }
   ],
   "source": [
    "pattern = r\"\\.com\"\n",
    "print(re.search(pattern,target))"
   ]
  },
  {
   "cell_type": "markdown",
   "metadata": {},
   "source": [
    "**Q** Looking carefully at `target`, how do you interpret the meaning of the `span` part of the match object?"
   ]
  },
  {
   "cell_type": "markdown",
   "metadata": {
    "deletable": false,
    "nbgrader": {
     "cell_type": "markdown",
     "checksum": "4eca5170f7e358ff95893092b74b0ba0",
     "grade": true,
     "grade_id": "cell-b10b29c5cda50206",
     "locked": false,
     "points": 1,
     "schema_version": 3,
     "solution": true,
     "task": false
    }
   },
   "source": [
    "Span represents the starting character and the character right after that your pattern is located at in the taget. So the pattern spans those characters in the target."
   ]
  },
  {
   "cell_type": "markdown",
   "metadata": {},
   "source": [
    "**Q** Write a regular expression whose pattern matches the literal `From` followed by a colon and a space followed by the value of the From field up to the end of the line.\n",
    "\n",
    "Then invoke on `target`, using a function that only succeeds if the pattern is matchted at the start of the target."
   ]
  },
  {
   "cell_type": "code",
   "execution_count": 11,
   "metadata": {
    "deletable": false,
    "nbgrader": {
     "cell_type": "code",
     "checksum": "75b8fa9f45e2fb2f83846efa754da155",
     "grade": true,
     "grade_id": "cell-b8db7ec5167443af",
     "locked": false,
     "points": 1,
     "schema_version": 3,
     "solution": true,
     "task": false
    }
   },
   "outputs": [
    {
     "data": {
      "text/plain": [
       "<re.Match object; span=(0, 6), match='From: '>"
      ]
     },
     "execution_count": 11,
     "metadata": {},
     "output_type": "execute_result"
    }
   ],
   "source": [
    "pattern = r\"From:+.\"\n",
    "re.match(pattern,target)"
   ]
  },
  {
   "cell_type": "markdown",
   "metadata": {},
   "source": [
    "**Q** Generate a list of strings giving *all* the matches of the From pattern in the same text. Print the resultant list of strings."
   ]
  },
  {
   "cell_type": "code",
   "execution_count": 12,
   "metadata": {
    "deletable": false,
    "nbgrader": {
     "cell_type": "code",
     "checksum": "5424fe1d8d0877d2be2573b705a09f95",
     "grade": true,
     "grade_id": "cell-694bda65865b5519",
     "locked": false,
     "points": 1,
     "schema_version": 3,
     "solution": true,
     "task": false
    }
   },
   "outputs": [
    {
     "name": "stdout",
     "output_type": "stream",
     "text": [
      "['From: ', 'From: ']\n"
     ]
    }
   ],
   "source": [
    "print(re.findall(pattern,target))"
   ]
  },
  {
   "cell_type": "markdown",
   "metadata": {},
   "source": [
    "**Q** Use a loop to find and then print all matches (the string representation of the corresponding match object) using the same pattern on the same target."
   ]
  },
  {
   "cell_type": "code",
   "execution_count": 13,
   "metadata": {
    "deletable": false,
    "nbgrader": {
     "cell_type": "code",
     "checksum": "f192d934bb632c659ca12a6afafb6ddc",
     "grade": true,
     "grade_id": "cell-ee93aed5b3f23d2d",
     "locked": false,
     "points": 1,
     "schema_version": 3,
     "solution": true,
     "task": false
    }
   },
   "outputs": [
    {
     "name": "stdout",
     "output_type": "stream",
     "text": [
      "<re.Match object; span=(0, 6), match='From: '>\n",
      "<re.Match object; span=(157, 163), match='From: '>\n"
     ]
    }
   ],
   "source": [
    "place = 0\n",
    "for i in range(len(re.findall(pattern,target))):\n",
    "    m = re.search(pattern,target[place:])\n",
    "    place = m.end()\n",
    "    print(m)\n",
    "    "
   ]
  },
  {
   "cell_type": "markdown",
   "metadata": {},
   "source": [
    "Method | Description\n",
    "--------|-----------------\n",
    "`Match.group(i)` | Return the string for the $i$th capture group.  For example, if the match object is `m`, then `m.group(2)` gives the string of capture group 2.  Match objects define an accessor shorthand, so `m[2]` does the same thing.  Group 0 is the full match.\n",
    "`Match.start(i)` | Return the index in target of the start of the string of the $i$th capture group.\n",
    "`Match.end(i)` | Return the index in target of the end of the string of the $i$th capture group.\n",
    "`Match.span(i)` | Return the tuple *span* of the $i$th capture group, where the span has both the *start* and the *up to* index values of the match within the string.\n"
   ]
  },
  {
   "cell_type": "markdown",
   "metadata": {},
   "source": [
    "**Q** In the following, we give the target and the pattern.  Write a loop that iterates over the match objects and, within the loop, build a tuple with three elements:\n",
    "\n",
    "- the string value of the first capture group (the person named in the target)\n",
    "- the string value of the second capture group (the fruit)\n",
    "- a float, converted from the third capture group (the price)\n",
    "\n",
    "Print the resultant tuple at each iteration."
   ]
  },
  {
   "cell_type": "code",
   "execution_count": 14,
   "metadata": {
    "deletable": false,
    "nbgrader": {
     "cell_type": "code",
     "checksum": "0bde587d1ad93501581947c305d93f86",
     "grade": true,
     "grade_id": "cell-5f9ba8acd3fbae2b",
     "locked": false,
     "points": 1,
     "schema_version": 3,
     "solution": true,
     "task": false
    }
   },
   "outputs": [
    {
     "name": "stdout",
     "output_type": "stream",
     "text": [
      "('Alice', 'oranges', 2.5)\n",
      "('Bob', 'apples', 1.75)\n",
      "('Tom', 'tangerines', 2.25)\n"
     ]
    }
   ],
   "source": [
    "target = \"\"\"Alice says the price of oranges is $2.50\n",
    "Bob says the price of apples is $1.75\n",
    "Tom thinks the price of tangerines is $2.25\n",
    "\"\"\"\n",
    "\n",
    "pattern = r'(\\w+).*of\\s*(\\w+).*\\$(\\d+\\.\\d{2})'\n",
    "for m in re.finditer(pattern,target):\n",
    "    print((m.group(1), m.group(2), float(m.group(3))))\n",
    "    "
   ]
  },
  {
   "cell_type": "markdown",
   "metadata": {},
   "source": [
    "**Q**  Write a  a general matching function\n",
    "\n",
    "    getMatches(pattern, text, flags=0)\n",
    "   \n",
    "that find as many matches as possible in the given `text`, passing `flags` as appropriate to modify the means of matching. The function returns a list with an entry for each found match.  \n",
    "\n",
    "For a given match, the entry is a list of tuples, which we call a \"capture list.\"  The tuples are the string and index for each of the capture groups found within the match. Hence, the function returns a list of lists of tuples."
   ]
  },
  {
   "cell_type": "code",
   "execution_count": null,
   "metadata": {
    "deletable": false,
    "nbgrader": {
     "cell_type": "code",
     "checksum": "665e851f3f33ad4d29dbea1aac36f587",
     "grade": true,
     "grade_id": "cell-45ed3d665a7c90c0",
     "locked": false,
     "points": 1,
     "schema_version": 3,
     "solution": true,
     "task": false
    }
   },
   "outputs": [],
   "source": [
    "def getMatches(pattern, text, flags=0):\n",
    "    "
   ]
  }
 ],
 "metadata": {
  "kernelspec": {
   "display_name": "Python 3",
   "language": "python",
   "name": "python3"
  },
  "language_info": {
   "codemirror_mode": {
    "name": "ipython",
    "version": 3
   },
   "file_extension": ".py",
   "mimetype": "text/x-python",
   "name": "python",
   "nbconvert_exporter": "python",
   "pygments_lexer": "ipython3",
   "version": "3.8.5"
  }
 },
 "nbformat": 4,
 "nbformat_minor": 5
}
