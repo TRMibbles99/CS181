{
 "cells": [
  {
   "cell_type": "markdown",
   "metadata": {},
   "source": [
    "# Denison CS-181/DA-210 Homework"
   ]
  },
  {
   "cell_type": "markdown",
   "metadata": {},
   "source": [
    "---"
   ]
  },
  {
   "cell_type": "markdown",
   "metadata": {},
   "source": [
    "## Regular Expression Programming Working Notebook\n",
    "\n",
    "*Execute the prolog cell*"
   ]
  },
  {
   "cell_type": "code",
   "execution_count": 2,
   "metadata": {},
   "outputs": [],
   "source": [
    "import re\n",
    "\n",
    "import os\n",
    "import io\n",
    "import sys\n",
    "\n",
    "from contextlib import redirect_stdout\n",
    "from IPython.core.debugger import set_trace\n",
    "\n",
    "def add_modules():\n",
    "    \"\"\"\n",
    "    Starting at the current directory and proceeding up the file system\n",
    "    tree, search for a directory named `modules`.  If found, and if not\n",
    "    already there, add to the Python module search path.\n",
    "    \n",
    "    Params: None\n",
    "    \n",
    "    Return: None\n",
    "    \"\"\"\n",
    "    directory = \".\"\n",
    "    levels = 0\n",
    "    while not os.path.isdir(os.path.join(directory, \"modules\")) and \\\n",
    "          levels < 5:\n",
    "        directory = os.path.join(directory, \"..\")\n",
    "        levels += 1\n",
    "    module_path = os.path.abspath(os.path.join(directory, \"modules\"))\n",
    "    if os.path.isdir(module_path):\n",
    "        if not module_path in sys.path:\n",
    "            sys.path.append(module_path)\n",
    "\n",
    "add_modules()\n",
    "import util"
   ]
  },
  {
   "cell_type": "markdown",
   "metadata": {},
   "source": [
    "#### Primary Functions in `re`\n",
    "\n",
    "Function | Return Type | Short Description\n",
    ":-------:|-------------|-----------------------------------------------------------------\n",
    "`search()` | *Match Object* | Find first match of pattern *anywhere* in target\n",
    "`match()` | *Match Object* | Find match of pattern at *start* of target\n",
    "`findall()` | *List of strings* | Find all matches and return list of matched strings, or list of tuples of captured groups\n",
    "`finditer()` | *Match Object Iterator* | Find all matches through an iterator of successful match objects"
   ]
  },
  {
   "cell_type": "code",
   "execution_count": 3,
   "metadata": {},
   "outputs": [],
   "source": [
    "email = \"\"\"From: Robert Elz <kre@munnari.OZ.AU>\n",
    "To: Chris Garrigues <cwg-dated-1030376441.95dd45@DeepEddy.com>\n",
    "Cc: exmh-workers@example.com\n",
    "Subject: Re: New Sequences Window From: external\n",
    "Sender: exmh-workers-admin@example.com\n",
    "Date: Thu, 22 Aug 2002 21:55:18 +0700\n",
    "\"\"\"\n",
    "\n",
    "fruit = \"\"\"Alice says the price of oranges is $2.50\n",
    "Bob says the price of apples is $1.75\n",
    "Tom thinks the price of tangerines is $2.25\n",
    "\"\"\""
   ]
  },
  {
   "cell_type": "code",
   "execution_count": 6,
   "metadata": {},
   "outputs": [
    {
     "name": "stdout",
     "output_type": "stream",
     "text": [
      "<re.Match object; span=(94, 98), match='.com'>\n"
     ]
    }
   ],
   "source": [
    "pattern = r\"\\.com\"\n",
    "print(re.search(pattern, email))"
   ]
  },
  {
   "cell_type": "code",
   "execution_count": 7,
   "metadata": {},
   "outputs": [
    {
     "name": "stdout",
     "output_type": "stream",
     "text": [
      "<re.Match object; span=(0, 34), match='Alice says the price of oranges is'>\n"
     ]
    }
   ],
   "source": [
    "pattern = r\"Alice.*is\"\n",
    "print(re.match(pattern, fruit))"
   ]
  },
  {
   "cell_type": "code",
   "execution_count": 8,
   "metadata": {},
   "outputs": [
    {
     "name": "stdout",
     "output_type": "stream",
     "text": [
      "None\n"
     ]
    }
   ],
   "source": [
    "pattern = r\"Tom.*is\"\n",
    "print(re.match(pattern, fruit))"
   ]
  },
  {
   "cell_type": "code",
   "execution_count": 9,
   "metadata": {},
   "outputs": [
    {
     "name": "stdout",
     "output_type": "stream",
     "text": [
      "['.com', '.com', '.com']\n"
     ]
    }
   ],
   "source": [
    "pattern = r\"\\.com\"\n",
    "print(re.findall(pattern, email))"
   ]
  },
  {
   "cell_type": "code",
   "execution_count": null,
   "metadata": {},
   "outputs": [],
   "source": []
  },
  {
   "cell_type": "markdown",
   "metadata": {},
   "source": [
    "Method | Description\n",
    "--------|-----------------\n",
    "`Match.group(i)` | Return the string for the $i$th capture group.  For example, if the match object is `m`, then `m.group(2)` gives the string of capture group 2.  Match objects define an accessor shorthand, so `m[2]` does the same thing.  Group 0 is the full match.\n",
    "`Match.start(i)` | Return the index in target of the start of the string of the $i$th capture group.\n",
    "`Match.end(i)` | Return the index in target of the end of the string of the $i$th capture group.\n",
    "`Match.span(i)` | Return the tuple *span* of the $i$th capture group, where the span has both the *start* and the *up to* index values of the match within the string.\n"
   ]
  },
  {
   "cell_type": "code",
   "execution_count": 15,
   "metadata": {},
   "outputs": [],
   "source": [
    "pattern = r\"\\.com\"\n",
    "m = re.search(pattern, email)"
   ]
  },
  {
   "cell_type": "code",
   "execution_count": 16,
   "metadata": {},
   "outputs": [
    {
     "data": {
      "text/plain": [
       "<re.Match object; span=(94, 98), match='.com'>"
      ]
     },
     "execution_count": 16,
     "metadata": {},
     "output_type": "execute_result"
    }
   ],
   "source": [
    "m"
   ]
  },
  {
   "cell_type": "code",
   "execution_count": 17,
   "metadata": {},
   "outputs": [
    {
     "data": {
      "text/plain": [
       "(94, 98)"
      ]
     },
     "execution_count": 17,
     "metadata": {},
     "output_type": "execute_result"
    }
   ],
   "source": [
    "m.span()"
   ]
  },
  {
   "cell_type": "code",
   "execution_count": 18,
   "metadata": {},
   "outputs": [
    {
     "data": {
      "text/plain": [
       "94"
      ]
     },
     "execution_count": 18,
     "metadata": {},
     "output_type": "execute_result"
    }
   ],
   "source": [
    "m.start()"
   ]
  },
  {
   "cell_type": "code",
   "execution_count": 19,
   "metadata": {},
   "outputs": [
    {
     "data": {
      "text/plain": [
       "'.com'"
      ]
     },
     "execution_count": 19,
     "metadata": {},
     "output_type": "execute_result"
    }
   ],
   "source": [
    "m.group()"
   ]
  },
  {
   "cell_type": "code",
   "execution_count": 20,
   "metadata": {},
   "outputs": [
    {
     "data": {
      "text/plain": [
       "98"
      ]
     },
     "execution_count": 20,
     "metadata": {},
     "output_type": "execute_result"
    }
   ],
   "source": [
    "m.end()"
   ]
  },
  {
   "cell_type": "code",
   "execution_count": 23,
   "metadata": {},
   "outputs": [],
   "source": [
    "pattern = r\"(Date): (.+)\"\n",
    "m = re.search(pattern, email)"
   ]
  },
  {
   "cell_type": "code",
   "execution_count": 24,
   "metadata": {},
   "outputs": [
    {
     "data": {
      "text/plain": [
       "<re.Match object; span=(217, 254), match='Date: Thu, 22 Aug 2002 21:55:18 +0700'>"
      ]
     },
     "execution_count": 24,
     "metadata": {},
     "output_type": "execute_result"
    }
   ],
   "source": [
    "m"
   ]
  },
  {
   "cell_type": "code",
   "execution_count": 26,
   "metadata": {},
   "outputs": [
    {
     "data": {
      "text/plain": [
       "'Thu, 22 Aug 2002 21:55:18 +0700'"
      ]
     },
     "execution_count": 26,
     "metadata": {},
     "output_type": "execute_result"
    }
   ],
   "source": [
    "m.group(2)"
   ]
  },
  {
   "cell_type": "code",
   "execution_count": 27,
   "metadata": {},
   "outputs": [
    {
     "data": {
      "text/plain": [
       "217"
      ]
     },
     "execution_count": 27,
     "metadata": {},
     "output_type": "execute_result"
    }
   ],
   "source": [
    "m.start(1)"
   ]
  },
  {
   "cell_type": "code",
   "execution_count": 28,
   "metadata": {},
   "outputs": [
    {
     "data": {
      "text/plain": [
       "221"
      ]
     },
     "execution_count": 28,
     "metadata": {},
     "output_type": "execute_result"
    }
   ],
   "source": [
    "m.end(1)"
   ]
  },
  {
   "cell_type": "code",
   "execution_count": 29,
   "metadata": {},
   "outputs": [
    {
     "data": {
      "text/plain": [
       "223"
      ]
     },
     "execution_count": 29,
     "metadata": {},
     "output_type": "execute_result"
    }
   ],
   "source": [
    "m.start(2)"
   ]
  },
  {
   "cell_type": "code",
   "execution_count": 30,
   "metadata": {},
   "outputs": [
    {
     "data": {
      "text/plain": [
       "254"
      ]
     },
     "execution_count": 30,
     "metadata": {},
     "output_type": "execute_result"
    }
   ],
   "source": [
    "m.end(2)"
   ]
  },
  {
   "cell_type": "code",
   "execution_count": null,
   "metadata": {},
   "outputs": [],
   "source": []
  }
 ],
 "metadata": {
  "kernelspec": {
   "display_name": "Python 3",
   "language": "python",
   "name": "python3"
  },
  "language_info": {
   "codemirror_mode": {
    "name": "ipython",
    "version": 3
   },
   "file_extension": ".py",
   "mimetype": "text/x-python",
   "name": "python",
   "nbconvert_exporter": "python",
   "pygments_lexer": "ipython3",
   "version": "3.8.5"
  }
 },
 "nbformat": 4,
 "nbformat_minor": 5
}
