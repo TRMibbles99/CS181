{
 "cells": [
  {
   "cell_type": "markdown",
   "metadata": {},
   "source": [
    "# Denison CS-181/DA-210 Homework"
   ]
  },
  {
   "cell_type": "markdown",
   "metadata": {},
   "source": [
    "---"
   ]
  },
  {
   "cell_type": "markdown",
   "metadata": {},
   "source": [
    "## XPath Flipped Class Notebook"
   ]
  },
  {
   "cell_type": "code",
   "execution_count": 1,
   "metadata": {},
   "outputs": [],
   "source": [
    "import os\n",
    "import json\n",
    "import sys\n",
    "from lxml import etree\n",
    "\n",
    "def add_modules():\n",
    "    \"\"\"\n",
    "    Starting at the current directory and proceeding up the file system\n",
    "    tree, search for a directory named `modules`.  If found, and if not\n",
    "    already there, add to the Python module search path.\n",
    "    \n",
    "    Params: None\n",
    "    \n",
    "    Return: None\n",
    "    \"\"\"\n",
    "    directory = \".\"\n",
    "    levels = 0\n",
    "    while not os.path.isdir(os.path.join(directory, \"modules\")) and \\\n",
    "          levels < 5:\n",
    "        directory = os.path.join(directory, \"..\")\n",
    "        levels += 1\n",
    "    module_path = os.path.abspath(os.path.join(directory, \"modules\"))\n",
    "    if os.path.isdir(module_path):\n",
    "        if not module_path in sys.path:\n",
    "            sys.path.append(module_path)\n",
    "\n",
    "add_modules()\n",
    "import util\n",
    "\n",
    "datadir = util.resolve_dir(\"hierarchicaldata\")"
   ]
  },
  {
   "cell_type": "markdown",
   "metadata": {},
   "source": [
    "### References\n",
    "\n",
    "- [CodeBeautify Online XPath](https://codebeautify.org/Xpath-Tester)\n",
    "- [XPather Online XPath](http://xpather.com)"
   ]
  },
  {
   "cell_type": "markdown",
   "metadata": {},
   "source": [
    "**Q1** Write the code to\n",
    "- Create a parser, `myparser` that can parse XML and eliminate blank whitespace,\n",
    "- Build a path to the `\"bookstore2.xml\" file in the hierarchical data directory,\n",
    "- Assign to `booktree` the result of parsing the file (an ElementTree) using `myparser`,\n",
    "- Assign to `bookroot` the root of the tree"
   ]
  },
  {
   "cell_type": "code",
   "execution_count": 9,
   "metadata": {
    "deletable": false,
    "nbgrader": {
     "cell_type": "code",
     "checksum": "db56f98b110c10bfb45fc1e1f2b8194e",
     "grade": false,
     "grade_id": "cell-ba4ebfbddac5bbaf",
     "locked": false,
     "schema_version": 3,
     "solution": true,
     "task": false
    }
   },
   "outputs": [
    {
     "data": {
      "text/plain": [
       "lxml.etree._ElementTree"
      ]
     },
     "execution_count": 9,
     "metadata": {},
     "output_type": "execute_result"
    }
   ],
   "source": [
    "# YOUR CODE HERE\n",
    "myparser = etree.XMLParser(remove_blank_text=True)\n",
    "path = os.path.join(datadir, \"bookstore2.xml\")\n",
    "booktree = etree.parse(path, myparser)\n",
    "bookroot = booktree.getroot()\n",
    "type(booktree)"
   ]
  },
  {
   "cell_type": "code",
   "execution_count": 10,
   "metadata": {
    "deletable": false,
    "editable": false,
    "nbgrader": {
     "cell_type": "code",
     "checksum": "1da8c423c11412a294e683d17e95206f",
     "grade": true,
     "grade_id": "cell-75e10f1b4829c2cb",
     "locked": true,
     "points": 1,
     "schema_version": 3,
     "solution": false,
     "task": false
    }
   },
   "outputs": [],
   "source": [
    "# Testing cell\n",
    "\n",
    "assert True"
   ]
  },
  {
   "cell_type": "markdown",
   "metadata": {},
   "source": [
    "**Q2** Find the set of nodes representing magazines in the data set. \n"
   ]
  },
  {
   "cell_type": "code",
   "execution_count": 11,
   "metadata": {
    "deletable": false,
    "nbgrader": {
     "cell_type": "code",
     "checksum": "200af18f409482eb60bb745bcfa7253f",
     "grade": false,
     "grade_id": "cell-357336b6af4f857f",
     "locked": false,
     "schema_version": 3,
     "solution": true,
     "task": false
    }
   },
   "outputs": [
    {
     "name": "stdout",
     "output_type": "stream",
     "text": [
      "'/catalog/magazine'\n",
      "Length of result:  4\n"
     ]
    },
    {
     "data": {
      "text/plain": [
       "[<Element magazine at 0x7fdb0bd97a80>,\n",
       " <Element magazine at 0x7fdb0bd971c0>,\n",
       " <Element magazine at 0x7fdb0bd97a00>,\n",
       " <Element magazine at 0x7fdb0bd97a40>]"
      ]
     },
     "execution_count": 11,
     "metadata": {},
     "output_type": "execute_result"
    }
   ],
   "source": [
    "xp_string = \"\"\"/catalog/magazine\"\"\"\n",
    "print(repr(xp_string))\n",
    "result = bookroot.xpath(xp_string)\n",
    "print(\"Length of result: \", len(result))\n",
    "result"
   ]
  },
  {
   "cell_type": "code",
   "execution_count": 12,
   "metadata": {
    "deletable": false,
    "editable": false,
    "nbgrader": {
     "cell_type": "code",
     "checksum": "63a632e2f60476ba1ba143f454803308",
     "grade": true,
     "grade_id": "cell-96384cd735a2c883",
     "locked": true,
     "points": 1,
     "schema_version": 3,
     "solution": false,
     "task": false
    }
   },
   "outputs": [],
   "source": [
    "# Testing cell\n",
    "\n",
    "assert True"
   ]
  },
  {
   "cell_type": "markdown",
   "metadata": {},
   "source": [
    "**Q3** Find the textual title of magazines. "
   ]
  },
  {
   "cell_type": "code",
   "execution_count": 14,
   "metadata": {
    "deletable": false,
    "nbgrader": {
     "cell_type": "code",
     "checksum": "db61f5b9e27040cda5b5a569dc95080d",
     "grade": false,
     "grade_id": "cell-1ac52e7570e9d253",
     "locked": false,
     "schema_version": 3,
     "solution": true,
     "task": false
    }
   },
   "outputs": [
    {
     "name": "stdout",
     "output_type": "stream",
     "text": [
      "'/catalog/magazine/title/text()'\n",
      "Length of result:  4\n"
     ]
    },
    {
     "data": {
      "text/plain": [
       "['National Geographic',\n",
       " 'National Geographic',\n",
       " 'Newsweek',\n",
       " \"Hector and Jeff's Database Hints\"]"
      ]
     },
     "execution_count": 14,
     "metadata": {},
     "output_type": "execute_result"
    }
   ],
   "source": [
    "xp_string = \"\"\"/catalog/magazine/title/text()\"\"\"\n",
    "print(repr(xp_string))\n",
    "result = bookroot.xpath(xp_string)\n",
    "print(\"Length of result: \", len(result))\n",
    "result"
   ]
  },
  {
   "cell_type": "code",
   "execution_count": 15,
   "metadata": {
    "deletable": false,
    "editable": false,
    "nbgrader": {
     "cell_type": "code",
     "checksum": "e6c5ea04411e87eeb71536c0df969587",
     "grade": true,
     "grade_id": "cell-922e5609acda27fb",
     "locked": true,
     "points": 1,
     "schema_version": 3,
     "solution": false,
     "task": false
    }
   },
   "outputs": [],
   "source": [
    "# Testing cell\n",
    "\n",
    "assert True"
   ]
  },
  {
   "cell_type": "markdown",
   "metadata": {},
   "source": [
    "**Q4** Find the set of years of magazines. \n"
   ]
  },
  {
   "cell_type": "code",
   "execution_count": 17,
   "metadata": {
    "deletable": false,
    "nbgrader": {
     "cell_type": "code",
     "checksum": "636cab7977f6bca07162a5e46160085d",
     "grade": false,
     "grade_id": "cell-b3b8ca78e91b9071",
     "locked": false,
     "schema_version": 3,
     "solution": true,
     "task": false
    }
   },
   "outputs": [
    {
     "name": "stdout",
     "output_type": "stream",
     "text": [
      "'/catalog/magazine/@year'\n",
      "Length of result:  4\n"
     ]
    },
    {
     "data": {
      "text/plain": [
       "['2021', '2020', '2021', '2009']"
      ]
     },
     "execution_count": 17,
     "metadata": {},
     "output_type": "execute_result"
    }
   ],
   "source": [
    "xp_string = \"\"\"/catalog/magazine/@year\"\"\"\n",
    "print(repr(xp_string))\n",
    "result = bookroot.xpath(xp_string)\n",
    "print(\"Length of result: \", len(result))\n",
    "result"
   ]
  },
  {
   "cell_type": "code",
   "execution_count": 18,
   "metadata": {
    "deletable": false,
    "editable": false,
    "nbgrader": {
     "cell_type": "code",
     "checksum": "691c42164b33b0d56893dce0d408fa9d",
     "grade": true,
     "grade_id": "cell-416a61dab920a144",
     "locked": true,
     "points": 1,
     "schema_version": 3,
     "solution": false,
     "task": false
    }
   },
   "outputs": [],
   "source": [
    "# Testing cell\n",
    "\n",
    "assert True"
   ]
  },
  {
   "cell_type": "markdown",
   "metadata": {},
   "source": [
    "**Q5** Find the node for the book whose id is `bk101`\n",
    "\n"
   ]
  },
  {
   "cell_type": "code",
   "execution_count": 19,
   "metadata": {
    "deletable": false,
    "nbgrader": {
     "cell_type": "code",
     "checksum": "9df917a8faa2721b05f42caaeaedf940",
     "grade": false,
     "grade_id": "cell-f1738b70e59140a2",
     "locked": false,
     "schema_version": 3,
     "solution": true,
     "task": false
    }
   },
   "outputs": [
    {
     "name": "stdout",
     "output_type": "stream",
     "text": [
      "'/catalog/book[@id=\"bk101\"]'\n",
      "Length of result:  1\n"
     ]
    },
    {
     "data": {
      "text/plain": [
       "[<Element book at 0x7fdb0bda8b40>]"
      ]
     },
     "execution_count": 19,
     "metadata": {},
     "output_type": "execute_result"
    }
   ],
   "source": [
    "xp_string = \"\"\"/catalog/book[@id=\"bk101\"]\"\"\"\n",
    "print(repr(xp_string))\n",
    "result = bookroot.xpath(xp_string)\n",
    "print(\"Length of result: \", len(result))\n",
    "result"
   ]
  },
  {
   "cell_type": "code",
   "execution_count": 20,
   "metadata": {
    "deletable": false,
    "editable": false,
    "nbgrader": {
     "cell_type": "code",
     "checksum": "c5ded0fc2117deaa33f90eb62e54827a",
     "grade": true,
     "grade_id": "cell-e75b6dead0f17c0e",
     "locked": true,
     "points": 1,
     "schema_version": 3,
     "solution": false,
     "task": false
    }
   },
   "outputs": [],
   "source": [
    "# Testing cell\n",
    "\n",
    "assert True"
   ]
  },
  {
   "cell_type": "markdown",
   "metadata": {},
   "source": [
    "**Q6** Find all the children for the book whose id is `bk101\n"
   ]
  },
  {
   "cell_type": "code",
   "execution_count": 43,
   "metadata": {
    "deletable": false,
    "nbgrader": {
     "cell_type": "code",
     "checksum": "4625312cdf0a68d344f8746f8172bad6",
     "grade": false,
     "grade_id": "cell-e062a079743d6fa3",
     "locked": false,
     "schema_version": 3,
     "solution": true,
     "task": false
    }
   },
   "outputs": [
    {
     "name": "stdout",
     "output_type": "stream",
     "text": [
      "'/catalog/book[@id=\"bk101\"]/*'\n",
      "Length of result:  6\n"
     ]
    },
    {
     "data": {
      "text/plain": [
       "[<Element author at 0x7fdb0bdadfc0>,\n",
       " <Element title at 0x7fdb0bdb0280>,\n",
       " <Element genre at 0x7fdb0bdb0140>,\n",
       " <Element price at 0x7fdb0bdb0200>,\n",
       " <Element publish_date at 0x7fdb0bdb0240>,\n",
       " <Element description at 0x7fdb0bdb0300>]"
      ]
     },
     "execution_count": 43,
     "metadata": {},
     "output_type": "execute_result"
    }
   ],
   "source": [
    "xp_string = \"\"\"/catalog/book[@id=\"bk101\"]/*\"\"\"\n",
    "print(repr(xp_string))\n",
    "result = bookroot.xpath(xp_string)\n",
    "print(\"Length of result: \", len(result))\n",
    "result"
   ]
  },
  {
   "cell_type": "code",
   "execution_count": 44,
   "metadata": {
    "deletable": false,
    "editable": false,
    "nbgrader": {
     "cell_type": "code",
     "checksum": "6dd6fe954c8681a85573e354d50fb0c5",
     "grade": true,
     "grade_id": "cell-7146bb6042c8c2b0",
     "locked": true,
     "points": 1,
     "schema_version": 3,
     "solution": false,
     "task": false
    }
   },
   "outputs": [],
   "source": [
    "# Testing cell\n",
    "\n",
    "assert True"
   ]
  },
  {
   "cell_type": "markdown",
   "metadata": {},
   "source": [
    "**Q7** Find the set of nodes for book elements in the data set.\n"
   ]
  },
  {
   "cell_type": "code",
   "execution_count": 45,
   "metadata": {
    "deletable": false,
    "nbgrader": {
     "cell_type": "code",
     "checksum": "2ad2a467a985c02cd6958ab0e2588aa1",
     "grade": false,
     "grade_id": "cell-d526dae005c76a1f",
     "locked": false,
     "schema_version": 3,
     "solution": true,
     "task": false
    }
   },
   "outputs": [
    {
     "name": "stdout",
     "output_type": "stream",
     "text": [
      "'/catalog/book'\n",
      "Length of result:  12\n"
     ]
    },
    {
     "data": {
      "text/plain": [
       "[<Element book at 0x7fdb0bda8b40>,\n",
       " <Element book at 0x7fdb0bdb6740>,\n",
       " <Element book at 0x7fdb0bdb8840>,\n",
       " <Element book at 0x7fdb0bdb87c0>,\n",
       " <Element book at 0x7fdb0bdb8800>,\n",
       " <Element book at 0x7fdb0bdb88c0>,\n",
       " <Element book at 0x7fdb0bdb8900>,\n",
       " <Element book at 0x7fdb0bdb8940>,\n",
       " <Element book at 0x7fdb0bdb8980>,\n",
       " <Element book at 0x7fdb0bdb8880>,\n",
       " <Element book at 0x7fdb0bdb89c0>,\n",
       " <Element book at 0x7fdb0bdb8a00>]"
      ]
     },
     "execution_count": 45,
     "metadata": {},
     "output_type": "execute_result"
    }
   ],
   "source": [
    "xp_string = \"\"\"/catalog/book\"\"\"\n",
    "print(repr(xp_string))\n",
    "result = bookroot.xpath(xp_string)\n",
    "print(\"Length of result: \", len(result))\n",
    "result"
   ]
  },
  {
   "cell_type": "code",
   "execution_count": 46,
   "metadata": {
    "deletable": false,
    "editable": false,
    "nbgrader": {
     "cell_type": "code",
     "checksum": "c6c880ddbfb31c0648b4c944cd05bcf3",
     "grade": true,
     "grade_id": "cell-07deb70db6608949",
     "locked": true,
     "points": 1,
     "schema_version": 3,
     "solution": false,
     "task": false
    }
   },
   "outputs": [],
   "source": [
    "# Testing cell\n",
    "\n",
    "assert True"
   ]
  },
  {
   "cell_type": "markdown",
   "metadata": {},
   "source": [
    "**Q8** Find the set of nodes for the author of books in the data set.\n"
   ]
  },
  {
   "cell_type": "code",
   "execution_count": 47,
   "metadata": {
    "deletable": false,
    "nbgrader": {
     "cell_type": "code",
     "checksum": "95438c6c1b82ab632fedef4246871e19",
     "grade": false,
     "grade_id": "cell-63c22a12d1f9f8f1",
     "locked": false,
     "schema_version": 3,
     "solution": true,
     "task": false
    }
   },
   "outputs": [
    {
     "name": "stdout",
     "output_type": "stream",
     "text": [
      "'/catalog/book/author'\n",
      "Length of result:  12\n"
     ]
    },
    {
     "data": {
      "text/plain": [
       "[<Element author at 0x7fdb0bdadfc0>,\n",
       " <Element author at 0x7fdb0bdb7580>,\n",
       " <Element author at 0x7fdb0bdbc540>,\n",
       " <Element author at 0x7fdb0bdbc3c0>,\n",
       " <Element author at 0x7fdb0bdbc400>,\n",
       " <Element author at 0x7fdb0bdbc500>,\n",
       " <Element author at 0x7fdb0bdb7b40>,\n",
       " <Element author at 0x7fdb0bdb7b00>,\n",
       " <Element author at 0x7fdb0bdb7ac0>,\n",
       " <Element author at 0x7fdb0bdb7b80>,\n",
       " <Element author at 0x7fdb0bdb7900>,\n",
       " <Element author at 0x7fdb0bdb78c0>]"
      ]
     },
     "execution_count": 47,
     "metadata": {},
     "output_type": "execute_result"
    }
   ],
   "source": [
    "xp_string = \"\"\"/catalog/book/author\"\"\"\n",
    "print(repr(xp_string))\n",
    "result = bookroot.xpath(xp_string)\n",
    "print(\"Length of result: \", len(result))\n",
    "result"
   ]
  },
  {
   "cell_type": "code",
   "execution_count": 48,
   "metadata": {
    "deletable": false,
    "editable": false,
    "nbgrader": {
     "cell_type": "code",
     "checksum": "b678e1c3f5b86780a84b936493f351d5",
     "grade": true,
     "grade_id": "cell-2ffe450109961c01",
     "locked": true,
     "points": 1,
     "schema_version": 3,
     "solution": false,
     "task": false
    }
   },
   "outputs": [],
   "source": [
    "# Testing cell\n",
    "\n",
    "assert True"
   ]
  },
  {
   "cell_type": "markdown",
   "metadata": {},
   "source": [
    "**Q9** Find the set of ids of books. \n"
   ]
  },
  {
   "cell_type": "code",
   "execution_count": 49,
   "metadata": {
    "deletable": false,
    "nbgrader": {
     "cell_type": "code",
     "checksum": "96fc02d365adbb138003940c8bd5970d",
     "grade": false,
     "grade_id": "cell-1351f1928d5b43d1",
     "locked": false,
     "schema_version": 3,
     "solution": true,
     "task": false
    }
   },
   "outputs": [
    {
     "name": "stdout",
     "output_type": "stream",
     "text": [
      "'/catalog/book/@id'\n",
      "Length of result:  12\n"
     ]
    },
    {
     "data": {
      "text/plain": [
       "['bk101',\n",
       " 'bk102',\n",
       " 'bk103',\n",
       " 'bk104',\n",
       " 'bk105',\n",
       " 'bk106',\n",
       " 'bk107',\n",
       " 'bk108',\n",
       " 'bk109',\n",
       " 'bk110',\n",
       " 'bk111',\n",
       " 'bk112']"
      ]
     },
     "execution_count": 49,
     "metadata": {},
     "output_type": "execute_result"
    }
   ],
   "source": [
    "xp_string = \"\"\"/catalog/book/@id\"\"\"\n",
    "print(repr(xp_string))\n",
    "result = bookroot.xpath(xp_string)\n",
    "print(\"Length of result: \", len(result))\n",
    "result"
   ]
  },
  {
   "cell_type": "code",
   "execution_count": 50,
   "metadata": {
    "deletable": false,
    "editable": false,
    "nbgrader": {
     "cell_type": "code",
     "checksum": "d735bc190132261a845380cbee6b0f5a",
     "grade": true,
     "grade_id": "cell-f644d2d0ac46fcaa",
     "locked": true,
     "points": 1,
     "schema_version": 3,
     "solution": false,
     "task": false
    }
   },
   "outputs": [],
   "source": [
    "# Testing cell\n",
    "\n",
    "assert True"
   ]
  },
  {
   "cell_type": "markdown",
   "metadata": {},
   "source": [
    "**Q10** Find the node for the magazine whose id is `mag102`\n"
   ]
  },
  {
   "cell_type": "code",
   "execution_count": 51,
   "metadata": {
    "deletable": false,
    "nbgrader": {
     "cell_type": "code",
     "checksum": "d1fc3d57d8df5cae07b58e55ee80e94e",
     "grade": false,
     "grade_id": "cell-ced5938a313c9bb8",
     "locked": false,
     "schema_version": 3,
     "solution": true,
     "task": false
    }
   },
   "outputs": [
    {
     "name": "stdout",
     "output_type": "stream",
     "text": [
      "'/catalog/magazine[@id=\"mag102\"]'\n",
      "Length of result:  1\n"
     ]
    },
    {
     "data": {
      "text/plain": [
       "[<Element magazine at 0x7fdb0bd971c0>]"
      ]
     },
     "execution_count": 51,
     "metadata": {},
     "output_type": "execute_result"
    }
   ],
   "source": [
    "xp_string = \"\"\"/catalog/magazine[@id=\"mag102\"]\"\"\"\n",
    "print(repr(xp_string))\n",
    "result = bookroot.xpath(xp_string)\n",
    "print(\"Length of result: \", len(result))\n",
    "result"
   ]
  },
  {
   "cell_type": "code",
   "execution_count": 52,
   "metadata": {
    "deletable": false,
    "editable": false,
    "nbgrader": {
     "cell_type": "code",
     "checksum": "7ad33e0ca73c235c7cdd28cfcda87071",
     "grade": true,
     "grade_id": "cell-800f1cca9ed067cf",
     "locked": true,
     "points": 1,
     "schema_version": 3,
     "solution": false,
     "task": false
    }
   },
   "outputs": [],
   "source": [
    "# Testing cell\n",
    "\n",
    "assert True"
   ]
  },
  {
   "cell_type": "markdown",
   "metadata": {},
   "source": [
    "**Q11** Find the text of the title for the magazine whose id is `mag102`\n"
   ]
  },
  {
   "cell_type": "code",
   "execution_count": 53,
   "metadata": {
    "deletable": false,
    "nbgrader": {
     "cell_type": "code",
     "checksum": "f6f069a9c1771a6591bb83b5a7a33726",
     "grade": false,
     "grade_id": "cell-6947dae27745936e",
     "locked": false,
     "schema_version": 3,
     "solution": true,
     "task": false
    }
   },
   "outputs": [
    {
     "name": "stdout",
     "output_type": "stream",
     "text": [
      "'/catalog/magazine[@id=\"mag102\"]/title/text()'\n",
      "Length of result:  1\n"
     ]
    },
    {
     "data": {
      "text/plain": [
       "['National Geographic']"
      ]
     },
     "execution_count": 53,
     "metadata": {},
     "output_type": "execute_result"
    }
   ],
   "source": [
    "xp_string = \"\"\"/catalog/magazine[@id=\"mag102\"]/title/text()\"\"\"\n",
    "print(repr(xp_string))\n",
    "result = bookroot.xpath(xp_string)\n",
    "print(\"Length of result: \", len(result))\n",
    "result"
   ]
  },
  {
   "cell_type": "code",
   "execution_count": 54,
   "metadata": {
    "deletable": false,
    "editable": false,
    "nbgrader": {
     "cell_type": "code",
     "checksum": "675431b1a9468ae36f42565cc96a17bc",
     "grade": true,
     "grade_id": "cell-ec82cdc5b0290066",
     "locked": true,
     "points": 1,
     "schema_version": 3,
     "solution": false,
     "task": false
    }
   },
   "outputs": [],
   "source": [
    "# Testing cell\n",
    "\n",
    "assert True"
   ]
  },
  {
   "cell_type": "markdown",
   "metadata": {},
   "source": [
    "**Q12** Find the text of the title child for any child of catalog.  Use an absolute path and a wildcard.\n"
   ]
  },
  {
   "cell_type": "code",
   "execution_count": 63,
   "metadata": {
    "deletable": false,
    "nbgrader": {
     "cell_type": "code",
     "checksum": "b21812d2c4f01ba4e83b90f00d75be97",
     "grade": false,
     "grade_id": "cell-40de825d393fe5ce",
     "locked": false,
     "schema_version": 3,
     "solution": true,
     "task": false
    }
   },
   "outputs": [
    {
     "name": "stdout",
     "output_type": "stream",
     "text": [
      "'//catalog/*/title/text()'\n",
      "Length of result:  16\n"
     ]
    },
    {
     "data": {
      "text/plain": [
       "[\"XML Developer's Guide\",\n",
       " 'Midnight Rain',\n",
       " 'National Geographic',\n",
       " 'National Geographic',\n",
       " 'Maeve Ascendant',\n",
       " \"Oberon's Legacy\",\n",
       " 'The Sundered Grail',\n",
       " 'Lover Birds',\n",
       " 'Splish Splash',\n",
       " 'Creepy Crawlies',\n",
       " 'Paradox Lost',\n",
       " 'Microsoft .NET: The Programming Bible',\n",
       " 'MSXML3: A Comprehensive Guide',\n",
       " 'Visual Studio 7: A Comprehensive Guide',\n",
       " 'Newsweek',\n",
       " \"Hector and Jeff's Database Hints\"]"
      ]
     },
     "execution_count": 63,
     "metadata": {},
     "output_type": "execute_result"
    }
   ],
   "source": [
    "xp_string = \"\"\"//catalog/*/title/text()\"\"\"\n",
    "print(repr(xp_string))\n",
    "result = bookroot.xpath(xp_string)\n",
    "print(\"Length of result: \", len(result))\n",
    "result"
   ]
  },
  {
   "cell_type": "code",
   "execution_count": 62,
   "metadata": {
    "deletable": false,
    "editable": false,
    "nbgrader": {
     "cell_type": "code",
     "checksum": "6f18642ae4aaa4781054f9ce51de62c3",
     "grade": true,
     "grade_id": "cell-61b1db97a9d181b5",
     "locked": true,
     "points": 1,
     "schema_version": 3,
     "solution": false,
     "task": false
    }
   },
   "outputs": [],
   "source": [
    "# Testing cell\n",
    "\n",
    "assert True"
   ]
  },
  {
   "cell_type": "markdown",
   "metadata": {},
   "source": [
    "**Q13** Find the text of any title element in the entire tree. \n"
   ]
  },
  {
   "cell_type": "code",
   "execution_count": 64,
   "metadata": {
    "deletable": false,
    "nbgrader": {
     "cell_type": "code",
     "checksum": "d812ed3dc2b93b0c70d7edf5f23264fe",
     "grade": false,
     "grade_id": "cell-5c260f60b51f54eb",
     "locked": false,
     "schema_version": 3,
     "solution": true,
     "task": false
    }
   },
   "outputs": [
    {
     "name": "stdout",
     "output_type": "stream",
     "text": [
      "'//catalog/*/*/text()'\n",
      "Length of result:  76\n"
     ]
    },
    {
     "data": {
      "text/plain": [
       "['Gambardella, Matthew',\n",
       " \"XML Developer's Guide\",\n",
       " 'Computer',\n",
       " '44.95',\n",
       " '2000-10-01',\n",
       " 'An in-depth look at creating applications\\n      with XML.',\n",
       " 'Ralls, Kim',\n",
       " 'Midnight Rain',\n",
       " 'Fantasy',\n",
       " '5.95',\n",
       " '2000-12-16',\n",
       " 'A former architect battles corporate zombies,\\n      an evil sorceress, and her own childhood to become queen\\n      of the world.',\n",
       " 'National Geographic',\n",
       " 'National Geographic',\n",
       " 'Corets, Eva',\n",
       " 'Maeve Ascendant',\n",
       " 'Fantasy',\n",
       " '5.95',\n",
       " '2000-11-17',\n",
       " 'After the collapse of a nanotechnology\\n      society in England, the young survivors lay the\\n      foundation for a new society.',\n",
       " 'Corets, Eva',\n",
       " \"Oberon's Legacy\",\n",
       " 'Fantasy',\n",
       " '5.95',\n",
       " '2001-03-10',\n",
       " 'In post-apocalypse England, the mysterious\\n      agent known only as Oberon helps to create a new life\\n      for the inhabitants of London. Sequel to Maeve\\n      Ascendant.',\n",
       " 'Corets, Eva',\n",
       " 'The Sundered Grail',\n",
       " 'Fantasy',\n",
       " '5.95',\n",
       " '2001-09-10',\n",
       " \"The two daughters of Maeve, half-sisters,\\n      battle one another for control of England. Sequel to\\n      Oberon's Legacy.\",\n",
       " 'Randall, Cynthia',\n",
       " 'Lover Birds',\n",
       " 'Romance',\n",
       " '4.95',\n",
       " '2000-09-02',\n",
       " 'When Carla meets Paul at an ornithology\\n      conference, tempers fly as feathers get ruffled.',\n",
       " 'Thurman, Paula',\n",
       " 'Splish Splash',\n",
       " 'Romance',\n",
       " '4.95',\n",
       " '2000-11-02',\n",
       " 'A deep sea diver finds true love twenty\\n      thousand leagues beneath the sea.',\n",
       " 'Knorr, Stefan',\n",
       " 'Creepy Crawlies',\n",
       " 'Horror',\n",
       " '4.95',\n",
       " '2000-12-06',\n",
       " 'An anthology of horror stories about roaches,\\n      centipedes, scorpions  and other insects.',\n",
       " 'Kress, Peter',\n",
       " 'Paradox Lost',\n",
       " 'Science Fiction',\n",
       " '6.95',\n",
       " '2000-11-02',\n",
       " 'After an inadvertant trip through a Heisenberg\\n      Uncertainty Device, James Salway discovers the problems\\n      of being quantum.',\n",
       " \"O'Brien, Tim\",\n",
       " 'Microsoft .NET: The Programming Bible',\n",
       " 'Computer',\n",
       " '36.95',\n",
       " '2000-12-09',\n",
       " \"Microsoft's .NET initiative is explored in\\n      detail in this deep programmer's reference.\",\n",
       " \"O'Brien, Tim\",\n",
       " 'MSXML3: A Comprehensive Guide',\n",
       " 'Computer',\n",
       " '36.95',\n",
       " '2000-12-01',\n",
       " 'The Microsoft MSXML3 parser is covered in\\n      detail, with attention to XML DOM interfaces, XSLT processing,\\n      SAX and more.',\n",
       " 'Galos, Mike',\n",
       " 'Visual Studio 7: A Comprehensive Guide',\n",
       " 'Computer',\n",
       " '49.95',\n",
       " '2001-04-16',\n",
       " 'Microsoft Visual Studio 7 is explored in depth,\\n      looking at how Visual Basic, Visual C++, C#, and ASP+ are\\n      integrated into a comprehensive development\\n      environment.',\n",
       " 'Newsweek',\n",
       " \"Hector and Jeff's Database Hints\"]"
      ]
     },
     "execution_count": 64,
     "metadata": {},
     "output_type": "execute_result"
    }
   ],
   "source": [
    "xp_string = \"\"\"//catalog/*/*/text()\"\"\"\n",
    "print(repr(xp_string))\n",
    "result = bookroot.xpath(xp_string)\n",
    "print(\"Length of result: \", len(result))\n",
    "result"
   ]
  },
  {
   "cell_type": "code",
   "execution_count": 65,
   "metadata": {
    "deletable": false,
    "editable": false,
    "nbgrader": {
     "cell_type": "code",
     "checksum": "db4ff9033e82a449217d737f025d950a",
     "grade": true,
     "grade_id": "cell-a88dfe512877c389",
     "locked": true,
     "points": 1,
     "schema_version": 3,
     "solution": false,
     "task": false
    }
   },
   "outputs": [],
   "source": [
    "# Testing cell\n",
    "\n",
    "assert True"
   ]
  },
  {
   "cell_type": "markdown",
   "metadata": {},
   "source": [
    "**Q14** Find the value of all `id` attributes anywhere in the tree."
   ]
  },
  {
   "cell_type": "code",
   "execution_count": 72,
   "metadata": {
    "deletable": false,
    "nbgrader": {
     "cell_type": "code",
     "checksum": "09c8a7fe8e37ece8ba703d845b9a6226",
     "grade": false,
     "grade_id": "cell-dc612eb6883c55ed",
     "locked": false,
     "schema_version": 3,
     "solution": true,
     "task": false
    }
   },
   "outputs": [
    {
     "name": "stdout",
     "output_type": "stream",
     "text": [
      "'/catalog/*/@id'\n",
      "Length of result:  16\n"
     ]
    },
    {
     "data": {
      "text/plain": [
       "['bk101',\n",
       " 'bk102',\n",
       " 'mag101',\n",
       " 'mag102',\n",
       " 'bk103',\n",
       " 'bk104',\n",
       " 'bk105',\n",
       " 'bk106',\n",
       " 'bk107',\n",
       " 'bk108',\n",
       " 'bk109',\n",
       " 'bk110',\n",
       " 'bk111',\n",
       " 'bk112',\n",
       " 'mag103',\n",
       " 'mag104']"
      ]
     },
     "execution_count": 72,
     "metadata": {},
     "output_type": "execute_result"
    }
   ],
   "source": [
    "xp_string = \"\"\"/catalog/*/@id\"\"\"\n",
    "print(repr(xp_string))\n",
    "result = bookroot.xpath(xp_string)\n",
    "print(\"Length of result: \", len(result))\n",
    "result"
   ]
  },
  {
   "cell_type": "code",
   "execution_count": 73,
   "metadata": {
    "deletable": false,
    "editable": false,
    "nbgrader": {
     "cell_type": "code",
     "checksum": "35fe0c8063d0cc927eabe6f149350baa",
     "grade": true,
     "grade_id": "cell-5439f5e8ce1c5bec",
     "locked": true,
     "points": 1,
     "schema_version": 3,
     "solution": false,
     "task": false
    }
   },
   "outputs": [],
   "source": [
    "# Testing cell\n",
    "\n",
    "assert True"
   ]
  },
  {
   "cell_type": "markdown",
   "metadata": {},
   "source": [
    "**Q15** Find the value of **all** attributes.  "
   ]
  },
  {
   "cell_type": "code",
   "execution_count": 74,
   "metadata": {
    "deletable": false,
    "nbgrader": {
     "cell_type": "code",
     "checksum": "d4cadf32da6b4ba0cbe122c3bcdc0fa6",
     "grade": false,
     "grade_id": "cell-a2422d6ce7a0db16",
     "locked": false,
     "schema_version": 3,
     "solution": true,
     "task": false
    }
   },
   "outputs": [
    {
     "name": "stdout",
     "output_type": "stream",
     "text": [
      "'/catalog/*/@*'\n",
      "Length of result:  23\n"
     ]
    },
    {
     "data": {
      "text/plain": [
       "['bk101',\n",
       " 'bk102',\n",
       " 'mag101',\n",
       " 'January',\n",
       " '2021',\n",
       " 'mag102',\n",
       " 'February',\n",
       " '2020',\n",
       " 'bk103',\n",
       " 'bk104',\n",
       " 'bk105',\n",
       " 'bk106',\n",
       " 'bk107',\n",
       " 'bk108',\n",
       " 'bk109',\n",
       " 'bk110',\n",
       " 'bk111',\n",
       " 'bk112',\n",
       " 'mag103',\n",
       " 'February',\n",
       " '2021',\n",
       " 'mag104',\n",
       " '2009']"
      ]
     },
     "execution_count": 74,
     "metadata": {},
     "output_type": "execute_result"
    }
   ],
   "source": [
    "xp_string = \"\"\"/catalog/*/@*\"\"\"\n",
    "print(repr(xp_string))\n",
    "result = bookroot.xpath(xp_string)\n",
    "print(\"Length of result: \", len(result))\n",
    "result"
   ]
  },
  {
   "cell_type": "code",
   "execution_count": 75,
   "metadata": {
    "deletable": false,
    "editable": false,
    "nbgrader": {
     "cell_type": "code",
     "checksum": "50339223c7ff36e9acf7143a9338a2d3",
     "grade": true,
     "grade_id": "cell-f0f7c6e141c3c287",
     "locked": true,
     "points": 1,
     "schema_version": 3,
     "solution": false,
     "task": false
    }
   },
   "outputs": [],
   "source": [
    "# Testing cell\n",
    "\n",
    "assert True"
   ]
  },
  {
   "cell_type": "markdown",
   "metadata": {},
   "source": [
    "**Q16** Find the set of magazine nodes whose month is February."
   ]
  },
  {
   "cell_type": "code",
   "execution_count": 76,
   "metadata": {
    "deletable": false,
    "nbgrader": {
     "cell_type": "code",
     "checksum": "90b6eb7d59cb27a866a3ec0c15b742a8",
     "grade": false,
     "grade_id": "cell-d84bfcf3c57e9c1a",
     "locked": false,
     "schema_version": 3,
     "solution": true,
     "task": false
    }
   },
   "outputs": [
    {
     "name": "stdout",
     "output_type": "stream",
     "text": [
      "'/catalog//magazine[@month=\"February\"]'\n",
      "Length of result:  2\n"
     ]
    },
    {
     "data": {
      "text/plain": [
       "[<Element magazine at 0x7fdb0bd971c0>, <Element magazine at 0x7fdb0bd97a00>]"
      ]
     },
     "execution_count": 76,
     "metadata": {},
     "output_type": "execute_result"
    }
   ],
   "source": [
    "xp_string = \"\"\"/catalog//magazine[@month=\"February\"]\"\"\"\n",
    "print(repr(xp_string))\n",
    "result = bookroot.xpath(xp_string)\n",
    "print(\"Length of result: \", len(result))\n",
    "result"
   ]
  },
  {
   "cell_type": "code",
   "execution_count": 77,
   "metadata": {
    "deletable": false,
    "editable": false,
    "nbgrader": {
     "cell_type": "code",
     "checksum": "138352f8b981fa62f6ca2fba0f9fd9f1",
     "grade": true,
     "grade_id": "cell-4a39e79465681107",
     "locked": true,
     "points": 1,
     "schema_version": 3,
     "solution": false,
     "task": false
    }
   },
   "outputs": [],
   "source": [
    "# Testing cell\n",
    "\n",
    "assert True"
   ]
  },
  {
   "cell_type": "markdown",
   "metadata": {},
   "source": [
    "**Q17** Find the parent(s) of the set of magazine nodes whose month is February."
   ]
  },
  {
   "cell_type": "code",
   "execution_count": 81,
   "metadata": {
    "deletable": false,
    "nbgrader": {
     "cell_type": "code",
     "checksum": "007daa340889d35f69d9e55c45b1a70c",
     "grade": false,
     "grade_id": "cell-12dbb4cc19cbb529",
     "locked": false,
     "schema_version": 3,
     "solution": true,
     "task": false
    }
   },
   "outputs": [
    {
     "name": "stdout",
     "output_type": "stream",
     "text": [
      "'/catalog//magazine[@month=\"February\"]/..'\n",
      "Length of result:  1\n"
     ]
    },
    {
     "data": {
      "text/plain": [
       "[<Element catalog at 0x7fdb0bd87d40>]"
      ]
     },
     "execution_count": 81,
     "metadata": {},
     "output_type": "execute_result"
    }
   ],
   "source": [
    "xp_string = \"\"\"/catalog//magazine[@month=\"February\"]/..\"\"\"\n",
    "print(repr(xp_string))\n",
    "result = bookroot.xpath(xp_string)\n",
    "print(\"Length of result: \", len(result))\n",
    "result"
   ]
  },
  {
   "cell_type": "code",
   "execution_count": 82,
   "metadata": {
    "deletable": false,
    "editable": false,
    "nbgrader": {
     "cell_type": "code",
     "checksum": "3d6e1c715253407862792285c13badb0",
     "grade": true,
     "grade_id": "cell-d9b9b73edeccdb23",
     "locked": true,
     "points": 1,
     "schema_version": 3,
     "solution": false,
     "task": false
    }
   },
   "outputs": [],
   "source": [
    "# Testing cell\n",
    "\n",
    "assert True"
   ]
  },
  {
   "cell_type": "code",
   "execution_count": null,
   "metadata": {},
   "outputs": [],
   "source": []
  }
 ],
 "metadata": {
  "kernelspec": {
   "display_name": "Python 3",
   "language": "python",
   "name": "python3"
  },
  "language_info": {
   "codemirror_mode": {
    "name": "ipython",
    "version": 3
   },
   "file_extension": ".py",
   "mimetype": "text/x-python",
   "name": "python",
   "nbconvert_exporter": "python",
   "pygments_lexer": "ipython3",
   "version": "3.8.5"
  }
 },
 "nbformat": 4,
 "nbformat_minor": 5
}
