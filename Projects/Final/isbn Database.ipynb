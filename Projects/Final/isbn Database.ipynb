{
 "cells": [
  {
   "cell_type": "code",
   "execution_count": 2,
   "metadata": {},
   "outputs": [],
   "source": [
    "import os\n",
    "import sys\n",
    "import json\n",
    "import requests\n",
    "import pandas as pd\n",
    "\n",
    "def add_modules():\n",
    "    \"\"\"\n",
    "    Starting at the current directory and proceeding up the file system\n",
    "    tree, search for a directory named `modules`.  If found, and if not\n",
    "    already there, add to the Python module search path.\n",
    "    \n",
    "    Params: None\n",
    "    \n",
    "    Return: None\n",
    "    \"\"\"\n",
    "    directory = \".\"\n",
    "    levels = 0\n",
    "    while not os.path.isdir(os.path.join(directory, \"modules\")) and \\\n",
    "          levels < 5:\n",
    "        directory = os.path.join(directory, \"..\")\n",
    "        levels += 1\n",
    "    module_path = os.path.abspath(os.path.join(directory, \"modules\"))\n",
    "    if os.path.isdir(module_path):\n",
    "        if not module_path in sys.path:\n",
    "            sys.path.append(module_path)\n",
    "\n",
    "add_modules()\n",
    "import util"
   ]
  },
  {
   "cell_type": "code",
   "execution_count": 3,
   "metadata": {},
   "outputs": [],
   "source": [
    "def buildURL(isbnNum):\n",
    "    \"\"\"\n",
    "    This function builds a url that can be used to get the information of the book identified by the ISBN \n",
    "    \n",
    "    Parameters: isbnNum, a string containing an ISBN for a certain book\n",
    "    \n",
    "    Returns: u, a string of the url\n",
    "    \"\"\"\n",
    "    u = f\"https://api2.isbndb.com/book/{isbnNum}\"\n",
    "    return u"
   ]
  },
  {
   "cell_type": "code",
   "execution_count": 4,
   "metadata": {},
   "outputs": [],
   "source": [
    "def buildRequest(apikey, isbnNum):\n",
    "    \"\"\"\n",
    "    This function returns a dictionary of the results processed by the url\n",
    "    \n",
    "    Parameters: isbnNum, a string containing an ISBN for a certain book\n",
    "                apiKey, a string holding the apikey in order to authorize the request\n",
    "    \n",
    "    Returns: A json object with all of the information about the book identified by the ISBN\n",
    "    \"\"\"\n",
    "    headD = {\n",
    "        \"accept\": \"application/json\",\n",
    "        \"Authorization\": apikey\n",
    "    }\n",
    "    url = buildURL(isbnNum)\n",
    "    \n",
    "    r = requests.get(url, headers=headD)\n",
    "    return r.json()"
   ]
  },
  {
   "cell_type": "code",
   "execution_count": 23,
   "metadata": {},
   "outputs": [],
   "source": [
    "def getPublisher(apikey, isbn):\n",
    "    \"\"\"\n",
    "    This function gets the publisher from the json object and returns None if there is no publisher listed\n",
    "    \n",
    "    Parameters: isbn, a string containing an ISBN for a certain book\n",
    "                apiKey, a string holding the apikey in order to authorize the request\n",
    "                \n",
    "    Returns: The publisher if there is one, None if otherwise\n",
    "    \"\"\"\n",
    "    r = buildRequest(apikey, isbn)\n",
    "    try: \n",
    "        r['book']['publisher']\n",
    "    except:\n",
    "        return None\n",
    "    return r['book']['publisher']"
   ]
  },
  {
   "cell_type": "code",
   "execution_count": 41,
   "metadata": {},
   "outputs": [],
   "source": [
    "def addPublisher(apikey, dataFrame):\n",
    "    \"\"\"\n",
    "    This function creates a new dataframe and adds a column of publishers for each isbn number in the given dataframe\n",
    "    \n",
    "    Parameters: apiKey, a string holding the apikey in order to authorize the request\n",
    "                dataFrame, a pandas dataframe that contains a column called 'ISBN'\n",
    "                \n",
    "    Returns: A new dataframe with an additional column called Publisher\n",
    "    \"\"\"\n",
    "    newDF = dataFrame\n",
    "    isbns = dataFrame['ISBN']\n",
    "    pubList = []\n",
    "    for num in isbns:\n",
    "        pub = getPublisher(apikey, num)\n",
    "        pubList.append(pub)\n",
    "        \n",
    "    newDF['Publisher'] = pubList\n",
    "    return newDF"
   ]
  },
  {
   "cell_type": "code",
   "execution_count": 54,
   "metadata": {},
   "outputs": [],
   "source": [
    "def createCSV(table, filename, datadir):\n",
    "    \"\"\"\n",
    "    This function creates a csv file names filename in datadir\n",
    "    \n",
    "    Parameters: table, a pandas dataframe\n",
    "                filename, a string for the name of the output file\n",
    "                datadir, a string containing the directory where the file should be placed\n",
    "    \n",
    "    Returns: None\n",
    "    \"\"\"\n",
    "    table.to_csv(path_or_buf=os.path.join(datadir, filename), index=False)"
   ]
  },
  {
   "cell_type": "code",
   "execution_count": 55,
   "metadata": {},
   "outputs": [],
   "source": [
    "def main():\n",
    "    isbnKey = util.read_creds(\"ISBN\", \".\", \"Bookcreds.json\")\n",
    "    myapikey = isbnKey['api-key']\n",
    "    nyt = pd.read_csv(\"New York Times Book List.csv\")\n",
    "    newNYT = addPublisher(myapikey, nyt)\n",
    "    createCSV(newNYT, \"New York Times Publishers.csv\", os.getcwd())"
   ]
  },
  {
   "cell_type": "code",
   "execution_count": 56,
   "metadata": {},
   "outputs": [],
   "source": [
    "main()"
   ]
  },
  {
   "cell_type": "code",
   "execution_count": null,
   "metadata": {},
   "outputs": [],
   "source": []
  }
 ],
 "metadata": {
  "kernelspec": {
   "display_name": "Python 3",
   "language": "python",
   "name": "python3"
  },
  "language_info": {
   "codemirror_mode": {
    "name": "ipython",
    "version": 3
   },
   "file_extension": ".py",
   "mimetype": "text/x-python",
   "name": "python",
   "nbconvert_exporter": "python",
   "pygments_lexer": "ipython3",
   "version": "3.7.3"
  }
 },
 "nbformat": 4,
 "nbformat_minor": 4
}
