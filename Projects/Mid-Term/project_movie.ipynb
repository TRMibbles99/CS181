{
 "cells": [
  {
   "cell_type": "markdown",
   "metadata": {},
   "source": [
    "# Denison CS-181/DA-210 Homework"
   ]
  },
  {
   "cell_type": "markdown",
   "metadata": {},
   "source": [
    "---"
   ]
  },
  {
   "cell_type": "markdown",
   "metadata": {},
   "source": [
    "\n",
    "# Mid-Semester Project: Movies and Actors\n",
    "\n",
    "## Preliminaries\n",
    "\n",
    "### Objectives\n",
    "\n",
    "The objectives of this project include:\n",
    "\n",
    "- Working with a real-world data set, and one that has greater volume and scale than we have seen,\n",
    "- Going beyond the \"building-block\" mentality that comes with the small data and limited scope of homework sets,\n",
    "- Building a larger whole, synthesized from many different skills and analysis learned so far over the semester,\n",
    "- Thinking about the data itself, and the information the study of that data can provide, and\n",
    "- Effectively comminicating what was learned.\n",
    "\n",
    "A secondary objective is to give students a \"preliminary run\" for a synthesis project like this, so as to be better prepared for the final project at the end of the semester.\n",
    "\n",
    "This preliminary run will give more structure and guidance than you will see specified in the final project.  But even within this project, you will have some self-determination to explore the data set and use it to ask questions that are interesting to you entailed by the data.\n",
    "\n",
    "It is *vitally important* that you realize early on that this project will be evaluated on **how** you do your work, and on **how well** you communicate.  A project that just hacks together some monolithic or ill-structured code to \"get an answer\", or does a poor job at writing the essay that communicates what is learned will not receive a good grade.\n",
    "\n",
    "### The Data\n",
    "\n",
    "The data for this project comes from The Movie Database (TMDb), https://www.themoviedb.org.  This provider has an API that we will explore in more detail in the last four weeks of the class, but for now we have used this API to acquire data about the \"most popular\" movies since 2010.  The popularity metric is one invented and maintained by TMDb and incorporates a number of factors to get the popularity scaler (float) value.\n",
    "\n",
    "Given the popular movies, we also used the API to obtain information about the actresses and actors that are billed as the top six actors for each movie.  We then acquired some additional data about these actors, to get things like the actor's popularity and other actor-specific data.\n",
    "\n",
    "We have translated the acquired data into an XML format, and this will serve as your starting point for this project.\n",
    "\n",
    "Below, we will subdivide our guidance regarding processing and information content based on two categories of XML source data files:\n",
    "\n",
    "1. There is one XML file about the movies,\n",
    "2. There are a set of ten XML files about the actors and the movies (from the above set) they have appeared in.\n",
    "\n",
    "The XML data is all in the `moviedata` folder in the class repository.  Thus, by doing a `resolvedir()` from the `util` module, you can set up a `datadir` variable with the path to the folder containing your data.  After this description, we include the normal prologue cell to get the `util` module into your environment.\n",
    "\n",
    "### The Process\n",
    "\n",
    "Modeling the process that would occur in a data analysis pipeline, your overall phases in this project will include:\n",
    "\n",
    "1. Use the XML data source to **understand the data**, which, as we know, means to determine what are values and what are variables and what are the independent variables and dependent variables, and what are the set of **functional dependencies** entailed by the data.\n",
    "\n",
    "2. **Build functions** and process the data with a goal of creating a **set** of tidy data tables for the data.  The functions will use our XML and XPath operations, as well as manipulating the data frames in `pandas` to obtain the desired tidy data.  Once we have tidy data, we will write out a set of CSV files that can then serve as an ouput product of these first two phases.\n",
    "\n",
    "3. Within our Python processing, we will also do some preliminary exploration of the data, asking you to perform operations that give you a sense of the data, and to build a basic histogram and a scatter plot to help understand the data distribution.\n",
    "\n",
    "4. You will craft two or three **interesting questions** that deeper exploration of the data can help answer, and design visualizations that can present the data in a manner that helps answer those questions.\n",
    "\n",
    "5. Communicate, through an essay written for a **non-expert audience** that sets the data context, develops the questions, presents the visualizations, interprets what is learned from the data and visualizations, and concludes.\n",
    "\n",
    "Phases 1 and 2, we will repeat twice, once for the movies XML source, and then again for the set of files giving the actor-movie XML source files.  This set of steps are part of the current notebook.  Phase 3 is detailed in a separate notebook, `movie_explore.ipynb`, which you will also turn in.\n",
    "\n",
    "Phases 4 and 5 are the self-determined part of this project.  We will describe the requirements here, but you perform these phases independently of this notebook, and will use Tableau or another mechanism for creating your visualizations, and then will produce your essay and turn in a PDF of the final product.  In getting to that final product, you may choose to use your own Python notebook that consists primarily of Markdown (I would not expect code in such an essay notebook), but you could use Google docs, Microsoft Word, LaTeX, or any other document creation environment.  You turn in a PDF.\n",
    "\n",
    "**Summarizing the deliverables**\n",
    "\n",
    "1. The first deliverable is the current notebook, which encompasses phases 1, and 2.  It should be executable by me and by our TAs, and should not be dependent on your own file system and its paths.\n",
    "2. The set of CSV files corresponding to the tidy data result of your processing in this notebook.\n",
    "3. The `movie_explore.ipynb` is another notebook deliverable.\n",
    "3. A PDF of your essay comminicating what you learned in the project.\n",
    "\n",
    "### Grading\n",
    "\n",
    "The project will be graded out of 50 points, split evenly with 25 points for assessment of this notebook (and its output), and 25 points for assessment of your essay and the work entailed.\n",
    "\n",
    "#### Assessment of the Notebooks\n",
    "\n",
    "- Correctness of the Functional Dependencies determined for the source data,\n",
    "- Correctness of code,\n",
    "- Appropriate design and creation of functions, including use of appropriate parameters,\n",
    "- **Use** of those functions in higher level functions,\n",
    "- Avoidance of global code or global variables outside of functions,\n",
    "- Answers in markdown and code solution cells,\n",
    "- Code documentation:\n",
    "    - docstrings\n",
    "    - inline comments\n",
    "- Correct output (the CSVs)\n",
    "\n",
    "#### Assessment of the Essay\n",
    "\n",
    "- Presence of two or three interesting questions that have sufficient depth and can be answered by the data,\n",
    "- **Good** visualizations that help understand the data and answer the questions.\n",
    "    - Must avoid being too busy, or in other ways inappropriate to what can be well conveyed in a figure in an essay,\n",
    "    - Must be appropriated titled, with axis labels and clear units,\n",
    "    - Must allow the reader to compare data and interpret results for themselves.\n",
    "- Essay must be well written, including:\n",
    "    - Good use of headers and structures, giving it a clear organization,\n",
    "    - Good grammar, punctuation, use of terms,\n",
    "    - Set a background/context/introduction,\n",
    "    - **Develop** the questions to be answered,\n",
    "    - Present the visualizations and describe what the reader is seeing and help **interpret** the results,\n",
    "    - Hits the target audience of a non-expert.\n",
    "\n",
    "### Transition to Development Phases\n",
    "\n",
    "> The remainder of this notebook helps guide you through the first two phases.  As noted above, we will progress through:\n",
    "> - Phase 1 and 2 for the `movies.xml` source,\n",
    "> - Phase 1 and 2 for the set of `actormovie` XML files,\n",
    "> \n",
    "> Phase 3 on basic exploration will be part of a separate notebook.\n",
    ">\n",
    "> Phases 4 and 5 are on your own, but should adhere to the requirements set forth above."
   ]
  },
  {
   "cell_type": "code",
   "execution_count": 5,
   "metadata": {},
   "outputs": [],
   "source": [
    "import os\n",
    "import sys\n",
    "import lxml\n",
    "import pandas as pd\n",
    "from lxml import etree\n",
    "\n",
    "def add_modules():\n",
    "    \"\"\"\n",
    "    Starting at the current directory and proceeding up the file system\n",
    "    tree, search for a directory named `modules`.  If found, and if not\n",
    "    already there, add to the Python module search path.\n",
    "    \n",
    "    Params: None\n",
    "    \n",
    "    Return: None\n",
    "    \"\"\"\n",
    "    directory = \".\"\n",
    "    levels = 0\n",
    "    while not os.path.isdir(os.path.join(directory, \"modules\")) and \\\n",
    "          levels < 5:\n",
    "        directory = os.path.join(directory, \"..\")\n",
    "        levels += 1\n",
    "    module_path = os.path.abspath(os.path.join(directory, \"modules\"))\n",
    "    if os.path.isdir(module_path):\n",
    "        if not module_path in sys.path:\n",
    "            sys.path.append(module_path)\n",
    "\n",
    "add_modules()\n",
    "import util"
   ]
  },
  {
   "cell_type": "markdown",
   "metadata": {},
   "source": [
    "## Movies Development\n",
    "\n",
    "> Note that in the following development, we are expecting you to do more for yourself.  So the prologue cell includes the basic imports, but does not include anything further.\n",
    "\n",
    "### Acquiring the XML & Understanding the Data\n",
    "\n",
    "**Step 1** In the following cell, define a function to obtain the XML tree from `movies.xml` in the `moviesdata` folder.  Then **use that function** to actually obtain the tree and assign to `mroot`.\n",
    "\n",
    "If you are unsure about what makes a good functional abstraction here, you can use the answer to your question in homework 3.2.  But in either case, reflect about the design of the function and its parameters: why were *these* chosen as parameters; why we would want a function to perform these steps (as opposed to just creating the tree?  Put the answers to these last questions in the markdown following the code cells."
   ]
  },
  {
   "cell_type": "code",
   "execution_count": 6,
   "metadata": {
    "deletable": false,
    "nbgrader": {
     "cell_type": "code",
     "checksum": "5b3e4850cec9f9819bfc3e98a12e7859",
     "grade": false,
     "grade_id": "cell-fdf2365596641ea7",
     "locked": false,
     "schema_version": 3,
     "solution": true,
     "task": false
    }
   },
   "outputs": [],
   "source": [
    "# Solution cell\n",
    "\n",
    "datadir = util.resolve_dir(\"moviedata\")\n",
    "parser0 = etree.XMLParser(remove_blank_text=True)\n",
    "\n",
    "def movieDataXML(filename, parser=None):\n",
    "    '''\n",
    "    This function parses through an xml file and returns the\n",
    "    root\n",
    "    \n",
    "    Parameters: filename: the name of the xml file\n",
    "                parser: the parser used on the file,\n",
    "                if there is none then it will use\n",
    "                the standard parser\n",
    "                \n",
    "    Return: root: the root of the xml file\n",
    "            None: if there was not a file with that filename\n",
    "            or the parser did not work on the file\n",
    "    '''\n",
    "    if(os.path.isfile(os.path.join(datadir, filename))):\n",
    "        path = os.path.join(datadir, filename)\n",
    "        if(parser==None):\n",
    "            tree = etree.parse(path, etree.XMLParser())\n",
    "        else:\n",
    "            try:\n",
    "                tree = etree.parse(path, parser)\n",
    "            except Exception as e:\n",
    "                return None\n",
    "        root = tree.getroot()\n",
    "        return root\n",
    "    return None\n",
    "\n",
    "mroot = movieDataXML(\"movies.xml\", parser0)"
   ]
  },
  {
   "cell_type": "code",
   "execution_count": 7,
   "metadata": {
    "deletable": false,
    "editable": false,
    "nbgrader": {
     "cell_type": "code",
     "checksum": "55fb20349d87b99674578cecf727c037",
     "grade": true,
     "grade_id": "cell-ad8c5eb7ace1ff44",
     "locked": true,
     "points": 2,
     "schema_version": 3,
     "solution": false,
     "task": false
    }
   },
   "outputs": [],
   "source": [
    "assert True"
   ]
  },
  {
   "cell_type": "markdown",
   "metadata": {
    "deletable": false,
    "nbgrader": {
     "cell_type": "markdown",
     "checksum": "f09b76e67e5df8f18b52588a15fed9cd",
     "grade": true,
     "grade_id": "cell-26301b2193339e59",
     "locked": false,
     "points": 2,
     "schema_version": 3,
     "solution": true,
     "task": false
    }
   },
   "source": [
    "The function has parser and filename included in the parameters, but no directory as it expects the data to come from the moviesdata folder by default. Additionally, things such as the try indent and if not statements are there in case minor issues arise when the function is operating with nothing there to gather."
   ]
  },
  {
   "cell_type": "markdown",
   "metadata": {},
   "source": [
    "**Step 2** Use the following code cell to gather information from the XML to help start understanding the data.  You are welcome to use as many code cells as you wish to demonstrate this discovery.\n",
    "\n",
    "These steps could use XML procedural operations and XPath to find results.  Some exploratory steps and questions might include:\n",
    "\n",
    "- Printing a prefix of the tree to see the top level structure,\n",
    "- Finding the number of movies,\n",
    "- Determining the attributes and the set of childeren of a movie Element,\n",
    "    - do all movie elements have all of the same attributes and/or children?\n",
    "- Are any attributes or children problematic when we think about tidy data?\n",
    "\n",
    "You may use the above, but also come up with your own.  Then, in the markdown cell following the code cell, describe what you learned about the data.  You should even write down a preliminary functional dependency (or two), depending on what you discovered."
   ]
  },
  {
   "cell_type": "code",
   "execution_count": 8,
   "metadata": {
    "deletable": false,
    "nbgrader": {
     "cell_type": "code",
     "checksum": "fe2c2d419bed6fca209c843d898b67da",
     "grade": true,
     "grade_id": "cell-553cf8737a34158d",
     "locked": false,
     "points": 2,
     "schema_version": 3,
     "solution": true,
     "task": false
    }
   },
   "outputs": [
    {
     "data": {
      "text/plain": [
       "[<Element movies at 0x7fa757bc8380>]"
      ]
     },
     "execution_count": 8,
     "metadata": {},
     "output_type": "execute_result"
    }
   ],
   "source": [
    "# Solution cell\n",
    "\n",
    "prefix = mroot.xpath('/movies')\n",
    "prefix"
   ]
  },
  {
   "cell_type": "code",
   "execution_count": 9,
   "metadata": {},
   "outputs": [
    {
     "data": {
      "text/plain": [
       "64"
      ]
     },
     "execution_count": 9,
     "metadata": {},
     "output_type": "execute_result"
    }
   ],
   "source": [
    "movies = len(mroot.xpath('/movies/movie'))\n",
    "movies"
   ]
  },
  {
   "cell_type": "code",
   "execution_count": 10,
   "metadata": {},
   "outputs": [
    {
     "data": {
      "text/plain": [
       "['527774', 'Raya and the Last Dragon']"
      ]
     },
     "execution_count": 10,
     "metadata": {},
     "output_type": "execute_result"
    }
   ],
   "source": [
    "attrib = mroot.xpath('/movies/movie[1]/@*')\n",
    "attrib"
   ]
  },
  {
   "cell_type": "code",
   "execution_count": 11,
   "metadata": {},
   "outputs": [
    {
     "data": {
      "text/plain": [
       "['Animation',\n",
       " 'Adventure',\n",
       " 'Fantasy',\n",
       " 'Family',\n",
       " 'Action',\n",
       " 'Long ago, in the fantasy world of Kumandra, humans and dragons lived together in harmony. But when an evil force threatened the land, the dragons sacrificed themselves to save humanity. Now, 500 years later, that same evil has returned and it’s up to a lone warrior, Raya, to track down the legendary last dragon to restore the fractured land and its divided people.',\n",
       " '5726.502',\n",
       " '2021-03-03',\n",
       " '8.5',\n",
       " '1154']"
      ]
     },
     "execution_count": 11,
     "metadata": {},
     "output_type": "execute_result"
    }
   ],
   "source": [
    "children = mroot.xpath('/movies/movie[1]//text()')\n",
    "children"
   ]
  },
  {
   "cell_type": "code",
   "execution_count": 12,
   "metadata": {},
   "outputs": [
    {
     "data": {
      "text/plain": [
       "64"
      ]
     },
     "execution_count": 12,
     "metadata": {},
     "output_type": "execute_result"
    }
   ],
   "source": [
    "amount_genre = len(mroot.xpath('/movies/movie/genre/..'))\n",
    "amount_genre"
   ]
  },
  {
   "cell_type": "code",
   "execution_count": 13,
   "metadata": {},
   "outputs": [
    {
     "data": {
      "text/plain": [
       "64"
      ]
     },
     "execution_count": 13,
     "metadata": {},
     "output_type": "execute_result"
    }
   ],
   "source": [
    "amount_des = len(mroot.xpath('/movies/movie/overview/..'))\n",
    "amount_des"
   ]
  },
  {
   "cell_type": "markdown",
   "metadata": {
    "deletable": false,
    "nbgrader": {
     "cell_type": "markdown",
     "checksum": "e13953736166c1c16d4f369ff9bbe209",
     "grade": true,
     "grade_id": "cell-1cfbf07306bd4fdd",
     "locked": false,
     "points": 2,
     "schema_version": 3,
     "solution": true,
     "task": false
    }
   },
   "source": [
    "There are 64 movies, each of them have at least one genre, overview, release data, popularity, vote count, and vote average. They also have two attributes, and id and title. Some films have more than one genre which will be probalematic when it comes to tidy data."
   ]
  },
  {
   "cell_type": "markdown",
   "metadata": {},
   "source": [
    "**Step 3** There are a number of numeric values within the data set.  Part of understanding the data is, for numeric data, to known the minimum, maximum, and mean for a set of numbers.  Since we want to avoid repeated and/or copy and paste code, let us write a function to calculate these values for a given child of movie.  Write a function:\n",
    "\n",
    "    childStats(root, child, conversion=float)\n",
    "    \n",
    "where `root` is the root of a movies tree, child is the tag for a particular child, and conversion determines what conversion should be performed on the string/textual data, with a conversion to a float value being the default.  The function obtains a list of the text values for the specified child, converts the list to numeric values using the specified conversion, and then calculates and returns the min, mean, and max from the set.\n",
    "\n",
    "After you have defined the function, invoke the function appropiately on each of the numeric children.  In the markdown cell that follows, describe what you learned."
   ]
  },
  {
   "cell_type": "code",
   "execution_count": 14,
   "metadata": {
    "deletable": false,
    "nbgrader": {
     "cell_type": "code",
     "checksum": "ad0fca66e04079431709153233745f9a",
     "grade": false,
     "grade_id": "cell-ef7b14deeb770f59",
     "locked": false,
     "schema_version": 3,
     "solution": true,
     "task": false
    }
   },
   "outputs": [
    {
     "name": "stdout",
     "output_type": "stream",
     "text": [
      "(282.24, 5726.502, 750.7537812500002) (0.0, 21223.0, 2580.546875) (0.0, 9.6, 6.739062500000001)\n"
     ]
    }
   ],
   "source": [
    "def childStats(root, child, conversion=float):\n",
    "    '''\n",
    "    This function changes gives you the min, max\n",
    "    and mean of all the certain, numerical children\n",
    "    of an xml tree.\n",
    "    \n",
    "    Parameters: root: the root of the tree\n",
    "                child: the xpath to the child\n",
    "                conversion: the conversion you want\n",
    "                but it is automatically float\n",
    "                \n",
    "    Return: min of the child, max of the child, and\n",
    "            mean of the child.\n",
    "    '''\n",
    "    child = root.xpath(child)\n",
    "    child = [conversion(val) for val in child]\n",
    "    return min(child), max(child), sum(child)/len(child)\n",
    "\n",
    "popularity = childStats(mroot, \"/movies/movie/popularity/text()\")\n",
    "vote_count = childStats(mroot, \"/movies/movie/vote_count/text()\")\n",
    "vote_average = childStats(mroot, \"/movies/movie/vote_average/text()\")\n",
    "\n",
    "print(popularity, vote_count, vote_average)"
   ]
  },
  {
   "cell_type": "code",
   "execution_count": 15,
   "metadata": {
    "deletable": false,
    "editable": false,
    "nbgrader": {
     "cell_type": "code",
     "checksum": "49a345cf4874b956239df177e81a8224",
     "grade": true,
     "grade_id": "cell-b70d8c077f7bdad5",
     "locked": true,
     "points": 2,
     "schema_version": 3,
     "solution": false,
     "task": false
    }
   },
   "outputs": [],
   "source": [
    "assert True"
   ]
  },
  {
   "cell_type": "markdown",
   "metadata": {
    "deletable": false,
    "nbgrader": {
     "cell_type": "markdown",
     "checksum": "3e87611a96eea53ec003b8604ffa6add",
     "grade": true,
     "grade_id": "cell-5f7338f94f7092c9",
     "locked": false,
     "points": 2,
     "schema_version": 3,
     "solution": true,
     "task": false
    }
   },
   "source": [
    "We learned how to convert a string into a different data type (in this case a float) with a converstion parameter. We also learned how to get the minimum, maximum, and the mean of a list and return all of those at the same time, putting them into a tuple."
   ]
  },
  {
   "cell_type": "markdown",
   "metadata": {},
   "source": [
    "### Building Tabular Data from Movies XML\n",
    "\n",
    "XML is meant to provide flexible organization and to transmit data. While it is the best tool for that job, it cannot handle advanced queries and analysis like groupby and aggregation. Thus, we often need to traverse the XML file and build two-dimensional subsets of the data into pandas data frames in order to do any further analysis.\n",
    "\n",
    "#### Movie Table\n",
    "\n",
    "Including the set of genres in a movies table that is supposed to be tidy is problematic.  With genres, we would have a **set** or collection of values that would go inside a table entry for a particular movie.  Then we are violating the idea of a column being exactly one variable, since this column would have a value that is really some kind of multivalue, which is an extension of the idea of a mashup.  We need the value of exactly one variable to be exactly one value.  \n",
    "\n",
    "We will address this a few steps hence.  For now we focus on the tidy portion of a table that has a row per movie, and columns for each of the dependent variables, omitting genres.\n",
    "\n",
    "The best way to solve a problem like this is to break it into more manageable pieces.  We will first define a function that can process a single XML `movie` Element and yield exactly one row, represented as either a listm, or as a dictionary. (We recommend reprsenting a row as a dictionary, like we did in class and in the textbook when processing XML.)\n",
    "\n",
    "If we have successfully defined such a function, we can then put it into a higher level function that can use it repeatedly on the set of `movie` Elements in the tree.  This builds a collection of rows that we can then use to create a pandas data frame."
   ]
  },
  {
   "cell_type": "markdown",
   "metadata": {},
   "source": [
    "**Step 1** Decide on the columns (and column names) for your movies table.  Also determine the appropriate data type for each column.  With your design clearly in mind, write a function:\n",
    "\n",
    "    genMovieRow(movieElement)\n",
    "    \n",
    "that constructs and returns a single row of data about an individual movie based on a movieElement.  The type of the return result should be either a list or a dictionary.  In the dictionary case, the keys should be your column names and they should map to the values.  Regardless of whether you return a list or a dictionary, the data types of the values should be correct.\n",
    "\n",
    "In the end of the solution cell, we show an example invocation of your function on the first movie in the collection.  You should test your function on additional movie elements from the movies tree."
   ]
  },
  {
   "cell_type": "code",
   "execution_count": 16,
   "metadata": {
    "deletable": false,
    "nbgrader": {
     "cell_type": "code",
     "checksum": "7d01c7d08c7466b0f542a92150c90348",
     "grade": false,
     "grade_id": "cell-2da11734ebdccbf7",
     "locked": false,
     "schema_version": 3,
     "solution": true,
     "task": false
    }
   },
   "outputs": [
    {
     "name": "stdout",
     "output_type": "stream",
     "text": [
      "{'title': 'Raya and the Last Dragon', 'movieid': '527774', 'overview': 'Long ago, in the fantasy world of Kumandra, humans and dragons lived together in harmony. But when an evil force threatened the land, the dragons sacrificed themselves to save humanity. Now, 500 years later, that same evil has returned and it’s up to a lone warrior, Raya, to track down the legendary last dragon to restore the fractured land and its divided people.', 'popularity': '5726.502', 'release_date': '2021-03-03', 'vote_average': '8.5', 'vote_count': '1154'}\n"
     ]
    }
   ],
   "source": [
    "def genMovieRow(movieElement):\n",
    "    '''\n",
    "    This function gets the row of a movie element in the \n",
    "    xml file \"movies.xml\", excluding the genres.\n",
    "    \n",
    "    Parameters: movieElement: the movie element that will have\n",
    "                its row returned in a dictionary.\n",
    "    \n",
    "    Return: D: the dictionary with the row of the movie element\n",
    "    '''\n",
    "    D = {'title':movieElement.attrib['title'], 'movieid':movieElement.attrib['id']}\n",
    "    for child in ['overview', 'popularity', 'release_date', 'vote_average', 'vote_count']:\n",
    "        value = movieElement.find(child).text\n",
    "        D[child] = value\n",
    "    return D\n",
    "    \n",
    "firstmovie = mroot.xpath(\"//movies/movie[1]\")[0]\n",
    "row = genMovieRow(firstmovie)\n",
    "print(row)"
   ]
  },
  {
   "cell_type": "code",
   "execution_count": 17,
   "metadata": {
    "deletable": false,
    "editable": false,
    "nbgrader": {
     "cell_type": "code",
     "checksum": "61a7a90c782bf1a222f14ff8c27cc9f5",
     "grade": true,
     "grade_id": "cell-b3698549f8784fb4",
     "locked": true,
     "points": 2,
     "schema_version": 3,
     "solution": false,
     "task": false
    }
   },
   "outputs": [],
   "source": [
    "assert True"
   ]
  },
  {
   "cell_type": "markdown",
   "metadata": {},
   "source": [
    "**Step 2** Using the function from the previous question, write a function\n",
    "\n",
    "    genMoviesTable(movies_root)\n",
    "    \n",
    "that iterates over the movie elements, accumulating a list of the rows for the table.  Your function should then create a valid data frame representing the data.  The column Index of the returned data frame should have meaningful names."
   ]
  },
  {
   "cell_type": "code",
   "execution_count": 18,
   "metadata": {
    "deletable": false,
    "nbgrader": {
     "cell_type": "code",
     "checksum": "47ff6c3da0cbc68e53b971963a87ed8f",
     "grade": false,
     "grade_id": "cell-869eafeca852f8f7",
     "locked": false,
     "schema_version": 3,
     "solution": true,
     "task": false
    }
   },
   "outputs": [
    {
     "data": {
      "text/html": [
       "<div>\n",
       "<style scoped>\n",
       "    .dataframe tbody tr th:only-of-type {\n",
       "        vertical-align: middle;\n",
       "    }\n",
       "\n",
       "    .dataframe tbody tr th {\n",
       "        vertical-align: top;\n",
       "    }\n",
       "\n",
       "    .dataframe thead th {\n",
       "        text-align: right;\n",
       "    }\n",
       "</style>\n",
       "<table border=\"1\" class=\"dataframe\">\n",
       "  <thead>\n",
       "    <tr style=\"text-align: right;\">\n",
       "      <th></th>\n",
       "      <th>title</th>\n",
       "      <th>movieid</th>\n",
       "      <th>overview</th>\n",
       "      <th>popularity</th>\n",
       "      <th>release_date</th>\n",
       "      <th>vote_average</th>\n",
       "      <th>vote_count</th>\n",
       "    </tr>\n",
       "  </thead>\n",
       "  <tbody>\n",
       "    <tr>\n",
       "      <th>0</th>\n",
       "      <td>Raya and the Last Dragon</td>\n",
       "      <td>527774</td>\n",
       "      <td>Long ago, in the fantasy world of Kumandra, hu...</td>\n",
       "      <td>5726.502</td>\n",
       "      <td>2021-03-03</td>\n",
       "      <td>8.5</td>\n",
       "      <td>1154</td>\n",
       "    </tr>\n",
       "    <tr>\n",
       "      <th>1</th>\n",
       "      <td>Tom &amp; Jerry</td>\n",
       "      <td>587807</td>\n",
       "      <td>Tom the cat and Jerry the mouse get kicked out...</td>\n",
       "      <td>3172.173</td>\n",
       "      <td>2021-02-11</td>\n",
       "      <td>7.6</td>\n",
       "      <td>814</td>\n",
       "    </tr>\n",
       "    <tr>\n",
       "      <th>2</th>\n",
       "      <td>Coming 2 America</td>\n",
       "      <td>484718</td>\n",
       "      <td>Prince Akeem Joffer is set to become King of Z...</td>\n",
       "      <td>2504.228</td>\n",
       "      <td>2021-03-05</td>\n",
       "      <td>7.1</td>\n",
       "      <td>775</td>\n",
       "    </tr>\n",
       "    <tr>\n",
       "      <th>3</th>\n",
       "      <td>Monster Hunter</td>\n",
       "      <td>458576</td>\n",
       "      <td>A portal transports Cpt. Artemis and an elite ...</td>\n",
       "      <td>2333.41</td>\n",
       "      <td>2020-12-03</td>\n",
       "      <td>7.3</td>\n",
       "      <td>1108</td>\n",
       "    </tr>\n",
       "    <tr>\n",
       "      <th>4</th>\n",
       "      <td>Wonder Woman 1984</td>\n",
       "      <td>464052</td>\n",
       "      <td>A botched store robbery places Wonder Woman in...</td>\n",
       "      <td>2010.4</td>\n",
       "      <td>2020-12-16</td>\n",
       "      <td>6.9</td>\n",
       "      <td>4229</td>\n",
       "    </tr>\n",
       "    <tr>\n",
       "      <th>5</th>\n",
       "      <td>The Little Things</td>\n",
       "      <td>602269</td>\n",
       "      <td>Deputy Sheriff Joe \"Deke\" Deacon joins forces ...</td>\n",
       "      <td>1229.877</td>\n",
       "      <td>2021-01-28</td>\n",
       "      <td>6.5</td>\n",
       "      <td>562</td>\n",
       "    </tr>\n",
       "    <tr>\n",
       "      <th>6</th>\n",
       "      <td>Outside the Wire</td>\n",
       "      <td>775996</td>\n",
       "      <td>In the near future, a drone pilot is sent into...</td>\n",
       "      <td>1189.271</td>\n",
       "      <td>2021-01-15</td>\n",
       "      <td>6.5</td>\n",
       "      <td>840</td>\n",
       "    </tr>\n",
       "    <tr>\n",
       "      <th>7</th>\n",
       "      <td>Wrong Turn</td>\n",
       "      <td>630586</td>\n",
       "      <td>Jen and a group of friends set out to hike the...</td>\n",
       "      <td>1140.524</td>\n",
       "      <td>2021-01-26</td>\n",
       "      <td>6.4</td>\n",
       "      <td>238</td>\n",
       "    </tr>\n",
       "    <tr>\n",
       "      <th>8</th>\n",
       "      <td>Black Water: Abyss</td>\n",
       "      <td>522444</td>\n",
       "      <td>An adventure-loving couple convince their frie...</td>\n",
       "      <td>1119.721</td>\n",
       "      <td>2020-07-09</td>\n",
       "      <td>5.1</td>\n",
       "      <td>156</td>\n",
       "    </tr>\n",
       "    <tr>\n",
       "      <th>9</th>\n",
       "      <td>Breach</td>\n",
       "      <td>651571</td>\n",
       "      <td>A hardened mechanic must stay awake and mainta...</td>\n",
       "      <td>1022.12</td>\n",
       "      <td>2020-12-17</td>\n",
       "      <td>4.5</td>\n",
       "      <td>297</td>\n",
       "    </tr>\n",
       "  </tbody>\n",
       "</table>\n",
       "</div>"
      ],
      "text/plain": [
       "                      title movieid  \\\n",
       "0  Raya and the Last Dragon  527774   \n",
       "1               Tom & Jerry  587807   \n",
       "2          Coming 2 America  484718   \n",
       "3            Monster Hunter  458576   \n",
       "4         Wonder Woman 1984  464052   \n",
       "5         The Little Things  602269   \n",
       "6          Outside the Wire  775996   \n",
       "7                Wrong Turn  630586   \n",
       "8        Black Water: Abyss  522444   \n",
       "9                    Breach  651571   \n",
       "\n",
       "                                            overview popularity release_date  \\\n",
       "0  Long ago, in the fantasy world of Kumandra, hu...   5726.502   2021-03-03   \n",
       "1  Tom the cat and Jerry the mouse get kicked out...   3172.173   2021-02-11   \n",
       "2  Prince Akeem Joffer is set to become King of Z...   2504.228   2021-03-05   \n",
       "3  A portal transports Cpt. Artemis and an elite ...    2333.41   2020-12-03   \n",
       "4  A botched store robbery places Wonder Woman in...     2010.4   2020-12-16   \n",
       "5  Deputy Sheriff Joe \"Deke\" Deacon joins forces ...   1229.877   2021-01-28   \n",
       "6  In the near future, a drone pilot is sent into...   1189.271   2021-01-15   \n",
       "7  Jen and a group of friends set out to hike the...   1140.524   2021-01-26   \n",
       "8  An adventure-loving couple convince their frie...   1119.721   2020-07-09   \n",
       "9  A hardened mechanic must stay awake and mainta...    1022.12   2020-12-17   \n",
       "\n",
       "  vote_average vote_count  \n",
       "0          8.5       1154  \n",
       "1          7.6        814  \n",
       "2          7.1        775  \n",
       "3          7.3       1108  \n",
       "4          6.9       4229  \n",
       "5          6.5        562  \n",
       "6          6.5        840  \n",
       "7          6.4        238  \n",
       "8          5.1        156  \n",
       "9          4.5        297  "
      ]
     },
     "execution_count": 18,
     "metadata": {},
     "output_type": "execute_result"
    }
   ],
   "source": [
    "def genMoviesTable(movies_root):\n",
    "    '''\n",
    "    This function will return all of the movie rows as a \n",
    "    DataFrame in the file \"movies.xml\", excluding the genres.\n",
    "    \n",
    "    Parameters: movies_root: the root of the xml file.\n",
    "    \n",
    "    Return: table: a DataFrame of the different movies in the\n",
    "            xml file, without the genres.\n",
    "    '''\n",
    "    collist = movies_root.xpath('/movies/movie')\n",
    "    L = []\n",
    "    for movie in collist:\n",
    "        L.append(genMovieRow(movie))\n",
    "    table = pd.DataFrame(L)\n",
    "    return table\n",
    "    \n",
    "\n",
    "movies = genMoviesTable(mroot)\n",
    "movies.head(10)"
   ]
  },
  {
   "cell_type": "code",
   "execution_count": 19,
   "metadata": {
    "deletable": false,
    "editable": false,
    "nbgrader": {
     "cell_type": "code",
     "checksum": "82bcbd53583a6e806b4b7917ebdaf415",
     "grade": true,
     "grade_id": "cell-a3e1ffe56306d11a",
     "locked": true,
     "points": 2,
     "schema_version": 3,
     "solution": false,
     "task": false
    }
   },
   "outputs": [],
   "source": [
    "assert True"
   ]
  },
  {
   "cell_type": "markdown",
   "metadata": {},
   "source": [
    "#### Genres of Movies\n",
    "\n",
    "When we have a case of multiple values for a single variable, like we do for genres, we can solve our problem by creating a separate and distinct table that represents the pairings between a movie and its genres.  In such a table that would be a row for each **combination** of movie and its genre.    We will call this our `movie_genre` table.\n",
    "\n",
    "There will be two columns in this table: movie id, and genre name.  This means that processing a single movie Element from our XML would generate a **list** of rows for `movie_genre`.\n",
    "\n",
    "We should be able to break our overall problem by extending our two-step solution for `movies`, adapting for this extension.  So define one function that processes a movie Element and produces a list of rows.  Then **use** this function in a higher level function that repeats the process for each of the movie Elements in an entire tree, accumulating the complete set of rows, and then creating the data frame.  Call the \"higher level\" function `genMovieGenres()`, and be sure it returns a pandas data frame.\n",
    "\n",
    "**Step 1 and 2**"
   ]
  },
  {
   "cell_type": "code",
   "execution_count": 20,
   "metadata": {
    "deletable": false,
    "nbgrader": {
     "cell_type": "code",
     "checksum": "bc354d02ae386aa6ad7426c6022a674a",
     "grade": false,
     "grade_id": "cell-2701380a4d757fa8",
     "locked": false,
     "schema_version": 3,
     "solution": true,
     "task": false
    }
   },
   "outputs": [
    {
     "data": {
      "text/html": [
       "<div>\n",
       "<style scoped>\n",
       "    .dataframe tbody tr th:only-of-type {\n",
       "        vertical-align: middle;\n",
       "    }\n",
       "\n",
       "    .dataframe tbody tr th {\n",
       "        vertical-align: top;\n",
       "    }\n",
       "\n",
       "    .dataframe thead th {\n",
       "        text-align: right;\n",
       "    }\n",
       "</style>\n",
       "<table border=\"1\" class=\"dataframe\">\n",
       "  <thead>\n",
       "    <tr style=\"text-align: right;\">\n",
       "      <th></th>\n",
       "      <th>movieid</th>\n",
       "      <th>genre</th>\n",
       "    </tr>\n",
       "  </thead>\n",
       "  <tbody>\n",
       "    <tr>\n",
       "      <th>0</th>\n",
       "      <td>527774</td>\n",
       "      <td>Animation</td>\n",
       "    </tr>\n",
       "    <tr>\n",
       "      <th>0</th>\n",
       "      <td>527774</td>\n",
       "      <td>Adventure</td>\n",
       "    </tr>\n",
       "    <tr>\n",
       "      <th>0</th>\n",
       "      <td>527774</td>\n",
       "      <td>Fantasy</td>\n",
       "    </tr>\n",
       "    <tr>\n",
       "      <th>0</th>\n",
       "      <td>527774</td>\n",
       "      <td>Family</td>\n",
       "    </tr>\n",
       "    <tr>\n",
       "      <th>0</th>\n",
       "      <td>527774</td>\n",
       "      <td>Action</td>\n",
       "    </tr>\n",
       "    <tr>\n",
       "      <th>1</th>\n",
       "      <td>587807</td>\n",
       "      <td>Action</td>\n",
       "    </tr>\n",
       "    <tr>\n",
       "      <th>1</th>\n",
       "      <td>587807</td>\n",
       "      <td>Comedy</td>\n",
       "    </tr>\n",
       "    <tr>\n",
       "      <th>1</th>\n",
       "      <td>587807</td>\n",
       "      <td>Family</td>\n",
       "    </tr>\n",
       "    <tr>\n",
       "      <th>1</th>\n",
       "      <td>587807</td>\n",
       "      <td>Animation</td>\n",
       "    </tr>\n",
       "    <tr>\n",
       "      <th>1</th>\n",
       "      <td>587807</td>\n",
       "      <td>Adventure</td>\n",
       "    </tr>\n",
       "    <tr>\n",
       "      <th>2</th>\n",
       "      <td>484718</td>\n",
       "      <td>Comedy</td>\n",
       "    </tr>\n",
       "    <tr>\n",
       "      <th>3</th>\n",
       "      <td>458576</td>\n",
       "      <td>Fantasy</td>\n",
       "    </tr>\n",
       "    <tr>\n",
       "      <th>3</th>\n",
       "      <td>458576</td>\n",
       "      <td>Action</td>\n",
       "    </tr>\n",
       "    <tr>\n",
       "      <th>3</th>\n",
       "      <td>458576</td>\n",
       "      <td>Adventure</td>\n",
       "    </tr>\n",
       "    <tr>\n",
       "      <th>4</th>\n",
       "      <td>464052</td>\n",
       "      <td>Fantasy</td>\n",
       "    </tr>\n",
       "  </tbody>\n",
       "</table>\n",
       "</div>"
      ],
      "text/plain": [
       "  movieid      genre\n",
       "0  527774  Animation\n",
       "0  527774  Adventure\n",
       "0  527774    Fantasy\n",
       "0  527774     Family\n",
       "0  527774     Action\n",
       "1  587807     Action\n",
       "1  587807     Comedy\n",
       "1  587807     Family\n",
       "1  587807  Animation\n",
       "1  587807  Adventure\n",
       "2  484718     Comedy\n",
       "3  458576    Fantasy\n",
       "3  458576     Action\n",
       "3  458576  Adventure\n",
       "4  464052    Fantasy"
      ]
     },
     "execution_count": 20,
     "metadata": {},
     "output_type": "execute_result"
    }
   ],
   "source": [
    "def genGenres(movieElement):\n",
    "    '''\n",
    "    This function creates a row of genres of a movie in the\n",
    "    xml file \"movies.xml\".\n",
    "    \n",
    "    Parameters: movieElement: the movie element that will have\n",
    "                its genres generated in a row.\n",
    "                \n",
    "    Return: D: the dictionary with the genres of a movie element.\n",
    "    '''\n",
    "    L = []\n",
    "    Gen = []\n",
    "    L.append(movieElement.attrib['id'])\n",
    "    for child in movieElement.findall('genre'):\n",
    "        Gen.append(child.text)\n",
    "    L.append(Gen)\n",
    "    return L\n",
    "\n",
    "def genMovieGenres(movies_root):\n",
    "    '''\n",
    "    This function creates a DataFrame of the movie ids and genres\n",
    "    of the movie in the \"movies.xml\" file.\n",
    "    \n",
    "    Parameters: movies_root: the root of the xml file to get the\n",
    "                movie genres from.\n",
    "                \n",
    "    Return: DataFrame: a DataFrame of the movie ids and genres of\n",
    "            the movies in the xml file.\n",
    "    '''\n",
    "    collist = movies_root.xpath(\"\"\"/movies/movie\"\"\")\n",
    "    L = []\n",
    "    for item in collist:\n",
    "        L.append(genGenres(item))\n",
    "    table = pd.DataFrame(L, columns = ['movieid', 'genre'])\n",
    "    table = table.explode('genre')\n",
    "    return table\n",
    "\n",
    "movie_genres = genMovieGenres(mroot)\n",
    "movie_genres.head(15)"
   ]
  },
  {
   "cell_type": "code",
   "execution_count": 21,
   "metadata": {
    "deletable": false,
    "editable": false,
    "nbgrader": {
     "cell_type": "code",
     "checksum": "9aafe2bb7bfae8f66ea0403f0e36d751",
     "grade": true,
     "grade_id": "cell-9b853bc42e94a8d5",
     "locked": true,
     "points": 3,
     "schema_version": 3,
     "solution": false,
     "task": false
    }
   },
   "outputs": [],
   "source": [
    "assert True"
   ]
  },
  {
   "cell_type": "markdown",
   "metadata": {},
   "source": [
    "#### Bringing it Together with Output\n",
    "\n",
    "We still have to take the step of creating the CSV files for our tidy data tables.  In addition, we need to avoid the bad and error prone practice of putting code at the global level (outside of functions). We should have a function that brings together the steps of:\n",
    "\n",
    "1. Constructing the movies tree from the XML file in a data directory,\n",
    "2. Using the root of that tree to invoke our `genMoviesTable()` and get a data frame,\n",
    "3. Use the root of that tree to invoke our `getMovieGenres()` function and get another data frame,\n",
    "4. Write the output from each of the two tables to CSV.  You should do the \"right thing\" with respect to index on the data frame.  If your index is the default integer indes, you do not want that index to be a column in your CSV.  If your index is meaningful and carries data, then you do want that index to be a column in your CSV.\n",
    "\n",
    "Write the function:\n",
    "\n",
    "    processMovies(datadir, infilename, \n",
    "                  moviesfile, moviegenrefile)\n",
    "    \n",
    "that uses `infilename` in `datadir` as the assumed movies XML file, and performs the steps above, putting the CSV of the movies table in `moviesfile` and the CSV of the movie genre table in `moviegenrefile`.  You can assume that output should be to the current directory.\n",
    "\n",
    "The function should not rely on **any** global variables.  It has no value to return, but the docstring should be explicit on its input and output."
   ]
  },
  {
   "cell_type": "code",
   "execution_count": 22,
   "metadata": {
    "deletable": false,
    "nbgrader": {
     "cell_type": "code",
     "checksum": "18bab680ce93fc57e0d134f921dbb561",
     "grade": false,
     "grade_id": "cell-6a7fa95f62f86116",
     "locked": false,
     "schema_version": 3,
     "solution": true,
     "task": false
    }
   },
   "outputs": [],
   "source": [
    "# Solution cell\n",
    "\n",
    "def processMovies(datadir, infilename, moviesfile, moviegenrefile):\n",
    "    '''\n",
    "    This function makes csv files of an xml file that contains\n",
    "    movie information. One csv file is has the movie titles and\n",
    "    information other than the genres, the other has the genres\n",
    "    and movie ids.\n",
    "    \n",
    "    Parameters: datadir: the directory of the xml file and where\n",
    "                the csv files will be saved.\n",
    "                infilename: the name of the xml file with the movie\n",
    "                information.\n",
    "                moviesfile: the name of the csv file with the movie\n",
    "                information other than the genres.\n",
    "                moviegenrefile: the name of the csv file with the \n",
    "                movie genres and ids.\n",
    "                \n",
    "    Return: None\n",
    "    '''\n",
    "    parser0 = etree.XMLParser(remove_blank_text=True)\n",
    "    mroot = movieDataXML(infilename)\n",
    "    movies = genMoviesTable(mroot)\n",
    "    genre = genMovieGenres(mroot)\n",
    "    movies.to_csv(path_or_buf=os.path.join(datadir, moviesfile),index=False)\n",
    "    genre.to_csv(path_or_buf=os.path.join(datadir, moviegenrefile),index=False)\n",
    "    \n",
    "\n",
    "# Invoking our top level function\n",
    "\n",
    "datadir = util.resolve_dir(\"moviedata\")\n",
    "assert datadir is not None\n",
    "\n",
    "processMovies(datadir, \"movies.xml\",\n",
    "              \"movies.csv\", \"moviegenre.csv\")"
   ]
  },
  {
   "cell_type": "code",
   "execution_count": 23,
   "metadata": {
    "deletable": false,
    "editable": false,
    "nbgrader": {
     "cell_type": "code",
     "checksum": "5133bb16f46cda1b52c72cfe39c29672",
     "grade": true,
     "grade_id": "cell-0c060ae12d8d3074",
     "locked": true,
     "points": 2,
     "schema_version": 3,
     "solution": false,
     "task": false
    }
   },
   "outputs": [],
   "source": [
    "assert True"
   ]
  },
  {
   "cell_type": "markdown",
   "metadata": {},
   "source": [
    "## Actors and Actor-Movie Development\n",
    "\n",
    "Our desired analysis of movies may well extend beyond the information entailed by the `movies.xml` file and the derivative tables of the movies and the genres of movies.  Often, we are interested in the actresses and actors that appear in these movies.  A given actress/actor may appear in multiple of the movies in our data set.  For each movie the actress/actor appears in, there is the dependent information of the character that they portray. \n",
    "\n",
    "Further, the actor has their own dependent information, including their name, their birth date, their place of birth, and their popularity.\n",
    "\n",
    "The structure of processing the XML for actors and their movies follows the same basic structure as we did for movies.  This time, you are not give prescribed functions, but you **are** expected to continue designing and then using functions to build and then output the tidy tables inherent in this second data set.\n",
    "\n",
    "One wrinkle in this processing is that the actor-movie data is not contained in a single XML file but, rather, it is spread over **ten** source files.  This multiple file or multiple \"chunks\" containing data of interest is a common one in data systems.  We must be able to process each file to gather and organize its data, but we must also be able to build up aggregate data out of these multiple files or chunks.  \n",
    "\n",
    "Looking at the data in the `moviesdata` directory, we can see that the name of these files share a common prefix, and then use an integer value following the prefix (and before the extension) to distinguish the different files.  \n",
    "\n",
    "### Acquiring one of the XML Files & Understanding the Data\n",
    "\n",
    "**Step 1** From your work on the movies XML and table, you should already have available a function to read and parse an XML.  Use this function to assign to am0_root (for actor-movie 0) and get the root of the tree for `actormovie0.xml`."
   ]
  },
  {
   "cell_type": "code",
   "execution_count": 24,
   "metadata": {
    "deletable": false,
    "nbgrader": {
     "cell_type": "code",
     "checksum": "ca4cf529d53f2078497f5d7918c95832",
     "grade": false,
     "grade_id": "cell-015e5a83802dd40f",
     "locked": false,
     "schema_version": 3,
     "solution": true,
     "task": false
    }
   },
   "outputs": [
    {
     "data": {
      "text/plain": [
       "<Element results at 0x7fa757c51e00>"
      ]
     },
     "execution_count": 24,
     "metadata": {},
     "output_type": "execute_result"
    }
   ],
   "source": [
    "am0root = movieDataXML(\"actormovie0.xml\", parser0)\n",
    "am0root"
   ]
  },
  {
   "cell_type": "code",
   "execution_count": 25,
   "metadata": {
    "deletable": false,
    "editable": false,
    "nbgrader": {
     "cell_type": "code",
     "checksum": "d03698b7f8177af7a0a1ab110fb13ea4",
     "grade": true,
     "grade_id": "cell-0b0f671a742e117b",
     "locked": true,
     "points": 1,
     "schema_version": 3,
     "solution": false,
     "task": false
    }
   },
   "outputs": [],
   "source": [
    "assert True"
   ]
  },
  {
   "cell_type": "markdown",
   "metadata": {},
   "source": [
    "**Step 2** Use the following code cell to gather information from the XML to help start understanding the data.  You are welcome to use as many code cells as you wish to demonstrate this discovery.\n",
    "\n",
    "These steps could use XML procedural operations and XPath to find results.  Some exploratory steps and questions might include:\n",
    "\n",
    "- Printing a prefix of the tree to see the top level structure,\n",
    "- Finding the number of actor-movie combinations in this XML file/tree.\n",
    "- Determining the attributes and the set of childeren of an actormovie Element,\n",
    "    - do all actormovie elements have all of the same attributes and/or children?  Be careful here, some children are **not** present in all of these elements.\n",
    "    - other than through omission of a child, are there any other children whose text value is empty?\n",
    "- Are there aspects that are problematic when we think about tidy data?\n",
    "- Can you use your `childStats()` to get a sense of the `popularity`  child?  Why or why not?  If not, can you change the function to allow it to be applicable in this case too?\n",
    "\n",
    "You may use the above list, but also come up with your own.  Then, in the markdown cell following the code cell, describe what you learned about the data.  You should write down your functional dependency(ies) entailed by the data."
   ]
  },
  {
   "cell_type": "code",
   "execution_count": 26,
   "metadata": {
    "deletable": false,
    "nbgrader": {
     "cell_type": "code",
     "checksum": "20079fc54276f56d622e38d0abc52f79",
     "grade": true,
     "grade_id": "cell-ac68ffe193ac7f63",
     "locked": false,
     "points": 2,
     "schema_version": 3,
     "solution": true,
     "task": false
    }
   },
   "outputs": [
    {
     "data": {
      "text/plain": [
       "[<Element results at 0x7fa757c51e00>]"
      ]
     },
     "execution_count": 26,
     "metadata": {},
     "output_type": "execute_result"
    }
   ],
   "source": [
    "prefix = am0root.xpath('/results')\n",
    "prefix"
   ]
  },
  {
   "cell_type": "code",
   "execution_count": 27,
   "metadata": {},
   "outputs": [
    {
     "data": {
      "text/plain": [
       "40"
      ]
     },
     "execution_count": 27,
     "metadata": {},
     "output_type": "execute_result"
    }
   ],
   "source": [
    "actorsmov = len(am0root.xpath('/results/actormovies/actormovie'))\n",
    "actorsmov"
   ]
  },
  {
   "cell_type": "code",
   "execution_count": 28,
   "metadata": {},
   "outputs": [
    {
     "data": {
      "text/plain": [
       "['1663195', '527774']"
      ]
     },
     "execution_count": 28,
     "metadata": {},
     "output_type": "execute_result"
    }
   ],
   "source": [
    "attrib = am0root.xpath('/results/actormovies/actormovie[1]/@*')\n",
    "attrib"
   ]
  },
  {
   "cell_type": "code",
   "execution_count": 29,
   "metadata": {},
   "outputs": [
    {
     "data": {
      "text/plain": [
       "(1.611, 52.843999999999994, 11.533274999999996)"
      ]
     },
     "execution_count": 29,
     "metadata": {},
     "output_type": "execute_result"
    }
   ],
   "source": [
    "popularity = childStats(am0root, \"/results/actormovies/actormovie/popularity/text()\")\n",
    "popularity"
   ]
  },
  {
   "cell_type": "markdown",
   "metadata": {
    "deletable": false,
    "nbgrader": {
     "cell_type": "markdown",
     "checksum": "af233fd4abc948a9aeddc95bdd96d882",
     "grade": true,
     "grade_id": "cell-5906fe17024ac36f",
     "locked": false,
     "points": 2,
     "schema_version": 3,
     "solution": true,
     "task": false
    }
   },
   "source": [
    "The biggest problem with this data is that some people have death dates while others do not. There is also two functional dependencies, actorid and movieid."
   ]
  },
  {
   "cell_type": "markdown",
   "metadata": {},
   "source": [
    "### Building Tabular Data from ActorMovies XML\n",
    "\n",
    "Hopefully, you have recognized more than one functional dependency entailed in the data.  If you have not, then go back and look more carefully at the data and what consitutes independent and dependent variables.  Refine your FDs in the last question accordingly.\n",
    "\n",
    "When we processed the movies XML, we were able to omit the genres children of a movie and then independently build two tables that, once built, were in a tidy form.\n",
    "\n",
    "But sometimes, making data tidy is more easily accomplished using the power of pandas and the techniques we learned in the tabular unit.  In this case, an alternative strategy would be to build a table from the data, but with the understanding that it is **not** tidy.  But we then use pandas operations to make it tidy afterward.  That is the strategy we will employ here.\n",
    "\n",
    "While we will give you code cells (below) for you to use for the steps as we describe them here, we leave it to you to define the names of the functions and the parameters for the functions.  You can also choose a different solution strategy.  But you **will** be assessed on your functional design and you should be able to defend an alternate design strategy.\n",
    "\n",
    "#### ActorMovie Table (non-Tidy version)\n",
    "\n",
    "As noted above, we have multiple files that contain actor-movie XML.  When we adapt what we learned in processing movies, we can define the following multistep process:\n",
    "\n",
    "1. Determine the aggregate set of columns and define a function for generating and returning a table row that is based on the children of an `actormovie` Element.  We call this `genActorMovieRow()`.\n",
    "2. Build a higher level function that, given the root of an XML tree from a single file, uses `genActorMovieRow()` repeatedly on the `actormovie` Elements in the tree, and returns a DataFrame.  We call this `genActorMoviesTable()`\n",
    "3. Our top level function (and the analog of `processMovies()` from the prior development) has some additional complexity.  Given a data directory and a **filename prefix** and a **number of files**, the function can, repeatedly,\n",
    "    - generate a file name for one of the files,\n",
    "    - read and parse the XML into a tree,\n",
    "    - generate a data frame using `genActorMoviesTable()`\n",
    "    - accumulate this data frame inbto an aggregate by concatenating in the row dimension."
   ]
  },
  {
   "cell_type": "markdown",
   "metadata": {},
   "source": [
    "#### Separate Actor and ActorMovie Tables (Tidy versions)\n",
    "\n",
    "If the top level function described in (3) above returns the resultant data frame, we can complete the work by writing a function that takes that non-tidy data frame as a parameter and then:\n",
    "\n",
    "1. Splits the non-tidy data frame into two parts\n",
    "2. Cleans (by removing duplicates) one of the resultant tables,\n",
    "3. Writes the two data frames to CSV.\n",
    "\n",
    "This function should have parameters appropriate to its operation.\n",
    "\n",
    "One could also envision a solution which combines these last steps into the top level function from the prior part.\n",
    "\n",
    "--------------"
   ]
  },
  {
   "cell_type": "markdown",
   "metadata": {},
   "source": [
    "##### Code for Generating a Single ActorMovie Row\n",
    "\n",
    "> You should include code to test your function on some select actor-movie Elements."
   ]
  },
  {
   "cell_type": "code",
   "execution_count": 30,
   "metadata": {
    "deletable": false,
    "nbgrader": {
     "cell_type": "code",
     "checksum": "47c99bf104144232c7e4b58f2fcd6912",
     "grade": true,
     "grade_id": "cell-4da4cfdcaf3f2829",
     "locked": false,
     "points": 3,
     "schema_version": 3,
     "solution": true,
     "task": false
    }
   },
   "outputs": [
    {
     "name": "stdout",
     "output_type": "stream",
     "text": [
      "{'actor_id': '1663195', 'name': 'Kelly Marie Tran', 'birthday': '1989-01-17', 'deathday': None, 'place_of_birth': 'San Diego, California, USA', 'popularity': '11.484000000000002'}\n"
     ]
    }
   ],
   "source": [
    "def genActorMovieRow(actorElement):\n",
    "    '''\n",
    "    This function generates an actore movie row with\n",
    "    an actor element from an xml file.\n",
    "    \n",
    "    Parameters: actorElement: an actor element from an\n",
    "                xml file\n",
    "    \n",
    "    Return: D: a dictionary with the row for an actor\n",
    "    '''\n",
    "    D = {'actor_id':actorElement.attrib['actor_id']}\n",
    "    for child in ['name','birthday','deathday', 'place_of_birth', 'popularity']:\n",
    "        try:\n",
    "            value = actorElement.find(child).text\n",
    "        except:\n",
    "            value = None\n",
    "        D[child] = value\n",
    "    return D\n",
    "    \n",
    "firstactor = am0root.xpath(\"//results/actormovies/actormovie[1]\")[0]\n",
    "row = genActorMovieRow(firstactor)\n",
    "print(row)"
   ]
  },
  {
   "cell_type": "markdown",
   "metadata": {},
   "source": [
    "-----\n",
    "\n",
    "##### Code for Processing a Actor-Movie Tree\n",
    "\n",
    "> You should include code to test your function on one or more actor-movie trees."
   ]
  },
  {
   "cell_type": "code",
   "execution_count": 31,
   "metadata": {
    "deletable": false,
    "nbgrader": {
     "cell_type": "code",
     "checksum": "4245928c6dcb4436290dee91581f5ad7",
     "grade": true,
     "grade_id": "cell-75ee31fd78d9e730",
     "locked": false,
     "points": 2,
     "schema_version": 3,
     "solution": true,
     "task": false
    }
   },
   "outputs": [
    {
     "data": {
      "text/html": [
       "<div>\n",
       "<style scoped>\n",
       "    .dataframe tbody tr th:only-of-type {\n",
       "        vertical-align: middle;\n",
       "    }\n",
       "\n",
       "    .dataframe tbody tr th {\n",
       "        vertical-align: top;\n",
       "    }\n",
       "\n",
       "    .dataframe thead th {\n",
       "        text-align: right;\n",
       "    }\n",
       "</style>\n",
       "<table border=\"1\" class=\"dataframe\">\n",
       "  <thead>\n",
       "    <tr style=\"text-align: right;\">\n",
       "      <th></th>\n",
       "      <th>actor_id</th>\n",
       "      <th>name</th>\n",
       "      <th>birthday</th>\n",
       "      <th>deathday</th>\n",
       "      <th>place_of_birth</th>\n",
       "      <th>popularity</th>\n",
       "    </tr>\n",
       "  </thead>\n",
       "  <tbody>\n",
       "    <tr>\n",
       "      <th>0</th>\n",
       "      <td>1663195</td>\n",
       "      <td>Kelly Marie Tran</td>\n",
       "      <td>1989-01-17</td>\n",
       "      <td>None</td>\n",
       "      <td>San Diego, California, USA</td>\n",
       "      <td>11.484000000000002</td>\n",
       "    </tr>\n",
       "    <tr>\n",
       "      <th>1</th>\n",
       "      <td>1663195</td>\n",
       "      <td>Kelly Marie Tran</td>\n",
       "      <td>1989-01-17</td>\n",
       "      <td>None</td>\n",
       "      <td>San Diego, California, USA</td>\n",
       "      <td>11.484000000000002</td>\n",
       "    </tr>\n",
       "    <tr>\n",
       "      <th>2</th>\n",
       "      <td>1625558</td>\n",
       "      <td>Awkwafina</td>\n",
       "      <td>1989-06-02</td>\n",
       "      <td>None</td>\n",
       "      <td>New York City, New York, USA</td>\n",
       "      <td>12.714</td>\n",
       "    </tr>\n",
       "    <tr>\n",
       "      <th>3</th>\n",
       "      <td>1625558</td>\n",
       "      <td>Awkwafina</td>\n",
       "      <td>1989-06-02</td>\n",
       "      <td>None</td>\n",
       "      <td>New York City, New York, USA</td>\n",
       "      <td>12.714</td>\n",
       "    </tr>\n",
       "    <tr>\n",
       "      <th>4</th>\n",
       "      <td>2362044</td>\n",
       "      <td>Izaac Wang</td>\n",
       "      <td>2007-10-22</td>\n",
       "      <td>None</td>\n",
       "      <td>Minnesota, USA</td>\n",
       "      <td>8.765</td>\n",
       "    </tr>\n",
       "    <tr>\n",
       "      <th>5</th>\n",
       "      <td>97576</td>\n",
       "      <td>Gemma Chan</td>\n",
       "      <td>1982-11-29</td>\n",
       "      <td>None</td>\n",
       "      <td>London, England, UK</td>\n",
       "      <td>7.375</td>\n",
       "    </tr>\n",
       "    <tr>\n",
       "      <th>6</th>\n",
       "      <td>18307</td>\n",
       "      <td>Daniel Dae Kim</td>\n",
       "      <td>1968-08-09</td>\n",
       "      <td>None</td>\n",
       "      <td>Busan, South Korea</td>\n",
       "      <td>9.757</td>\n",
       "    </tr>\n",
       "    <tr>\n",
       "      <th>7</th>\n",
       "      <td>30082</td>\n",
       "      <td>Benedict Wong</td>\n",
       "      <td>1971-06-03</td>\n",
       "      <td>None</td>\n",
       "      <td>Eccles, Greater Manchester, England, U.K</td>\n",
       "      <td>8.185</td>\n",
       "    </tr>\n",
       "    <tr>\n",
       "      <th>8</th>\n",
       "      <td>13620</td>\n",
       "      <td>William Hanna</td>\n",
       "      <td>1910-07-14</td>\n",
       "      <td>2001-03-22</td>\n",
       "      <td>Melrose, New Mexico, USA</td>\n",
       "      <td>7.7379999999999995</td>\n",
       "    </tr>\n",
       "    <tr>\n",
       "      <th>9</th>\n",
       "      <td>33923</td>\n",
       "      <td>Mel Blanc</td>\n",
       "      <td>1908-05-30</td>\n",
       "      <td>1989-07-10</td>\n",
       "      <td>San Francisco, California, USA</td>\n",
       "      <td>2.531</td>\n",
       "    </tr>\n",
       "  </tbody>\n",
       "</table>\n",
       "</div>"
      ],
      "text/plain": [
       "  actor_id              name    birthday    deathday  \\\n",
       "0  1663195  Kelly Marie Tran  1989-01-17        None   \n",
       "1  1663195  Kelly Marie Tran  1989-01-17        None   \n",
       "2  1625558         Awkwafina  1989-06-02        None   \n",
       "3  1625558         Awkwafina  1989-06-02        None   \n",
       "4  2362044        Izaac Wang  2007-10-22        None   \n",
       "5    97576        Gemma Chan  1982-11-29        None   \n",
       "6    18307    Daniel Dae Kim  1968-08-09        None   \n",
       "7    30082     Benedict Wong  1971-06-03        None   \n",
       "8    13620     William Hanna  1910-07-14  2001-03-22   \n",
       "9    33923         Mel Blanc  1908-05-30  1989-07-10   \n",
       "\n",
       "                             place_of_birth          popularity  \n",
       "0                San Diego, California, USA  11.484000000000002  \n",
       "1                San Diego, California, USA  11.484000000000002  \n",
       "2              New York City, New York, USA              12.714  \n",
       "3              New York City, New York, USA              12.714  \n",
       "4                            Minnesota, USA               8.765  \n",
       "5                       London, England, UK               7.375  \n",
       "6                        Busan, South Korea               9.757  \n",
       "7  Eccles, Greater Manchester, England, U.K               8.185  \n",
       "8                  Melrose, New Mexico, USA  7.7379999999999995  \n",
       "9            San Francisco, California, USA               2.531  "
      ]
     },
     "execution_count": 31,
     "metadata": {},
     "output_type": "execute_result"
    }
   ],
   "source": [
    "def genActorMoviesTable(actor_root):\n",
    "    '''\n",
    "    This function generates a table of movie actors with\n",
    "    a root to an xml file.\n",
    "    \n",
    "    Parameters: actor_root: the root of the xml tree that\n",
    "                will have its actors put into a table\n",
    "                \n",
    "    Return: table: a table of the actors in the xml file\n",
    "    '''\n",
    "    collist = actor_root.xpath('/results/actormovies/actormovie')\n",
    "    L = []\n",
    "    for actor in collist:\n",
    "        L.append(genActorMovieRow(actor))\n",
    "    table = pd.DataFrame(L)\n",
    "    return table\n",
    "\n",
    "actors = genActorMoviesTable(am0root)\n",
    "actors.head(10)"
   ]
  },
  {
   "cell_type": "markdown",
   "metadata": {},
   "source": [
    "----\n",
    "\n",
    "##### Code for Processing a Set of Actor-Movies XML Files\n",
    "\n",
    "> Show some testing of your result"
   ]
  },
  {
   "cell_type": "code",
   "execution_count": 32,
   "metadata": {
    "deletable": false,
    "nbgrader": {
     "cell_type": "code",
     "checksum": "9d1979d8afc406aa48e5069680c3a224",
     "grade": true,
     "grade_id": "cell-6bb2099d26f8eca5",
     "locked": false,
     "points": 3,
     "schema_version": 3,
     "solution": true,
     "task": false
    }
   },
   "outputs": [
    {
     "data": {
      "text/html": [
       "<div>\n",
       "<style scoped>\n",
       "    .dataframe tbody tr th:only-of-type {\n",
       "        vertical-align: middle;\n",
       "    }\n",
       "\n",
       "    .dataframe tbody tr th {\n",
       "        vertical-align: top;\n",
       "    }\n",
       "\n",
       "    .dataframe thead th {\n",
       "        text-align: right;\n",
       "    }\n",
       "</style>\n",
       "<table border=\"1\" class=\"dataframe\">\n",
       "  <thead>\n",
       "    <tr style=\"text-align: right;\">\n",
       "      <th></th>\n",
       "      <th>actor_id</th>\n",
       "      <th>name</th>\n",
       "      <th>birthday</th>\n",
       "      <th>deathday</th>\n",
       "      <th>place_of_birth</th>\n",
       "      <th>popularity</th>\n",
       "    </tr>\n",
       "  </thead>\n",
       "  <tbody>\n",
       "    <tr>\n",
       "      <th>0</th>\n",
       "      <td>1663195</td>\n",
       "      <td>Kelly Marie Tran</td>\n",
       "      <td>1989-01-17</td>\n",
       "      <td>None</td>\n",
       "      <td>San Diego, California, USA</td>\n",
       "      <td>11.484000000000002</td>\n",
       "    </tr>\n",
       "    <tr>\n",
       "      <th>1</th>\n",
       "      <td>1625558</td>\n",
       "      <td>Awkwafina</td>\n",
       "      <td>1989-06-02</td>\n",
       "      <td>None</td>\n",
       "      <td>New York City, New York, USA</td>\n",
       "      <td>12.714</td>\n",
       "    </tr>\n",
       "    <tr>\n",
       "      <th>2</th>\n",
       "      <td>2362044</td>\n",
       "      <td>Izaac Wang</td>\n",
       "      <td>2007-10-22</td>\n",
       "      <td>None</td>\n",
       "      <td>Minnesota, USA</td>\n",
       "      <td>8.765</td>\n",
       "    </tr>\n",
       "    <tr>\n",
       "      <th>3</th>\n",
       "      <td>97576</td>\n",
       "      <td>Gemma Chan</td>\n",
       "      <td>1982-11-29</td>\n",
       "      <td>None</td>\n",
       "      <td>London, England, UK</td>\n",
       "      <td>7.375</td>\n",
       "    </tr>\n",
       "    <tr>\n",
       "      <th>4</th>\n",
       "      <td>18307</td>\n",
       "      <td>Daniel Dae Kim</td>\n",
       "      <td>1968-08-09</td>\n",
       "      <td>None</td>\n",
       "      <td>Busan, South Korea</td>\n",
       "      <td>9.757</td>\n",
       "    </tr>\n",
       "    <tr>\n",
       "      <th>...</th>\n",
       "      <td>...</td>\n",
       "      <td>...</td>\n",
       "      <td>...</td>\n",
       "      <td>...</td>\n",
       "      <td>...</td>\n",
       "      <td>...</td>\n",
       "    </tr>\n",
       "    <tr>\n",
       "      <th>350</th>\n",
       "      <td>175913</td>\n",
       "      <td>Brittany Drisdelle</td>\n",
       "      <td>1988-02-06</td>\n",
       "      <td>None</td>\n",
       "      <td>Hudson, Québec, Canada</td>\n",
       "      <td>1.903</td>\n",
       "    </tr>\n",
       "    <tr>\n",
       "      <th>351</th>\n",
       "      <td>1496335</td>\n",
       "      <td>Madeline Harvey</td>\n",
       "      <td>None</td>\n",
       "      <td>None</td>\n",
       "      <td>None</td>\n",
       "      <td>1.38</td>\n",
       "    </tr>\n",
       "    <tr>\n",
       "      <th>352</th>\n",
       "      <td>2092553</td>\n",
       "      <td>Paul Zinno</td>\n",
       "      <td>None</td>\n",
       "      <td>None</td>\n",
       "      <td>None</td>\n",
       "      <td>0.6</td>\n",
       "    </tr>\n",
       "    <tr>\n",
       "      <th>353</th>\n",
       "      <td>1818534</td>\n",
       "      <td>Nick Walker</td>\n",
       "      <td>None</td>\n",
       "      <td>None</td>\n",
       "      <td>None</td>\n",
       "      <td>0.6</td>\n",
       "    </tr>\n",
       "    <tr>\n",
       "      <th>354</th>\n",
       "      <td>119481</td>\n",
       "      <td>Chip Chuipka</td>\n",
       "      <td>None</td>\n",
       "      <td>None</td>\n",
       "      <td>None</td>\n",
       "      <td>0.6</td>\n",
       "    </tr>\n",
       "  </tbody>\n",
       "</table>\n",
       "<p>355 rows × 6 columns</p>\n",
       "</div>"
      ],
      "text/plain": [
       "    actor_id                name    birthday deathday  \\\n",
       "0    1663195    Kelly Marie Tran  1989-01-17     None   \n",
       "1    1625558           Awkwafina  1989-06-02     None   \n",
       "2    2362044          Izaac Wang  2007-10-22     None   \n",
       "3      97576          Gemma Chan  1982-11-29     None   \n",
       "4      18307      Daniel Dae Kim  1968-08-09     None   \n",
       "..       ...                 ...         ...      ...   \n",
       "350   175913  Brittany Drisdelle  1988-02-06     None   \n",
       "351  1496335     Madeline Harvey        None     None   \n",
       "352  2092553          Paul Zinno        None     None   \n",
       "353  1818534         Nick Walker        None     None   \n",
       "354   119481        Chip Chuipka        None     None   \n",
       "\n",
       "                   place_of_birth          popularity  \n",
       "0      San Diego, California, USA  11.484000000000002  \n",
       "1    New York City, New York, USA              12.714  \n",
       "2                  Minnesota, USA               8.765  \n",
       "3             London, England, UK               7.375  \n",
       "4              Busan, South Korea               9.757  \n",
       "..                            ...                 ...  \n",
       "350        Hudson, Québec, Canada               1.903  \n",
       "351                          None                1.38  \n",
       "352                          None                 0.6  \n",
       "353                          None                 0.6  \n",
       "354                          None                 0.6  \n",
       "\n",
       "[355 rows x 6 columns]"
      ]
     },
     "execution_count": 32,
     "metadata": {},
     "output_type": "execute_result"
    }
   ],
   "source": [
    "def multActorsTable(prefix, num):\n",
    "    '''\n",
    "    This function will generate one actor table for \n",
    "    multiple actor files.\n",
    "    \n",
    "    Parameters: prefix: the prefix of the xml file before\n",
    "                the file number\n",
    "                num: the number of xml actor files\n",
    "                \n",
    "    Return: table: a table of all the actors in the different\n",
    "            xml files (without repeats)\n",
    "    '''\n",
    "    xmlList = []\n",
    "    for i in range(num):\n",
    "        filename = prefix + str(i) + '.xml'\n",
    "        xmlList.append(movieDataXML(filename, parser0))\n",
    "\n",
    "    dataTable = []\n",
    "    for item in xmlList:\n",
    "        dataTable.append(genActorMoviesTable(item))\n",
    "        table = pd.concat(dataTable)\n",
    "    table = table.drop_duplicates()\n",
    "    return table.reset_index().drop(columns =['index'])\n",
    "\n",
    "actortable = multActorsTable(\"actormovie\", 10)\n",
    "actortable"
   ]
  },
  {
   "cell_type": "code",
   "execution_count": 33,
   "metadata": {},
   "outputs": [
    {
     "data": {
      "text/html": [
       "<div>\n",
       "<style scoped>\n",
       "    .dataframe tbody tr th:only-of-type {\n",
       "        vertical-align: middle;\n",
       "    }\n",
       "\n",
       "    .dataframe tbody tr th {\n",
       "        vertical-align: top;\n",
       "    }\n",
       "\n",
       "    .dataframe thead th {\n",
       "        text-align: right;\n",
       "    }\n",
       "</style>\n",
       "<table border=\"1\" class=\"dataframe\">\n",
       "  <thead>\n",
       "    <tr style=\"text-align: right;\">\n",
       "      <th></th>\n",
       "      <th>actor_id</th>\n",
       "      <th>movie_id</th>\n",
       "      <th>character</th>\n",
       "    </tr>\n",
       "  </thead>\n",
       "  <tbody>\n",
       "    <tr>\n",
       "      <th>0</th>\n",
       "      <td>1663195</td>\n",
       "      <td>527774</td>\n",
       "      <td>Raya (voice)</td>\n",
       "    </tr>\n",
       "    <tr>\n",
       "      <th>1</th>\n",
       "      <td>1663195</td>\n",
       "      <td>529203</td>\n",
       "      <td>Dawn Betterman (voice)</td>\n",
       "    </tr>\n",
       "    <tr>\n",
       "      <th>2</th>\n",
       "      <td>1625558</td>\n",
       "      <td>527774</td>\n",
       "      <td>Sisu (voice)</td>\n",
       "    </tr>\n",
       "    <tr>\n",
       "      <th>3</th>\n",
       "      <td>1625558</td>\n",
       "      <td>512200</td>\n",
       "      <td>Ming</td>\n",
       "    </tr>\n",
       "    <tr>\n",
       "      <th>4</th>\n",
       "      <td>2362044</td>\n",
       "      <td>527774</td>\n",
       "      <td>Boun (voice)</td>\n",
       "    </tr>\n",
       "    <tr>\n",
       "      <th>...</th>\n",
       "      <td>...</td>\n",
       "      <td>...</td>\n",
       "      <td>...</td>\n",
       "    </tr>\n",
       "    <tr>\n",
       "      <th>379</th>\n",
       "      <td>175913</td>\n",
       "      <td>607383</td>\n",
       "      <td>Priscilla</td>\n",
       "    </tr>\n",
       "    <tr>\n",
       "      <th>380</th>\n",
       "      <td>1496335</td>\n",
       "      <td>607383</td>\n",
       "      <td>Alice</td>\n",
       "    </tr>\n",
       "    <tr>\n",
       "      <th>381</th>\n",
       "      <td>2092553</td>\n",
       "      <td>607383</td>\n",
       "      <td>Tommy</td>\n",
       "    </tr>\n",
       "    <tr>\n",
       "      <th>382</th>\n",
       "      <td>1818534</td>\n",
       "      <td>607383</td>\n",
       "      <td>Paul Wilkinson</td>\n",
       "    </tr>\n",
       "    <tr>\n",
       "      <th>383</th>\n",
       "      <td>119481</td>\n",
       "      <td>607383</td>\n",
       "      <td>Conrad</td>\n",
       "    </tr>\n",
       "  </tbody>\n",
       "</table>\n",
       "<p>384 rows × 3 columns</p>\n",
       "</div>"
      ],
      "text/plain": [
       "    actor_id movie_id               character\n",
       "0    1663195   527774            Raya (voice)\n",
       "1    1663195   529203  Dawn Betterman (voice)\n",
       "2    1625558   527774            Sisu (voice)\n",
       "3    1625558   512200                    Ming\n",
       "4    2362044   527774            Boun (voice)\n",
       "..       ...      ...                     ...\n",
       "379   175913   607383               Priscilla\n",
       "380  1496335   607383                   Alice\n",
       "381  2092553   607383                   Tommy\n",
       "382  1818534   607383          Paul Wilkinson\n",
       "383   119481   607383                  Conrad\n",
       "\n",
       "[384 rows x 3 columns]"
      ]
     },
     "execution_count": 33,
     "metadata": {},
     "output_type": "execute_result"
    }
   ],
   "source": [
    "def genCharacterRow(actorElement):\n",
    "    '''\n",
    "    This function generates a row of characters\n",
    "    from an actor element.\n",
    "    \n",
    "    Parameters: actorElement: an xml element of an\n",
    "                actor\n",
    "    \n",
    "    Return: D: the dictionary of the character row\n",
    "    '''\n",
    "    D = {'actor_id':actorElement.attrib['actor_id'], 'movie_id':actorElement.attrib['movie_id'], \n",
    "             'character': actorElement.find('character').text}\n",
    "    return D\n",
    "    \n",
    "def genCharacterTable(actor_root):\n",
    "    '''\n",
    "    This function generates a character table from\n",
    "    a single actor xml file.\n",
    "    \n",
    "    Parameters: actor_root: the root of the actor\n",
    "                xml file\n",
    "                \n",
    "    Return: table: the table of the characters in the\n",
    "            actors xml file\n",
    "    '''\n",
    "    collist = actor_root.xpath('/results/actormovies/actormovie')\n",
    "    L = []\n",
    "    for actor in collist:\n",
    "        L.append(genCharacterRow(actor))\n",
    "    table = pd.DataFrame(L)\n",
    "    return table\n",
    "\n",
    "def multCharacterTable(prefix, num):\n",
    "    '''\n",
    "    This function creates one character table for\n",
    "    multiple actor xml files.\n",
    "    \n",
    "    Parameters: prefix: the prefix of the actor xml\n",
    "                files before the file number\n",
    "                num: the number for xml files\n",
    "                \n",
    "    Return: table: the table with all the character \n",
    "            information from the xml files\n",
    "    '''\n",
    "    xmlList = []\n",
    "    for i in range(num):\n",
    "        filename = prefix + str(i) + '.xml'\n",
    "        xmlList.append(movieDataXML(filename, parser0))\n",
    "\n",
    "    dataTable = []\n",
    "    for item in xmlList:\n",
    "        dataTable.append(genCharacterTable(item))\n",
    "        table = pd.concat(dataTable)\n",
    "    table = table.drop_duplicates()\n",
    "    return table.reset_index().drop(columns =['index'])\n",
    "\n",
    "chartable = multCharacterTable(\"actormovie\", 10)\n",
    "chartable"
   ]
  },
  {
   "cell_type": "markdown",
   "metadata": {},
   "source": [
    "------\n",
    "\n",
    "##### Code for Final Tidying and Output"
   ]
  },
  {
   "cell_type": "code",
   "execution_count": 34,
   "metadata": {
    "deletable": false,
    "nbgrader": {
     "cell_type": "code",
     "checksum": "4e1436559c8b0b33d58987dcda0e8304",
     "grade": true,
     "grade_id": "cell-894a37e01f6606f5",
     "locked": false,
     "points": 2,
     "schema_version": 3,
     "solution": true,
     "task": false
    }
   },
   "outputs": [],
   "source": [
    "def processActors(datadir, prefix, num, actorsfile, charactersfile):\n",
    "    '''\n",
    "    This function creates two csv files of actor data\n",
    "    and character data from xml files.\n",
    "    \n",
    "    Parameters: datadir: the directory with the xml files and \n",
    "                where the csv files will be saved in\n",
    "                prefix: the prefix of the actor xml files\n",
    "                num: the number of xml files that will be\n",
    "                processed\n",
    "                actorsfile: the name of the actors csv file\n",
    "                charactersfile: the name of the characters\n",
    "                csv file\n",
    "                \n",
    "    Return: None\n",
    "    '''\n",
    "    parser0 = etree.XMLParser(remove_blank_text=True)\n",
    "    actors = multActorsTable(prefix, num)\n",
    "    characters = multCharacterTable(prefix, num)\n",
    "    actors.to_csv(path_or_buf=os.path.join(datadir, actorsfile),index=False)\n",
    "    characters.to_csv(path_or_buf=os.path.join(datadir, charactersfile),index=False)\n",
    "\n",
    "processActors(datadir, \"actormovie\", 10, \"actors.csv\", \"characters.csv\")"
   ]
  },
  {
   "cell_type": "code",
   "execution_count": null,
   "metadata": {},
   "outputs": [],
   "source": []
  }
 ],
 "metadata": {
  "kernelspec": {
   "display_name": "Python 3",
   "language": "python",
   "name": "python3"
  },
  "language_info": {
   "codemirror_mode": {
    "name": "ipython",
    "version": 3
   },
   "file_extension": ".py",
   "mimetype": "text/x-python",
   "name": "python",
   "nbconvert_exporter": "python",
   "pygments_lexer": "ipython3",
   "version": "3.8.5"
  }
 },
 "nbformat": 4,
 "nbformat_minor": 5
}
