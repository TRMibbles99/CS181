{
 "cells": [
  {
   "cell_type": "markdown",
   "metadata": {},
   "source": [
    "# Denison CS-181/DA-210 Homework"
   ]
  },
  {
   "cell_type": "markdown",
   "metadata": {},
   "source": [
    "---"
   ]
  },
  {
   "cell_type": "markdown",
   "metadata": {
    "jupyter": {
     "outputs_hidden": true
    }
   },
   "source": [
    "## Phase 3: Data Exploration\n",
    "\n",
    "For phase 3 of the mid-semester project, we build off of the set of tidy data tables we exported in the first two phases, and deepen our understanding, by doing some preliminary and guided exploration of our data.\n",
    "\n",
    "Note that this notebook is the third required deliverable of this project, and should be turned in with the rest of your work."
   ]
  },
  {
   "cell_type": "markdown",
   "metadata": {},
   "source": [
    "### Plotting Software Installation\n",
    "\n",
    "**This notebook relies on `matplotlib`, which must be installed.**\n",
    "\n",
    "This can be accomplished most easily from a Terminal window, where you simply type:\n",
    "\n",
    "```\n",
    "conda install matplotlib\n",
    "```\n",
    "and accept the set of packages to be added to your anaconda environment."
   ]
  },
  {
   "cell_type": "code",
   "execution_count": 5,
   "metadata": {},
   "outputs": [],
   "source": [
    "import os\n",
    "import sys\n",
    "import lxml\n",
    "from lxml import etree\n",
    "import pandas as pd\n",
    "import matplotlib.pyplot as pyplot\n",
    "\n",
    "def add_modules():\n",
    "    \"\"\"\n",
    "    Starting at the current directory and proceeding up the file system\n",
    "    tree, search for a directory named `modules`.  If found, and if not\n",
    "    already there, add to the Python module search path.\n",
    "    \n",
    "    Params: None\n",
    "    \n",
    "    Return: None\n",
    "    \"\"\"\n",
    "    directory = \".\"\n",
    "    levels = 0\n",
    "    while not os.path.isdir(os.path.join(directory, \"modules\")) and \\\n",
    "          levels < 5:\n",
    "        directory = os.path.join(directory, \"..\")\n",
    "        levels += 1\n",
    "    module_path = os.path.abspath(os.path.join(directory, \"modules\"))\n",
    "    if os.path.isdir(module_path):\n",
    "        if not module_path in sys.path:\n",
    "            sys.path.append(module_path)\n",
    "\n",
    "add_modules()\n",
    "import util\n",
    "\n",
    "datadir = util.resolve_dir(\"moviedata\")\n",
    "assert datadir is not None"
   ]
  },
  {
   "cell_type": "markdown",
   "metadata": {},
   "source": [
    "### Part 1: Actors Popularity Histogram\n",
    "\n",
    "Say we are interested in analyzing the distribution of popularity values for our sample of actors. One way we can accomplish this is to create a histogram. The next few cells will present a step by step process towards building a histogram of popularity values for our set of actors.\n",
    "\n",
    "A histogram provides an approximate representation of the distribution of a set of values, by taking numerical values from a list, and counting the number of instances where the values fall into certain range, called **bins**.\n",
    "\n",
    "To perform this calculation, we first need to know the minimum value, maximum value, and the difference between said max and min, called the **range** of the values."
   ]
  },
  {
   "cell_type": "markdown",
   "metadata": {},
   "source": [
    "**Step 1** Import `actors.csv` into Python as a DataFrame using `pandas`. Project the values of the popularity column as a list (not a Series) and save the result to a variable named `popularity_values`. Then, find the maximum value, minimum value, and range, assigning the results to `value_max`, `value_min`, and `value_range`, respectively."
   ]
  },
  {
   "cell_type": "code",
   "execution_count": 6,
   "metadata": {
    "deletable": false,
    "nbgrader": {
     "cell_type": "code",
     "checksum": "cc1187abe0e9ed81c0fe43b1719453e3",
     "grade": false,
     "grade_id": "cell-9ed71224cdde9236",
     "locked": false,
     "schema_version": 3,
     "solution": true,
     "task": false
    }
   },
   "outputs": [
    {
     "name": "stdout",
     "output_type": "stream",
     "text": [
      "Value max: 52.844\n",
      "Value min: 0.6\n",
      "Value range: 52.244\n"
     ]
    }
   ],
   "source": [
    "# Solution cell\n",
    "\n",
    "actors = pd.read_csv(os.path.join(datadir, \"actors.csv\"))\n",
    "popularity_values = actors['popularity'].tolist()\n",
    "value_max = max(popularity_values)\n",
    "value_min = min(popularity_values)\n",
    "value_range = value_max - value_min\n",
    "\n",
    "print(\"Value max:\", value_max)\n",
    "print(\"Value min:\", value_min)\n",
    "print(\"Value range:\", value_range)"
   ]
  },
  {
   "cell_type": "code",
   "execution_count": 7,
   "metadata": {
    "deletable": false,
    "editable": false,
    "nbgrader": {
     "cell_type": "code",
     "checksum": "f5ca6456f7635bc2539e33f468ee5775",
     "grade": true,
     "grade_id": "cell-db8b92e1f19f7d75",
     "locked": true,
     "points": 1,
     "schema_version": 3,
     "solution": false,
     "task": false
    }
   },
   "outputs": [],
   "source": [
    "assert 52.8 < value_max < 52.9\n",
    "assert value_min == 0.6\n",
    "assert 52.2 < value_range < 52.3 "
   ]
  },
  {
   "cell_type": "markdown",
   "metadata": {},
   "source": [
    "**Step 2** We now determine the value interval that **each bin** of our histogram will cover. To make the bins concept more concrete, suppose we have values that range from 5 to 15, inclusive.  Furthermore, suppose that we want our histogram to have 20 bins. This means that the first bin would represent the the value interval from 5 up to 5.5, and the second bin would represent that value interval from 5.5 up to 6.0, etc.  The last (20th) bin would represent the value interval from 14.5 up to 15.\n",
    "\n",
    "Given a particular value, `x`, and the number of `bins`, we, in general, want to compute `value_bin(x, bins)` that gives the **integer** bin corresponding to the value.  This amounts to taking the floor of $x - $ `value_min` (to make the interval of bin 0 start at the minimum value) divided by the interval per bin, which can be accomplished by integer division (`//`) in Python.  This decision implies that, for any $x$ that divides evenly with no remainder, its bin is the start of the next bin interval. The only problem with this simple algorithm is that if $x$ is equal to `value_max`, the division results in a bin number which is one too high.\n",
    "\n",
    "Compute the interval per bin by dividing the value range by the variable `bins`, and assign to variable `interval`, and then write a function, `value_bin(x, interval)` that returns the integer bin associated with value `x`. Try and make this a lambda function."
   ]
  },
  {
   "cell_type": "code",
   "execution_count": 25,
   "metadata": {
    "deletable": false,
    "nbgrader": {
     "cell_type": "code",
     "checksum": "7eb45a31dfa3f434de137f9b35f470ea",
     "grade": false,
     "grade_id": "cell-883980c9d322d78c",
     "locked": false,
     "schema_version": 3,
     "solution": true,
     "task": false
    }
   },
   "outputs": [
    {
     "name": "stdout",
     "output_type": "stream",
     "text": [
      "24\n",
      "interval: 2.08976 bin for max value:  24\n"
     ]
    }
   ],
   "source": [
    "# Solution cell\n",
    "\n",
    "bins = 25\n",
    "interval = value_range/bins\n",
    "\n",
    "value_bin = lambda x, bins: int((x-value_min)//bins)\n",
    "print(value_bin(value_max, interval))\n",
    "print(\"interval:\", interval, \"bin for max value: \", value_bin(value_max, interval))"
   ]
  },
  {
   "cell_type": "code",
   "execution_count": 26,
   "metadata": {
    "deletable": false,
    "editable": false,
    "nbgrader": {
     "cell_type": "code",
     "checksum": "c0f0482364ffb1b170cd8b6140d9e5d4",
     "grade": true,
     "grade_id": "cell-c1b08c21d8d6bbe7",
     "locked": true,
     "points": 1,
     "schema_version": 3,
     "solution": false,
     "task": false
    }
   },
   "outputs": [],
   "source": [
    "assert 2 < interval < 2.1\n",
    "assert isinstance(value_bin(value_min, interval), int)\n",
    "assert value_bin(value_min, interval) == 0\n",
    "assert value_bin(value_max, interval) == bins-1"
   ]
  },
  {
   "cell_type": "markdown",
   "metadata": {},
   "source": [
    "**Step 3** Finally, we need to create a list, `L`, whose length is `bins`, and whose values are all zero, and then to iterate through the `popularity_values` list and, for each value, compute its bin, `b` and then increment `L[b]`. Write code to initialize `L` and to iterate over the values in `popularity_values` and increment the counters in `L`."
   ]
  },
  {
   "cell_type": "code",
   "execution_count": 27,
   "metadata": {
    "deletable": false,
    "nbgrader": {
     "cell_type": "code",
     "checksum": "6f3af8e4911cdf872dddfd84a7946166",
     "grade": false,
     "grade_id": "cell-ece0166492f8e474",
     "locked": false,
     "schema_version": 3,
     "solution": true,
     "task": false
    }
   },
   "outputs": [
    {
     "name": "stdout",
     "output_type": "stream",
     "text": [
      "0 100\n"
     ]
    }
   ],
   "source": [
    "# Solution cell\n",
    "L = [0 for i in range(bins)]\n",
    "for item in popularity_values:\n",
    "    L[value_bin(item, interval)] = L[value_bin(item, interval)] + 1\n",
    "\n",
    "print(min(L), max(L))"
   ]
  },
  {
   "cell_type": "code",
   "execution_count": 28,
   "metadata": {
    "deletable": false,
    "editable": false,
    "nbgrader": {
     "cell_type": "code",
     "checksum": "42d2b40659dee7bbb434a4a130c42e96",
     "grade": true,
     "grade_id": "cell-a154ba3902bd2164",
     "locked": true,
     "points": 2,
     "schema_version": 3,
     "solution": false,
     "task": false
    }
   },
   "outputs": [],
   "source": [
    "assert isinstance(L, list)\n",
    "assert len(L) == bins\n",
    "assert min(L) == 0\n",
    "assert max(L) > 80"
   ]
  },
  {
   "cell_type": "markdown",
   "metadata": {},
   "source": [
    "**Step 4** The use of global variables for all of our piecewise steps above is poor programming practice.  Encapsulate the set of steps above, and write a function\n",
    "\n",
    "    myhistogram(value_set, bins=25)\n",
    "    \n",
    "uses the list `value_set` as the set of values for which we wish to compute historgram bins.  Based on this list and the named parameter, `bins`, the function should create, compute, and returns a list of histogram counts. This function should perform all the steps above **without relying on any global variable**."
   ]
  },
  {
   "cell_type": "code",
   "execution_count": 29,
   "metadata": {
    "deletable": false,
    "nbgrader": {
     "cell_type": "code",
     "checksum": "432dbc4a33731f528216a5c72184f766",
     "grade": true,
     "grade_id": "cell-2b1ec3c2490eda99",
     "locked": false,
     "points": 2,
     "schema_version": 3,
     "solution": true,
     "task": false
    }
   },
   "outputs": [
    {
     "name": "stdout",
     "output_type": "stream",
     "text": [
      "[189, 98, 38, 14, 4, 7, 2, 0, 1, 2]\n"
     ]
    }
   ],
   "source": [
    "# Solution cell\n",
    "\n",
    "def myhistogram(value_set, bins=25):\n",
    "    '''\n",
    "    This function creates a list with data\n",
    "    used to create a histogram given value list and bins.\n",
    "    \n",
    "    Parameters: value_set: the list of values that will \n",
    "                be used as data in the histogram\n",
    "                bins: the bin size of for the historgram,\n",
    "                if none is given then it will default to 25\n",
    "    \n",
    "    Return: L: A list of histogram counts used to create a\n",
    "            histogram\n",
    "    \n",
    "    '''\n",
    "    value_bin = lambda x, interval:int((x-value_min)//interval)\n",
    "    L = [0 for i in range(bins)]\n",
    "    value_range = max(value_set) - min(value_set)\n",
    "    interval = value_range/bins\n",
    "    for item in value_set:\n",
    "        L[value_bin(item, interval)] = L[value_bin(item, interval)] + 1\n",
    "    return L\n",
    "    \n",
    "    \n",
    "df = pd.read_csv(os.path.join(datadir, \"actors.csv\"))\n",
    "val_list = list(df['popularity'])\n",
    "hist_list = myhistogram(val_list, bins=10)\n",
    "print(hist_list)"
   ]
  },
  {
   "cell_type": "markdown",
   "metadata": {},
   "source": [
    "To check our function and the computed list of bin count values, the cell below calls the function, computes the associated x-values (using the previously computed interval) and displays a bar graph of the result.  A bar graph computed in this way is a histogram."
   ]
  },
  {
   "cell_type": "code",
   "execution_count": 30,
   "metadata": {},
   "outputs": [
    {
     "data": {
      "image/png": "[encoded data removed]",
      "text/plain": [
       "<Figure size 432x288 with 1 Axes>"
      ]
     },
     "metadata": {
      "needs_background": "light"
     },
     "output_type": "display_data"
    }
   ],
   "source": [
    "import matplotlib.pyplot as pyplot\n",
    "\n",
    "num_bins = 25\n",
    "df = pd.read_csv(os.path.join(datadir, \"actors.csv\"))\n",
    "val_list = list(df['popularity'])\n",
    "bin_values = myhistogram(val_list, num_bins)\n",
    "\n",
    "interval = (max(val_list) - min(val_list)) / num_bins\n",
    "x_values = [min(val_list) + (i * interval) + interval/2 for i in range(bins)]\n",
    "pyplot.bar(x_values, bin_values, width=(0.8 * interval))\n",
    "pyplot.show()"
   ]
  },
  {
   "cell_type": "markdown",
   "metadata": {},
   "source": [
    "**Q** In the following cell, **interpret** the histogram, describing why you see high bars where you see them, why you see low bars where you see them, the meaning of the y axis, and the meaning of the x axis."
   ]
  },
  {
   "cell_type": "markdown",
   "metadata": {
    "deletable": false,
    "nbgrader": {
     "cell_type": "markdown",
     "checksum": "9efc64ec489bf02dac0f9558b7bbb731",
     "grade": true,
     "grade_id": "cell-90683ce631ca5c7f",
     "locked": false,
     "points": 1.5,
     "schema_version": 3,
     "solution": true,
     "task": false
    }
   },
   "source": [
    "It shows how many actors fall into a certain range of popularity. So the higer the bar, the more actors that fall into that popularity. So a lot of actors fall into the lower popularity while less actors are more popular."
   ]
  },
  {
   "cell_type": "markdown",
   "metadata": {},
   "source": [
    "The `pyplot` package in the `matplotlib` module has its own algorithm for computing and displaying a histogram based only on the value list, `popularity_values` in this case. The next cell simply demonstrates this shortcut.\n",
    "\n",
    "Note that the x axis of the histogram generated by `matplotlib` is not the bin number like the histogram we created by the represents the range of values for `popularity_values`."
   ]
  },
  {
   "cell_type": "code",
   "execution_count": 31,
   "metadata": {},
   "outputs": [
    {
     "data": {
      "image/png": "[encoded data removed]",
      "text/plain": [
       "<Figure size 432x288 with 1 Axes>"
      ]
     },
     "metadata": {
      "needs_background": "light"
     },
     "output_type": "display_data"
    }
   ],
   "source": [
    "# This cell relies on the global popularity_values that was to be computed in Step 1\n",
    "df = pd.read_csv(os.path.join(datadir,\"actors.csv\"))\n",
    "val_list = list(df['popularity'])\n",
    "pyplot.hist(val_list, bins=25, rwidth=0.8)\n",
    "pyplot.show()"
   ]
  },
  {
   "cell_type": "markdown",
   "metadata": {},
   "source": [
    "### Part 2: Movie Popularity vs. Vote Average Scatterplot\n",
    "\n",
    "A scatter plot allows us to see, for two metrics, how they might relate to one another.  We use a Y axis that corresponds to the values on one metric, and an X axis that corresponds to the value of the other metric.  If both axis go from the metrics small values to high values, then if two metrics are positively correlated, we would expect to see the \"dots\" of the scatter plot rising in the plot from left to right.\n",
    "\n",
    "In our movies data, we have two metrics, the `popularity` of the movie (as determined by an algorithm of the folks at TMDb), and the `vote_average`, as determined by the set of people who rate and vote on the movie.  One could ask the simple question of whether the popularity of a movie has a positive correlation with its vote average.  Note that we are just exploring the data, and are not performing the statistical analysis to quatify a correlation.\n",
    "\n",
    "For this, we only need to obtain the two lists for the columns for polularity and for vote average.  We can then use the `matplotlib` scatter plot functionality."
   ]
  },
  {
   "cell_type": "markdown",
   "metadata": {},
   "source": [
    "**Step 1** In the following cell, define a function to obtain **and return** the two vectors of data corresponding to the popularity and the `vote_average` metrics.  You can call the function whatever you like.  It should have parameters for a data directory and a file name, and should return the two vectors of numeric values.\n",
    "\n",
    "You have two main choices in how you implement this function.  It could use the xml version of the movies data, and perform XML and/or XPath operations to obtain the two vectors, or it could use the CSV version of the movies data produced from the work in your other notebook.\n",
    "\n",
    "After defining the function, you should invoke it and assign the results to `poplist` and to `votelist` for use in the scatter plot of step 2."
   ]
  },
  {
   "cell_type": "code",
   "execution_count": 32,
   "metadata": {
    "deletable": false,
    "nbgrader": {
     "cell_type": "code",
     "checksum": "f400aa3a5d4f63ea662d100a81e8a1f4",
     "grade": false,
     "grade_id": "cell-dca439062d8e7a19",
     "locked": false,
     "schema_version": 3,
     "solution": true,
     "task": false
    }
   },
   "outputs": [
    {
     "name": "stdout",
     "output_type": "stream",
     "text": [
      "[5726.5019999999995, 3172.173, 2504.228, 2333.41, 2010.4, 1229.877, 1189.271, 1140.524, 1119.721, 1022.12, 953.755, 907.2760000000001, 826.7230000000001, 823.202, 801.262, 773.475, 770.7689999999999, 763.922, 760.3510000000001, 678.765, 666.168, 663.812, 661.9780000000001, 641.38, 612.322, 585.668, 569.364, 558.599, 509.16900000000004, 487.70599999999996, 478.074, 458.075, 447.186, 440.01, 431.881, 429.233, 424.228, 423.17199999999997, 421.30800000000005, 420.082, 407.369, 404.54, 404.191, 400.36800000000005, 393.13300000000004, 390.889, 371.199, 368.25, 366.675, 356.173, 349.532, 343.63800000000003, 339.13199999999995, 331.645, 325.607, 322.246, 310.432, 300.426, 296.816, 294.23900000000003, 286.553, 283.375, 282.433, 282.24]\n",
      "[8.5, 7.6, 7.1, 7.3, 6.9, 6.5, 6.5, 6.4, 5.1, 4.5, 5.3, 6.1, 7.1, 8.3, 7.3, 6.7, 7.6, 8.4, 6.9, 5.6, 7.3, 0.0, 8.0, 6.6, 7.5, 8.3, 7.2, 6.0, 6.6, 6.6, 5.8, 8.2, 6.9, 6.6, 7.6, 5.5, 5.8, 6.9, 7.4, 8.3, 9.6, 5.5, 6.3, 6.9, 7.8, 7.5, 6.7, 7.0, 6.9, 6.8, 6.2, 6.8, 7.1, 6.6, 6.7, 6.3, 6.3, 7.5, 6.8, 7.1, 7.1, 6.4, 6.7, 3.9]\n"
     ]
    }
   ],
   "source": [
    "def popAndVote(datadir, filename):\n",
    "    '''\n",
    "    popAndVote creates two list corresponding with the movies.csv file, and returns them as two lists of data.\n",
    "    If the file is not found, then the function returns nothing\n",
    "    \n",
    "    parameters:\n",
    "        datadir: The data directory where the file is located\n",
    "        filename: The name of the file being converted; must be a csv and contains popularity and vote_average\n",
    "        \n",
    "    returns:\n",
    "        pop: A list consisting of the popularity column from filename\n",
    "        vote: A list consisting of the vote_average column from filename\n",
    "    '''\n",
    "    if not os.path.isfile(os.path.join(datadir, filename)):\n",
    "        return None, None\n",
    "    data = pd.read_csv(os.path.join(datadir, filename))\n",
    "    pop = list(data['popularity'])\n",
    "    vote = list(data['vote_average'])\n",
    "    return pop, vote\n",
    "\n",
    "poplist, votelist = popAndVote(datadir, \"movies.csv\")\n",
    "print(poplist)\n",
    "print(votelist)"
   ]
  },
  {
   "cell_type": "code",
   "execution_count": 33,
   "metadata": {
    "deletable": false,
    "editable": false,
    "nbgrader": {
     "cell_type": "code",
     "checksum": "965d83340bf7869dd398b43e7674daa4",
     "grade": true,
     "grade_id": "cell-a15f65ae50deecdc",
     "locked": true,
     "points": 2,
     "schema_version": 3,
     "solution": false,
     "task": false
    }
   },
   "outputs": [],
   "source": [
    "assert isinstance(poplist, list)\n",
    "assert isinstance(votelist, list)\n",
    "assert len(poplist) == len(votelist)"
   ]
  },
  {
   "cell_type": "markdown",
   "metadata": {},
   "source": [
    "**Step 2** The `pyplot.scatter()` function behaves similarly to the `pyplot.bar()` function demonstrated above.  The first two arguments are the two vectors to be used as the x and y coordinates of the dots to be plotted in the scatter plot.  Then the `pyplot.show()` function needs to be invoked to actually output the plot to the screen.\n",
    "\n",
    "Before the `show()` operation, you should also set the title of the plot to an apporpriate string, and should label the x and y axis appropriately.\n",
    "\n",
    "Following are references to the functions:\n",
    "\n",
    "- [`pyplot.scatter`](https://matplotlib.org/3.3.2/api/_as_gen/matplotlib.pyplot.scatter.html)\n",
    "- [`pyplot.title`](https://matplotlib.org/3.1.1/api/_as_gen/matplotlib.pyplot.title.html)\n",
    "- [`pyplot.xlabel`](https://matplotlib.org/3.1.1/api/_as_gen/matplotlib.pyplot.xlabel.html)\n",
    "- [`pyplot.ylabel`](https://matplotlib.org/3.1.1/api/_as_gen/matplotlib.pyplot.ylabel.html)\n",
    "\n",
    "In the code cell below (and permitted to be global steps as opposed to abstracted into a function), present the scatter plot for popularity versus vote average."
   ]
  },
  {
   "cell_type": "code",
   "execution_count": 34,
   "metadata": {
    "deletable": false,
    "nbgrader": {
     "cell_type": "code",
     "checksum": "9540e805ab7451327d0c504d15bf62f6",
     "grade": true,
     "grade_id": "cell-d55dea90ebf58779",
     "locked": false,
     "points": 1,
     "schema_version": 3,
     "solution": true,
     "task": false
    }
   },
   "outputs": [
    {
     "data": {
      "image/png": "[encoded data removed]",
      "text/plain": [
       "<Figure size 432x288 with 1 Axes>"
      ]
     },
     "metadata": {
      "needs_background": "light"
     },
     "output_type": "display_data"
    }
   ],
   "source": [
    "pyplot.scatter(x = poplist, y = votelist)\n",
    "pyplot.title(\"Popularity vs. Vote Average\")\n",
    "pyplot.xlabel(\"Popularity\")\n",
    "pyplot.ylabel(\"Vote Average\")\n",
    "pyplot.show()"
   ]
  },
  {
   "cell_type": "markdown",
   "metadata": {},
   "source": [
    "**Step 3** Interpret the scatter plot, paying attention to talking about the x axis, y axis, and why you see the relationship you do for the correspondence between x values and y values. Is there another visualization that would be better at showing the distribution of values *for a given vote average*?  Or could you modify the scatter plot and how it is constructed to gain more insight into a possible correlation?"
   ]
  },
  {
   "cell_type": "markdown",
   "metadata": {
    "deletable": false,
    "nbgrader": {
     "cell_type": "markdown",
     "checksum": "bc5012979749eb2b64a0a991abb4697b",
     "grade": true,
     "grade_id": "cell-05bb04421cc1118c",
     "locked": false,
     "points": 1.5,
     "schema_version": 3,
     "solution": true,
     "task": false
    }
   },
   "source": [
    "This is a scatter plot of the popularity vs the vote average. So its the critiques rating on the movies vs the populations view on the movie and we can see that generally that the vote average is higher than the popularity (since most of points are in the top left of the graph). If we either changed the graph to a bar graph or took out the extreme outliers, I think we could get a better view on the popularity v vote average."
   ]
  },
  {
   "cell_type": "code",
   "execution_count": null,
   "metadata": {},
   "outputs": [],
   "source": []
  }
 ],
 "metadata": {
  "kernelspec": {
   "display_name": "Python 3",
   "language": "python",
   "name": "python3"
  },
  "language_info": {
   "codemirror_mode": {
    "name": "ipython",
    "version": 3
   },
   "file_extension": ".py",
   "mimetype": "text/x-python",
   "name": "python",
   "nbconvert_exporter": "python",
   "pygments_lexer": "ipython3",
   "version": "3.8.5"
  }
 },
 "nbformat": 4,
 "nbformat_minor": 5
}
