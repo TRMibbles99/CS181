{
 "cells": [
  {
   "cell_type": "markdown",
   "metadata": {},
   "source": [
    "# Denison CS-181/DA-210 Homework"
   ]
  },
  {
   "cell_type": "markdown",
   "metadata": {},
   "source": [
    "---"
   ]
  },
  {
   "cell_type": "markdown",
   "metadata": {},
   "source": [
    "**Q1:** Find the IP address for the local machine where you do your computer work. You may have to use a search engine to find possible mechanisms for doing this. You should be able to locate some online websites that can reflect your IP address, and there are also ways to use a Terminal or Command Prompt command.  Be sure and explain how you found your address as well as giving the address."
   ]
  },
  {
   "cell_type": "markdown",
   "metadata": {
    "deletable": false,
    "nbgrader": {
     "cell_type": "markdown",
     "checksum": "830830d2a126d299e7401f6f21566608",
     "grade": true,
     "grade_id": "cell-d991547fa9561a5b",
     "locked": false,
     "points": 1,
     "schema_version": 3,
     "solution": true,
     "task": false
    }
   },
   "source": [
    "I searched up \"what is my ip address\" and got 140.141.4.62 as my public IP address."
   ]
  },
  {
   "cell_type": "markdown",
   "metadata": {},
   "source": [
    "**Q2:** Use a search engine to find out about **private network addresses**.  Read the description and the address ranges.  State whether or not the address you found in **Q1** was a private address or not, and explain your reasoning."
   ]
  },
  {
   "cell_type": "markdown",
   "metadata": {
    "deletable": false,
    "nbgrader": {
     "cell_type": "markdown",
     "checksum": "1be04a9da756e85ab6748c29e1817a19",
     "grade": true,
     "grade_id": "cell-4b2ed3e8187c4030",
     "locked": false,
     "points": 1,
     "schema_version": 3,
     "solution": true,
     "task": false
    }
   },
   "source": [
    "The IP address that I found in question 1 was my public IP address because private IP addresses are not routed on the internet."
   ]
  },
  {
   "cell_type": "markdown",
   "metadata": {},
   "source": [
    "**Q3:** Go to http://traceroute.org\n",
    "\n",
    "> As you attempt this problem, you may have to try multiple sites and may have to \"figure out\" how to initiate a traceroute, determining what machine is the source and what machine is the destination.  The particulars will vary almost as widely as the set of servers you find on this site, so there is no way for me to predict what will work for you.\n",
    "\n",
    "- Find a traceroute server in a country you would like to travel to.  \n",
    "- For many traceroute servers, the default behavior is to initiate the finding of the IP router path **from** the traceroute server, and **to** the IP address you, as the requestor, are coming from.  For others, the **to** is left for you to specify.  Sometimes the initiation of a request is not automatic.  In any event, we want to try and initiate a tracing of the router path from the traceroute server to your own machine's IP address.\n",
    "\n",
    "Once you have performed this request and have a multi-line response with the \"hops\" along the way, answer the following:\n",
    "\n",
    "1. What is the logical address for the start?\n",
    "2. What is the numeric IP address for the start?\n",
    "3. What is the logical address to the last (non-`*`) entry?\n",
    "4. What is the numeric IP address for the last entry?\n",
    "5. Based on the first number in each of the intervening entries, how many different networks seem to be traversed?\n",
    "6. How many router hops did it take?"
   ]
  },
  {
   "cell_type": "markdown",
   "metadata": {
    "deletable": false,
    "nbgrader": {
     "cell_type": "markdown",
     "checksum": "b743e534d1b6585fe841b9591bbe6845",
     "grade": true,
     "grade_id": "cell-9af3463d82037db9",
     "locked": false,
     "points": 3,
     "schema_version": 3,
     "solution": true,
     "task": false
    }
   },
   "source": [
    "1. cslab254.cs.aueb.gr\n",
    "2. 140.141.4.62\n",
    "3. gwext.in.denison.edu\n",
    "4. 140.141.4.1\n",
    "5. 5\n",
    "6. 19"
   ]
  },
  {
   "cell_type": "markdown",
   "metadata": {},
   "source": [
    "**Q4:** Repeat the traceroute exercise, but use a destination logical address of `personal.denison.edu`.  Answer the same questions and compare to your first set of answers.  If a traceroute server does not allow you to choose the destination, try some other traceroute servers."
   ]
  },
  {
   "cell_type": "markdown",
   "metadata": {
    "deletable": false,
    "nbgrader": {
     "cell_type": "markdown",
     "checksum": "92847114f63fbafcd51427a93549c5f6",
     "grade": true,
     "grade_id": "cell-b30dda57fd75c85b",
     "locked": false,
     "points": 2,
     "schema_version": 3,
     "solution": true,
     "task": false
    }
   },
   "source": [
    "1. personal.denison.edu\n",
    "2. 10.143.255.247\n",
    "3. personal.denison.edu\n",
    "4. 10.143.255.247\n",
    "5. 1\n",
    "6. 1\n",
    "\n",
    "\n",
    "Since I am on denison wifi it makes sense that there is only 1 hop."
   ]
  },
  {
   "cell_type": "markdown",
   "metadata": {},
   "source": [
    "**Q5:** Write and test a `curl` request that:\n",
    "\n",
    "- obtains `ind0.json` from underneath the `data` child at the root of the resource hierarchy,\n",
    "- using the non-secure version of HTTP\n",
    "- from the server `datasystems.denison.edu`\n",
    "- does **not** show progress\n",
    "- displays the result to console output"
   ]
  },
  {
   "cell_type": "code",
   "execution_count": 14,
   "metadata": {
    "deletable": false,
    "nbgrader": {
     "cell_type": "code",
     "checksum": "3f0b2cb7fb6435629322dc6f15ed9abc",
     "grade": true,
     "grade_id": "cell-e065519d58d40231",
     "locked": false,
     "points": 1,
     "schema_version": 3,
     "solution": true,
     "task": false
    }
   },
   "outputs": [
    {
     "name": "stdout",
     "output_type": "stream",
     "text": [
      "{\"FRA\": {\"2007\": {\"pop\": 64.02, \"gdp\": 2657.21}, \"2017\": {\"pop\": 66.87, \"gdp\": 2586.29}}, \"GBR\": {\"2007\": {\"pop\": 61.32, \"gdp\": 3084.12}, \"2017\": {\"pop\": 66.06, \"gdp\": 2637.87}}, \"USA\": {\"2007\": {\"pop\": 301.23, \"gdp\": 14451.9}, \"2017\": {\"pop\": 325.15, \"gdp\": 19485.4}}}"
     ]
    }
   ],
   "source": [
    "%%bash\n",
    "curl -s http://datasystems.denison.edu/data/ind0.json"
   ]
  },
  {
   "cell_type": "markdown",
   "metadata": {},
   "source": [
    "**Q6:** Write and test a `curl` request that:\n",
    "\n",
    "- obtains `ind0.json` from underneath the `data` child at the root of the resource hierarchy,\n",
    "- using the **secure** version of HTTP\n",
    "- from the server `datasystems.denison.edu`\n",
    "- does **not** show progress\n",
    "- saves the output into a file in the current directory named `data.json`"
   ]
  },
  {
   "cell_type": "code",
   "execution_count": 15,
   "metadata": {
    "deletable": false,
    "nbgrader": {
     "cell_type": "code",
     "checksum": "771a3f2aef6f72e9bbcd2071c615291a",
     "grade": true,
     "grade_id": "cell-fde95ef51239f1aa",
     "locked": false,
     "points": 1,
     "schema_version": 3,
     "solution": true,
     "task": false
    }
   },
   "outputs": [],
   "source": [
    "%%bash\n",
    "curl -s -o data.json https://datasystems.denison.edu/data/ind0.json"
   ]
  },
  {
   "cell_type": "markdown",
   "metadata": {},
   "source": [
    "**Q7:** Write and test a `curl` request that:\n",
    "\n",
    "- issues a HEAD request for `ind0.json` from underneath the `data` child at the root of the resource hierarchy,\n",
    "- using the **secure** version of HTTP\n",
    "- from the server `datasystems.denison.edu`\n",
    "- does **not** show progress\n",
    "- saves the header output into a file in the current directory named `ind0headers.txt`"
   ]
  },
  {
   "cell_type": "code",
   "execution_count": 16,
   "metadata": {
    "deletable": false,
    "nbgrader": {
     "cell_type": "code",
     "checksum": "15e4c39760d31472a96655700d11a0c2",
     "grade": true,
     "grade_id": "cell-bf4147cae754b826",
     "locked": false,
     "points": 1,
     "schema_version": 3,
     "solution": true,
     "task": false
    }
   },
   "outputs": [],
   "source": [
    "%%bash\n",
    "curl -I -s -o ind0headers.txt https://datasystems.denison.edu/data/ind0.json"
   ]
  },
  {
   "cell_type": "markdown",
   "metadata": {},
   "source": [
    "**Q8:** Similar to the last problem, but to a different server and for a different resource:\n",
    "\n",
    "- issues a HEAD request for `~kretchmar` from underneath the root of the resource hierarchy,\n",
    "- using the **secure** version of HTTP\n",
    "- from the server `personal.denison.edu`\n",
    "- does **not** show progress\n",
    "- saves the header output into a file in the current directory named `kheaders.txt`\n",
    "\n",
    "After the code cell with the `curl` incantation, use the following Markdown cell and, by looking at the metadata, determine:\n",
    "\n",
    "1. The status code in the response\n",
    "2. The status message in the response\n",
    "3. The value of the `Location` header in the response\n",
    "4. The **difference** between the location header and the URL you specified."
   ]
  },
  {
   "cell_type": "code",
   "execution_count": 17,
   "metadata": {
    "deletable": false,
    "nbgrader": {
     "cell_type": "code",
     "checksum": "32d609bfca1d8245d4d6d18728d02040",
     "grade": true,
     "grade_id": "cell-f8d2cf1cff6eded2",
     "locked": false,
     "points": 1,
     "schema_version": 3,
     "solution": true,
     "task": false
    }
   },
   "outputs": [],
   "source": [
    "%%bash\n",
    "curl -I -s -o kheaders.txt https://personal.denison.edu/~kretchmar"
   ]
  },
  {
   "cell_type": "markdown",
   "metadata": {
    "deletable": false,
    "nbgrader": {
     "cell_type": "markdown",
     "checksum": "ac0629432d963a3ddaaf730183c59b39",
     "grade": true,
     "grade_id": "cell-f007502097ed1041",
     "locked": false,
     "points": 1,
     "schema_version": 3,
     "solution": true,
     "task": false
    }
   },
   "source": [
    "1. 200\n",
    "2. OK\n",
    "3. https://personal.denison.edu/~kretchmar/\n",
    "4. There is an extra / at the end of the location header."
   ]
  },
  {
   "cell_type": "code",
   "execution_count": null,
   "metadata": {},
   "outputs": [],
   "source": []
  }
 ],
 "metadata": {
  "kernelspec": {
   "display_name": "Python 3",
   "language": "python",
   "name": "python3"
  },
  "language_info": {
   "codemirror_mode": {
    "name": "ipython",
    "version": 3
   },
   "file_extension": ".py",
   "mimetype": "text/x-python",
   "name": "python",
   "nbconvert_exporter": "python",
   "pygments_lexer": "ipython3",
   "version": "3.8.5"
  }
 },
 "nbformat": 4,
 "nbformat_minor": 5
}
