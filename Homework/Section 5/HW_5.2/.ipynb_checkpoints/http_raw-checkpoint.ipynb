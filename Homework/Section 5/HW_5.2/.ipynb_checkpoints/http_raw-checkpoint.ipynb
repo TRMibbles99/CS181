{
 "cells": [
  {
   "cell_type": "markdown",
   "metadata": {},
   "source": [
    "# Denison CS-181/DA-210 Homework"
   ]
  },
  {
   "cell_type": "markdown",
   "metadata": {},
   "source": [
    "---"
   ]
  },
  {
   "cell_type": "markdown",
   "metadata": {},
   "source": [
    "## Raw HTTP Homework"
   ]
  },
  {
   "cell_type": "code",
   "execution_count": 19,
   "metadata": {
    "deletable": false,
    "editable": false,
    "nbgrader": {
     "cell_type": "code",
     "checksum": "6c1e0cbb5170862b9df6c1ddc35c26d0",
     "grade": false,
     "grade_id": "cell-a7cdc62ea2c34365",
     "locked": true,
     "schema_version": 3,
     "solution": false,
     "task": false
    }
   },
   "outputs": [],
   "source": [
    "import os\n",
    "import sys\n",
    "import json\n",
    "\n",
    "def add_modules():\n",
    "    \"\"\"\n",
    "    Starting at the current directory and proceeding up the file system\n",
    "    tree, search for a directory named `modules`.  If found, and if not\n",
    "    already there, add to the Python module search path.\n",
    "    \n",
    "    Params: None\n",
    "    \n",
    "    Return: None\n",
    "    \"\"\"\n",
    "    directory = \".\"\n",
    "    levels = 0\n",
    "    while not os.path.isdir(os.path.join(directory, \"modules\")) and \\\n",
    "          levels < 5:\n",
    "        directory = os.path.join(directory, \"..\")\n",
    "        levels += 1\n",
    "    module_path = os.path.abspath(os.path.join(directory, \"modules\"))\n",
    "    if os.path.isdir(module_path):\n",
    "        if not module_path in sys.path:\n",
    "            sys.path.append(module_path)\n",
    "\n",
    "add_modules()\n",
    "import util\n",
    "import mysocket as sock"
   ]
  },
  {
   "cell_type": "markdown",
   "metadata": {},
   "source": [
    "### Socket Programming Requests\n",
    "\n",
    "The first set of exercises are about *composing and making requests*."
   ]
  },
  {
   "cell_type": "markdown",
   "metadata": {},
   "source": [
    "**Q1** Suppose we wish to retrieve (GET) a file via HTTP (so port 80) from `datasystems.denison.edu`.  The resource path of the file is `/tabular/namesbyyear.csv`.  We wish to use version 1.1 of HTTP and to request that the connection be closed after a single request/reply exchange.  We will need a header line to satisfy the HTTP 1.1 requirement of a valid `Host` header.  Write a sequence of code to compose a valid HTTP request as a Python string, and assign the result to `message`.  This is entirely string manipulation in Python."
   ]
  },
  {
   "cell_type": "code",
   "execution_count": 20,
   "metadata": {
    "deletable": false,
    "nbgrader": {
     "cell_type": "code",
     "checksum": "b22c40b23126a6c38dc453bd3a30e247",
     "grade": false,
     "grade_id": "cell-d13c6206def13d15",
     "locked": false,
     "schema_version": 3,
     "solution": true,
     "task": false
    }
   },
   "outputs": [
    {
     "name": "stdout",
     "output_type": "stream",
     "text": [
      "GET /tabular/namesbyyear.csv HTTP/1.1\n",
      "Host: datasystems.denison.edu\n",
      "Connection: close\n",
      "\n",
      "\n",
      "--------------------\n"
     ]
    }
   ],
   "source": [
    "message = \"GET /tabular/namesbyyear.csv HTTP/1.1\\r\\nHost: datasystems.denison.edu\\r\\nConnection: close\\r\\n\\r\\n\"\n",
    "print(message)\n",
    "print(\"--------------------\")"
   ]
  },
  {
   "cell_type": "code",
   "execution_count": 21,
   "metadata": {
    "deletable": false,
    "editable": false,
    "nbgrader": {
     "cell_type": "code",
     "checksum": "9f1918c31bdb773009dbae6e620a5412",
     "grade": true,
     "grade_id": "cell-e5351c0b4fa435b3",
     "locked": true,
     "points": 2,
     "schema_version": 3,
     "solution": false,
     "task": false
    }
   },
   "outputs": [],
   "source": [
    "assert type(message) == str\n",
    "assert message[:3] == \"GET\"\n",
    "assert message[4:4+len(\"/tabular/namesbyyear.csv\")] == \"/tabular/namesbyyear.csv\"\n",
    "assert \"Host: datasystems.denison.edu\" in message\n",
    "assert message.count('\\r\\n') == 4\n",
    "assert message[-4:] == '\\r\\n\\r\\n'"
   ]
  },
  {
   "cell_type": "markdown",
   "metadata": {},
   "source": [
    "**Q2** Write a sequence of code to establish a connection to the host `datasystems.denison.edu` at port 80, to send the string `message` from the previous problem to the host, receive the reply from the host until the server closes the connection, assigning the reply to `reply`, and close the connection.  Note: if the request is not completely correct, a network connection can wait forever for a reply that will never come.  So if you have difficulty here, double check your answer to the previous problem."
   ]
  },
  {
   "cell_type": "code",
   "execution_count": 22,
   "metadata": {
    "deletable": false,
    "nbgrader": {
     "cell_type": "code",
     "checksum": "b2ec5e15c1151ee8802b2870ce33cc3c",
     "grade": false,
     "grade_id": "cell-6d82a0ffaf00f9db",
     "locked": false,
     "schema_version": 3,
     "solution": true,
     "task": false
    }
   },
   "outputs": [
    {
     "name": "stdout",
     "output_type": "stream",
     "text": [
      "HTTP/1.1 200 OK\n",
      "Date: Thu, 22 Apr 2021 14:28:25 GMT\n",
      "Server: Apache/2.4.6 (CentOS)\n",
      "Last-Modified: Mon, 21 Dec 2020 11:47:51 GMT\n",
      "ETag: \"58-5b6f8071c67c0\"\n",
      "Accept-Ranges: bytes\n",
      "Content-Length: 88\n",
      "Connection: close\n",
      "Content-Type: text/csv\n",
      "\n",
      ",2014,2015,2016,2017,2018\n",
      "Female,Emma,Emma,Emma,Emma,Emma\n",
      "Male,Noah,Noah,Noah,Liam,Liam\n",
      "\n"
     ]
    }
   ],
   "source": [
    "connection = sock.makeConnection(\"datasystems.denison.edu\", 80)\n",
    "sock.sendString(connection, message)\n",
    "reply = sock.receiveTillClose(connection)\n",
    "print(reply)"
   ]
  },
  {
   "cell_type": "code",
   "execution_count": 23,
   "metadata": {
    "deletable": false,
    "editable": false,
    "nbgrader": {
     "cell_type": "code",
     "checksum": "dd457e9d8d1165cb98a16e7a7dae847d",
     "grade": true,
     "grade_id": "cell-7faf3e5388ce3abd",
     "locked": true,
     "points": 2,
     "schema_version": 3,
     "solution": false,
     "task": false
    }
   },
   "outputs": [],
   "source": [
    "assert type(reply) == str\n",
    "assert \"200 OK\" in reply\n",
    "assert \"text/csv\" in reply\n",
    "assert reply.endswith(\"Noah,Liam,Liam\\n\")"
   ]
  },
  {
   "cell_type": "markdown",
   "metadata": {},
   "source": [
    "**Q3** Suppose we want to generalize the scenario from the first exercise, where the two things that can change are the *host location* and the *resource path*.  For example, we might want to change the host to `httpbin.org` and the resource path to `/`, or many other combinations.  Write a function\n",
    "\n",
    "    buildRequest(location, resource)\n",
    "    \n",
    "that constructs and returns a Python string containing a valid HTTP GET request that incorporates the parameters `location` and `resource` into the request at the appropriate places, and includes the appropriate header lines (for the required `Host` and to request the server close the connection after the exchange)."
   ]
  },
  {
   "cell_type": "code",
   "execution_count": 24,
   "metadata": {
    "deletable": false,
    "nbgrader": {
     "cell_type": "code",
     "checksum": "1f5aa90593a1ab3505f9ab5b13f2d9de",
     "grade": false,
     "grade_id": "cell-6a90f28be14d66ef",
     "locked": false,
     "schema_version": 3,
     "solution": true,
     "task": false
    }
   },
   "outputs": [
    {
     "name": "stdout",
     "output_type": "stream",
     "text": [
      "GET /data/ind0.json HTTP/1.1\n",
      "Host: datasystems.denison.edu\n",
      "Connection: close\n",
      "\n",
      "\n",
      "---------------------\n"
     ]
    }
   ],
   "source": [
    "def buildRequest(location, resource):\n",
    "    '''\n",
    "    This function builds the request string with\n",
    "    a location and the resource it needs to get.\n",
    "    \n",
    "    Parameters: location: the host of the request\n",
    "                resource: what the user is requesting\n",
    "    \n",
    "    Return: the request message string.\n",
    "    '''\n",
    "    return \"GET {} HTTP/1.1\\r\\nHost: {}\\r\\nConnection: close\\r\\n\\r\\n\".format(resource, location)\n",
    "print(buildRequest(\"datasystems.denison.edu\", \"/data/ind0.json\"))\n",
    "print(\"---------------------\")"
   ]
  },
  {
   "cell_type": "code",
   "execution_count": 25,
   "metadata": {
    "deletable": false,
    "editable": false,
    "nbgrader": {
     "cell_type": "code",
     "checksum": "a6ef9d8e6afb1fa5840f8ac0fe809660",
     "grade": true,
     "grade_id": "cell-d220a5d75580d74d",
     "locked": true,
     "points": 2,
     "schema_version": 3,
     "solution": false,
     "task": false
    }
   },
   "outputs": [],
   "source": [
    "r1 = buildRequest(\"datasystems.denison.edu\", \"/data/ind0.json\")\n",
    "assert r1[:3] == \"GET\"\n",
    "assert r1[4:4+len(\"/data/ind0.json\")] == \"/data/ind0.json\"\n",
    "assert \"Host: datasystems.denison.edu\" in r1\n",
    "assert r1.count('\\r\\n') == 4\n",
    "assert r1[-4:] == '\\r\\n\\r\\n'\n",
    "r2 = buildRequest(\"httpbin.org\", \"/get\")\n",
    "assert r2[:3] == \"GET\"\n",
    "assert r2[4:4+len(\"/get\")] == \"/get\"\n",
    "assert \"Host: httpbin.org\" in r2\n",
    "assert r2.count('\\r\\n') == 4\n",
    "assert r2[-4:] == '\\r\\n\\r\\n'"
   ]
  },
  {
   "cell_type": "markdown",
   "metadata": {},
   "source": [
    "**Q4** Write a function\n",
    "\n",
    "    makeRequest(location, resource)\n",
    "\n",
    "that first constructs a valid HTTP GET request for `resource` at host `location`, as a Python string (using your function from the previous question), and then performs the  request-reply steps of making the connection, sending the string request, receiving a reply until the connection closes, and finally closing the client side of the connection.  The function should return the reply."
   ]
  },
  {
   "cell_type": "code",
   "execution_count": 26,
   "metadata": {
    "deletable": false,
    "nbgrader": {
     "cell_type": "code",
     "checksum": "2717589d3cc2e34d87b2361fa28ff15a",
     "grade": false,
     "grade_id": "cell-1652ca034fb5cffe",
     "locked": false,
     "schema_version": 3,
     "solution": true,
     "task": false
    }
   },
   "outputs": [
    {
     "name": "stdout",
     "output_type": "stream",
     "text": [
      "HTTP/1.1 200 OK\n",
      "Date: Thu, 22 Apr 2021 14:28:28 GMT\n",
      "Server: Apache/2.4.6 (CentOS)\n",
      "Accept-Ranges: bytes\n",
      "Content-Length: 496\n",
      "Connection: close\n",
      "Content-Type: text/html; charset=UTF-8\n",
      "\n",
      "<!DOCTYPE html>\n",
      "<html lang=\"en\">\n",
      "  <head>\n",
      "    <title>Data Systems Basic HTML Page</title>\n",
      "  </head>\n",
      "  <body>\n",
      "    <h1>First Level Heading</h1>\n",
      "\n",
      "    <p>Paragraph defined in <b>body</b>.\n",
      "\n",
      "    <h2>Second Level Heading</h2>\n",
      "\n",
      "    <a href=\"http://docs.python.org\">Link</a> to Python documentation.\n",
      "    </p>\n",
      "\n",
      "    <ul>\n",
      "      <li>Item 1\n",
      "      <ol>\n",
      "        <li>Item 1 nested</li>\n",
      "        <li>Item 2 nested</li>\n",
      "      </ol>\n",
      "      </li>\n",
      "      <li>Item 2</li>\n",
      "      <li>Item 3</li>\n",
      "    </ul>\n",
      "  </body>\n",
      "</html>\n",
      "\n"
     ]
    }
   ],
   "source": [
    "def makeRequest(location, resource):\n",
    "    '''\n",
    "    This function makes a request by establishing a\n",
    "    connection and sending a request message with\n",
    "    a location and resource through it. Finally it\n",
    "    will return the reply of the request.\n",
    "    \n",
    "    Parameters: location: the host of the request\n",
    "                resource: what the user is requesting\n",
    "                \n",
    "    Return: reply: the reply of the message request\n",
    "    '''\n",
    "    message = buildRequest(location, resource)\n",
    "    connection = sock.makeConnection(location, 80)\n",
    "    sock.sendString(connection, message)\n",
    "    reply = sock.receiveTillClose(connection)\n",
    "    connection.close()\n",
    "    return reply\n",
    "\n",
    "print(makeRequest(\"datasystems.denison.edu\", \"/basic.html\"))"
   ]
  },
  {
   "cell_type": "code",
   "execution_count": 27,
   "metadata": {
    "deletable": false,
    "editable": false,
    "nbgrader": {
     "cell_type": "code",
     "checksum": "f9231761e75e22eb91dd2740f8ddc491",
     "grade": true,
     "grade_id": "cell-4a0e38b62d587841",
     "locked": true,
     "points": 2,
     "schema_version": 3,
     "solution": false,
     "task": false
    }
   },
   "outputs": [],
   "source": [
    "resp1 = makeRequest(\"datasystems.denison.edu\", \"/basic.html\")\n",
    "#print(resp1)\n",
    "assert \"200 OK\" in resp1\n",
    "assert \"text/html\" in resp1\n",
    "assert resp1.endswith(\"</html>\\n\")\n",
    "\n",
    "resp2 = makeRequest(\"datasystems.denison.edu\", \"/data/ind0.json\")\n",
    "#print(resp2)\n",
    "assert \"200 OK\" in resp2\n",
    "assert \"application/json\" in resp2\n",
    "assert resp2.endswith(\"19485.4}}}\")\n",
    "\n",
    "resp3 = makeRequest(\"httpbin.org\", \"/get\")\n",
    "#print(resp3)\n",
    "assert \"200 OK\" in resp3\n",
    "assert \"application/json\" in resp3\n",
    "assert resp3.endswith(\"\"\"\"url\": \"http://httpbin.org/get\"\\n}\\n\"\"\")"
   ]
  },
  {
   "cell_type": "markdown",
   "metadata": {},
   "source": [
    "## Programming Response Replies\n",
    "\n",
    "The next set of exercises are about parsing through the reply resulting from a request.  If we consider an HTTP reply, we can partition it into a status line, the set of headers, and the body.  The exercises ask for functions that, given a reply, and parse the reply and return each of these pieces."
   ]
  },
  {
   "cell_type": "markdown",
   "metadata": {},
   "source": [
    "**Q5:** Write a function\n",
    "\n",
    "    parseStatus(reply)\n",
    "\n",
    "that finds and returns a Python string consisting of only the status line of a reply.  The returned value should include the line-terminating `\"\\r\\n\"`."
   ]
  },
  {
   "cell_type": "code",
   "execution_count": null,
   "metadata": {
    "deletable": false,
    "nbgrader": {
     "cell_type": "code",
     "checksum": "72e865081252a1398cefc2e64cf7b9d1",
     "grade": false,
     "grade_id": "cell-bb65bdc36f63140e",
     "locked": false,
     "schema_version": 3,
     "solution": true,
     "task": false
    }
   },
   "outputs": [],
   "source": [
    "# YOUR CODE HERE\n",
    "raise NotImplementedError()\n",
    "reply = makeRequest(\"datasystems.denison.edu\", \"/basic.html\")\n",
    "print(repr(parseStatus(reply)))\n",
    "reply = makeRequest(\"datasystems.denison.edu\", \"/foobar.txt\")\n",
    "print(repr(parseStatus(reply)))"
   ]
  },
  {
   "cell_type": "code",
   "execution_count": null,
   "metadata": {
    "deletable": false,
    "editable": false,
    "nbgrader": {
     "cell_type": "code",
     "checksum": "b4784205ed73c918016e2b98c55b4031",
     "grade": true,
     "grade_id": "cell-d7c9fda270bc3213",
     "locked": true,
     "points": 2,
     "schema_version": 3,
     "solution": false,
     "task": false
    }
   },
   "outputs": [],
   "source": [
    "r1 = makeRequest(\"datasystems.denison.edu\", \"/basic.html\")\n",
    "s1 = parseStatus(r1)\n",
    "assert s1 == \"HTTP/1.1 200 OK\\r\\n\"\n",
    "\n",
    "r2 = makeRequest(\"datasystems.denison.edu\", \"/foobar.txt\")\n",
    "s2 = parseStatus(r2)\n",
    "assert s2 == \"HTTP/1.1 404 Not Found\\r\\n\""
   ]
  },
  {
   "cell_type": "markdown",
   "metadata": {},
   "source": [
    "**Q6:** Write a function\n",
    "\n",
    "    parseHeaders(reply)\n",
    "\n",
    "that finds and returns a single Python string that starts with the first header in the reply and continues up through the last header in the reply, including the line-terminating `\"\\r\\n\"`, but *not* the empty line separating the headers from the body."
   ]
  },
  {
   "cell_type": "code",
   "execution_count": null,
   "metadata": {
    "deletable": false,
    "nbgrader": {
     "cell_type": "code",
     "checksum": "4588d3b26eda5d7beb6714d8a9309d72",
     "grade": false,
     "grade_id": "cell-ea009fe9078e25a1",
     "locked": false,
     "schema_version": 3,
     "solution": true,
     "task": false
    }
   },
   "outputs": [],
   "source": [
    "# YOUR CODE HERE\n",
    "raise NotImplementedError()\n",
    "reply = makeRequest(\"datasystems.denison.edu\", \"/basic.html\")\n",
    "print(repr(parseHeaders(reply)))\n",
    "reply = makeRequest(\"datasystems.denison.edu\", \"/foobar.txt\")\n",
    "print(repr(parseHeaders(reply)))"
   ]
  },
  {
   "cell_type": "code",
   "execution_count": null,
   "metadata": {
    "deletable": false,
    "editable": false,
    "nbgrader": {
     "cell_type": "code",
     "checksum": "cb65ab0e81711076bde9b88b7a637005",
     "grade": true,
     "grade_id": "cell-97f8ac4a67fedded",
     "locked": true,
     "points": 2,
     "schema_version": 3,
     "solution": false,
     "task": false
    }
   },
   "outputs": [],
   "source": [
    "r1 = makeRequest(\"datasystems.denison.edu\", \"/basic.html\")\n",
    "h1 = parseHeaders(r1)\n",
    "assert \"Server: Apache\" in h1\n",
    "assert \"Connection: close\\r\\n\" in h1\n",
    "assert \"Content-Type: text/html\" in h1\n",
    "r2 = makeRequest(\"datasystems.denison.edu\", \"/foobar.txt\")\n",
    "h2 = parseHeaders(r2)\n",
    "assert \"Server: Apache\" in h2\n",
    "assert \"Connection: close\\r\\n\" in h2\n",
    "assert \"Content-Type: text/html\" in h2"
   ]
  },
  {
   "cell_type": "markdown",
   "metadata": {},
   "source": [
    "**Q7:** Write a function\n",
    "\n",
    "    parseBody(reply)\n",
    "\n",
    "that finds and returns a single Python string that starts with the beginning of the body (i.e. after the empty line of the reply) and continues to the end of the reply."
   ]
  },
  {
   "cell_type": "code",
   "execution_count": null,
   "metadata": {
    "deletable": false,
    "nbgrader": {
     "cell_type": "code",
     "checksum": "9881da12980aa86fa5bd6793e527311a",
     "grade": false,
     "grade_id": "cell-7ce9b69c3e6b5a24",
     "locked": false,
     "schema_version": 3,
     "solution": true,
     "task": false
    }
   },
   "outputs": [],
   "source": [
    "# YOUR CODE HERE\n",
    "raise NotImplementedError()\n",
    "reply = makeRequest(\"datasystems.denison.edu\", \"/basic.html\")\n",
    "print(parseBody(reply))\n",
    "reply = makeRequest(\"datasystems.denison.edu\", \"/foobar.txt\")\n",
    "print(parseBody(reply))"
   ]
  },
  {
   "cell_type": "code",
   "execution_count": null,
   "metadata": {
    "deletable": false,
    "editable": false,
    "nbgrader": {
     "cell_type": "code",
     "checksum": "a62d6de18c43a25b5799ec6900bfeeaf",
     "grade": true,
     "grade_id": "cell-1ba3a8177c1beddb",
     "locked": true,
     "points": 2,
     "schema_version": 3,
     "solution": false,
     "task": false
    }
   },
   "outputs": [],
   "source": [
    "r1 = makeRequest(\"datasystems.denison.edu\", \"/basic.html\")\n",
    "b1 = parseBody(r1)\n",
    "r2 = makeRequest(\"datasystems.denison.edu\", \"/foobar.txt\")\n",
    "b2 = parseBody(r2)\n",
    "assert b1.startswith(\"<!DOCTYPE html>\")\n",
    "assert b1.endswith(\"</html>\\n\")\n",
    "assert b2.startswith(\"<!DOCTYPE HTML\")\n",
    "assert b2.endswith(\"</body></html>\\n\")"
   ]
  }
 ],
 "metadata": {
  "kernelspec": {
   "display_name": "Python 3",
   "language": "python",
   "name": "python3"
  },
  "language_info": {
   "codemirror_mode": {
    "name": "ipython",
    "version": 3
   },
   "file_extension": ".py",
   "mimetype": "text/x-python",
   "name": "python",
   "nbconvert_exporter": "python",
   "pygments_lexer": "ipython3",
   "version": "3.8.5"
  }
 },
 "nbformat": 4,
 "nbformat_minor": 4
}
