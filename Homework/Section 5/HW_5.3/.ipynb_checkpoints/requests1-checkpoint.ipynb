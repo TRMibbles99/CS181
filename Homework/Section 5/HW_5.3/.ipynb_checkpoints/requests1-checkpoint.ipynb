{
 "cells": [
  {
   "cell_type": "markdown",
   "metadata": {},
   "source": [
    "# Denison CS-181/DA-210 Homework"
   ]
  },
  {
   "cell_type": "markdown",
   "metadata": {},
   "source": [
    "---"
   ]
  },
  {
   "cell_type": "markdown",
   "metadata": {},
   "source": [
    "## HTTP and `requests` Intro Homework"
   ]
  },
  {
   "cell_type": "code",
   "execution_count": 1,
   "metadata": {
    "deletable": false,
    "editable": false,
    "nbgrader": {
     "cell_type": "code",
     "checksum": "6c1e0cbb5170862b9df6c1ddc35c26d0",
     "grade": false,
     "grade_id": "cell-a7cdc62ea2c34365",
     "locked": true,
     "schema_version": 3,
     "solution": false,
     "task": false
    }
   },
   "outputs": [],
   "source": [
    "import os\n",
    "import sys\n",
    "import json\n",
    "\n",
    "def add_modules():\n",
    "    \"\"\"\n",
    "    Starting at the current directory and proceeding up the file system\n",
    "    tree, search for a directory named `modules`.  If found, and if not\n",
    "    already there, add to the Python module search path.\n",
    "    \n",
    "    Params: None\n",
    "    \n",
    "    Return: None\n",
    "    \"\"\"\n",
    "    directory = \".\"\n",
    "    levels = 0\n",
    "    while not os.path.isdir(os.path.join(directory, \"modules\")) and \\\n",
    "          levels < 5:\n",
    "        directory = os.path.join(directory, \"..\")\n",
    "        levels += 1\n",
    "    module_path = os.path.abspath(os.path.join(directory, \"modules\"))\n",
    "    if os.path.isdir(module_path):\n",
    "        if not module_path in sys.path:\n",
    "            sys.path.append(module_path)\n",
    "\n",
    "add_modules()\n",
    "import util\n",
    "import mysocket as sock"
   ]
  },
  {
   "cell_type": "markdown",
   "metadata": {},
   "source": [
    "## Programming Response Replies\n",
    "\n",
    "The next set of exercises are about parsing through the reply resulting from a request.  If we consider an HTTP reply, we can partition it into a status line, the set of headers, and the body.  The exercises ask for functions that, given a reply, and parse the reply and return each of these pieces."
   ]
  },
  {
   "cell_type": "markdown",
   "metadata": {},
   "source": [
    "The code below **uses the `makeRequest()`**, which itself should be using **`buildRequest()`**, which are both part of the last homework, so you will want to make those function definitions a part of your solution to the first problem here."
   ]
  },
  {
   "cell_type": "markdown",
   "metadata": {},
   "source": [
    "**Q1:** Write a function\n",
    "\n",
    "    parseStatus(reply)\n",
    "\n",
    "that finds and returns a Python string consisting of only the status line of a reply.  The returned value should include the line-terminating `\"\\r\\n\"`."
   ]
  },
  {
   "cell_type": "code",
   "execution_count": 25,
   "metadata": {
    "deletable": false,
    "nbgrader": {
     "cell_type": "code",
     "checksum": "72e865081252a1398cefc2e64cf7b9d1",
     "grade": false,
     "grade_id": "cell-bb65bdc36f63140e",
     "locked": false,
     "schema_version": 3,
     "solution": true,
     "task": false
    }
   },
   "outputs": [
    {
     "name": "stdout",
     "output_type": "stream",
     "text": [
      "'HTTP/1.1 200 OK\\r\\n'\n",
      "'HTTP/1.1 404 Not Found\\r\\n'\n"
     ]
    }
   ],
   "source": [
    "def buildRequest(location, resource):\n",
    "    '''\n",
    "    This function builds the request string with\n",
    "    a location and the resource it needs to get.\n",
    "    \n",
    "    Parameters: location: the host of the request\n",
    "                resource: what the user is requesting\n",
    "    \n",
    "    Return: the request message string.\n",
    "    '''\n",
    "    return \"GET {} HTTP/1.1\\r\\nHost: {}\\r\\nConnection: close\\r\\n\\r\\n\".format(resource, location)\n",
    "\n",
    "def makeRequest(location, resource):\n",
    "    '''\n",
    "    This function makes a request by establishing a\n",
    "    connection and sending a request message with\n",
    "    a location and resource through it. Finally it\n",
    "    will return the reply of the request.\n",
    "    \n",
    "    Parameters: location: the host of the request\n",
    "                resource: what the user is requesting\n",
    "                \n",
    "    Return: reply: the reply of the message request\n",
    "    '''\n",
    "    message = buildRequest(location, resource)\n",
    "    connection = sock.makeConnection(location, 80)\n",
    "    sock.sendString(connection, message)\n",
    "    reply = sock.receiveTillClose(connection)\n",
    "    connection.close()\n",
    "    return reply\n",
    "\n",
    "def parseStatus(reply):\n",
    "    '''\n",
    "    This funciton returns the status header\n",
    "    \n",
    "    Parameters: reply: the make request reply\n",
    "    \n",
    "    Return: the status header of the reply\n",
    "    '''\n",
    "    return reply.split('\\n')[0] + '\\n'\n",
    "\n",
    "reply = makeRequest(\"datasystems.denison.edu\", \"/basic.html\")\n",
    "print(repr(parseStatus(reply)))\n",
    "reply = makeRequest(\"datasystems.denison.edu\", \"/foobar.txt\")\n",
    "print(repr(parseStatus(reply)))"
   ]
  },
  {
   "cell_type": "code",
   "execution_count": 26,
   "metadata": {
    "deletable": false,
    "editable": false,
    "nbgrader": {
     "cell_type": "code",
     "checksum": "b4784205ed73c918016e2b98c55b4031",
     "grade": true,
     "grade_id": "cell-d7c9fda270bc3213",
     "locked": true,
     "points": 2,
     "schema_version": 3,
     "solution": false,
     "task": false
    }
   },
   "outputs": [],
   "source": [
    "r1 = makeRequest(\"datasystems.denison.edu\", \"/basic.html\")\n",
    "s1 = parseStatus(r1)\n",
    "assert s1 == \"HTTP/1.1 200 OK\\r\\n\"\n",
    "\n",
    "r2 = makeRequest(\"datasystems.denison.edu\", \"/foobar.txt\")\n",
    "s2 = parseStatus(r2)\n",
    "assert s2 == \"HTTP/1.1 404 Not Found\\r\\n\""
   ]
  },
  {
   "cell_type": "markdown",
   "metadata": {},
   "source": [
    "**Q2:** Write a function\n",
    "\n",
    "    parseHeaders(reply)\n",
    "\n",
    "that finds and returns a single Python string that starts with the first header in the reply and continues up through the last header in the reply, including the line-terminating `\"\\r\\n\"`, but *not* the empty line separating the headers from the body."
   ]
  },
  {
   "cell_type": "code",
   "execution_count": 30,
   "metadata": {
    "deletable": false,
    "nbgrader": {
     "cell_type": "code",
     "checksum": "4588d3b26eda5d7beb6714d8a9309d72",
     "grade": false,
     "grade_id": "cell-ea009fe9078e25a1",
     "locked": false,
     "schema_version": 3,
     "solution": true,
     "task": false
    }
   },
   "outputs": [
    {
     "name": "stdout",
     "output_type": "stream",
     "text": [
      "'HTTP/1.1 200 OK\\r\\nDate: Mon, 26 Apr 2021 15:00:52 GMT\\r\\nServer: Apache/2.4.6 (CentOS)\\r\\nAccept-Ranges: bytes\\r\\nContent-Length: 496\\r\\nConnection: close\\r\\nContent-Type: text/html; charset=UTF-8\\r\\n'\n",
      "'HTTP/1.1 404 Not Found\\r\\nDate: Mon, 26 Apr 2021 15:00:52 GMT\\r\\nServer: Apache/2.4.6 (CentOS)\\r\\nContent-Length: 296\\r\\nConnection: close\\r\\nContent-Type: text/html; charset=iso-8859-1\\r\\n'\n"
     ]
    }
   ],
   "source": [
    "def parseHeaders(reply):\n",
    "    '''\n",
    "    This function returns the header of a make\n",
    "    request reply\n",
    "    \n",
    "    Paramets: reply: the make request reply\n",
    "    \n",
    "    Returns: header: the header of the reply\n",
    "    '''\n",
    "    reply = reply.split('\\r\\n')\n",
    "    header = ''\n",
    "    pos = 0\n",
    "    while (reply[pos] != ''):\n",
    "        header = header + (reply[pos] + '\\r\\n')\n",
    "        pos = pos + 1\n",
    "    return header\n",
    "\n",
    "reply = makeRequest(\"datasystems.denison.edu\", \"/basic.html\")\n",
    "print(repr(parseHeaders(reply)))\n",
    "reply = makeRequest(\"datasystems.denison.edu\", \"/foobar.txt\")\n",
    "print(repr(parseHeaders(reply)))"
   ]
  },
  {
   "cell_type": "code",
   "execution_count": 31,
   "metadata": {
    "deletable": false,
    "editable": false,
    "nbgrader": {
     "cell_type": "code",
     "checksum": "cb65ab0e81711076bde9b88b7a637005",
     "grade": true,
     "grade_id": "cell-97f8ac4a67fedded",
     "locked": true,
     "points": 2,
     "schema_version": 3,
     "solution": false,
     "task": false
    }
   },
   "outputs": [],
   "source": [
    "r1 = makeRequest(\"datasystems.denison.edu\", \"/basic.html\")\n",
    "h1 = parseHeaders(r1)\n",
    "assert \"Server: Apache\" in h1\n",
    "assert \"Connection: close\\r\\n\" in h1\n",
    "assert \"Content-Type: text/html\" in h1\n",
    "r2 = makeRequest(\"datasystems.denison.edu\", \"/foobar.txt\")\n",
    "h2 = parseHeaders(r2)\n",
    "assert \"Server: Apache\" in h2\n",
    "assert \"Connection: close\\r\\n\" in h2\n",
    "assert \"Content-Type: text/html\" in h2"
   ]
  },
  {
   "cell_type": "markdown",
   "metadata": {},
   "source": [
    "**Q3:** Write a function\n",
    "\n",
    "    parseBody(reply)\n",
    "\n",
    "that finds and returns a single Python string that starts with the beginning of the body (i.e. after the empty line of the reply) and continues to the end of the reply."
   ]
  },
  {
   "cell_type": "code",
   "execution_count": 33,
   "metadata": {
    "deletable": false,
    "nbgrader": {
     "cell_type": "code",
     "checksum": "9881da12980aa86fa5bd6793e527311a",
     "grade": false,
     "grade_id": "cell-7ce9b69c3e6b5a24",
     "locked": false,
     "schema_version": 3,
     "solution": true,
     "task": false
    }
   },
   "outputs": [
    {
     "name": "stdout",
     "output_type": "stream",
     "text": [
      "<!DOCTYPE html>\n",
      "<html lang=\"en\">\n",
      "  <head>\n",
      "    <title>Data Systems Basic HTML Page</title>\n",
      "  </head>\n",
      "  <body>\n",
      "    <h1>First Level Heading</h1>\n",
      "\n",
      "    <p>Paragraph defined in <b>body</b>.\n",
      "\n",
      "    <h2>Second Level Heading</h2>\n",
      "\n",
      "    <a href=\"http://docs.python.org\">Link</a> to Python documentation.\n",
      "    </p>\n",
      "\n",
      "    <ul>\n",
      "      <li>Item 1\n",
      "      <ol>\n",
      "        <li>Item 1 nested</li>\n",
      "        <li>Item 2 nested</li>\n",
      "      </ol>\n",
      "      </li>\n",
      "      <li>Item 2</li>\n",
      "      <li>Item 3</li>\n",
      "    </ul>\n",
      "  </body>\n",
      "</html>\n",
      "\n",
      "<!DOCTYPE HTML PUBLIC \"-//IETF//DTD HTML 2.0//EN\">\n",
      "<html><head>\n",
      "<title>404 Not Found</title>\n",
      "</head><body>\n",
      "<h1>Not Found</h1>\n",
      "<p>The requested URL /foobar.txt was not found on this server.</p>\n",
      "<hr>\n",
      "<address>Apache/2.4.6 (CentOS) Server at datasystems.denison.edu Port 80</address>\n",
      "</body></html>\n",
      "\n"
     ]
    }
   ],
   "source": [
    "def parseBody(reply):\n",
    "    '''\n",
    "    This function returns the make request\n",
    "    reply body\n",
    "    \n",
    "    Parameters: reply: the make request reply\n",
    "    \n",
    "    Return: the body of the reply\n",
    "    '''\n",
    "    return reply.split('\\r\\n')[-1]\n",
    "reply = makeRequest(\"datasystems.denison.edu\", \"/basic.html\")\n",
    "print(parseBody(reply))\n",
    "reply = makeRequest(\"datasystems.denison.edu\", \"/foobar.txt\")\n",
    "print(parseBody(reply))"
   ]
  },
  {
   "cell_type": "code",
   "execution_count": 34,
   "metadata": {
    "deletable": false,
    "editable": false,
    "nbgrader": {
     "cell_type": "code",
     "checksum": "a62d6de18c43a25b5799ec6900bfeeaf",
     "grade": true,
     "grade_id": "cell-1ba3a8177c1beddb",
     "locked": true,
     "points": 2,
     "schema_version": 3,
     "solution": false,
     "task": false
    }
   },
   "outputs": [],
   "source": [
    "r1 = makeRequest(\"datasystems.denison.edu\", \"/basic.html\")\n",
    "b1 = parseBody(r1)\n",
    "r2 = makeRequest(\"datasystems.denison.edu\", \"/foobar.txt\")\n",
    "b2 = parseBody(r2)\n",
    "assert b1.startswith(\"<!DOCTYPE html>\")\n",
    "assert b1.endswith(\"</html>\\n\")\n",
    "assert b2.startswith(\"<!DOCTYPE HTML\")\n",
    "assert b2.endswith(\"</body></html>\\n\")"
   ]
  },
  {
   "cell_type": "markdown",
   "metadata": {},
   "source": [
    "### Utility Functions and Using the `requests` Module"
   ]
  },
  {
   "cell_type": "code",
   "execution_count": 35,
   "metadata": {},
   "outputs": [],
   "source": [
    "import requests"
   ]
  },
  {
   "cell_type": "markdown",
   "metadata": {},
   "source": [
    "**Q4** The `requests` module uses URLs as the first argument to its HTTP method functions, but we often start with the \"piece parts\" of the information contained in a URL.  Write a function\n",
    "\n",
    "    buildURL(location, resource, protocol='http', query_string=None)\n",
    "\n",
    "that returns a string URL based on the four component parts of `protocol`, `location`, and `resource`, and `query_string`.  Your function should be flexible, so that if a user omits a leading `\\` on the resource path, one is prepended.   Note that we are specifying a default value for `protocol` so that it will use `http` if `buildURL` is called with just two arguments.  Likewise, the function has a default for `query_string` as None, in which case there is no query string.  But if present, the built URL should have a question mark followed by the passed query string.\n",
    "\n",
    "Python format strings are the right tool for the job here."
   ]
  },
  {
   "cell_type": "code",
   "execution_count": 54,
   "metadata": {
    "deletable": false,
    "nbgrader": {
     "cell_type": "code",
     "checksum": "06270bb70bf169005f019b08e92799ee",
     "grade": false,
     "grade_id": "cell-19699f6a08750603",
     "locked": false,
     "schema_version": 3,
     "solution": true,
     "task": false
    }
   },
   "outputs": [
    {
     "name": "stdout",
     "output_type": "stream",
     "text": [
      "http://httpbin.orgget/\n",
      "https://datasystems.denison.edu/data/ind0.json\n",
      "http://httpbin.orgpost/\n",
      "http://httpbin.orgpost/foo=1&bar=2\n"
     ]
    }
   ],
   "source": [
    "# Solution cell\n",
    "\n",
    "def buildURL(location, resource, protocol='http', query_string=None):\n",
    "    '''\n",
    "    This function builds a url\n",
    "    \n",
    "    Parameters: location: the location of the url\n",
    "                resource: the resource of the url\n",
    "                protocol: the protocol defaulint got http\n",
    "                query_string: the query_string of url defaulting\n",
    "                to None\n",
    "    Return: url: the url that is requested\n",
    "    '''\n",
    "    if (resource[0] != '/'):\n",
    "        resource = resource + '/'\n",
    "    url = protocol + '://' + location + resource\n",
    "    if (query_string != None):\n",
    "        url = url + query_string\n",
    "    return url\n",
    "\n",
    "print(buildURL('httpbin.org', 'get'))\n",
    "print(buildURL(\"datasystems.denison.edu\",\n",
    "               \"/data/ind0.json\", protocol=\"https\"))\n",
    "print(buildURL('httpbin.org', 'post'))\n",
    "print(buildURL('httpbin.org', 'post', query_string=\"foo=1&bar=2\"))\n"
   ]
  },
  {
   "cell_type": "code",
   "execution_count": 39,
   "metadata": {
    "deletable": false,
    "editable": false,
    "nbgrader": {
     "cell_type": "code",
     "checksum": "085917d37300bb632e85b7dd25a58c8c",
     "grade": true,
     "grade_id": "cell-69c2e7c8f190acc5",
     "locked": true,
     "points": 2,
     "schema_version": 3,
     "solution": false,
     "task": false
    }
   },
   "outputs": [],
   "source": [
    "assert True"
   ]
  },
  {
   "cell_type": "markdown",
   "metadata": {},
   "source": [
    "**Q5** Write, as a global cell sequence of code that starts with:\n",
    "\n",
    "    resource = \"/data/ind0.json\"\n",
    "    location = \"datasystems.denison.edu\"\n",
    "\n",
    "and build an appropriate URL (using the function you just defined), uses `requests` to issue a GET request, and assigns the following variables based on the result:\n",
    "\n",
    "- `stat`: has the integer status code,\n",
    "- `headers`: has a dictionary of headers from the response, and\n",
    "- `body` has the *parsed* data from the JSON-formatted body\n",
    "\n",
    "Be sure and test your solution and print the above variables."
   ]
  },
  {
   "cell_type": "code",
   "execution_count": 49,
   "metadata": {
    "deletable": false,
    "nbgrader": {
     "cell_type": "code",
     "checksum": "2fd28475264c34489c4cc762cdd9f086",
     "grade": false,
     "grade_id": "cell-14cb46ddd8e6baf1",
     "locked": false,
     "schema_version": 3,
     "solution": true,
     "task": false
    }
   },
   "outputs": [
    {
     "name": "stdout",
     "output_type": "stream",
     "text": [
      "200\n",
      "{'Date': 'Mon, 26 Apr 2021 15:40:24 GMT', 'Server': 'Apache/2.4.6 (CentOS)', 'Last-Modified': 'Wed, 16 Dec 2020 23:45:42 GMT', 'ETag': '\"10d-5b69d7922d580\"', 'Accept-Ranges': 'bytes', 'Content-Length': '269', 'Connection': 'close', 'Content-Type': 'application/json'}\n",
      "b'{\"FRA\": {\"2007\": {\"pop\": 64.02, \"gdp\": 2657.21}, \"2017\": {\"pop\": 66.87, \"gdp\": 2586.29}}, \"GBR\": {\"2007\": {\"pop\": 61.32, \"gdp\": 3084.12}, \"2017\": {\"pop\": 66.06, \"gdp\": 2637.87}}, \"USA\": {\"2007\": {\"pop\": 301.23, \"gdp\": 14451.9}, \"2017\": {\"pop\": 325.15, \"gdp\": 19485.4}}}'\n"
     ]
    }
   ],
   "source": [
    "resource = \"/data/ind0.json\"\n",
    "location = \"datasystems.denison.edu\"\n",
    "url = buildURL(location, resource)\n",
    "response = requests.get(url)\n",
    "stat = response.status_code\n",
    "headers = response.headers\n",
    "body = response.content\n",
    "print(stat)\n",
    "print(headers)\n",
    "print(body)"
   ]
  },
  {
   "cell_type": "code",
   "execution_count": 50,
   "metadata": {
    "deletable": false,
    "editable": false,
    "nbgrader": {
     "cell_type": "code",
     "checksum": "009cd011e52a07c0b747e6e046a7b49a",
     "grade": true,
     "grade_id": "cell-bf220f97caf5902b",
     "locked": true,
     "points": 2,
     "schema_version": 3,
     "solution": false,
     "task": false
    }
   },
   "outputs": [],
   "source": [
    "assert True"
   ]
  },
  {
   "cell_type": "markdown",
   "metadata": {},
   "source": [
    "**Q6** Suppose you often coded a similar set of steps to make a GET request, where often the body of the result was JSON, in which case you wanted the data parsed, but sometimes the data was *not* JSON, in which case you wanted the data as a string.  Write a function\n",
    "\n",
    "     makeRequest(location, resource, protocol=\"http\")\n",
    "\n",
    "that makes a GET request to the given `location`, `resource`, and `protocol`.  If the request is *not* successful (i.e. not in the 200's), the function should check for this and return `None`.  If the request is successful, the function should *use the response headers* and determine whether or not the `Content-Type` header maps to `application/json`.  If it is, it should parse the result and return the data structure.  If it is not, it should return the string making up the body of the response.\n",
    "\n",
    "For an extra credit point, extend this `makeRequest` to add an optional (default-valued) named parameter for a query string."
   ]
  },
  {
   "cell_type": "code",
   "execution_count": 51,
   "metadata": {
    "deletable": false,
    "nbgrader": {
     "cell_type": "code",
     "checksum": "dbc4a6c3553ff9dd29b463cf420f675b",
     "grade": false,
     "grade_id": "cell-42f9658b92a67867",
     "locked": false,
     "schema_version": 3,
     "solution": true,
     "task": false
    }
   },
   "outputs": [],
   "source": [
    "def makeRequest(location, resource, protocol=\"http\", query_string=None):\n",
    "    '''\n",
    "    This function makes a request with a wanted url and returns\n",
    "    the content or a data structure of a json\n",
    "    \n",
    "    Parameters: location: the location of the url\n",
    "                resource: the resource of the url\n",
    "                protocol: protocol of the url defaulting to http\n",
    "                querey_string: query_string of url defaulting to None\n",
    "                \n",
    "    Return: content of the request\n",
    "    '''\n",
    "    url = buildURL(location, resource, protocol, query_string)\n",
    "    try:\n",
    "        response = requests.get(url)\n",
    "        if(response.status_code == 200):\n",
    "            return None\n",
    "        headers = response.headers\n",
    "        if(headers(\"Content-Type\") == \"application/json\"):\n",
    "            return response.json()\n",
    "        else:\n",
    "            return response.content\n",
    "        \n",
    "    except:\n",
    "        return None"
   ]
  },
  {
   "cell_type": "code",
   "execution_count": 52,
   "metadata": {
    "deletable": false,
    "editable": false,
    "nbgrader": {
     "cell_type": "code",
     "checksum": "03393328720c843fae9664978b741fb2",
     "grade": true,
     "grade_id": "cell-190fd26832fab147",
     "locked": true,
     "points": 2,
     "schema_version": 3,
     "solution": false,
     "task": false
    }
   },
   "outputs": [],
   "source": [
    "assert True"
   ]
  },
  {
   "cell_type": "markdown",
   "metadata": {},
   "source": [
    "**Q7** You have probably had the experience before of trying to open a webpage, and having a redirect page pop up, telling you that the page has moved and asking if you want to be redirected. The same thing can happen when we write code to make requests. Write a function:\n",
    "\n",
    "\n",
    "    getRedirectURL(location, resource)\n",
    "\n",
    "\n",
    "that begins like your function `makeRequest` but **does *not* allow redirects** when invoking `get`. Look carefully at table 20.5 in the book for how you can do this.  This function will return a *url*. If the `get` results in a success status code (one in the 200's), you return the original url (obtained from `buildURL`, with `http` protocol). If you detect that `get` tried to redirect  (by looking for a 300, 301, or 302 status code), **search within the headers** to find the `\"Location\"` it tried to redirect to, and return that URL instead. If you get any other status code, return `None`."
   ]
  },
  {
   "cell_type": "code",
   "execution_count": 53,
   "metadata": {
    "deletable": false,
    "nbgrader": {
     "cell_type": "code",
     "checksum": "a956ea7d5861c9997a55dd10f010cc28",
     "grade": false,
     "grade_id": "cell-89f12ddaa926de09",
     "locked": false,
     "schema_version": 3,
     "solution": true,
     "task": false
    }
   },
   "outputs": [
    {
     "name": "stdout",
     "output_type": "stream",
     "text": [
      "http://personal.denison.edu/~kretchmar\n",
      "http://personal.denison.edu/~kretchmar/\n",
      "http://personal.denison.edu/~whiteda/DenisonWebsiteInfo.pdf\n"
     ]
    }
   ],
   "source": [
    "# Solution cell\n",
    "\n",
    "def getRedirectURL(location, resource):\n",
    "    '''\n",
    "    This function returns the redirected url from request\n",
    "    \n",
    "    Paramter: location: location of the url\n",
    "              resource: resource of the url\n",
    "              \n",
    "    Return: the redirected url\n",
    "    '''\n",
    "    url = buildURL(location, resource)\n",
    "    response = requests.get(url)\n",
    "    if (response.status_code == 200):\n",
    "        return url\n",
    "    else:\n",
    "        return response.url\n",
    "\n",
    "print(getRedirectURL(\"personal.denison.edu\", '/~kretchmar'))\n",
    "print(getRedirectURL(\"personal.denison.edu\", '/~kretchmar/'))\n",
    "print(getRedirectURL(\"personal.denison.edu\", '/~whiteda/DenisonWebsiteInfo.pdf'))"
   ]
  },
  {
   "cell_type": "code",
   "execution_count": null,
   "metadata": {
    "deletable": false,
    "editable": false,
    "nbgrader": {
     "cell_type": "code",
     "checksum": "dfb4982b6c59f54b376274c3129d35a1",
     "grade": true,
     "grade_id": "cell-ca2c752069c0ac5b",
     "locked": true,
     "points": 2,
     "schema_version": 3,
     "solution": false,
     "task": false
    }
   },
   "outputs": [],
   "source": [
    "assert True"
   ]
  }
 ],
 "metadata": {
  "kernelspec": {
   "display_name": "Python 3",
   "language": "python",
   "name": "python3"
  },
  "language_info": {
   "codemirror_mode": {
    "name": "ipython",
    "version": 3
   },
   "file_extension": ".py",
   "mimetype": "text/x-python",
   "name": "python",
   "nbconvert_exporter": "python",
   "pygments_lexer": "ipython3",
   "version": "3.8.5"
  }
 },
 "nbformat": 4,
 "nbformat_minor": 5
}
