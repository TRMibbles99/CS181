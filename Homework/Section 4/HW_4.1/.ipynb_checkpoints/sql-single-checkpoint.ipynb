{
 "cells": [
  {
   "cell_type": "markdown",
   "metadata": {},
   "source": [
    "# Denison CS-181/DA-210 Homework"
   ]
  },
  {
   "cell_type": "markdown",
   "metadata": {},
   "source": [
    "---"
   ]
  },
  {
   "cell_type": "markdown",
   "metadata": {},
   "source": [
    "## Single Table SQL Exercises\n",
    "\n",
    "In the following set of exercises, the focus is on the SQL and not on the Python Programming.  You are encouraged to use an external client, like `TablePlus` to design, debug, and incrementally develop your SQL answers.  Like in the IC on basic SQL statements, in each question you modify so that the Python variable `query` has the string value of your SQL.\n",
    "\n",
    "**Neatness and Readability Count:** Any SQL that has multiple clauses should be broken over multiple lines.  Keywords should be captialized.  Indentation can and should be used to make the SQL more readable."
   ]
  },
  {
   "cell_type": "code",
   "execution_count": 1,
   "metadata": {},
   "outputs": [],
   "source": [
    "import os\n",
    "import sys\n",
    "import lxml\n",
    "import pandas as pd\n",
    "from IPython.display import Markdown as md\n",
    "\n",
    "def add_modules():\n",
    "    \"\"\"\n",
    "    Starting at the current directory and proceeding up the file system\n",
    "    tree, search for a directory named `modules`.  If found, and if not\n",
    "    already there, add to the Python module search path.\n",
    "    \n",
    "    Params: None\n",
    "    \n",
    "    Return: None\n",
    "    \"\"\"\n",
    "    directory = \".\"\n",
    "    levels = 0\n",
    "    while not os.path.isdir(os.path.join(directory, \"modules\")) and \\\n",
    "          levels < 5:\n",
    "        directory = os.path.join(directory, \"..\")\n",
    "        levels += 1\n",
    "    module_path = os.path.abspath(os.path.join(directory, \"modules\"))\n",
    "    if os.path.isdir(module_path):\n",
    "        if not module_path in sys.path:\n",
    "            sys.path.append(module_path)\n",
    "\n",
    "add_modules()\n",
    "import util\n",
    "\n",
    "datadir = util.resolve_dir(\"dbfiles\")"
   ]
  },
  {
   "cell_type": "markdown",
   "metadata": {},
   "source": [
    "-----\n",
    "**Q1:** In reference to the table `indicators`, write a query to find the unique country codes that appear.  Results should be in alphabetical order."
   ]
  },
  {
   "cell_type": "code",
   "execution_count": 4,
   "metadata": {
    "deletable": false,
    "nbgrader": {
     "cell_type": "code",
     "checksum": "1918e5526dee234a26d8135532815246",
     "grade": false,
     "grade_id": "cell-7a2eee4614c82371",
     "locked": false,
     "schema_version": 3,
     "solution": true,
     "task": false
    }
   },
   "outputs": [
    {
     "name": "stdout",
     "output_type": "stream",
     "text": [
      "Row Count: 218\n"
     ]
    },
    {
     "data": {
      "text/html": [
       "<div>\n",
       "<style scoped>\n",
       "    .dataframe tbody tr th:only-of-type {\n",
       "        vertical-align: middle;\n",
       "    }\n",
       "\n",
       "    .dataframe tbody tr th {\n",
       "        vertical-align: top;\n",
       "    }\n",
       "\n",
       "    .dataframe thead th {\n",
       "        text-align: right;\n",
       "    }\n",
       "</style>\n",
       "<table border=\"1\" class=\"dataframe\">\n",
       "  <thead>\n",
       "    <tr style=\"text-align: right;\">\n",
       "      <th></th>\n",
       "      <th>code</th>\n",
       "    </tr>\n",
       "  </thead>\n",
       "  <tbody>\n",
       "    <tr>\n",
       "      <th>0</th>\n",
       "      <td>ABW</td>\n",
       "    </tr>\n",
       "    <tr>\n",
       "      <th>1</th>\n",
       "      <td>AFG</td>\n",
       "    </tr>\n",
       "    <tr>\n",
       "      <th>2</th>\n",
       "      <td>AGO</td>\n",
       "    </tr>\n",
       "    <tr>\n",
       "      <th>3</th>\n",
       "      <td>ALB</td>\n",
       "    </tr>\n",
       "    <tr>\n",
       "      <th>4</th>\n",
       "      <td>AND</td>\n",
       "    </tr>\n",
       "  </tbody>\n",
       "</table>\n",
       "</div>"
      ],
      "text/plain": [
       "  code\n",
       "0  ABW\n",
       "1  AFG\n",
       "2  AGO\n",
       "3  ALB\n",
       "4  AND"
      ]
     },
     "execution_count": 4,
     "metadata": {},
     "output_type": "execute_result"
    }
   ],
   "source": [
    "query = \"\"\"\n",
    "SELECT DISTINCT code\n",
    "FROM indicators\n",
    "ORDER BY code ASC\n",
    "\"\"\"\n",
    "\n",
    "result_df = util.sqlite_query(datadir, \"book\", query)\n",
    "if result_df is None:\n",
    "    print(\"EMPTY TABLE RESULT\")\n",
    "print(\"Row Count:\", len(result_df))\n",
    "result_df.head()"
   ]
  },
  {
   "cell_type": "code",
   "execution_count": 5,
   "metadata": {
    "jupyter": {
     "source_hidden": true
    }
   },
   "outputs": [
    {
     "data": {
      "text/markdown": [
       "\n",
       "```sql\n",
       "\n",
       "SELECT DISTINCT code\n",
       "FROM indicators\n",
       "ORDER BY code ASC\n",
       "\n",
       "```"
      ],
      "text/plain": [
       "<IPython.core.display.Markdown object>"
      ]
     },
     "execution_count": 5,
     "metadata": {},
     "output_type": "execute_result"
    }
   ],
   "source": [
    "md(f\"\"\"\\n```sql\\n{query}\\n```\"\"\")"
   ]
  },
  {
   "cell_type": "code",
   "execution_count": 6,
   "metadata": {
    "deletable": false,
    "editable": false,
    "nbgrader": {
     "cell_type": "code",
     "checksum": "7e5e9720f9d2f410481036bed1f45e99",
     "grade": true,
     "grade_id": "cell-9155531bce1ab65e",
     "locked": true,
     "points": 2,
     "schema_version": 3,
     "solution": false,
     "task": false
    }
   },
   "outputs": [],
   "source": [
    "# Testing cell\n",
    "assert True"
   ]
  },
  {
   "cell_type": "markdown",
   "metadata": {},
   "source": [
    "-----\n",
    "**Q2:** In reference to the table `indicators`, write a query to find the set of rows for which `gdp` is missing data.  Project the year and the code columns for such rows.  In a comment line, and thinking about the result, state what you might do to better understand the instances of missing gdp."
   ]
  },
  {
   "cell_type": "code",
   "execution_count": 14,
   "metadata": {
    "deletable": false,
    "nbgrader": {
     "cell_type": "code",
     "checksum": "37ebbf37d720c9be00fe2aea2c5f1339",
     "grade": false,
     "grade_id": "cell-48d593cbcb6a8693",
     "locked": false,
     "schema_version": 3,
     "solution": true,
     "task": false
    }
   },
   "outputs": [
    {
     "name": "stdout",
     "output_type": "stream",
     "text": [
      "Row Count: 3202\n"
     ]
    },
    {
     "data": {
      "text/html": [
       "<div>\n",
       "<style scoped>\n",
       "    .dataframe tbody tr th:only-of-type {\n",
       "        vertical-align: middle;\n",
       "    }\n",
       "\n",
       "    .dataframe tbody tr th {\n",
       "        vertical-align: top;\n",
       "    }\n",
       "\n",
       "    .dataframe thead th {\n",
       "        text-align: right;\n",
       "    }\n",
       "</style>\n",
       "<table border=\"1\" class=\"dataframe\">\n",
       "  <thead>\n",
       "    <tr style=\"text-align: right;\">\n",
       "      <th></th>\n",
       "      <th>year</th>\n",
       "      <th>code</th>\n",
       "    </tr>\n",
       "  </thead>\n",
       "  <tbody>\n",
       "    <tr>\n",
       "      <th>0</th>\n",
       "      <td>1960</td>\n",
       "      <td>ABW</td>\n",
       "    </tr>\n",
       "    <tr>\n",
       "      <th>1</th>\n",
       "      <td>1960</td>\n",
       "      <td>AGO</td>\n",
       "    </tr>\n",
       "    <tr>\n",
       "      <th>2</th>\n",
       "      <td>1960</td>\n",
       "      <td>ALB</td>\n",
       "    </tr>\n",
       "    <tr>\n",
       "      <th>3</th>\n",
       "      <td>1960</td>\n",
       "      <td>AND</td>\n",
       "    </tr>\n",
       "    <tr>\n",
       "      <th>4</th>\n",
       "      <td>1960</td>\n",
       "      <td>ARE</td>\n",
       "    </tr>\n",
       "  </tbody>\n",
       "</table>\n",
       "</div>"
      ],
      "text/plain": [
       "   year code\n",
       "0  1960  ABW\n",
       "1  1960  AGO\n",
       "2  1960  ALB\n",
       "3  1960  AND\n",
       "4  1960  ARE"
      ]
     },
     "execution_count": 14,
     "metadata": {},
     "output_type": "execute_result"
    }
   ],
   "source": [
    "query = \"\"\"\n",
    "SELECT year, code\n",
    "FROM indicators\n",
    "WHERE gdp IS NULL\n",
    "\"\"\"\n",
    "\n",
    "result_df = util.sqlite_query(datadir, \"book\", query)\n",
    "if result_df is None:\n",
    "    print(\"EMPTY TABLE RESULT\")\n",
    "print(\"Row Count:\", len(result_df))\n",
    "result_df.head()"
   ]
  },
  {
   "cell_type": "code",
   "execution_count": 15,
   "metadata": {
    "jupyter": {
     "source_hidden": true
    }
   },
   "outputs": [
    {
     "data": {
      "text/markdown": [
       "\n",
       "```sql\n",
       "\n",
       "SELECT year, code\n",
       "FROM indicators\n",
       "WHERE gdp IS NULL\n",
       "\n",
       "```"
      ],
      "text/plain": [
       "<IPython.core.display.Markdown object>"
      ]
     },
     "execution_count": 15,
     "metadata": {},
     "output_type": "execute_result"
    }
   ],
   "source": [
    "md(f\"\"\"\\n```sql\\n{query}\\n```\"\"\")"
   ]
  },
  {
   "cell_type": "code",
   "execution_count": 16,
   "metadata": {
    "deletable": false,
    "editable": false,
    "nbgrader": {
     "cell_type": "code",
     "checksum": "ac34162e32e969b68e70f3312cac8e53",
     "grade": true,
     "grade_id": "cell-ed6adb78cfe180a0",
     "locked": true,
     "points": 2,
     "schema_version": 3,
     "solution": false,
     "task": false
    }
   },
   "outputs": [],
   "source": [
    "# Testing cell\n",
    "assert True"
   ]
  },
  {
   "cell_type": "markdown",
   "metadata": {},
   "source": [
    "-----\n",
    "**Q3:** In reference to the table `indicators`, write a quey that obtains the rows where `cell` is **not missing** and where cell is non-zero.  Project columns code, year, and cell in increasing value of cell."
   ]
  },
  {
   "cell_type": "code",
   "execution_count": 18,
   "metadata": {
    "deletable": false,
    "nbgrader": {
     "cell_type": "code",
     "checksum": "3d72cd267c97c87acd4555f414f452f2",
     "grade": false,
     "grade_id": "cell-21d1fb3e7bf714e8",
     "locked": false,
     "schema_version": 3,
     "solution": true,
     "task": false
    }
   },
   "outputs": [
    {
     "name": "stdout",
     "output_type": "stream",
     "text": [
      "Row Count: 4623\n"
     ]
    },
    {
     "data": {
      "text/html": [
       "<div>\n",
       "<style scoped>\n",
       "    .dataframe tbody tr th:only-of-type {\n",
       "        vertical-align: middle;\n",
       "    }\n",
       "\n",
       "    .dataframe tbody tr th {\n",
       "        vertical-align: top;\n",
       "    }\n",
       "\n",
       "    .dataframe thead th {\n",
       "        text-align: right;\n",
       "    }\n",
       "</style>\n",
       "<table border=\"1\" class=\"dataframe\">\n",
       "  <thead>\n",
       "    <tr style=\"text-align: right;\">\n",
       "      <th></th>\n",
       "      <th>code</th>\n",
       "      <th>year</th>\n",
       "      <th>cell</th>\n",
       "    </tr>\n",
       "  </thead>\n",
       "  <tbody>\n",
       "    <tr>\n",
       "      <th>0</th>\n",
       "      <td>JPN</td>\n",
       "      <td>1981</td>\n",
       "      <td>0.01</td>\n",
       "    </tr>\n",
       "    <tr>\n",
       "      <th>1</th>\n",
       "      <td>DNK</td>\n",
       "      <td>1982</td>\n",
       "      <td>0.01</td>\n",
       "    </tr>\n",
       "    <tr>\n",
       "      <th>2</th>\n",
       "      <td>NOR</td>\n",
       "      <td>1982</td>\n",
       "      <td>0.01</td>\n",
       "    </tr>\n",
       "    <tr>\n",
       "      <th>3</th>\n",
       "      <td>ARE</td>\n",
       "      <td>1985</td>\n",
       "      <td>0.01</td>\n",
       "    </tr>\n",
       "    <tr>\n",
       "      <th>4</th>\n",
       "      <td>AUT</td>\n",
       "      <td>1985</td>\n",
       "      <td>0.01</td>\n",
       "    </tr>\n",
       "  </tbody>\n",
       "</table>\n",
       "</div>"
      ],
      "text/plain": [
       "  code  year  cell\n",
       "0  JPN  1981  0.01\n",
       "1  DNK  1982  0.01\n",
       "2  NOR  1982  0.01\n",
       "3  ARE  1985  0.01\n",
       "4  AUT  1985  0.01"
      ]
     },
     "execution_count": 18,
     "metadata": {},
     "output_type": "execute_result"
    }
   ],
   "source": [
    "query = \"\"\"\n",
    "SELECT code, year, cell\n",
    "FROM indicators\n",
    "WHERE cell NOT NULL AND cell > 0.0\n",
    "ORDER BY cell ASC\n",
    "\"\"\"\n",
    "\n",
    "result_df = util.sqlite_query(datadir, \"book\", query)\n",
    "if result_df is None:\n",
    "    print(\"EMPTY TABLE RESULT\")\n",
    "print(\"Row Count:\", len(result_df))\n",
    "result_df.head()"
   ]
  },
  {
   "cell_type": "code",
   "execution_count": 19,
   "metadata": {
    "jupyter": {
     "source_hidden": true
    }
   },
   "outputs": [
    {
     "data": {
      "text/markdown": [
       "\n",
       "```sql\n",
       "\n",
       "SELECT code, year, cell\n",
       "FROM indicators\n",
       "WHERE cell NOT NULL AND cell > 0.0\n",
       "ORDER BY cell ASC\n",
       "\n",
       "```"
      ],
      "text/plain": [
       "<IPython.core.display.Markdown object>"
      ]
     },
     "execution_count": 19,
     "metadata": {},
     "output_type": "execute_result"
    }
   ],
   "source": [
    "md(f\"\"\"\\n```sql\\n{query}\\n```\"\"\")"
   ]
  },
  {
   "cell_type": "code",
   "execution_count": 20,
   "metadata": {
    "deletable": false,
    "editable": false,
    "nbgrader": {
     "cell_type": "code",
     "checksum": "f64cd6c7d4462f163092e01f5b60ebba",
     "grade": true,
     "grade_id": "cell-eac9aa8dcbf3a443",
     "locked": true,
     "points": 2,
     "schema_version": 3,
     "solution": false,
     "task": false
    }
   },
   "outputs": [],
   "source": [
    "# Testing cell\n",
    "assert True"
   ]
  },
  {
   "cell_type": "markdown",
   "metadata": {},
   "source": [
    "-----\n",
    "**Q4:** Suppose we want to find out in what country and in what year was the greatest number of cell phones.  The answer should be apparent from the results of the query and, ideally, the answer should consist of a single row.  Again we want year, code, and cell values."
   ]
  },
  {
   "cell_type": "code",
   "execution_count": 22,
   "metadata": {
    "deletable": false,
    "nbgrader": {
     "cell_type": "code",
     "checksum": "33484d8ffe7459b59d7eb42b64bd7487",
     "grade": false,
     "grade_id": "cell-07dcd7588afd678b",
     "locked": false,
     "schema_version": 3,
     "solution": true,
     "task": false
    }
   },
   "outputs": [
    {
     "name": "stdout",
     "output_type": "stream",
     "text": [
      "Row Count: 1\n"
     ]
    },
    {
     "data": {
      "text/html": [
       "<div>\n",
       "<style scoped>\n",
       "    .dataframe tbody tr th:only-of-type {\n",
       "        vertical-align: middle;\n",
       "    }\n",
       "\n",
       "    .dataframe tbody tr th {\n",
       "        vertical-align: top;\n",
       "    }\n",
       "\n",
       "    .dataframe thead th {\n",
       "        text-align: right;\n",
       "    }\n",
       "</style>\n",
       "<table border=\"1\" class=\"dataframe\">\n",
       "  <thead>\n",
       "    <tr style=\"text-align: right;\">\n",
       "      <th></th>\n",
       "      <th>year</th>\n",
       "      <th>code</th>\n",
       "      <th>MAX(cell)</th>\n",
       "    </tr>\n",
       "  </thead>\n",
       "  <tbody>\n",
       "    <tr>\n",
       "      <th>0</th>\n",
       "      <td>2017</td>\n",
       "      <td>CHN</td>\n",
       "      <td>1469.88</td>\n",
       "    </tr>\n",
       "  </tbody>\n",
       "</table>\n",
       "</div>"
      ],
      "text/plain": [
       "   year code  MAX(cell)\n",
       "0  2017  CHN    1469.88"
      ]
     },
     "execution_count": 22,
     "metadata": {},
     "output_type": "execute_result"
    }
   ],
   "source": [
    "query = \"\"\"\n",
    "SELECT year, code, MAX(cell)\n",
    "FROM indicators\n",
    "\"\"\"\n",
    "\n",
    "result_df = util.sqlite_query(datadir, \"book\", query)\n",
    "if result_df is None:\n",
    "    print(\"EMPTY TABLE RESULT\")\n",
    "print(\"Row Count:\", len(result_df))\n",
    "result_df.head()"
   ]
  },
  {
   "cell_type": "code",
   "execution_count": 23,
   "metadata": {
    "jupyter": {
     "source_hidden": true
    }
   },
   "outputs": [
    {
     "data": {
      "text/markdown": [
       "\n",
       "```sql\n",
       "\n",
       "SELECT year, code, MAX(cell)\n",
       "FROM indicators\n",
       "\n",
       "```"
      ],
      "text/plain": [
       "<IPython.core.display.Markdown object>"
      ]
     },
     "execution_count": 23,
     "metadata": {},
     "output_type": "execute_result"
    }
   ],
   "source": [
    "md(f\"\"\"\\n```sql\\n{query}\\n```\"\"\")"
   ]
  },
  {
   "cell_type": "code",
   "execution_count": 24,
   "metadata": {
    "deletable": false,
    "editable": false,
    "nbgrader": {
     "cell_type": "code",
     "checksum": "e595b3300d8163c4bf1e9aae269b3f05",
     "grade": true,
     "grade_id": "cell-550b50d9f0420f0b",
     "locked": true,
     "points": 2,
     "schema_version": 3,
     "solution": false,
     "task": false
    }
   },
   "outputs": [],
   "source": [
    "# Testing cell\n",
    "assert True"
   ]
  },
  {
   "cell_type": "markdown",
   "metadata": {},
   "source": [
    "-----\n",
    "**Q5:** Use a subquery to select the top ten entries in indicators by population, then select the bottom three of those by gdp.  For both the subquery and the main query, you can project all available columns."
   ]
  },
  {
   "cell_type": "code",
   "execution_count": 37,
   "metadata": {
    "deletable": false,
    "nbgrader": {
     "cell_type": "code",
     "checksum": "855738e2123313ff9f3d8223cd77c03b",
     "grade": false,
     "grade_id": "cell-6b764bc2f3797d31",
     "locked": false,
     "schema_version": 3,
     "solution": true,
     "task": false
    }
   },
   "outputs": [
    {
     "name": "stdout",
     "output_type": "stream",
     "text": [
      "Row Count: 3\n"
     ]
    },
    {
     "data": {
      "text/html": [
       "<div>\n",
       "<style scoped>\n",
       "    .dataframe tbody tr th:only-of-type {\n",
       "        vertical-align: middle;\n",
       "    }\n",
       "\n",
       "    .dataframe tbody tr th {\n",
       "        vertical-align: top;\n",
       "    }\n",
       "\n",
       "    .dataframe thead th {\n",
       "        text-align: right;\n",
       "    }\n",
       "</style>\n",
       "<table border=\"1\" class=\"dataframe\">\n",
       "  <thead>\n",
       "    <tr style=\"text-align: right;\">\n",
       "      <th></th>\n",
       "      <th>year</th>\n",
       "      <th>code</th>\n",
       "      <th>pop</th>\n",
       "      <th>gdp</th>\n",
       "      <th>life</th>\n",
       "      <th>cell</th>\n",
       "      <th>imports</th>\n",
       "      <th>exports</th>\n",
       "    </tr>\n",
       "  </thead>\n",
       "  <tbody>\n",
       "    <tr>\n",
       "      <th>0</th>\n",
       "      <td>2017</td>\n",
       "      <td>IND</td>\n",
       "      <td>1338.66</td>\n",
       "      <td>2652.55</td>\n",
       "      <td>68.8</td>\n",
       "      <td>1168.90</td>\n",
       "      <td>442983.0</td>\n",
       "      <td>296212.0</td>\n",
       "    </tr>\n",
       "    <tr>\n",
       "      <th>1</th>\n",
       "      <td>2018</td>\n",
       "      <td>IND</td>\n",
       "      <td>1352.62</td>\n",
       "      <td>2726.32</td>\n",
       "      <td>NaN</td>\n",
       "      <td>NaN</td>\n",
       "      <td>NaN</td>\n",
       "      <td>NaN</td>\n",
       "    </tr>\n",
       "    <tr>\n",
       "      <th>2</th>\n",
       "      <td>2011</td>\n",
       "      <td>CHN</td>\n",
       "      <td>1344.13</td>\n",
       "      <td>7551.50</td>\n",
       "      <td>75.4</td>\n",
       "      <td>986.25</td>\n",
       "      <td>1741430.0</td>\n",
       "      <td>1899280.0</td>\n",
       "    </tr>\n",
       "  </tbody>\n",
       "</table>\n",
       "</div>"
      ],
      "text/plain": [
       "   year code      pop      gdp  life     cell    imports    exports\n",
       "0  2017  IND  1338.66  2652.55  68.8  1168.90   442983.0   296212.0\n",
       "1  2018  IND  1352.62  2726.32   NaN      NaN        NaN        NaN\n",
       "2  2011  CHN  1344.13  7551.50  75.4   986.25  1741430.0  1899280.0"
      ]
     },
     "execution_count": 37,
     "metadata": {},
     "output_type": "execute_result"
    }
   ],
   "source": [
    "query = \"\"\"\n",
    "SELECT *\n",
    "FROM (SELECT *\n",
    "      FROM indicators\n",
    "      ORDER BY pop DESC\n",
    "      LIMIT 10)\n",
    "ORDER BY gdp ASC\n",
    "LIMIT 3\n",
    "\"\"\"\n",
    "\n",
    "\n",
    "result_df = util.sqlite_query(datadir, \"book\", query)\n",
    "if result_df is None:\n",
    "    print(\"EMPTY TABLE RESULT\")\n",
    "print(\"Row Count:\", len(result_df))\n",
    "result_df.head()"
   ]
  },
  {
   "cell_type": "code",
   "execution_count": 38,
   "metadata": {
    "jupyter": {
     "source_hidden": true
    }
   },
   "outputs": [
    {
     "data": {
      "text/markdown": [
       "\n",
       "```sql\n",
       "\n",
       "SELECT *\n",
       "FROM (SELECT *\n",
       "      FROM indicators\n",
       "      ORDER BY pop DESC\n",
       "      LIMIT 10)\n",
       "ORDER BY gdp ASC\n",
       "LIMIT 3\n",
       "\n",
       "```"
      ],
      "text/plain": [
       "<IPython.core.display.Markdown object>"
      ]
     },
     "execution_count": 38,
     "metadata": {},
     "output_type": "execute_result"
    }
   ],
   "source": [
    "md(f\"\"\"\\n```sql\\n{query}\\n```\"\"\")"
   ]
  },
  {
   "cell_type": "code",
   "execution_count": 39,
   "metadata": {
    "deletable": false,
    "editable": false,
    "nbgrader": {
     "cell_type": "code",
     "checksum": "443cee7b1d6a544040bde373d216f631",
     "grade": true,
     "grade_id": "cell-a0f5f71f1b797926",
     "locked": true,
     "points": 2,
     "schema_version": 3,
     "solution": false,
     "task": false
    }
   },
   "outputs": [],
   "source": [
    "# Testing cell\n",
    "assert True"
   ]
  },
  {
   "cell_type": "markdown",
   "metadata": {},
   "source": [
    "-----\n",
    "**Q6:** In reference to the table indicators, write a query to find all rows with no missing data for any of the numeric fields.  You may project all columns, and rows should be ordered in decreasing order of year and increaseing order of country code."
   ]
  },
  {
   "cell_type": "code",
   "execution_count": 45,
   "metadata": {
    "deletable": false,
    "nbgrader": {
     "cell_type": "code",
     "checksum": "98a389f5f937aba5ef575789c37a779f",
     "grade": false,
     "grade_id": "cell-b77f5e74e49a79c0",
     "locked": false,
     "schema_version": 3,
     "solution": true,
     "task": false
    }
   },
   "outputs": [
    {
     "name": "stdout",
     "output_type": "stream",
     "text": [
      "Row Count: 6958\n"
     ]
    },
    {
     "data": {
      "text/html": [
       "<div>\n",
       "<style scoped>\n",
       "    .dataframe tbody tr th:only-of-type {\n",
       "        vertical-align: middle;\n",
       "    }\n",
       "\n",
       "    .dataframe tbody tr th {\n",
       "        vertical-align: top;\n",
       "    }\n",
       "\n",
       "    .dataframe thead th {\n",
       "        text-align: right;\n",
       "    }\n",
       "</style>\n",
       "<table border=\"1\" class=\"dataframe\">\n",
       "  <thead>\n",
       "    <tr style=\"text-align: right;\">\n",
       "      <th></th>\n",
       "      <th>year</th>\n",
       "      <th>code</th>\n",
       "      <th>pop</th>\n",
       "      <th>gdp</th>\n",
       "      <th>life</th>\n",
       "      <th>cell</th>\n",
       "      <th>imports</th>\n",
       "      <th>exports</th>\n",
       "    </tr>\n",
       "  </thead>\n",
       "  <tbody>\n",
       "    <tr>\n",
       "      <th>0</th>\n",
       "      <td>2015</td>\n",
       "      <td>ABW</td>\n",
       "      <td>0.1</td>\n",
       "      <td>2.69</td>\n",
       "      <td>75.7</td>\n",
       "      <td>0.14</td>\n",
       "      <td>1165.33</td>\n",
       "      <td>79.45</td>\n",
       "    </tr>\n",
       "    <tr>\n",
       "      <th>1</th>\n",
       "      <td>2014</td>\n",
       "      <td>ABW</td>\n",
       "      <td>0.1</td>\n",
       "      <td>2.65</td>\n",
       "      <td>75.6</td>\n",
       "      <td>0.14</td>\n",
       "      <td>1261.56</td>\n",
       "      <td>110.83</td>\n",
       "    </tr>\n",
       "    <tr>\n",
       "      <th>2</th>\n",
       "      <td>2013</td>\n",
       "      <td>ABW</td>\n",
       "      <td>0.1</td>\n",
       "      <td>2.58</td>\n",
       "      <td>75.4</td>\n",
       "      <td>0.14</td>\n",
       "      <td>1302.98</td>\n",
       "      <td>167.75</td>\n",
       "    </tr>\n",
       "    <tr>\n",
       "      <th>3</th>\n",
       "      <td>2012</td>\n",
       "      <td>ABW</td>\n",
       "      <td>0.1</td>\n",
       "      <td>2.53</td>\n",
       "      <td>75.3</td>\n",
       "      <td>0.14</td>\n",
       "      <td>1257.45</td>\n",
       "      <td>172.96</td>\n",
       "    </tr>\n",
       "    <tr>\n",
       "      <th>4</th>\n",
       "      <td>2010</td>\n",
       "      <td>ABW</td>\n",
       "      <td>0.1</td>\n",
       "      <td>2.39</td>\n",
       "      <td>75.0</td>\n",
       "      <td>0.13</td>\n",
       "      <td>1068.99</td>\n",
       "      <td>124.52</td>\n",
       "    </tr>\n",
       "  </tbody>\n",
       "</table>\n",
       "</div>"
      ],
      "text/plain": [
       "   year code  pop   gdp  life  cell  imports  exports\n",
       "0  2015  ABW  0.1  2.69  75.7  0.14  1165.33    79.45\n",
       "1  2014  ABW  0.1  2.65  75.6  0.14  1261.56   110.83\n",
       "2  2013  ABW  0.1  2.58  75.4  0.14  1302.98   167.75\n",
       "3  2012  ABW  0.1  2.53  75.3  0.14  1257.45   172.96\n",
       "4  2010  ABW  0.1  2.39  75.0  0.13  1068.99   124.52"
      ]
     },
     "execution_count": 45,
     "metadata": {},
     "output_type": "execute_result"
    }
   ],
   "source": [
    "query = \"\"\"\n",
    "SELECT *\n",
    "FROM (SELECT *\n",
    "      FROM indicators\n",
    "      WHERE pop NOT NULL AND gdp NOT NULL AND life NOT NULL AND cell NOT NULL AND imports NOT NULL and exports NOT NULL\n",
    "      ORDER BY year DESC)\n",
    "ORDER BY code ASC\n",
    "\"\"\"\n",
    "\n",
    "result_df = util.sqlite_query(datadir, \"book\", query)\n",
    "if result_df is None:\n",
    "    print(\"EMPTY TABLE RESULT\")\n",
    "print(\"Row Count:\", len(result_df))\n",
    "result_df.head()"
   ]
  },
  {
   "cell_type": "code",
   "execution_count": 46,
   "metadata": {
    "jupyter": {
     "source_hidden": true
    }
   },
   "outputs": [
    {
     "data": {
      "text/markdown": [
       "\n",
       "```sql\n",
       "\n",
       "SELECT *\n",
       "FROM (SELECT *\n",
       "      FROM indicators\n",
       "      WHERE pop NOT NULL AND gdp NOT NULL AND life NOT NULL AND cell NOT NULL AND imports NOT NULL and exports NOT NULL\n",
       "      ORDER BY year DESC)\n",
       "ORDER BY code ASC\n",
       "\n",
       "```"
      ],
      "text/plain": [
       "<IPython.core.display.Markdown object>"
      ]
     },
     "execution_count": 46,
     "metadata": {},
     "output_type": "execute_result"
    }
   ],
   "source": [
    "md(f\"\"\"\\n```sql\\n{query}\\n```\"\"\")"
   ]
  },
  {
   "cell_type": "code",
   "execution_count": 47,
   "metadata": {
    "deletable": false,
    "editable": false,
    "nbgrader": {
     "cell_type": "code",
     "checksum": "d9fd3bb88b7a83fa8c6ff9f03e7c9cee",
     "grade": true,
     "grade_id": "cell-3c2b22fe542a46cf",
     "locked": true,
     "points": 2,
     "schema_version": 3,
     "solution": false,
     "task": false
    }
   },
   "outputs": [],
   "source": [
    "# Testing cell\n",
    "assert True"
   ]
  },
  {
   "cell_type": "markdown",
   "metadata": {},
   "source": [
    "-----\n",
    "**Q7:** Suppose, like in the book, we want a subset of the `indicators` data containing rows for the countries `CHN`, `IND`, `GBR`, `VNM`, and `RUS`, and for the years 2007 and 2017.  Construct a query that obtains all columns and just the specified rows.  (So each of the countries should have its two rows the two specified years.)  Order the result by country code and then by year."
   ]
  },
  {
   "cell_type": "code",
   "execution_count": 54,
   "metadata": {
    "deletable": false,
    "nbgrader": {
     "cell_type": "code",
     "checksum": "75eaf040726843af4ec87cc86cf9ce02",
     "grade": false,
     "grade_id": "cell-3434376fedc66ca4",
     "locked": false,
     "schema_version": 3,
     "solution": true,
     "task": false
    }
   },
   "outputs": [
    {
     "name": "stdout",
     "output_type": "stream",
     "text": [
      "Row Count: 436\n"
     ]
    },
    {
     "data": {
      "text/html": [
       "<div>\n",
       "<style scoped>\n",
       "    .dataframe tbody tr th:only-of-type {\n",
       "        vertical-align: middle;\n",
       "    }\n",
       "\n",
       "    .dataframe tbody tr th {\n",
       "        vertical-align: top;\n",
       "    }\n",
       "\n",
       "    .dataframe thead th {\n",
       "        text-align: right;\n",
       "    }\n",
       "</style>\n",
       "<table border=\"1\" class=\"dataframe\">\n",
       "  <thead>\n",
       "    <tr style=\"text-align: right;\">\n",
       "      <th></th>\n",
       "      <th>year</th>\n",
       "      <th>code</th>\n",
       "      <th>pop</th>\n",
       "      <th>gdp</th>\n",
       "      <th>life</th>\n",
       "      <th>cell</th>\n",
       "      <th>imports</th>\n",
       "      <th>exports</th>\n",
       "    </tr>\n",
       "  </thead>\n",
       "  <tbody>\n",
       "    <tr>\n",
       "      <th>0</th>\n",
       "      <td>2017</td>\n",
       "      <td>ABW</td>\n",
       "      <td>0.11</td>\n",
       "      <td>2.70</td>\n",
       "      <td>76.0</td>\n",
       "      <td>NaN</td>\n",
       "      <td>1188.69</td>\n",
       "      <td>89.08</td>\n",
       "    </tr>\n",
       "    <tr>\n",
       "      <th>1</th>\n",
       "      <td>2017</td>\n",
       "      <td>AFG</td>\n",
       "      <td>36.30</td>\n",
       "      <td>20.19</td>\n",
       "      <td>64.0</td>\n",
       "      <td>23.93</td>\n",
       "      <td>6804.74</td>\n",
       "      <td>850.38</td>\n",
       "    </tr>\n",
       "    <tr>\n",
       "      <th>2</th>\n",
       "      <td>2017</td>\n",
       "      <td>AGO</td>\n",
       "      <td>29.82</td>\n",
       "      <td>122.12</td>\n",
       "      <td>61.8</td>\n",
       "      <td>13.32</td>\n",
       "      <td>12010.20</td>\n",
       "      <td>30517.00</td>\n",
       "    </tr>\n",
       "    <tr>\n",
       "      <th>3</th>\n",
       "      <td>2017</td>\n",
       "      <td>ALB</td>\n",
       "      <td>2.87</td>\n",
       "      <td>13.03</td>\n",
       "      <td>78.5</td>\n",
       "      <td>3.63</td>\n",
       "      <td>5670.49</td>\n",
       "      <td>2463.20</td>\n",
       "    </tr>\n",
       "    <tr>\n",
       "      <th>4</th>\n",
       "      <td>2017</td>\n",
       "      <td>AND</td>\n",
       "      <td>0.08</td>\n",
       "      <td>3.01</td>\n",
       "      <td>NaN</td>\n",
       "      <td>0.08</td>\n",
       "      <td>NaN</td>\n",
       "      <td>NaN</td>\n",
       "    </tr>\n",
       "  </tbody>\n",
       "</table>\n",
       "</div>"
      ],
      "text/plain": [
       "   year code    pop     gdp  life   cell   imports   exports\n",
       "0  2017  ABW   0.11    2.70  76.0    NaN   1188.69     89.08\n",
       "1  2017  AFG  36.30   20.19  64.0  23.93   6804.74    850.38\n",
       "2  2017  AGO  29.82  122.12  61.8  13.32  12010.20  30517.00\n",
       "3  2017  ALB   2.87   13.03  78.5   3.63   5670.49   2463.20\n",
       "4  2017  AND   0.08    3.01   NaN   0.08       NaN       NaN"
      ]
     },
     "execution_count": 54,
     "metadata": {},
     "output_type": "execute_result"
    }
   ],
   "source": [
    "query = \"\"\"\n",
    "SELECT *\n",
    "FROM (SELECT *\n",
    "      FROM indicators\n",
    "      WHERE year IN ('2007', '2017')\n",
    "      ORDER BY code ASC)\n",
    "ORDER BY year DESC\n",
    "\"\"\"\n",
    "\n",
    "result_df = util.sqlite_query(datadir, \"book\", query)\n",
    "if result_df is None:\n",
    "    print(\"EMPTY TABLE RESULT\")\n",
    "print(\"Row Count:\", len(result_df))\n",
    "result_df.head()"
   ]
  },
  {
   "cell_type": "code",
   "execution_count": 55,
   "metadata": {},
   "outputs": [
    {
     "data": {
      "text/markdown": [
       "\n",
       "```sql\n",
       "\n",
       "SELECT *\n",
       "FROM (SELECT *\n",
       "      FROM indicators\n",
       "      WHERE year IN ('2007', '2017')\n",
       "      ORDER BY code ASC)\n",
       "ORDER BY year DESC\n",
       "\n",
       "```"
      ],
      "text/plain": [
       "<IPython.core.display.Markdown object>"
      ]
     },
     "execution_count": 55,
     "metadata": {},
     "output_type": "execute_result"
    }
   ],
   "source": [
    "md(f\"\"\"\\n```sql\\n{query}\\n```\"\"\")"
   ]
  },
  {
   "cell_type": "code",
   "execution_count": 56,
   "metadata": {
    "deletable": false,
    "editable": false,
    "nbgrader": {
     "cell_type": "code",
     "checksum": "e51334af4d71318aab17e11d651c22c5",
     "grade": true,
     "grade_id": "cell-8be6964b26ed69ba",
     "locked": true,
     "points": 2,
     "schema_version": 3,
     "solution": false,
     "task": false
    }
   },
   "outputs": [],
   "source": [
    "# Testing cell\n",
    "assert True"
   ]
  },
  {
   "cell_type": "code",
   "execution_count": null,
   "metadata": {},
   "outputs": [],
   "source": []
  }
 ],
 "metadata": {
  "kernelspec": {
   "display_name": "Python 3",
   "language": "python",
   "name": "python3"
  },
  "language_info": {
   "codemirror_mode": {
    "name": "ipython",
    "version": 3
   },
   "file_extension": ".py",
   "mimetype": "text/x-python",
   "name": "python",
   "nbconvert_exporter": "python",
   "pygments_lexer": "ipython3",
   "version": "3.8.5"
  }
 },
 "nbformat": 4,
 "nbformat_minor": 5
}
