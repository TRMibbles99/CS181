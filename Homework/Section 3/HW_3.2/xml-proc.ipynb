{
 "cells": [
  {
   "cell_type": "markdown",
   "metadata": {},
   "source": [
    "# Denison CS-181/DA-210 Homework"
   ]
  },
  {
   "cell_type": "markdown",
   "metadata": {},
   "source": [
    "---"
   ]
  },
  {
   "cell_type": "markdown",
   "metadata": {},
   "source": [
    "## XML Procedural Operations Exercises"
   ]
  },
  {
   "cell_type": "code",
   "execution_count": 90,
   "metadata": {},
   "outputs": [],
   "source": [
    "import os\n",
    "import json\n",
    "import sys\n",
    "import lxml\n",
    "from lxml import etree\n",
    "\n",
    "def add_modules():\n",
    "    \"\"\"\n",
    "    Starting at the current directory and proceeding up the file system\n",
    "    tree, search for a directory named `modules`.  If found, and if not\n",
    "    already there, add to the Python module search path.\n",
    "    \n",
    "    Params: None\n",
    "    \n",
    "    Return: None\n",
    "    \"\"\"\n",
    "    directory = \".\"\n",
    "    levels = 0\n",
    "    while not os.path.isdir(os.path.join(directory, \"modules\")) and \\\n",
    "          levels < 5:\n",
    "        directory = os.path.join(directory, \"..\")\n",
    "        levels += 1\n",
    "    module_path = os.path.abspath(os.path.join(directory, \"modules\"))\n",
    "    if os.path.isdir(module_path):\n",
    "        if not module_path in sys.path:\n",
    "            sys.path.append(module_path)\n",
    "\n",
    "add_modules()\n",
    "import util\n",
    "\n",
    "datadir = util.resolve_dir(\"hierarchicaldata\")\n",
    "myparser = etree.XMLParser(remove_blank_text=True)"
   ]
  },
  {
   "cell_type": "markdown",
   "metadata": {},
   "source": [
    "**Q1** Write a function:\n",
    "    \n",
    "    buildXML(filename, datadir=\".\", parser=None)\n",
    "    \n",
    "that performs the common steps of creating a path from the given `filename` and `datadir` and parses the XML file, using the passed `parser`, if any, and returns the Element at the **root** of the tree.  If parser is not passed, the standard `XMLParser` (without removing blank text) should be used.\n",
    "\n",
    "If the file is not found, or if the parse is unsuccessful (due to XML not being \"well formed\"), the function should return `None`. Remember that if a parse is unsuccessful, the `etree` module raises an exception.  That means that you should have a `try` block, and indented within that block, the `parse()` invocation should occur.  The `try` block is followed by an `except Exception as e:` line, and within that, your return `None`.  If no exception is raised, code execution will proceed beyond the `try`/`except` block, and that is where you would return the root of the parsed tree."
   ]
  },
  {
   "cell_type": "code",
   "execution_count": 91,
   "metadata": {
    "deletable": false,
    "nbgrader": {
     "cell_type": "code",
     "checksum": "29e2c7818f2475c1a10943c1322426f7",
     "grade": false,
     "grade_id": "cell-4b372ec2f9190303",
     "locked": false,
     "schema_version": 3,
     "solution": true,
     "task": false
    }
   },
   "outputs": [],
   "source": [
    "# Solution cell\n",
    "def buildXML(filename, datadir=\".\", parser=None):\n",
    "    '''\n",
    "    This function gets an xml file and parses through it,\n",
    "    then it returns the root.\n",
    "    \n",
    "    Parameters: filename: the name of the xml file\n",
    "                datadir: directory of file, uses cwd if\n",
    "                none is given\n",
    "                parser: the way the file is parsed, if\n",
    "                none is given then it will use the standard\n",
    "                parser\n",
    "                \n",
    "    Return: root: root of the xml file if the file exists and\n",
    "            the given parser is successful\n",
    "            None: if no xml file is at the given location or\n",
    "            the given parser is unsuccessful\n",
    "    '''\n",
    "    if(os.path.isfile(os.path.join(datadir, filename))):\n",
    "        path = os.path.join(datadir, filename)\n",
    "        if(parser==None):\n",
    "            tree = etree.parse(path, etree.XMLParser())\n",
    "        else:\n",
    "            try:\n",
    "                tree = etree.parse(path, parser)\n",
    "            except Exception as e:\n",
    "                return None\n",
    "        root = tree.getroot()\n",
    "        return root\n",
    "    return None"
   ]
  },
  {
   "cell_type": "code",
   "execution_count": 92,
   "metadata": {
    "deletable": false,
    "editable": false,
    "nbgrader": {
     "cell_type": "code",
     "checksum": "a3669400ed4f2a81b182275744b3448c",
     "grade": true,
     "grade_id": "cell-0220ffaedb8c14bd",
     "locked": true,
     "points": 2,
     "schema_version": 3,
     "solution": false,
     "task": false
    }
   },
   "outputs": [],
   "source": [
    "# Testing cell\n",
    "\n",
    "assert True"
   ]
  },
  {
   "cell_type": "markdown",
   "metadata": {},
   "source": [
    "As preparation for the following sequence of exercises, we need to parse the file `widombooks.xml` in the data directory and assign to `wroot` the root `Element` object.  This is done for you in the following code cell."
   ]
  },
  {
   "cell_type": "code",
   "execution_count": 93,
   "metadata": {
    "deletable": false,
    "editable": false,
    "nbgrader": {
     "cell_type": "code",
     "checksum": "83257a7a033f7d9236b8a99aca57f431",
     "grade": false,
     "grade_id": "cell-e83bc3817cd126ea",
     "locked": true,
     "schema_version": 3,
     "solution": false,
     "task": false
    }
   },
   "outputs": [
    {
     "name": "stdout",
     "output_type": "stream",
     "text": [
      "<Bookstore>\n",
      "  <Book ISBN=\"ISBN-0-13-713526-2\" Price=\"85\" Edition=\"3rd\">\n",
      "    <Title>A First Course in Database Systems</Title>\n",
      "    <Authors>\n",
      "      <Author>\n",
      "        <First_Name>Jeffrey</First_Name>\n",
      "        <Last_Name>Ullman</Last_Name>\n",
      "      </Author>\n",
      "      <Author>\n",
      "        <First_Name>Jennifer</First_Name>\n",
      "        <Last_Name>Widom</Last_Name>\n",
      "      </Author>\n"
     ]
    }
   ],
   "source": [
    "wroot = buildXML(\"widombooks.xml\", datadir, myparser)\n",
    "assert isinstance(wroot, lxml.etree._Element)\n",
    "util.print_xml(wroot, nlines=12)"
   ]
  },
  {
   "cell_type": "markdown",
   "metadata": {},
   "source": [
    "**Use the `lxml` operational interface for solving the following problems, not XPath.**"
   ]
  },
  {
   "cell_type": "markdown",
   "metadata": {},
   "source": [
    "**Q2** Using the Element `wroot` from above, get the attributes of the first child tagged 'Magazine', and store your answer as a dictionary `myAttrib`.  Try to do this with a single assignment expression."
   ]
  },
  {
   "cell_type": "code",
   "execution_count": 94,
   "metadata": {
    "deletable": false,
    "nbgrader": {
     "cell_type": "code",
     "checksum": "039fd6d13ba812250df26b1afcf37ed1",
     "grade": false,
     "grade_id": "cell-c2444bc7628804e4",
     "locked": false,
     "schema_version": 3,
     "solution": true,
     "task": false
    }
   },
   "outputs": [
    {
     "data": {
      "text/plain": [
       "{'Month': 'January', 'Year': '2009'}"
      ]
     },
     "execution_count": 94,
     "metadata": {},
     "output_type": "execute_result"
    }
   ],
   "source": [
    "myAttrib = wroot.find(\"Magazine\").attrib\n",
    "myAttrib"
   ]
  },
  {
   "cell_type": "code",
   "execution_count": 95,
   "metadata": {
    "deletable": false,
    "editable": false,
    "nbgrader": {
     "cell_type": "code",
     "checksum": "74fd66fe825b52ebdaf1440184dcfe71",
     "grade": true,
     "grade_id": "cell-dd76f291d82a48dc",
     "locked": true,
     "points": 1,
     "schema_version": 3,
     "solution": false,
     "task": false
    }
   },
   "outputs": [],
   "source": [
    "# Testing cell\n",
    "\n",
    "assert True"
   ]
  },
  {
   "cell_type": "markdown",
   "metadata": {},
   "source": [
    "**Q3** Using the Element `wroot`, use iteration or a list comprehension to obtain a list of the **tags** of all the children of `wroot`.  Assign to `taglist`."
   ]
  },
  {
   "cell_type": "code",
   "execution_count": 96,
   "metadata": {
    "deletable": false,
    "nbgrader": {
     "cell_type": "code",
     "checksum": "4d665cf5aa52a45753ba175b52b9e0c6",
     "grade": false,
     "grade_id": "cell-b20bf793795ec778",
     "locked": false,
     "schema_version": 3,
     "solution": true,
     "task": false
    }
   },
   "outputs": [
    {
     "data": {
      "text/plain": [
       "['Bookstore',\n",
       " 'Book',\n",
       " 'Title',\n",
       " 'Authors',\n",
       " 'Author',\n",
       " 'First_Name',\n",
       " 'Last_Name',\n",
       " 'Author',\n",
       " 'First_Name',\n",
       " 'Last_Name',\n",
       " 'Book',\n",
       " 'Title',\n",
       " 'Authors',\n",
       " 'Author',\n",
       " 'First_Name',\n",
       " 'Last_Name',\n",
       " 'Author',\n",
       " 'First_Name',\n",
       " 'Last_Name',\n",
       " 'Author',\n",
       " 'First_Name',\n",
       " 'Last_Name',\n",
       " 'Remark',\n",
       " 'Book',\n",
       " 'Title',\n",
       " 'Authors',\n",
       " 'Author',\n",
       " 'First_Name',\n",
       " 'Last_Name',\n",
       " 'Author',\n",
       " 'First_Name',\n",
       " 'Last_Name',\n",
       " 'Remark',\n",
       " 'Book',\n",
       " 'Title',\n",
       " 'Authors',\n",
       " 'Author',\n",
       " 'First_Name',\n",
       " 'Last_Name',\n",
       " 'Magazine',\n",
       " 'Title',\n",
       " 'Magazine',\n",
       " 'Title',\n",
       " 'Magazine',\n",
       " 'Title',\n",
       " 'Magazine',\n",
       " 'Title']"
      ]
     },
     "execution_count": 96,
     "metadata": {},
     "output_type": "execute_result"
    }
   ],
   "source": [
    "taglist = [node.tag for node in wroot.iter()]\n",
    "taglist"
   ]
  },
  {
   "cell_type": "code",
   "execution_count": 97,
   "metadata": {
    "deletable": false,
    "editable": false,
    "nbgrader": {
     "cell_type": "code",
     "checksum": "9956035e38c15606f3e4e6266c224293",
     "grade": true,
     "grade_id": "cell-1e8e796f3a9177bc",
     "locked": true,
     "points": 2,
     "schema_version": 3,
     "solution": false,
     "task": false
    }
   },
   "outputs": [],
   "source": [
    "# Testing cell\n",
    "\n",
    "assert True\n",
    "assert isinstance(taglist, list)"
   ]
  },
  {
   "cell_type": "markdown",
   "metadata": {},
   "source": [
    "**Q4** Find all children of `wroot` with tag `Book`, and store them in a list of Elements called `booklist`."
   ]
  },
  {
   "cell_type": "code",
   "execution_count": 98,
   "metadata": {
    "deletable": false,
    "nbgrader": {
     "cell_type": "code",
     "checksum": "a6a7366f6a7e901f43375a12aa85237f",
     "grade": false,
     "grade_id": "cell-467be4bbf44216c4",
     "locked": false,
     "schema_version": 3,
     "solution": true,
     "task": false
    }
   },
   "outputs": [
    {
     "name": "stdout",
     "output_type": "stream",
     "text": [
      "Length of result: 4\n"
     ]
    }
   ],
   "source": [
    "booklist = wroot.findall('Book')\n",
    "print(\"Length of result:\", len(booklist))"
   ]
  },
  {
   "cell_type": "code",
   "execution_count": 99,
   "metadata": {
    "deletable": false,
    "editable": false,
    "nbgrader": {
     "cell_type": "code",
     "checksum": "849c754ebd392334097827d7ffb80c16",
     "grade": true,
     "grade_id": "cell-818476c2d196f7c5",
     "locked": true,
     "points": 1,
     "schema_version": 3,
     "solution": false,
     "task": false
    }
   },
   "outputs": [],
   "source": [
    "# Testing cell\n",
    "\n",
    "assert True"
   ]
  },
  {
   "cell_type": "markdown",
   "metadata": {},
   "source": [
    "In the following, we give preliminary code to access the position 2 child of `wroot` and assign it to `node`.  You are to use `node` in the subsequent set of exercises."
   ]
  },
  {
   "cell_type": "code",
   "execution_count": 100,
   "metadata": {},
   "outputs": [
    {
     "name": "stdout",
     "output_type": "stream",
     "text": [
      "<Book ISBN=\"ISBN-0-11-222222-3\" Price=\"50\">\n",
      "  <Title>Hector and Jeff's Database Hints</Title>\n",
      "  <Authors>\n",
      "    <Author>\n",
      "      <First_Name>Jeffrey</First_Name>\n",
      "      <Last_Name>Ullman</Last_Name>\n",
      "    </Author>\n",
      "    <Author>\n",
      "      <First_Name>Hector</First_Name>\n",
      "      <Last_Name>Garcia-Molina</Last_Name>\n",
      "    </Author>\n",
      "  </Authors>\n",
      "  <Remark>An indispensible companion to your textbook</Rema\n",
      "</Book>\n"
     ]
    }
   ],
   "source": [
    "node = wroot[2]\n",
    "util.print_xml(node)"
   ]
  },
  {
   "cell_type": "markdown",
   "metadata": {},
   "source": [
    "**Q5** In a single assignment from an expression, set `title` to the **text** of the `Title` child of `node`."
   ]
  },
  {
   "cell_type": "code",
   "execution_count": 101,
   "metadata": {
    "deletable": false,
    "nbgrader": {
     "cell_type": "code",
     "checksum": "c00c3c8b07bbd7551dfe74471f592e8e",
     "grade": false,
     "grade_id": "cell-8be63a8b7a4edb60",
     "locked": false,
     "schema_version": 3,
     "solution": true,
     "task": false
    }
   },
   "outputs": [
    {
     "data": {
      "text/plain": [
       "\"Hector and Jeff's Database Hints\""
      ]
     },
     "execution_count": 101,
     "metadata": {},
     "output_type": "execute_result"
    }
   ],
   "source": [
    "title = node.find(\"Title\").text\n",
    "title"
   ]
  },
  {
   "cell_type": "code",
   "execution_count": 102,
   "metadata": {
    "deletable": false,
    "editable": false,
    "nbgrader": {
     "cell_type": "code",
     "checksum": "debc2022ec28e19060cbb913fc4348fa",
     "grade": true,
     "grade_id": "cell-70d9d3e070c0ad4e",
     "locked": true,
     "points": 1,
     "schema_version": 3,
     "solution": false,
     "task": false
    }
   },
   "outputs": [],
   "source": [
    "# Testing cell\n",
    "\n",
    "assert True"
   ]
  },
  {
   "cell_type": "markdown",
   "metadata": {},
   "source": [
    "**Q6** Write a function\n",
    "\n",
    "    findValue(anode, tag)\n",
    "    \n",
    "that, relative to `node` finds the first subelement matching `tag` and returns the `.text` attribute if found, and None, if no match was found.  After you have defined the function, demonstrate its use by invoking the function to find the text of the `Title` subelement of `node` and assign to `title2` as an alternative way to solve what we did in Q4."
   ]
  },
  {
   "cell_type": "code",
   "execution_count": 103,
   "metadata": {
    "deletable": false,
    "nbgrader": {
     "cell_type": "code",
     "checksum": "998e3d210d2d67d8a04a6aea634a0e00",
     "grade": false,
     "grade_id": "cell-d31c574e5cc9d05e",
     "locked": false,
     "schema_version": 3,
     "solution": true,
     "task": false
    }
   },
   "outputs": [
    {
     "data": {
      "text/plain": [
       "\"Hector and Jeff's Database Hints\""
      ]
     },
     "execution_count": 103,
     "metadata": {},
     "output_type": "execute_result"
    }
   ],
   "source": [
    "def findValue(anode, tag):\n",
    "    '''\n",
    "    This function takes a node and finds a given tag to \n",
    "    return the text associated with the tag.\n",
    "    \n",
    "    Parameters: anode: the node that will be searched\n",
    "                tag: the tag that will have its text\n",
    "                returned\n",
    "                \n",
    "    Return: tagtext: the text of the tag in the node\n",
    "            None: if the node, tag, or text does not\n",
    "            exist\n",
    "    '''\n",
    "    try:\n",
    "        tagtext = anode.find(tag).text\n",
    "    except:\n",
    "        return None\n",
    "    return tagtext\n",
    "\n",
    "title2 = findValue(node, \"Title\")\n",
    "title2"
   ]
  },
  {
   "cell_type": "code",
   "execution_count": 104,
   "metadata": {
    "deletable": false,
    "editable": false,
    "nbgrader": {
     "cell_type": "code",
     "checksum": "5dfc06a4811c60a2e038341de38bbcd8",
     "grade": true,
     "grade_id": "cell-6a6d11d8b581b405",
     "locked": true,
     "points": 2,
     "schema_version": 3,
     "solution": false,
     "task": false
    }
   },
   "outputs": [],
   "source": [
    "# Testing cell\n",
    "\n",
    "assert True"
   ]
  },
  {
   "cell_type": "markdown",
   "metadata": {},
   "source": [
    "**Q7** This problem will likely require multiple steps to solve.  Suppose we want to print the author(s) of a book, with one author per line.  So for `node`, the desired print output is:\n",
    "```\n",
    "Jeffrey Ullman\n",
    "Hector Garcia-Molina\n",
    "```\n",
    "At an English step level, the solution would look something like the following:\n",
    "1. From `node`, obtain the Element for the `Authors` child; call it `authors`\n",
    "2. For each child of `authors`, do the following:\n",
    "    - get the text value for the `First_Name` subelement, call it `first`\n",
    "    - get the text value for the `Last_Name` subelement, call it `last`\n",
    "    - print on a single line `first` and `last`, separated by a single space\n",
    "\n",
    "Write the code to obtain this output for the `node` book Element."
   ]
  },
  {
   "cell_type": "code",
   "execution_count": 105,
   "metadata": {
    "deletable": false,
    "nbgrader": {
     "cell_type": "code",
     "checksum": "e1b365f04391d0a3e2b701ff51f4efa3",
     "grade": true,
     "grade_id": "cell-fb8a1fa78adb9275",
     "locked": false,
     "points": 3,
     "schema_version": 3,
     "solution": true,
     "task": false
    }
   },
   "outputs": [
    {
     "name": "stdout",
     "output_type": "stream",
     "text": [
      "Jeffrey Ullman\n",
      "Hector Garcia-Molina\n"
     ]
    }
   ],
   "source": [
    "authors = node.find(\"Authors\")\n",
    "for child in authors:\n",
    "    first = child.find(\"First_Name\").text\n",
    "    last = child.find(\"Last_Name\").text\n",
    "    print(first, last)"
   ]
  },
  {
   "cell_type": "code",
   "execution_count": null,
   "metadata": {},
   "outputs": [],
   "source": []
  }
 ],
 "metadata": {
  "kernelspec": {
   "display_name": "Python 3",
   "language": "python",
   "name": "python3"
  },
  "language_info": {
   "codemirror_mode": {
    "name": "ipython",
    "version": 3
   },
   "file_extension": ".py",
   "mimetype": "text/x-python",
   "name": "python",
   "nbconvert_exporter": "python",
   "pygments_lexer": "ipython3",
   "version": "3.8.5"
  }
 },
 "nbformat": 4,
 "nbformat_minor": 5
}
