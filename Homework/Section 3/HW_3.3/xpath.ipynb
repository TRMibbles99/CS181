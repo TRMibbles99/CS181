{
 "cells": [
  {
   "cell_type": "markdown",
   "metadata": {},
   "source": [
    "# Denison CS-181/DA-210 Homework"
   ]
  },
  {
   "cell_type": "markdown",
   "metadata": {},
   "source": [
    "---"
   ]
  },
  {
   "cell_type": "markdown",
   "metadata": {},
   "source": [
    "## XPath Exercises\n",
    "\n",
    "> The intent of this homework is to use **XPath** to obtain results, wherein the xpath string is doing the \"heavy lifting\" and used in a call to `.xpath()` on the root Element of an XML tree.  \n",
    ">\n",
    "> **If you use procedural XML instead of XPath, you will receive at most half credit per question.**\n",
    ">\n",
    "> For some questions, you are asked to \"wrap\" your xpath query into a function, or to perform some post-query step, and the previous admonition does not apply.\n",
    ">\n",
    "> It is perfectly fine to use an Online tool (like codebeautify) to help you develop and text your xpath string before incorporating it into its programmatic place here in this notebook."
   ]
  },
  {
   "cell_type": "code",
   "execution_count": 63,
   "metadata": {},
   "outputs": [],
   "source": [
    "import os\n",
    "import sys\n",
    "import lxml\n",
    "\n",
    "def add_modules():\n",
    "    \"\"\"\n",
    "    Starting at the current directory and proceeding up the file system\n",
    "    tree, search for a directory named `modules`.  If found, and if not\n",
    "    already there, add to the Python module search path.\n",
    "    \n",
    "    Params: None\n",
    "    \n",
    "    Return: None\n",
    "    \"\"\"\n",
    "    directory = \".\"\n",
    "    levels = 0\n",
    "    while not os.path.isdir(os.path.join(directory, \"modules\")) and \\\n",
    "          levels < 5:\n",
    "        directory = os.path.join(directory, \"..\")\n",
    "        levels += 1\n",
    "    module_path = os.path.abspath(os.path.join(directory, \"modules\"))\n",
    "    if os.path.isdir(module_path):\n",
    "        if not module_path in sys.path:\n",
    "            sys.path.append(module_path)\n",
    "\n",
    "add_modules()\n",
    "import util\n",
    "\n",
    "datadir = util.resolve_dir(\"hierarchicaldata\")"
   ]
  },
  {
   "cell_type": "markdown",
   "metadata": {},
   "source": [
    "**Q1** Create the tree and obtain the root for `\"flights.xml\"` in the data directory.  Assign the root node to `froot`.  Perform any necessary imports.  By using Atom, examine this dataset and its hierarchy, noting the set of **different** tags under the root `doc`, and the structure of each.\n",
    "\n",
    "Understanding the data will help in answering the subsequent questions."
   ]
  },
  {
   "cell_type": "code",
   "execution_count": 64,
   "metadata": {
    "deletable": false,
    "nbgrader": {
     "cell_type": "code",
     "checksum": "b31733156a21cd73fc52612ddaa7d2b1",
     "grade": false,
     "grade_id": "cell-ed96509192a96403",
     "locked": false,
     "schema_version": 3,
     "solution": true,
     "task": false
    }
   },
   "outputs": [],
   "source": [
    "# Solution cell\n",
    "from lxml import etree\n",
    "parser = etree.XMLParser(remove_blank_text=True)\n",
    "\n",
    "froot = etree.parse(os.path.join(datadir, \"flights.xml\"), parser).getroot()\n"
   ]
  },
  {
   "cell_type": "code",
   "execution_count": 65,
   "metadata": {
    "deletable": false,
    "editable": false,
    "nbgrader": {
     "cell_type": "code",
     "checksum": "6fb693b02e06a1f15f02c78df043f6a4",
     "grade": true,
     "grade_id": "cell-fbd92a7e2ce334d2",
     "locked": true,
     "points": 1,
     "schema_version": 3,
     "solution": false,
     "task": false
    }
   },
   "outputs": [],
   "source": [
    "# Testing cell\n",
    "\n",
    "assert isinstance(froot, lxml.etree._Element)"
   ]
  },
  {
   "cell_type": "markdown",
   "metadata": {},
   "source": [
    "**Q2** Create a Python list called `passports` containing the actual passport number (i.e., not the Element/node) for each of the passengers in the tree."
   ]
  },
  {
   "cell_type": "code",
   "execution_count": 66,
   "metadata": {
    "deletable": false,
    "nbgrader": {
     "cell_type": "code",
     "checksum": "1d0ca495af8000c55e1d6cc7a20b6215",
     "grade": false,
     "grade_id": "cell-eaade7c7e699e058",
     "locked": false,
     "schema_version": 3,
     "solution": true,
     "task": false
    }
   },
   "outputs": [
    {
     "data": {
      "text/plain": [
       "['123456', '123457', '000111', '000112', '000113', '000114']"
      ]
     },
     "execution_count": 66,
     "metadata": {},
     "output_type": "execute_result"
    }
   ],
   "source": [
    "# Solution cell\n",
    "\n",
    "xs_string = \"\"\"/doc/Passenger/passportnumber/text()\"\"\"\n",
    "passports = froot.xpath(xs_string)\n",
    "\n",
    "passports"
   ]
  },
  {
   "cell_type": "code",
   "execution_count": 67,
   "metadata": {
    "deletable": false,
    "editable": false,
    "nbgrader": {
     "cell_type": "code",
     "checksum": "260040e2ae51844722f292d1aac07021",
     "grade": true,
     "grade_id": "cell-2fcba1e02bd48ed3",
     "locked": true,
     "points": 1,
     "schema_version": 3,
     "solution": false,
     "task": false
    }
   },
   "outputs": [],
   "source": [
    "# Testing cell\n",
    "\n",
    "assert isinstance(passports, list)"
   ]
  },
  {
   "cell_type": "markdown",
   "metadata": {},
   "source": [
    "**Q3** Create the collection of the attribute `airId` for those airports with a tax less than 100.  Assign to Python variable `cheapairport`."
   ]
  },
  {
   "cell_type": "code",
   "execution_count": 68,
   "metadata": {
    "deletable": false,
    "nbgrader": {
     "cell_type": "code",
     "checksum": "97bb2168e2dc89bd117bbe86159400c7",
     "grade": false,
     "grade_id": "cell-da4cb68b24779a81",
     "locked": false,
     "schema_version": 3,
     "solution": true,
     "task": false
    }
   },
   "outputs": [
    {
     "data": {
      "text/plain": [
       "['NPL', 'SPL', 'PRG', 'BDP', 'FFT']"
      ]
     },
     "execution_count": 68,
     "metadata": {},
     "output_type": "execute_result"
    }
   ],
   "source": [
    "# Solution cell\n",
    "\n",
    "xs_string = \"\"\"/doc/Airport[tax < \"100\"]/@airId\"\"\"\n",
    "cheapairport = froot.xpath(xs_string)\n",
    "\n",
    "cheapairport"
   ]
  },
  {
   "cell_type": "code",
   "execution_count": 69,
   "metadata": {
    "deletable": false,
    "editable": false,
    "nbgrader": {
     "cell_type": "code",
     "checksum": "17cb01b9a72f11b24d8de988fe41bd2c",
     "grade": true,
     "grade_id": "cell-6b349c3bdf1d6343",
     "locked": true,
     "points": 2,
     "schema_version": 3,
     "solution": false,
     "task": false
    }
   },
   "outputs": [],
   "source": [
    "# Testing cell\n",
    "\n",
    "assert True"
   ]
  },
  {
   "cell_type": "markdown",
   "metadata": {},
   "source": [
    "**Q5** Create a list of destination Elements for the flights where the source is NPL (North Pole).  Assign to Python variable `fromNPL`."
   ]
  },
  {
   "cell_type": "code",
   "execution_count": 70,
   "metadata": {
    "deletable": false,
    "nbgrader": {
     "cell_type": "code",
     "checksum": "35df26aa50f422950935bf104edbbe79",
     "grade": false,
     "grade_id": "cell-12a4d32fd29f0150",
     "locked": false,
     "schema_version": 3,
     "solution": true,
     "task": false
    }
   },
   "outputs": [
    {
     "data": {
      "text/plain": [
       "[<Element destination at 0x7ff40f804180>,\n",
       " <Element destination at 0x7ff40f802d80>,\n",
       " <Element destination at 0x7ff40f8020c0>,\n",
       " <Element destination at 0x7ff40f809e00>,\n",
       " <Element destination at 0x7ff40f8093c0>,\n",
       " <Element destination at 0x7ff40f809f80>,\n",
       " <Element destination at 0x7ff40f809e40>,\n",
       " <Element destination at 0x7ff40f809d00>,\n",
       " <Element destination at 0x7ff40f809b00>,\n",
       " <Element destination at 0x7ff40f809fc0>]"
      ]
     },
     "execution_count": 70,
     "metadata": {},
     "output_type": "execute_result"
    }
   ],
   "source": [
    "# Solution cell\n",
    "\n",
    "xs_string = \"\"\"/doc/Flight[source = \"NPL\"]/destination\"\"\"\n",
    "fromNPL = froot.xpath(xs_string)\n",
    "\n",
    "fromNPL"
   ]
  },
  {
   "cell_type": "code",
   "execution_count": 71,
   "metadata": {
    "deletable": false,
    "editable": false,
    "nbgrader": {
     "cell_type": "code",
     "checksum": "2a98ef6774c801bfab6b29861735d4b5",
     "grade": true,
     "grade_id": "cell-805ce96d24f64567",
     "locked": true,
     "points": 2,
     "schema_version": 3,
     "solution": false,
     "task": false
    }
   },
   "outputs": [],
   "source": [
    "# Testing cell\n",
    "\n",
    "assert True"
   ]
  },
  {
   "cell_type": "markdown",
   "metadata": {},
   "source": [
    "**Q6** Construct a list of the text contents of **all** of the children of the Flight whose flightId is LX125, assigning to `flightchildren`."
   ]
  },
  {
   "cell_type": "code",
   "execution_count": 72,
   "metadata": {
    "deletable": false,
    "nbgrader": {
     "cell_type": "code",
     "checksum": "98858749e9098b2fe3e6933efa3178df",
     "grade": false,
     "grade_id": "cell-1f89ea82403fe7ab",
     "locked": false,
     "schema_version": 3,
     "solution": true,
     "task": false
    }
   },
   "outputs": [
    {
     "data": {
      "text/plain": [
       "['100', '2005-12-24', '10:00:00', '11:10:00', 'LHR', 'AMS']"
      ]
     },
     "execution_count": 72,
     "metadata": {},
     "output_type": "execute_result"
    }
   ],
   "source": [
    "# Solution cell\n",
    "\n",
    "xs_string = \"\"\"/doc/Flight[@flightId = \"LX125\"]//text()\"\"\"\n",
    "flightchildren = froot.xpath(xs_string)\n",
    "\n",
    "flightchildren"
   ]
  },
  {
   "cell_type": "code",
   "execution_count": 73,
   "metadata": {
    "deletable": false,
    "editable": false,
    "nbgrader": {
     "cell_type": "code",
     "checksum": "517168e5e20cf1f3eaf5ab36adcfa025",
     "grade": true,
     "grade_id": "cell-9c993e5e0c62d4e6",
     "locked": true,
     "points": 2,
     "schema_version": 3,
     "solution": false,
     "task": false
    }
   },
   "outputs": [],
   "source": [
    "# Testing cell\n",
    "\n",
    "assert True"
   ]
  },
  {
   "cell_type": "markdown",
   "metadata": {},
   "source": [
    "**Q7** Create the tree and obtain the root for `\"bookstore2.xml\"` in the data directory.  Assign the root node to `broot`. By using Atom, examine this dataset and its hierarchy, noting the structure of the items in the data set.\n",
    "\n",
    "Understanding the data will help in answering the subsequent questions."
   ]
  },
  {
   "cell_type": "code",
   "execution_count": 74,
   "metadata": {
    "deletable": false,
    "nbgrader": {
     "cell_type": "code",
     "checksum": "9ee681ff6d87c06b5a7009baec306623",
     "grade": false,
     "grade_id": "cell-a9739dd7e61bab87",
     "locked": false,
     "schema_version": 3,
     "solution": true,
     "task": false
    }
   },
   "outputs": [],
   "source": [
    "# Solution cell\n",
    "\n",
    "broot = etree.parse(os.path.join(datadir, \"bookstore2.xml\"), parser).getroot()"
   ]
  },
  {
   "cell_type": "code",
   "execution_count": 75,
   "metadata": {
    "deletable": false,
    "editable": false,
    "nbgrader": {
     "cell_type": "code",
     "checksum": "ebda6d03a48966856ba38543f693c963",
     "grade": true,
     "grade_id": "cell-e126b3beef4e19c0",
     "locked": true,
     "points": 1,
     "schema_version": 3,
     "solution": false,
     "task": false
    }
   },
   "outputs": [],
   "source": [
    "# Testing cell\n",
    "\n",
    "assert isinstance(broot, lxml.etree._Element)"
   ]
  },
  {
   "cell_type": "markdown",
   "metadata": {},
   "source": [
    "**Q8** Create a list of books ids named `less` that cost less than `$6`. Note that `id` is an attribute."
   ]
  },
  {
   "cell_type": "code",
   "execution_count": 76,
   "metadata": {
    "deletable": false,
    "nbgrader": {
     "cell_type": "code",
     "checksum": "708368fdb67e8842673245586188614c",
     "grade": false,
     "grade_id": "cell-d615e8debfc0a057",
     "locked": false,
     "schema_version": 3,
     "solution": true,
     "task": false
    }
   },
   "outputs": [
    {
     "data": {
      "text/plain": [
       "['bk102', 'bk103', 'bk104', 'bk105', 'bk106', 'bk107', 'bk108']"
      ]
     },
     "execution_count": 76,
     "metadata": {},
     "output_type": "execute_result"
    }
   ],
   "source": [
    "# Solution cell\n",
    "less = broot.xpath(\"\"\"/catalog/book[price < \"6.00\"]/@id\"\"\")\n",
    "\n",
    "less"
   ]
  },
  {
   "cell_type": "code",
   "execution_count": 77,
   "metadata": {
    "deletable": false,
    "editable": false,
    "nbgrader": {
     "cell_type": "code",
     "checksum": "fca0a7c081364203b5c37047b54d2da1",
     "grade": true,
     "grade_id": "cell-b927e4540f49c7f8",
     "locked": true,
     "points": 2,
     "schema_version": 3,
     "solution": false,
     "task": false
    }
   },
   "outputs": [],
   "source": [
    "assert True"
   ]
  },
  {
   "cell_type": "markdown",
   "metadata": {},
   "source": [
    "**Q9** Create a list of book titles called \"eva\" where Eva Corets was the author. Your list `eva` should be a list of strings."
   ]
  },
  {
   "cell_type": "code",
   "execution_count": 78,
   "metadata": {
    "deletable": false,
    "nbgrader": {
     "cell_type": "code",
     "checksum": "2e59bb16994f7e68d29c7cfa2dc36520",
     "grade": false,
     "grade_id": "cell-597065155a8ac10f",
     "locked": false,
     "schema_version": 3,
     "solution": true,
     "task": false
    }
   },
   "outputs": [
    {
     "data": {
      "text/plain": [
       "['Maeve Ascendant', \"Oberon's Legacy\", 'The Sundered Grail']"
      ]
     },
     "execution_count": 78,
     "metadata": {},
     "output_type": "execute_result"
    }
   ],
   "source": [
    "# Solution cell\n",
    "eva = broot.xpath(\"\"\"/catalog/book[author = \"Corets, Eva\"]/title/text()\"\"\")\n",
    "\n",
    "eva"
   ]
  },
  {
   "cell_type": "code",
   "execution_count": 79,
   "metadata": {
    "deletable": false,
    "editable": false,
    "nbgrader": {
     "cell_type": "code",
     "checksum": "163c624f25bea45f496b9f045e0c6d1e",
     "grade": true,
     "grade_id": "cell-4172d4630a2f8ea6",
     "locked": true,
     "points": 2,
     "schema_version": 3,
     "solution": false,
     "task": false
    }
   },
   "outputs": [],
   "source": [
    "assert True"
   ]
  },
  {
   "cell_type": "markdown",
   "metadata": {},
   "source": [
    "**Q10** Find the average book price for all books that are not fantasy in this file, assigning to variable `avgprice`. **Hints** First, use XPath to get a list of the price strings (text) based on a single XPath query.  Then use a list comprehension to build a list of `float` values converting the strings to real-valued numbers.  Finally, perform the average based on the values and length of the list."
   ]
  },
  {
   "cell_type": "code",
   "execution_count": 80,
   "metadata": {
    "deletable": false,
    "nbgrader": {
     "cell_type": "code",
     "checksum": "a398e69e6822ad68c080ae9d386cb7cc",
     "grade": false,
     "grade_id": "cell-8654b21767e5a1e3",
     "locked": false,
     "schema_version": 3,
     "solution": true,
     "task": false
    }
   },
   "outputs": [
    {
     "data": {
      "text/plain": [
       "23.83"
      ]
     },
     "execution_count": 80,
     "metadata": {},
     "output_type": "execute_result"
    }
   ],
   "source": [
    "# Solution cell\n",
    "avgprice = 0\n",
    "prices = broot.xpath(\"\"\"/catalog/book[genre != \"Fantasy\"]/price/text()\"\"\")\n",
    "prices = [float(prices[i]) for i in range(len(prices))]\n",
    "avgprice = sum(prices)/len(prices)\n",
    "\n",
    "#I rounded the number because it was annoying me\n",
    "avgprice = round(avgprice, 2)\n",
    "avgprice"
   ]
  },
  {
   "cell_type": "code",
   "execution_count": 81,
   "metadata": {
    "deletable": false,
    "editable": false,
    "nbgrader": {
     "cell_type": "code",
     "checksum": "c1418ddee963c4e25bd09fff841bbf39",
     "grade": true,
     "grade_id": "cell-54fc268f861156e4",
     "locked": true,
     "points": 2,
     "schema_version": 3,
     "solution": false,
     "task": false
    }
   },
   "outputs": [],
   "source": [
    "assert True"
   ]
  },
  {
   "cell_type": "markdown",
   "metadata": {},
   "source": [
    "**Q11** Create a list called `lessFantasy` containing the titles of the books where the price is under `$40` and not in the fantasy genre."
   ]
  },
  {
   "cell_type": "code",
   "execution_count": 82,
   "metadata": {
    "deletable": false,
    "nbgrader": {
     "cell_type": "code",
     "checksum": "40cc93dd2b66d90707199084f58379fa",
     "grade": false,
     "grade_id": "cell-2264143daec6f3bd",
     "locked": false,
     "schema_version": 3,
     "solution": true,
     "task": false
    }
   },
   "outputs": [
    {
     "data": {
      "text/plain": [
       "['Lover Birds',\n",
       " 'Splish Splash',\n",
       " 'Creepy Crawlies',\n",
       " 'Paradox Lost',\n",
       " 'Microsoft .NET: The Programming Bible',\n",
       " 'MSXML3: A Comprehensive Guide']"
      ]
     },
     "execution_count": 82,
     "metadata": {},
     "output_type": "execute_result"
    }
   ],
   "source": [
    "# Solution cell\n",
    "lessFantasy = broot.xpath(\"\"\"/catalog/book[genre != \"Fantasy\" and price < \"40.00\"]/title/text()\"\"\")\n",
    "\n",
    "lessFantasy"
   ]
  },
  {
   "cell_type": "code",
   "execution_count": 83,
   "metadata": {
    "deletable": false,
    "editable": false,
    "nbgrader": {
     "cell_type": "code",
     "checksum": "8839a1c14fae56deebd7c59006e4147c",
     "grade": true,
     "grade_id": "cell-a8d633ddd943cc07",
     "locked": true,
     "points": 2,
     "schema_version": 3,
     "solution": false,
     "task": false
    }
   },
   "outputs": [],
   "source": [
    "assert True"
   ]
  },
  {
   "cell_type": "code",
   "execution_count": null,
   "metadata": {},
   "outputs": [],
   "source": []
  },
  {
   "cell_type": "code",
   "execution_count": null,
   "metadata": {},
   "outputs": [],
   "source": []
  }
 ],
 "metadata": {
  "kernelspec": {
   "display_name": "Python 3",
   "language": "python",
   "name": "python3"
  },
  "language_info": {
   "codemirror_mode": {
    "name": "ipython",
    "version": 3
   },
   "file_extension": ".py",
   "mimetype": "text/x-python",
   "name": "python",
   "nbconvert_exporter": "python",
   "pygments_lexer": "ipython3",
   "version": "3.8.5"
  }
 },
 "nbformat": 4,
 "nbformat_minor": 5
}
