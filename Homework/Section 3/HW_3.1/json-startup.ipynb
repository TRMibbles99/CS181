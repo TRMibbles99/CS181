{
 "cells": [
  {
   "cell_type": "markdown",
   "metadata": {},
   "source": [
    "# Denison CS-181/DA-210 Homework"
   ]
  },
  {
   "cell_type": "markdown",
   "metadata": {},
   "source": [
    "---"
   ]
  },
  {
   "cell_type": "markdown",
   "metadata": {},
   "source": [
    "## JSON Startup Exercises"
   ]
  },
  {
   "cell_type": "code",
   "execution_count": 23,
   "metadata": {},
   "outputs": [],
   "source": [
    "import json"
   ]
  },
  {
   "cell_type": "markdown",
   "metadata": {},
   "source": [
    "**Q1** Consider the table of data:\n",
    "\n",
    "subject | name | department\n",
    "--------|------|------------------\n",
    "CS      | Computer Science | MATH\n",
    "DAEC    | Data Analystics (ECON) | DA\n",
    "MATH    | Mathematics | MATH\n",
    "ENGL    | English Literature | ENGL\n",
    "\n",
    "This could be represented in a Python program as a dictionary mapping from a key, \"subjects\", to a **list of dictionaries**, one per subject. Each of these inner dictionaries map from subject, name, and department to the respective value for the row.\n",
    "Write Python code to construct the above representation as a Python in-memory data structure called `ds`, and then have your code encode the data structure into a JSON-formatted string (using `dumps` appropriately), and assign to `s1` and print it. Then take `ds` and encode it as a JSON- formatted string, but include `indent=2` as an argument in the conversion, assign to `s2` and print it."
   ]
  },
  {
   "cell_type": "code",
   "execution_count": 24,
   "metadata": {
    "deletable": false,
    "nbgrader": {
     "cell_type": "code",
     "checksum": "964aeb9a69f9a287132c6237882baee8",
     "grade": false,
     "grade_id": "cell-7d2d08c4ae572b41",
     "locked": false,
     "schema_version": 3,
     "solution": true,
     "task": false
    }
   },
   "outputs": [],
   "source": [
    "ds = {\"subjects\":[{\"subject\":\"CS\", \"name\":\"Computer Science\",\"department\":\"MATH\"},\n",
    "                 {\"subject\":\"DAEC\", \"name\":\"Data Analytics (ECON)\",\"department\":\"DA\"},\n",
    "                 {\"subject\":\"MATH\", \"name\":\"Mathematics\",\"department\":\"MATH\"},\n",
    "                 {\"subject\":\"ENGL\", \"name\":\"English Literature\",\"department\":\"ENGL\"}]}\n",
    "s1 = json.dumps(ds)\n",
    "s2 = json.dumps(ds, indent=2)"
   ]
  },
  {
   "cell_type": "code",
   "execution_count": 25,
   "metadata": {
    "deletable": false,
    "editable": false,
    "nbgrader": {
     "cell_type": "code",
     "checksum": "c2d5ff7bf04e514e7201dfc561d95e6b",
     "grade": true,
     "grade_id": "cell-f5af9f09409c9dea",
     "locked": true,
     "points": 2,
     "schema_version": 3,
     "solution": false,
     "task": false
    }
   },
   "outputs": [],
   "source": [
    "# Testing Cell\n",
    "assert True"
   ]
  },
  {
   "cell_type": "markdown",
   "metadata": {},
   "source": [
    "**Q2** Create an in-memory data structure (`ds2`) from the **same data** as in the last question.  Then add (through mutation) an additional subject to its correct location in ds2, with a subject of `\"PHYS\"`, name of `\"Physics and Astronomy\"` and department of `\"PHYS\"`.\n",
    "\n",
    "Generate a file named `school0.json` **in the current directory** with the JSON-formatted data. Note that, on an open, you need to enable **write** to the created file.  Use the `indent=2` argument when encoding as JSON."
   ]
  },
  {
   "cell_type": "code",
   "execution_count": 26,
   "metadata": {
    "deletable": false,
    "nbgrader": {
     "cell_type": "code",
     "checksum": "5225e14326306ece34f1f630c06c4787",
     "grade": false,
     "grade_id": "cell-2521a3f231b53186",
     "locked": false,
     "schema_version": 3,
     "solution": true,
     "task": false
    }
   },
   "outputs": [],
   "source": [
    "# Solution cell\n",
    "\n",
    "ds2 = ds\n",
    "ds2[\"subjects\"].append({\"subject\":\"PHYS\", \"name\":\"Physics and Astronomy\",\"department\":\"PHYS\"})\n",
    "ds2\n",
    "\n",
    "with open('school0.json', 'w') as outfile:\n",
    "    json.dump(ds2, outfile, indent=2)"
   ]
  },
  {
   "cell_type": "code",
   "execution_count": 27,
   "metadata": {
    "deletable": false,
    "editable": false,
    "nbgrader": {
     "cell_type": "code",
     "checksum": "d8b71e2caafbc02cc2f8db6af5ec977b",
     "grade": true,
     "grade_id": "cell-472cfdc98c4d15d6",
     "locked": true,
     "points": 2,
     "schema_version": 3,
     "solution": false,
     "task": false
    }
   },
   "outputs": [],
   "source": [
    "# Testing cell\n",
    "\n",
    "assert True"
   ]
  },
  {
   "cell_type": "markdown",
   "metadata": {},
   "source": [
    "**Q3** Building on the previous question: \n",
    "    - if you successfully created `school0.json` programmatically through Q1 and Q2, use the file manager and create `school.json` as a copy of `school0.json`, or\n",
    "    - create `school.json` using a text editor, and with the **same data** as the original data from Q1 with the added subject of Q2.\n",
    "\n",
    "Write code to read and decode the JSON-formatted `school.json` file into a data structure, assigning to variable `ds3`. Once created, manipulate the `ds3` data structure by appending an additional row of data to the subjects list with subject mapping to `\"BIOL\"`, name mapping to `\"Biology\"`, and department mapping to `\"BIOL\"`."
   ]
  },
  {
   "cell_type": "code",
   "execution_count": 29,
   "metadata": {
    "deletable": false,
    "nbgrader": {
     "cell_type": "code",
     "checksum": "9feb14d3a33e0ea46aa854e958d87f73",
     "grade": false,
     "grade_id": "cell-b40d006ccc8ee732",
     "locked": false,
     "schema_version": 3,
     "solution": true,
     "task": false
    }
   },
   "outputs": [
    {
     "data": {
      "text/plain": [
       "{'subjects': [{'subject': 'CS',\n",
       "   'name': 'Computer Science',\n",
       "   'department': 'MATH'},\n",
       "  {'subject': 'DAEC', 'name': 'Data Analytics (ECON)', 'department': 'DA'},\n",
       "  {'subject': 'MATH', 'name': 'Mathematics', 'department': 'MATH'},\n",
       "  {'subject': 'ENGL', 'name': 'English Literature', 'department': 'ENGL'},\n",
       "  {'subject': 'PHYS', 'name': 'Physics and Astronomy', 'department': 'PHYS'},\n",
       "  {'subject': 'BIOL', 'name': 'Biology', 'department': 'BIOL'}]}"
      ]
     },
     "execution_count": 29,
     "metadata": {},
     "output_type": "execute_result"
    }
   ],
   "source": [
    "# Solution cell\n",
    "\n",
    "with open('school.json', 'w') as outfile:\n",
    "    json.dump(ds2, outfile, indent=2)\n",
    "    \n",
    "f = open('school.json')\n",
    "ds3 = json.load(f)\n",
    "ds3['subjects'].append({\"subject\":\"BIOL\", \"name\":\"Biology\",\"department\":\"BIOL\"})\n",
    "ds3"
   ]
  },
  {
   "cell_type": "code",
   "execution_count": 30,
   "metadata": {
    "deletable": false,
    "editable": false,
    "nbgrader": {
     "cell_type": "code",
     "checksum": "09c4f6da4512b112b8013047058ab32d",
     "grade": true,
     "grade_id": "cell-07a2223dd9d3a417",
     "locked": true,
     "points": 2,
     "schema_version": 3,
     "solution": false,
     "task": false
    }
   },
   "outputs": [],
   "source": [
    "# Testing cell\n",
    "\n",
    "assert True"
   ]
  },
  {
   "cell_type": "code",
   "execution_count": null,
   "metadata": {},
   "outputs": [],
   "source": []
  }
 ],
 "metadata": {
  "kernelspec": {
   "display_name": "Python 3",
   "language": "python",
   "name": "python3"
  },
  "language_info": {
   "codemirror_mode": {
    "name": "ipython",
    "version": 3
   },
   "file_extension": ".py",
   "mimetype": "text/x-python",
   "name": "python",
   "nbconvert_exporter": "python",
   "pygments_lexer": "ipython3",
   "version": "3.8.5"
  }
 },
 "nbformat": 4,
 "nbformat_minor": 5
}
