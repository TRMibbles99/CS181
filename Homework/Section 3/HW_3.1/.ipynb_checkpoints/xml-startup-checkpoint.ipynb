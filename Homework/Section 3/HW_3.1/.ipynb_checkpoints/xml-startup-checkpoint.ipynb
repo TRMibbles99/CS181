{
 "cells": [
  {
   "cell_type": "markdown",
   "metadata": {},
   "source": [
    "# Denison CS-181/DA-210 Homework"
   ]
  },
  {
   "cell_type": "markdown",
   "metadata": {},
   "source": [
    "---"
   ]
  },
  {
   "cell_type": "markdown",
   "metadata": {},
   "source": [
    "## XML Startup Exercises"
   ]
  },
  {
   "cell_type": "code",
   "execution_count": 2,
   "metadata": {},
   "outputs": [],
   "source": [
    "import os\n",
    "import sys\n",
    "\n",
    "def add_modules():\n",
    "    \"\"\"\n",
    "    Starting at the current directory and proceeding up the file system\n",
    "    tree, search for a directory named `modules`.  If found, and if not\n",
    "    already there, add to the Python module search path.\n",
    "    \n",
    "    Params: None\n",
    "    \n",
    "    Return: None\n",
    "    \"\"\"\n",
    "    directory = \".\"\n",
    "    levels = 0\n",
    "    while not os.path.isdir(os.path.join(directory, \"modules\")) and \\\n",
    "          levels < 5:\n",
    "        directory = os.path.join(directory, \"..\")\n",
    "        levels += 1\n",
    "    module_path = os.path.abspath(os.path.join(directory, \"modules\"))\n",
    "    if os.path.isdir(module_path):\n",
    "        if not module_path in sys.path:\n",
    "            sys.path.append(module_path)\n",
    "\n",
    "add_modules()\n",
    "import util"
   ]
  },
  {
   "cell_type": "markdown",
   "metadata": {},
   "source": [
    "**Q1** Consider subjects data table:\n",
    "\n",
    "subject | name | department\n",
    "--------|------|------------------\n",
    "CS      | Computer Science | MATH\n",
    "MATH    | Mathematics | MATH\n",
    "ENGL    | English Literature | ENGL\n",
    "\n",
    "Using a text editor like Atom, edit and create a file named subjects.xml in the current directory that creates a legal XML representation of this data. Once created, write a Python code sequence to read and parse the file, and then, using the technique from this section, print the entire tree.\n",
    "\n",
    "Don't forget any necessary imports."
   ]
  },
  {
   "cell_type": "code",
   "execution_count": 6,
   "metadata": {
    "deletable": false,
    "nbgrader": {
     "cell_type": "code",
     "checksum": "4ea892bec6faf4a3187d9a1ab2559076",
     "grade": false,
     "grade_id": "cell-5fe2e362225b5fb5",
     "locked": false,
     "schema_version": 3,
     "solution": true,
     "task": false
    }
   },
   "outputs": [
    {
     "name": "stdout",
     "output_type": "stream",
     "text": [
      "<subjects>\n",
      "  <subject id=\"CS\">\n",
      "    <name>Computer Science</name>\n",
      "    <department>MATH</department>\n",
      "  </subject>\n",
      "  <subject id=\"MATH\">\n",
      "    <name>Mathematics</name>\n",
      "    <department>MATH</department>\n",
      "  </subject>\n",
      "  <subject id=\"ENGL\">\n",
      "    <name>English Literature</name>\n",
      "    <department>ENGL</department>\n",
      "  </subject>\n",
      "</subjects>\n"
     ]
    }
   ],
   "source": [
    "# Solution cell\n",
    "from lxml import etree\n",
    "parser0 = etree.XMLParser()\n",
    "parser1 = etree.XMLParser(remove_blank_text=True)\n",
    "\n",
    "path = os.path.join(\".\", \"subjects.xml\")\n",
    "mytree = etree.parse(path, parser1)\n",
    "myroot = mytree.getroot()\n",
    "util.print_xml(myroot)"
   ]
  },
  {
   "cell_type": "code",
   "execution_count": 7,
   "metadata": {
    "deletable": false,
    "editable": false,
    "nbgrader": {
     "cell_type": "code",
     "checksum": "222064c7993f867fb70f59f7a0eb1957",
     "grade": true,
     "grade_id": "cell-85ec77ed031e5228",
     "locked": true,
     "points": 3,
     "schema_version": 3,
     "solution": false,
     "task": false
    }
   },
   "outputs": [],
   "source": [
    "# Testing cell\n",
    "\n",
    "assert True"
   ]
  },
  {
   "cell_type": "markdown",
   "metadata": {},
   "source": [
    "**Q2** Building on the last question, using a text editor, edit and create `school.xml` that contains a **single XML tree** with both the `subjects` table from the previous question, and the `courses` table presented here:\n",
    "\n",
    "subject | coursenum | title\n",
    "--------|-----------|--------------------\n",
    "CS  |  110| Computing with Digital Media\n",
    "CS | 372  | Operating Systems\n",
    "MATH | 210 | Proof Techniques\n",
    "ENGL | 213 | Early British Literature\n",
    "\n",
    "Once created, write a Python code sequence to read and parse the file, and then, using the technique from this section, print the entire tree."
   ]
  },
  {
   "cell_type": "code",
   "execution_count": 8,
   "metadata": {
    "deletable": false,
    "nbgrader": {
     "cell_type": "code",
     "checksum": "955ee97b6eef11b5ff65b374b1776815",
     "grade": false,
     "grade_id": "cell-118b37c04d94a3d9",
     "locked": false,
     "schema_version": 3,
     "solution": true,
     "task": false
    }
   },
   "outputs": [
    {
     "name": "stdout",
     "output_type": "stream",
     "text": [
      "<school>\n",
      "  <subjects>\n",
      "    <subject id=\"CS\">\n",
      "      <name>Computer Science</name>\n",
      "      <department>MATH</department>\n",
      "    </subject>\n",
      "    <subject id=\"MATH\">\n",
      "      <name>Mathematics</name>\n",
      "      <department>MATH</department>\n",
      "    </subject>\n",
      "    <subject id=\"ENGL\">\n",
      "      <name>English Literature</name>\n",
      "      <department>ENGL</department>\n",
      "    </subject>\n",
      "  </subjects>\n",
      "  <courses>\n",
      "    <course>\n",
      "      <subject>CS</subject>\n",
      "      <coursenum>110</coursenum>\n",
      "      <title>Computing with Digital Media</title>\n",
      "    </course>\n",
      "    <course>\n",
      "      <subject>CS</subject>\n",
      "      <coursenum>372</coursenum>\n",
      "      <title>Operating Systems</title>\n",
      "    </course>\n",
      "    <course>\n",
      "      <subject>MATH</subject>\n",
      "      <coursenum>210</coursenum>\n",
      "      <title>Proof Techniques</title>\n",
      "    </course>\n",
      "    <course>\n",
      "      <subject>ENGL</subject>\n",
      "      <coursenum>213</coursenum>\n",
      "      <title>Early British Literature</title>\n",
      "    </course>\n",
      "  </courses>\n",
      "</school>\n"
     ]
    }
   ],
   "source": [
    "# Solution cell\n",
    "\n",
    "path = os.path.join(\".\", \"school.xml\")\n",
    "mytree = etree.parse(path, parser1)\n",
    "myroot = mytree.getroot()\n",
    "util.print_xml(myroot)"
   ]
  },
  {
   "cell_type": "code",
   "execution_count": null,
   "metadata": {
    "deletable": false,
    "editable": false,
    "nbgrader": {
     "cell_type": "code",
     "checksum": "9e49d50baf9c83ba904b2b2460d1a50f",
     "grade": true,
     "grade_id": "cell-25f71f94ba8086f2",
     "locked": true,
     "points": 3,
     "schema_version": 3,
     "solution": false,
     "task": false
    }
   },
   "outputs": [],
   "source": [
    "# Testing cell\n",
    "\n",
    "assert True"
   ]
  }
 ],
 "metadata": {
  "kernelspec": {
   "display_name": "Python 3",
   "language": "python",
   "name": "python3"
  },
  "language_info": {
   "codemirror_mode": {
    "name": "ipython",
    "version": 3
   },
   "file_extension": ".py",
   "mimetype": "text/x-python",
   "name": "python",
   "nbconvert_exporter": "python",
   "pygments_lexer": "ipython3",
   "version": "3.8.5"
  }
 },
 "nbformat": 4,
 "nbformat_minor": 5
}
