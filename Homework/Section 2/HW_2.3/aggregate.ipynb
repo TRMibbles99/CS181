{
 "cells": [
  {
   "cell_type": "markdown",
   "metadata": {},
   "source": [
    "# Denison CS-181/DA-210 Homework"
   ]
  },
  {
   "cell_type": "markdown",
   "metadata": {},
   "source": [
    "---"
   ]
  },
  {
   "cell_type": "markdown",
   "metadata": {},
   "source": [
    "## Aggregation Exercises"
   ]
  },
  {
   "cell_type": "code",
   "execution_count": 47,
   "metadata": {},
   "outputs": [],
   "source": [
    "import os\n",
    "import io\n",
    "import sys\n",
    "import re\n",
    "import pandas as pd\n",
    "\n",
    "from contextlib import redirect_stdout\n",
    "\n",
    "def add_modules():\n",
    "    \"\"\"\n",
    "    Starting at the current directory and proceeding up the file system\n",
    "    tree, search for a directory named `modules`.  If found, and if not\n",
    "    already there, add to the Python module search path.\n",
    "    \n",
    "    Params: None\n",
    "    \n",
    "    Return: None\n",
    "    \"\"\"\n",
    "    directory = \".\"\n",
    "    levels = 0\n",
    "    while not os.path.isdir(os.path.join(directory, \"modules\")) and \\\n",
    "          levels < 5:\n",
    "        directory = os.path.join(directory, \"..\")\n",
    "        levels += 1\n",
    "    module_path = os.path.abspath(os.path.join(directory, \"modules\"))\n",
    "    if os.path.isdir(module_path):\n",
    "        if not module_path in sys.path:\n",
    "            sys.path.append(module_path)\n",
    "\n",
    "add_modules()\n",
    "import util\n",
    "\n",
    "datadir = util.resolve_dir(\"tabulardata\")"
   ]
  },
  {
   "cell_type": "markdown",
   "metadata": {},
   "source": [
    "**Q1** Read the CSV file `indicators2.csv` in the `\"tabulardata\"` data directory into a data frame named `indicators`, using the `code` column for the index.  Using individual aggregation operations on the respective `Series`, find the median and mean gdp, the average life expectancy, and the median land area.  Assign to `median_gdp`, `mean_gdp`, `mean_life`,  and `median_land`, respectively.  **Without additional annotation** and in a single print invocation, print these four values."
   ]
  },
  {
   "cell_type": "code",
   "execution_count": 48,
   "metadata": {
    "deletable": false,
    "nbgrader": {
     "cell_type": "code",
     "checksum": "f883612539392a33bf386385f872debf",
     "grade": false,
     "grade_id": "cell-fe19dfb9a1bc867e",
     "locked": false,
     "schema_version": 3,
     "solution": true,
     "task": false
    }
   },
   "outputs": [
    {
     "name": "stdout",
     "output_type": "stream",
     "text": [
      "20.395 320.5834313725491 70.48905 95300.0\n",
      "\n"
     ]
    }
   ],
   "source": [
    "result = io.StringIO()\n",
    "with redirect_stdout(result):\n",
    "    indicators = pd.read_csv(os.path.join(datadir, \"indicators2.csv\"), index_col = \"code\")\n",
    "    median_gdp = indicators[\"gdp\"].median()\n",
    "    mean_gdp = indicators[\"gdp\"].mean()\n",
    "    mean_life = indicators[\"life\"].mean()\n",
    "    median_land = indicators[\"land\"].median()\n",
    "    print(median_gdp, mean_gdp, mean_life, median_land)\n",
    "print(result.getvalue())"
   ]
  },
  {
   "cell_type": "code",
   "execution_count": 49,
   "metadata": {
    "deletable": false,
    "editable": false,
    "nbgrader": {
     "cell_type": "code",
     "checksum": "d8327a78fd09def85dce6d6902af7357",
     "grade": true,
     "grade_id": "cell-3f83482d838ed4ea",
     "locked": true,
     "points": 2,
     "schema_version": 3,
     "solution": false,
     "task": false
    }
   },
   "outputs": [
    {
     "ename": "AssertionError",
     "evalue": "",
     "output_type": "error",
     "traceback": [
      "\u001b[0;31m---------------------------------------------------------------------------\u001b[0m",
      "\u001b[0;31mAssertionError\u001b[0m                            Traceback (most recent call last)",
      "\u001b[0;32m<ipython-input-49-f53eeacb76d8>\u001b[0m in \u001b[0;36m<module>\u001b[0;34m\u001b[0m\n\u001b[1;32m      3\u001b[0m \u001b[0;32massert\u001b[0m \u001b[0misinstance\u001b[0m\u001b[0;34m(\u001b[0m\u001b[0mmean_life\u001b[0m\u001b[0;34m,\u001b[0m \u001b[0mfloat\u001b[0m\u001b[0;34m)\u001b[0m\u001b[0;34m\u001b[0m\u001b[0;34m\u001b[0m\u001b[0m\n\u001b[1;32m      4\u001b[0m \u001b[0;32massert\u001b[0m \u001b[0misinstance\u001b[0m\u001b[0;34m(\u001b[0m\u001b[0mmedian_land\u001b[0m\u001b[0;34m,\u001b[0m \u001b[0mfloat\u001b[0m\u001b[0;34m)\u001b[0m\u001b[0;34m\u001b[0m\u001b[0;34m\u001b[0m\u001b[0m\n\u001b[0;32m----> 5\u001b[0;31m \u001b[0;32massert\u001b[0m \u001b[0mresult\u001b[0m\u001b[0;34m.\u001b[0m\u001b[0mgetvalue\u001b[0m\u001b[0;34m(\u001b[0m\u001b[0;34m)\u001b[0m \u001b[0;34m==\u001b[0m \u001b[0;34m'20.395 320.583431372549 70.48904999999999 95300.0\\n'\u001b[0m\u001b[0;34m\u001b[0m\u001b[0;34m\u001b[0m\u001b[0m\n\u001b[0m",
      "\u001b[0;31mAssertionError\u001b[0m: "
     ]
    }
   ],
   "source": [
    "assert isinstance(median_gdp, float)\n",
    "assert isinstance(mean_gdp, float)\n",
    "assert isinstance(mean_life, float)\n",
    "assert isinstance(median_land, float)\n",
    "assert result.getvalue() == '20.395 320.583431372549 70.48904999999999 95300.0\\n'"
   ]
  },
  {
   "cell_type": "markdown",
   "metadata": {},
   "source": [
    "**Q2** Using a single invocation of the `agg` method **on a DataFrame** perform the same computation, assigning to `metrics` and print the result."
   ]
  },
  {
   "cell_type": "code",
   "execution_count": 50,
   "metadata": {
    "deletable": false,
    "nbgrader": {
     "cell_type": "code",
     "checksum": "72bf7b1392bd6757cda0a54825944118",
     "grade": false,
     "grade_id": "cell-5d9670adc6b1101d",
     "locked": false,
     "schema_version": 3,
     "solution": true,
     "task": false
    }
   },
   "outputs": [
    {
     "name": "stdout",
     "output_type": "stream",
     "text": [
      "               gdp      life     land\n",
      "mean    320.583431  70.48905      NaN\n",
      "median   20.395000       NaN  95300.0\n",
      "\n"
     ]
    }
   ],
   "source": [
    "result = io.StringIO()\n",
    "with redirect_stdout(result):\n",
    "    D = {'gdp':['median','mean'],'life':'mean','land':'median'}\n",
    "    metrics = indicators.agg(D)\n",
    "    print(metrics)\n",
    "print(result.getvalue())"
   ]
  },
  {
   "cell_type": "code",
   "execution_count": 51,
   "metadata": {
    "deletable": false,
    "editable": false,
    "nbgrader": {
     "cell_type": "code",
     "checksum": "0a3430be539bc650079368c745f4e54f",
     "grade": true,
     "grade_id": "cell-2f66d5b879295412",
     "locked": true,
     "points": 2,
     "schema_version": 3,
     "solution": false,
     "task": false
    }
   },
   "outputs": [],
   "source": [
    "assert isinstance(metrics, pd.core.frame.DataFrame)\n",
    "assert result.getvalue() == '               gdp      life     land\\nmean    320.583431  70.48905      NaN\\nmedian   20.395000       NaN  95300.0\\n'"
   ]
  },
  {
   "cell_type": "markdown",
   "metadata": {},
   "source": [
    "**Q3** Perform the aggregation functions of max, min, median, count, and size on the column of `cell` in a single operation. Do this twice, once by invoking the `agg` method on the DataFrame (appropriately), and the second time by first projecting the Series, and then invoking the `agg` method on the Series.  Name the first `metrics1` and the second `metrics2`.  In **separate print invocations** print each.  In a comment in your solution cell, tell me the data type of `metrics1`, and the data type of `metrics2`."
   ]
  },
  {
   "cell_type": "code",
   "execution_count": 52,
   "metadata": {
    "deletable": false,
    "nbgrader": {
     "cell_type": "code",
     "checksum": "d28270e3f677135373039e2fa9562eb2",
     "grade": false,
     "grade_id": "cell-76dcf16afa18d773",
     "locked": false,
     "schema_version": 3,
     "solution": true,
     "task": false
    }
   },
   "outputs": [
    {
     "name": "stdout",
     "output_type": "stream",
     "text": [
      "          cell\n",
      "max     859.00\n",
      "min       0.00\n",
      "median    4.61\n",
      "count   207.00\n",
      "size    217.00\n",
      "max       859.00\n",
      "min         0.00\n",
      "median      4.61\n",
      "count     207.00\n",
      "size      217.00\n",
      "Name: cell, dtype: float64\n",
      "\n"
     ]
    }
   ],
   "source": [
    "result = io.StringIO()\n",
    "with redirect_stdout(result):\n",
    "    metrics1 = indicators.agg({'cell':['max', 'min', 'median', 'count', 'size']})\n",
    "    metrics2 = indicators['cell'].agg(['max', 'min', 'median', 'count', 'size'])\n",
    "    print(metrics1)\n",
    "    print(metrics2)\n",
    "print(result.getvalue())\n",
    "#metrics1 is a dataframe while metrics2 is a series"
   ]
  },
  {
   "cell_type": "code",
   "execution_count": 53,
   "metadata": {
    "deletable": false,
    "editable": false,
    "nbgrader": {
     "cell_type": "code",
     "checksum": "38aa79971fc5b982d1472baaec1db020",
     "grade": true,
     "grade_id": "cell-f51cfc5f7c5e0cd5",
     "locked": true,
     "points": 2,
     "schema_version": 3,
     "solution": false,
     "task": false
    }
   },
   "outputs": [],
   "source": [
    "# Testing cell\n",
    "assert True"
   ]
  },
  {
   "cell_type": "markdown",
   "metadata": {},
   "source": [
    "**Q4** In the data directory, you will find a file sat.csv, based on data from www.onlinestatbook.com. This data contains the high school GPA, SAT math score, SAT verbal score, and college GPAs, for a number of students. Read the data into a pandas dataframe `dfsat`. We are going to experiment using `agg` to compute the average of all of the numeric columns in the data set. \n",
    "\n",
    "The four variations:\n",
    "\n",
    "1. Pass a string naming an aggregation function to `agg`, assigning the result to `average1`.\n",
    "2. Pass a list consisting of a string naming an aggregation function, assigning the result to `average2`.\n",
    "3. Pass a dictionary with keys for each column and mapping to a string for the aggregation function, assigning the result to `average3`.\n",
    "4. Pass a dictionary mapping each of the columns to a list consisting of a string naming the aggregation function.  Assign to `average4`.\n",
    "\n",
    "In separate print statements, print each of these results."
   ]
  },
  {
   "cell_type": "code",
   "execution_count": 54,
   "metadata": {
    "deletable": false,
    "nbgrader": {
     "cell_type": "code",
     "checksum": "4be23bcb55a4f11d702d107394a01034",
     "grade": false,
     "grade_id": "cell-4f3ade7dc3375199",
     "locked": false,
     "schema_version": 3,
     "solution": true,
     "task": false
    }
   },
   "outputs": [
    {
     "name": "stdout",
     "output_type": "stream",
     "text": [
      "\"hs_GPA           3.076381\\nmath_SAT       623.076190\\nverb_SAT       598.600000\\ncollege_GPA      3.172857\\ndtype: float64\\n        hs_GPA   math_SAT  verb_SAT  college_GPA\\nmean  3.076381  623.07619     598.6     3.172857\\n        hs_GPA   math_SAT  verb_SAT  college_GPA\\nmean  3.076381  623.07619     598.6     3.172857\\n        hs_GPA   math_SAT  verb_SAT  college_GPA\\nmean  3.076381  623.07619     598.6     3.172857\\n<class 'pandas.core.series.Series'>\\n<class 'pandas.core.frame.DataFrame'>\\n<class 'pandas.core.frame.DataFrame'>\\n<class 'pandas.core.frame.DataFrame'>\\n\"\n"
     ]
    }
   ],
   "source": [
    "result = io.StringIO()\n",
    "with redirect_stdout(result):\n",
    "    dfsat = pd.read_csv(os.path.join(datadir, \"sat.csv\"))\n",
    "    average1 = dfsat.agg('mean')\n",
    "    average2 = dfsat.agg(['mean'])\n",
    "    average3 = dfsat.agg({'mean'})\n",
    "    average4 = dfsat.agg({'hs_GPA':['mean'],'math_SAT':['mean'],'verb_SAT':['mean'], 'college_GPA':['mean']})\n",
    "    print(average1)\n",
    "    print(average2)\n",
    "    print(average3)\n",
    "    print(average4)\n",
    "    \n",
    "    print(type(average1))\n",
    "    print(type(average2))\n",
    "    print(type(average3))\n",
    "    print(type(average4))\n",
    "print(repr(result.getvalue()))"
   ]
  },
  {
   "cell_type": "code",
   "execution_count": 55,
   "metadata": {
    "deletable": false,
    "editable": false,
    "nbgrader": {
     "cell_type": "code",
     "checksum": "12bd0f04b00574a367ed3b17dcf2277f",
     "grade": true,
     "grade_id": "cell-4f74534760892dd4",
     "locked": true,
     "points": 3,
     "schema_version": 3,
     "solution": false,
     "task": false
    }
   },
   "outputs": [],
   "source": [
    "# Testing cell\n",
    "assert True"
   ]
  },
  {
   "cell_type": "markdown",
   "metadata": {},
   "source": [
    "**Q5** Compare and contrast the four cases in the previous question, including observations on data types and equivalencies."
   ]
  },
  {
   "cell_type": "markdown",
   "metadata": {
    "deletable": false,
    "nbgrader": {
     "cell_type": "markdown",
     "checksum": "7faa6dcc1167d5dd15ff636e22d00e87",
     "grade": true,
     "grade_id": "cell-d5a57fdf723f101f",
     "locked": false,
     "points": 2,
     "schema_version": 3,
     "solution": true,
     "task": false
    }
   },
   "source": [
    "The first average is a series while the rest of them are data frames but they each have the same numbers in them as the average."
   ]
  },
  {
   "cell_type": "markdown",
   "metadata": {},
   "source": [
    "**Q6** The `indicators` data set in `indicators2.csv` has been augmented to include income categories for each country, and also has added the column, `gdp_percap`, which is the per capita gdp.\n",
    "\n",
    "Write code to **filter** `indicators` to just the countries that are designated as `\"High income\"`, and then aggregate the `gdp_percap` column to obtain mean, median, and max, and aggregate `life` by the same three aggegations.  Use aggregation on the projected Series.\n",
    "\n",
    "Assign the result to `highincome_stats` and print the result."
   ]
  },
  {
   "cell_type": "code",
   "execution_count": 56,
   "metadata": {
    "deletable": false,
    "nbgrader": {
     "cell_type": "code",
     "checksum": "51ac21c9484ebdfade74efc58d073f7e",
     "grade": false,
     "grade_id": "cell-51695b1e28fcab92",
     "locked": false,
     "schema_version": 3,
     "solution": true,
     "task": false
    }
   },
   "outputs": [
    {
     "name": "stdout",
     "output_type": "stream",
     "text": [
      "'        gdp_percap       life\\nmean     37.790349  78.434328\\nmedian   33.696600  79.100000\\nmax     133.750000  82.980000\\n'\n"
     ]
    }
   ],
   "source": [
    "result = io.StringIO()\n",
    "with redirect_stdout(result):\n",
    "    indicators = pd.read_csv(os.path.join(datadir, \"indicators2.csv\"))\n",
    "    high = indicators[indicators[\"income\"] == \"High income\"]\n",
    "    highincome_stats = high.agg({\"gdp_percap\":[\"mean\",\"median\",\"max\"], \"life\":[\"mean\",'median','max']})\n",
    "    print(highincome_stats)\n",
    "print(repr(result.getvalue()))"
   ]
  },
  {
   "cell_type": "code",
   "execution_count": 57,
   "metadata": {
    "deletable": false,
    "editable": false,
    "nbgrader": {
     "cell_type": "code",
     "checksum": "bd80197a997e32526ee0c79824469304",
     "grade": true,
     "grade_id": "cell-c52ca01da940c7ef",
     "locked": true,
     "points": 2,
     "schema_version": 3,
     "solution": false,
     "task": false
    }
   },
   "outputs": [],
   "source": [
    "# Testing cell\n"
   ]
  },
  {
   "cell_type": "markdown",
   "metadata": {},
   "source": [
    "**Q7** Repeat the filtering and aggregation from the last question, but this time filter by the income category `\"Low income\"`.  \n",
    "\n",
    "Use aggregation on the projected Series.\n",
    "\n",
    "Assign the result to `lowincome_stats` and print the result.\n",
    "\n",
    "After you have given the code, write a short paragraph comparing and contrasting what you learned through the results of these last two questions."
   ]
  },
  {
   "cell_type": "code",
   "execution_count": 58,
   "metadata": {
    "deletable": false,
    "nbgrader": {
     "cell_type": "code",
     "checksum": "3af547e8a1b7709ff86009e69c26cdf8",
     "grade": false,
     "grade_id": "cell-d92de013cb0b22b6",
     "locked": false,
     "schema_version": 3,
     "solution": true,
     "task": false
    }
   },
   "outputs": [
    {
     "name": "stdout",
     "output_type": "stream",
     "text": [
      "'        gdp_percap       life\\nmean      0.593454  58.969677\\nmedian    0.557800  57.460000\\nmax       1.562100  72.110000\\n'\n"
     ]
    }
   ],
   "source": [
    "result = io.StringIO()\n",
    "with redirect_stdout(result):\n",
    "    low = indicators[indicators[\"income\"] == \"Low income\"]\n",
    "    lowincome_stats = low.agg({'gdp_percap':['mean','median','max'], 'life':['mean','median','max']})\n",
    "    print(lowincome_stats)\n",
    "print(repr(result.getvalue()))"
   ]
  },
  {
   "cell_type": "code",
   "execution_count": 59,
   "metadata": {
    "deletable": false,
    "editable": false,
    "nbgrader": {
     "cell_type": "code",
     "checksum": "3416af4122d8ff67ba702ab829e67989",
     "grade": true,
     "grade_id": "cell-c75f63af97a087ea",
     "locked": true,
     "points": 2,
     "schema_version": 3,
     "solution": false,
     "task": false
    }
   },
   "outputs": [],
   "source": [
    "# Testing cell\n"
   ]
  },
  {
   "cell_type": "markdown",
   "metadata": {
    "deletable": false,
    "nbgrader": {
     "cell_type": "markdown",
     "checksum": "47455064077a3de12be63f77e163eaf7",
     "grade": true,
     "grade_id": "cell-91c0bca8f86f2f62",
     "locked": false,
     "points": 1,
     "schema_version": 3,
     "solution": true,
     "task": false
    }
   },
   "source": [
    "Living in high income vs a low income has a significant effect on your life. Looking at the gdp_percap we know that the low income places do not cost nearly as much as high income places. We also know that the average lifespan is about 20 years less in low income than in high income places. Knowing all of this we can come to the conclusion that high income places have a positive effect on your age and low income places have a negative effect on your lifespan."
   ]
  },
  {
   "cell_type": "code",
   "execution_count": null,
   "metadata": {},
   "outputs": [],
   "source": []
  },
  {
   "cell_type": "code",
   "execution_count": null,
   "metadata": {},
   "outputs": [],
   "source": []
  }
 ],
 "metadata": {
  "kernelspec": {
   "display_name": "Python 3",
   "language": "python",
   "name": "python3"
  },
  "language_info": {
   "codemirror_mode": {
    "name": "ipython",
    "version": 3
   },
   "file_extension": ".py",
   "mimetype": "text/x-python",
   "name": "python",
   "nbconvert_exporter": "python",
   "pygments_lexer": "ipython3",
   "version": "3.8.5"
  }
 },
 "nbformat": 4,
 "nbformat_minor": 5
}
