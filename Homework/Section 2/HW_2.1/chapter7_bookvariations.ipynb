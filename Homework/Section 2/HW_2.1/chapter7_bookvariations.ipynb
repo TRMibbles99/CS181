{
 "cells": [
  {
   "cell_type": "markdown",
   "metadata": {},
   "source": [
    "# Denison CS-181/DA-210 Homework"
   ]
  },
  {
   "cell_type": "markdown",
   "metadata": {},
   "source": [
    "---"
   ]
  },
  {
   "cell_type": "markdown",
   "metadata": {},
   "source": [
    "## Chapter 7\n",
    "\n",
    "*Execute the prolog cell*"
   ]
  },
  {
   "cell_type": "code",
   "execution_count": 1,
   "metadata": {},
   "outputs": [],
   "source": [
    "import os\n",
    "import io\n",
    "import sys\n",
    "import re\n",
    "\n",
    "from contextlib import redirect_stdout\n",
    "\n",
    "def add_modules():\n",
    "    \"\"\"\n",
    "    Starting at the current directory and proceeding up the file system\n",
    "    tree, search for a directory named `modules`.  If found, and if not\n",
    "    already there, add to the Python module search path.\n",
    "    \n",
    "    Params: None\n",
    "    \n",
    "    Return: None\n",
    "    \"\"\"\n",
    "    directory = \".\"\n",
    "    levels = 0\n",
    "    while not os.path.isdir(os.path.join(directory, \"modules\")) and \\\n",
    "          levels < 5:\n",
    "        directory = os.path.join(directory, \"..\")\n",
    "        levels += 1\n",
    "    module_path = os.path.abspath(os.path.join(directory, \"modules\"))\n",
    "    if os.path.isdir(module_path):\n",
    "        if not module_path in sys.path:\n",
    "            sys.path.append(module_path)\n",
    "\n",
    "add_modules()\n",
    "import util\n",
    "\n",
    "datadir = util.resolve_dir(\"tabulardata\")"
   ]
  },
  {
   "cell_type": "code",
   "execution_count": 2,
   "metadata": {},
   "outputs": [],
   "source": [
    "import pandas as pd"
   ]
  },
  {
   "cell_type": "markdown",
   "metadata": {},
   "source": [
    "### Section 7.2: Data Set Construction"
   ]
  },
  {
   "cell_type": "code",
   "execution_count": 3,
   "metadata": {},
   "outputs": [],
   "source": [
    "path = os.path.join(datadir, \"worldbank\", \"countrymeta.csv\")\n",
    "countrymeta, aggregates = util.meta2country_aggs(path)\n",
    "\n",
    "path = os.path.join(datadir, 'worldbank', 'land.csv')\n",
    "landindicator = util.ind2df(path, aggregates, 'land')\n",
    "lastyear = list(landindicator.index.levels[0])[-1]\n",
    "latestland = landindicator.xs(key=lastyear, level='year')\n",
    "countrydf = countrymeta.join(latestland, how=\"left\")"
   ]
  },
  {
   "cell_type": "code",
   "execution_count": 4,
   "metadata": {},
   "outputs": [],
   "source": [
    "topnames_path = os.path.join(datadir, \"topnames.csv\")\n",
    "assert os.path.isfile(topnames_path)\n",
    "\n",
    "topnames0 = pd.read_csv(topnames_path)\n",
    "topnames = pd.read_csv(topnames_path, index_col=['year', 'sex'])"
   ]
  },
  {
   "cell_type": "code",
   "execution_count": 5,
   "metadata": {},
   "outputs": [],
   "source": [
    "indlist = ['pop', 'gdp', 'life', 'cell']\n",
    "conversions = [(1000000, 2), (1000000000, 2), (1, 2), (1000000, 2)]\n",
    "metalist = ['country']\n",
    "yearlist = 2017\n",
    "codelist = ['CHN', 'IND', 'RUS', 'USA', 'VNM']\n",
    "\n",
    "inddatadir = os.path.join(datadir, \"worldbank\")\n",
    "indicators = util.build_indicators(indlist, conversions, metalist, yearlist, codelist,\n",
    "                      aggregates, countrydf, inddatadir)\n",
    "indicators0 = indicators.reset_index()"
   ]
  },
  {
   "cell_type": "markdown",
   "metadata": {},
   "source": [
    "**Q1** Project the `count` column in `topnames0`, assigning to `count`, and use the `head()` method to print the first five enties in `count`.\n"
   ]
  },
  {
   "cell_type": "code",
   "execution_count": 12,
   "metadata": {
    "deletable": false,
    "nbgrader": {
     "cell_type": "code",
     "checksum": "2cd3b7ebd73997fe4e637f017ca6f985",
     "grade": false,
     "grade_id": "cell-0670960b985c67cf",
     "locked": false,
     "schema_version": 3,
     "solution": true,
     "task": false
    }
   },
   "outputs": [
    {
     "name": "stdout",
     "output_type": "stream",
     "text": [
      "0    7065\n",
      "1    9655\n",
      "2    6919\n",
      "3    8769\n",
      "4    8148\n",
      "Name: count, dtype: int64\n",
      "\n"
     ]
    }
   ],
   "source": [
    "result = io.StringIO()\n",
    "with redirect_stdout(result):\n",
    "    count = topnames0['count']\n",
    "    print(count.head())\n",
    "print(result.getvalue())"
   ]
  },
  {
   "cell_type": "code",
   "execution_count": 13,
   "metadata": {
    "deletable": false,
    "editable": false,
    "nbgrader": {
     "cell_type": "code",
     "checksum": "8762c546dc45e76a85dc228f7bd01565",
     "grade": true,
     "grade_id": "cell-6d362fda8c458af2",
     "locked": true,
     "points": 0.5,
     "schema_version": 3,
     "solution": false,
     "task": false
    }
   },
   "outputs": [],
   "source": [
    "# Testing Cell\n",
    "\n",
    "assert True"
   ]
  },
  {
   "cell_type": "markdown",
   "metadata": {},
   "source": [
    "\n",
    "**Q2** Project the `count` column in `topnames`, assigning to `count`, and print the first five enties in `count`.  How does this differ from what you saw in the last question (answer as a comment in your solution code cell)?\n"
   ]
  },
  {
   "cell_type": "code",
   "execution_count": 16,
   "metadata": {
    "deletable": false,
    "nbgrader": {
     "cell_type": "code",
     "checksum": "9d5022083290fed408895da50cd56605",
     "grade": false,
     "grade_id": "cell-45478d1f1a5259a7",
     "locked": false,
     "schema_version": 3,
     "solution": true,
     "task": false
    }
   },
   "outputs": [
    {
     "name": "stdout",
     "output_type": "stream",
     "text": [
      "year  sex   \n",
      "1880  Female    7065\n",
      "      Male      9655\n",
      "1881  Female    6919\n",
      "      Male      8769\n",
      "1882  Female    8148\n",
      "Name: count, dtype: int64\n",
      "\n"
     ]
    }
   ],
   "source": [
    "result = io.StringIO()\n",
    "with redirect_stdout(result):\n",
    "    count = topnames['count']\n",
    "    print(count.head())\n",
    "print(result.getvalue())\n",
    "# topnames0 count just printed the count column while topnames count printed year, sex, and count"
   ]
  },
  {
   "cell_type": "code",
   "execution_count": 17,
   "metadata": {
    "deletable": false,
    "editable": false,
    "nbgrader": {
     "cell_type": "code",
     "checksum": "6ee81bdfba0c2f6310866aea1e496ea9",
     "grade": true,
     "grade_id": "cell-c11e8f96e4403c2f",
     "locked": true,
     "points": 0.5,
     "schema_version": 3,
     "solution": false,
     "task": false
    }
   },
   "outputs": [],
   "source": [
    "# Testing Cell\n",
    "\n",
    "assert True"
   ]
  },
  {
   "cell_type": "markdown",
   "metadata": {},
   "source": [
    "**Q3** Print the projection of the `cell` column **as an attribute** from `indicators`\n"
   ]
  },
  {
   "cell_type": "code",
   "execution_count": 18,
   "metadata": {
    "deletable": false,
    "nbgrader": {
     "cell_type": "code",
     "checksum": "eeff9f23da671cb2531c90f2e3f61d30",
     "grade": false,
     "grade_id": "cell-ad33c2944a8432e8",
     "locked": false,
     "schema_version": 3,
     "solution": true,
     "task": false
    }
   },
   "outputs": [
    {
     "name": "stdout",
     "output_type": "stream",
     "text": [
      "code\n",
      "CHN    1469.88\n",
      "IND    1168.90\n",
      "RUS     227.30\n",
      "USA     391.60\n",
      "VNM     120.02\n",
      "Name: cell, dtype: float64\n",
      "\n"
     ]
    }
   ],
   "source": [
    "result = io.StringIO()\n",
    "with redirect_stdout(result):\n",
    "    print(indicators.cell)\n",
    "print(result.getvalue())"
   ]
  },
  {
   "cell_type": "code",
   "execution_count": 19,
   "metadata": {
    "deletable": false,
    "editable": false,
    "nbgrader": {
     "cell_type": "code",
     "checksum": "7a493e39ca20fd21145965ada46b5cbe",
     "grade": true,
     "grade_id": "cell-7e2c2bf526999d69",
     "locked": true,
     "points": 0.5,
     "schema_version": 3,
     "solution": false,
     "task": false
    }
   },
   "outputs": [],
   "source": [
    "# Testing Cell\n",
    "\n",
    "assert True"
   ]
  },
  {
   "cell_type": "markdown",
   "metadata": {},
   "source": [
    "**Q4** Print the type of `indicators.cell`.  Note the result.\n"
   ]
  },
  {
   "cell_type": "code",
   "execution_count": 20,
   "metadata": {
    "deletable": false,
    "nbgrader": {
     "cell_type": "code",
     "checksum": "cc4a608aa96692c9dc64e293987472ee",
     "grade": false,
     "grade_id": "cell-78fb8cd48e44cb6c",
     "locked": false,
     "schema_version": 3,
     "solution": true,
     "task": false
    }
   },
   "outputs": [
    {
     "name": "stdout",
     "output_type": "stream",
     "text": [
      "<class 'pandas.core.series.Series'>\n",
      "\n"
     ]
    }
   ],
   "source": [
    "result = io.StringIO()\n",
    "with redirect_stdout(result):\n",
    "    print(type(indicators.cell))\n",
    "print(result.getvalue())"
   ]
  },
  {
   "cell_type": "code",
   "execution_count": 21,
   "metadata": {
    "deletable": false,
    "editable": false,
    "nbgrader": {
     "cell_type": "code",
     "checksum": "d3dcf4e7b2546ac07ace4cdc6611fc0d",
     "grade": true,
     "grade_id": "cell-ac57b2ac26262af4",
     "locked": true,
     "points": 0.5,
     "schema_version": 3,
     "solution": false,
     "task": false
    }
   },
   "outputs": [],
   "source": [
    "# Testing Cell\n",
    "\n",
    "assert True"
   ]
  },
  {
   "cell_type": "markdown",
   "metadata": {},
   "source": [
    "**Q5** Project the `life` column from `indicators`, assigning to `life_column`.  Then use a print function to show the `IND` and `VNM` values within that column.\n"
   ]
  },
  {
   "cell_type": "code",
   "execution_count": 22,
   "metadata": {
    "deletable": false,
    "nbgrader": {
     "cell_type": "code",
     "checksum": "b3a3bf6defd4754c6baed3026d9b6b00",
     "grade": false,
     "grade_id": "cell-0aeb62e69a278afa",
     "locked": false,
     "schema_version": 3,
     "solution": true,
     "task": false
    }
   },
   "outputs": [
    {
     "name": "stdout",
     "output_type": "stream",
     "text": [
      "68.8 76.45\n",
      "\n"
     ]
    }
   ],
   "source": [
    "result = io.StringIO()\n",
    "with redirect_stdout(result):\n",
    "    life_column = indicators['life']\n",
    "    print(life_column['IND'],life_column['VNM'])\n",
    "print(result.getvalue())"
   ]
  },
  {
   "cell_type": "code",
   "execution_count": 23,
   "metadata": {
    "deletable": false,
    "editable": false,
    "nbgrader": {
     "cell_type": "code",
     "checksum": "63eea2b7f19b67bb775c1c07b3c2bd63",
     "grade": true,
     "grade_id": "cell-4b87edb6d88f39ba",
     "locked": true,
     "points": 0.5,
     "schema_version": 3,
     "solution": false,
     "task": false
    }
   },
   "outputs": [],
   "source": [
    "# Testing Cell\n",
    "\n",
    "assert True"
   ]
  },
  {
   "cell_type": "markdown",
   "metadata": {},
   "source": [
    "**Q6** Project the `count` column from **`topnames0`** (note that this differs from the book, where it is using `topnames`.  Assign to `count_column` and then use integer positions to print the position 0, 3, 250, and 251 elements of the column.\n"
   ]
  },
  {
   "cell_type": "code",
   "execution_count": 24,
   "metadata": {
    "deletable": false,
    "nbgrader": {
     "cell_type": "code",
     "checksum": "e43f3463426b7b0dac277a844032364d",
     "grade": false,
     "grade_id": "cell-54bcbbf89c3921ec",
     "locked": false,
     "schema_version": 3,
     "solution": true,
     "task": false
    }
   },
   "outputs": [
    {
     "name": "stdout",
     "output_type": "stream",
     "text": [
      "7065 8769 23940 25833\n",
      "\n"
     ]
    }
   ],
   "source": [
    "result = io.StringIO()\n",
    "with redirect_stdout(result):\n",
    "    count_column = topnames0['count']\n",
    "    print(count_column[0],count_column[3],count_column[250],count_column[251])\n",
    "print(result.getvalue())"
   ]
  },
  {
   "cell_type": "code",
   "execution_count": 25,
   "metadata": {
    "deletable": false,
    "editable": false,
    "nbgrader": {
     "cell_type": "code",
     "checksum": "9158d0207f9d3fc930b480d0ee2e6acc",
     "grade": true,
     "grade_id": "cell-ab58139f38a51cab",
     "locked": true,
     "points": 0.5,
     "schema_version": 3,
     "solution": false,
     "task": false
    }
   },
   "outputs": [],
   "source": [
    "# Testing Cell\n",
    "\n",
    "assert True"
   ]
  },
  {
   "cell_type": "markdown",
   "metadata": {},
   "source": [
    "**Q7** Multiply the `gdp` column vector of `indicators` by the scalar 1.5 and assign to `new_gdp`, printing the calculated column.\n"
   ]
  },
  {
   "cell_type": "code",
   "execution_count": 26,
   "metadata": {
    "deletable": false,
    "nbgrader": {
     "cell_type": "code",
     "checksum": "ddf9e8f4b26df76ef2adcc70ad5108c3",
     "grade": false,
     "grade_id": "cell-8d93df67f6093efa",
     "locked": false,
     "schema_version": 3,
     "solution": true,
     "task": false
    }
   },
   "outputs": [
    {
     "name": "stdout",
     "output_type": "stream",
     "text": [
      "code\n",
      "CHN    15179.3625\n",
      "IND     3315.6875\n",
      "RUS     1973.2750\n",
      "USA    24356.7375\n",
      "VNM      279.7250\n",
      "Name: gdp, dtype: float64\n",
      "\n"
     ]
    }
   ],
   "source": [
    "result = io.StringIO()\n",
    "with redirect_stdout(result):\n",
    "    new_gdp = indicators['gdp'] * 1.25\n",
    "    print(new_gdp)\n",
    "print(result.getvalue())"
   ]
  },
  {
   "cell_type": "code",
   "execution_count": 27,
   "metadata": {
    "deletable": false,
    "editable": false,
    "nbgrader": {
     "cell_type": "code",
     "checksum": "a972e27d0fa5c16f7eb0c7d685c53e51",
     "grade": true,
     "grade_id": "cell-245ad2b2933a2b58",
     "locked": true,
     "points": 0.5,
     "schema_version": 3,
     "solution": false,
     "task": false
    }
   },
   "outputs": [],
   "source": [
    "# Testing Cell\n",
    "\n",
    "assert True"
   ]
  },
  {
   "cell_type": "markdown",
   "metadata": {},
   "source": [
    "**Q8** Perform a vector division of the `gdp` column by the `pop` column of `indicators`, assigning to `gdp_per_person` and print the calculated column.\n"
   ]
  },
  {
   "cell_type": "code",
   "execution_count": 28,
   "metadata": {
    "deletable": false,
    "nbgrader": {
     "cell_type": "code",
     "checksum": "b9c491df6b4ace056b53e943c70a618e",
     "grade": false,
     "grade_id": "cell-d7580c38f5c959ca",
     "locked": false,
     "schema_version": 3,
     "solution": true,
     "task": false
    }
   },
   "outputs": [
    {
     "name": "stdout",
     "output_type": "stream",
     "text": [
      "code\n",
      "CHN     8.759009\n",
      "IND     1.981496\n",
      "RUS    10.924706\n",
      "USA    59.927387\n",
      "VNM     2.365539\n",
      "dtype: float64\n",
      "\n"
     ]
    }
   ],
   "source": [
    "result = io.StringIO()\n",
    "with redirect_stdout(result):\n",
    "    gdp_per_person = indicators['gdp']/indicators['pop']\n",
    "    print(gdp_per_person)\n",
    "print(result.getvalue())"
   ]
  },
  {
   "cell_type": "code",
   "execution_count": 29,
   "metadata": {
    "deletable": false,
    "editable": false,
    "nbgrader": {
     "cell_type": "code",
     "checksum": "9d1e33db5163245ef20b63b63ec2fefa",
     "grade": true,
     "grade_id": "cell-d0734aeb076ff753",
     "locked": true,
     "points": 0.5,
     "schema_version": 3,
     "solution": false,
     "task": false
    }
   },
   "outputs": [],
   "source": [
    "# Testing Cell\n",
    "\n",
    "assert True"
   ]
  },
  {
   "cell_type": "markdown",
   "metadata": {},
   "source": [
    "**Q9** Compute a boolean vector comparing values in the `life` column to see if they are greater than 73.  Assign the computed column to `long_life` and print the result.\n"
   ]
  },
  {
   "cell_type": "code",
   "execution_count": 30,
   "metadata": {
    "deletable": false,
    "nbgrader": {
     "cell_type": "code",
     "checksum": "1eaa389e40ccb4bed77557966c3cd022",
     "grade": false,
     "grade_id": "cell-0e27a3c706c5eff8",
     "locked": false,
     "schema_version": 3,
     "solution": true,
     "task": false
    }
   },
   "outputs": [
    {
     "name": "stdout",
     "output_type": "stream",
     "text": [
      "code\n",
      "CHN     True\n",
      "IND    False\n",
      "RUS    False\n",
      "USA     True\n",
      "VNM     True\n",
      "Name: life, dtype: bool\n",
      "\n"
     ]
    }
   ],
   "source": [
    "result = io.StringIO()\n",
    "with redirect_stdout(result):\n",
    "    long_life = indicators['life'] > 73\n",
    "    print(long_life)\n",
    "print(result.getvalue())"
   ]
  },
  {
   "cell_type": "code",
   "execution_count": 31,
   "metadata": {
    "deletable": false,
    "editable": false,
    "nbgrader": {
     "cell_type": "code",
     "checksum": "e0ca3f94be6c93205194b83c32da876e",
     "grade": true,
     "grade_id": "cell-8ef397a58098f9a2",
     "locked": true,
     "points": 0.5,
     "schema_version": 3,
     "solution": false,
     "task": false
    }
   },
   "outputs": [],
   "source": [
    "# Testing Cell\n",
    "\n",
    "assert True"
   ]
  },
  {
   "cell_type": "markdown",
   "metadata": {},
   "source": [
    "**Q10** Compute `short_life`, a boolean vector that is the logical negation of the `life` column values being greater than 73.  Also compute `small_gdp`, a boolean vector where the values in the `gdp` column are less than 10000.0.  Finally, compute and print `condition`, which is the logical OR of `short_life` and `small_gdp`.\n"
   ]
  },
  {
   "cell_type": "code",
   "execution_count": 35,
   "metadata": {
    "deletable": false,
    "nbgrader": {
     "cell_type": "code",
     "checksum": "94bd41dd7473a0d818f6852962f93de8",
     "grade": false,
     "grade_id": "cell-c1dc895b9cd70734",
     "locked": false,
     "schema_version": 3,
     "solution": true,
     "task": false
    }
   },
   "outputs": [
    {
     "name": "stdout",
     "output_type": "stream",
     "text": [
      "code\n",
      "CHN    False\n",
      "IND     True\n",
      "RUS     True\n",
      "USA    False\n",
      "VNM     True\n",
      "dtype: bool\n",
      "\n"
     ]
    }
   ],
   "source": [
    "result = io.StringIO()\n",
    "with redirect_stdout(result):\n",
    "    short_life = ~(long_life)\n",
    "    small_gdp = indicators['gdp'] < 10000.0\n",
    "    condition = short_life | small_gdp\n",
    "    print(condition)\n",
    "print(result.getvalue())"
   ]
  },
  {
   "cell_type": "code",
   "execution_count": 36,
   "metadata": {
    "deletable": false,
    "editable": false,
    "nbgrader": {
     "cell_type": "code",
     "checksum": "e8e67886fc368ebfb5afb7df10c35931",
     "grade": true,
     "grade_id": "cell-1cda117cd04836c8",
     "locked": true,
     "points": 0.5,
     "schema_version": 3,
     "solution": false,
     "task": false
    }
   },
   "outputs": [],
   "source": [
    "# Testing Cell\n",
    "\n",
    "assert True"
   ]
  },
  {
   "cell_type": "markdown",
   "metadata": {},
   "source": [
    "**Q11** Again, compute the same `condition` as the last question, but do it in a single expression and assignment, and then print the result.\n"
   ]
  },
  {
   "cell_type": "code",
   "execution_count": 44,
   "metadata": {
    "deletable": false,
    "nbgrader": {
     "cell_type": "code",
     "checksum": "f54196e166b020d200016d8e140abef9",
     "grade": false,
     "grade_id": "cell-105bacb15c406d9b",
     "locked": false,
     "schema_version": 3,
     "solution": true,
     "task": false
    }
   },
   "outputs": [
    {
     "name": "stdout",
     "output_type": "stream",
     "text": [
      "code\n",
      "CHN    False\n",
      "IND     True\n",
      "RUS     True\n",
      "USA    False\n",
      "VNM     True\n",
      "dtype: bool\n",
      "\n"
     ]
    }
   ],
   "source": [
    "result = io.StringIO()\n",
    "with redirect_stdout(result):\n",
    "    condition = ((indicators['gdp'] < 10000.0) | (indicators['life'] <= 73))\n",
    "    print(condition)\n",
    "print(result.getvalue())"
   ]
  },
  {
   "cell_type": "code",
   "execution_count": 45,
   "metadata": {
    "deletable": false,
    "editable": false,
    "nbgrader": {
     "cell_type": "code",
     "checksum": "f4553959864c671fdd43cfedc2673d2d",
     "grade": true,
     "grade_id": "cell-c7ce160b12198bbe",
     "locked": true,
     "points": 0.5,
     "schema_version": 3,
     "solution": false,
     "task": false
    }
   },
   "outputs": [],
   "source": [
    "# Testing Cell\n",
    "\n",
    "assert True"
   ]
  },
  {
   "cell_type": "markdown",
   "metadata": {},
   "source": [
    "**Q12** Use a column's `apply()` method to invoke the `int` function on all the elements of the `gdp` column in `indicators`, assigning to `gdp_ints` and printing the result.\n"
   ]
  },
  {
   "cell_type": "code",
   "execution_count": 46,
   "metadata": {
    "deletable": false,
    "nbgrader": {
     "cell_type": "code",
     "checksum": "ef8f9fa02d563d2229f41f60414a8400",
     "grade": false,
     "grade_id": "cell-118aef0727a4f957",
     "locked": false,
     "schema_version": 3,
     "solution": true,
     "task": false
    }
   },
   "outputs": [
    {
     "name": "stdout",
     "output_type": "stream",
     "text": [
      "code\n",
      "CHN    12143\n",
      "IND     2652\n",
      "RUS     1578\n",
      "USA    19485\n",
      "VNM      223\n",
      "Name: gdp, dtype: int64\n",
      "\n"
     ]
    }
   ],
   "source": [
    "result = io.StringIO()\n",
    "with redirect_stdout(result):\n",
    "    gdp_ints = indicators['gdp'].apply(int)\n",
    "    print(gdp_ints)\n",
    "print(result.getvalue())"
   ]
  },
  {
   "cell_type": "code",
   "execution_count": 47,
   "metadata": {
    "deletable": false,
    "editable": false,
    "nbgrader": {
     "cell_type": "code",
     "checksum": "cd00f092b2bdb5867264332436d4d12a",
     "grade": true,
     "grade_id": "cell-15e71e3725617e79",
     "locked": true,
     "points": 0.5,
     "schema_version": 3,
     "solution": false,
     "task": false
    }
   },
   "outputs": [],
   "source": [
    "# Testing Cell\n",
    "\n",
    "assert True"
   ]
  },
  {
   "cell_type": "markdown",
   "metadata": {},
   "source": [
    "**Q13** Project both the `pop` and `code` columns from `indicators0`, assigning to `pop_code` and printing the result.\n"
   ]
  },
  {
   "cell_type": "code",
   "execution_count": 50,
   "metadata": {
    "deletable": false,
    "nbgrader": {
     "cell_type": "code",
     "checksum": "cfc8d9253bf4b06ca1bb956a420d4090",
     "grade": false,
     "grade_id": "cell-d9cb6750a05c4d43",
     "locked": false,
     "schema_version": 3,
     "solution": true,
     "task": false
    }
   },
   "outputs": [
    {
     "name": "stdout",
     "output_type": "stream",
     "text": [
      "       pop code\n",
      "0  1386.40  CHN\n",
      "1  1338.66  IND\n",
      "2   144.50  RUS\n",
      "3   325.15  USA\n",
      "4    94.60  VNM\n",
      "\n"
     ]
    }
   ],
   "source": [
    "result = io.StringIO()\n",
    "with redirect_stdout(result):\n",
    "    pop_code = indicators0[['pop','code']]\n",
    "    print(pop_code)\n",
    "print(result.getvalue())"
   ]
  },
  {
   "cell_type": "code",
   "execution_count": 51,
   "metadata": {
    "deletable": false,
    "editable": false,
    "nbgrader": {
     "cell_type": "code",
     "checksum": "f1fc884c61df824e3f28bf51c43fb4df",
     "grade": true,
     "grade_id": "cell-949e35fc40af764d",
     "locked": true,
     "points": 0.5,
     "schema_version": 3,
     "solution": false,
     "task": false
    }
   },
   "outputs": [],
   "source": [
    "# Testing Cell\n",
    "\n",
    "assert True"
   ]
  },
  {
   "cell_type": "markdown",
   "metadata": {},
   "source": [
    "**Q14** Project the `cell` column from `indicators` and assign to `cell1`.  Project a list of columns consisting of the single item `cell` from `indicators` and assign to `cell2`. Print the type of `cell1` and then print `cell1`.\n"
   ]
  },
  {
   "cell_type": "code",
   "execution_count": 54,
   "metadata": {
    "deletable": false,
    "nbgrader": {
     "cell_type": "code",
     "checksum": "d6c0d30797cf5e9962da4d7a3957120d",
     "grade": false,
     "grade_id": "cell-22d2859933b43e3f",
     "locked": false,
     "schema_version": 3,
     "solution": true,
     "task": false
    }
   },
   "outputs": [
    {
     "name": "stdout",
     "output_type": "stream",
     "text": [
      "\"<class 'pandas.core.series.Series'>\\ncode\\nCHN    1469.88\\nIND    1168.90\\nRUS     227.30\\nUSA     391.60\\nVNM     120.02\\nName: cell, dtype: float64\\n\"\n"
     ]
    }
   ],
   "source": [
    "result =  io.StringIO()\n",
    "with redirect_stdout(result):\n",
    "    cell1 = indicators['cell']\n",
    "    cell2 = indicators[['cell']]\n",
    "    print(type(cell1))\n",
    "    print(cell1)\n",
    "print(repr(result.getvalue()))"
   ]
  },
  {
   "cell_type": "code",
   "execution_count": 55,
   "metadata": {
    "deletable": false,
    "editable": false,
    "nbgrader": {
     "cell_type": "code",
     "checksum": "c10da1db61d9f13ad3499660cf7976d7",
     "grade": true,
     "grade_id": "cell-fbd482d5ea8a97d9",
     "locked": true,
     "points": 0.5,
     "schema_version": 3,
     "solution": false,
     "task": false
    }
   },
   "outputs": [],
   "source": [
    "# Testing Cell\n",
    "\n",
    "assert True"
   ]
  },
  {
   "cell_type": "markdown",
   "metadata": {},
   "source": [
    "**Q15** Print the type of `cell2` and then print `cell2`.  Compare and contrast with the answer(s) to the previous question as comments in the code cell.\n"
   ]
  },
  {
   "cell_type": "code",
   "execution_count": 57,
   "metadata": {
    "deletable": false,
    "nbgrader": {
     "cell_type": "code",
     "checksum": "8c9408720fbc57e32200ac75464d3830",
     "grade": false,
     "grade_id": "cell-0442a21b1ec6aafb",
     "locked": false,
     "schema_version": 3,
     "solution": true,
     "task": false
    }
   },
   "outputs": [
    {
     "name": "stdout",
     "output_type": "stream",
     "text": [
      "<class 'pandas.core.frame.DataFrame'>\n",
      "         cell\n",
      "code         \n",
      "CHN   1469.88\n",
      "IND   1168.90\n",
      "RUS    227.30\n",
      "USA    391.60\n",
      "VNM    120.02\n",
      "\n"
     ]
    }
   ],
   "source": [
    "result =  io.StringIO()\n",
    "with redirect_stdout(result):\n",
    "    print(type(cell2))\n",
    "    print(cell2)\n",
    "print(result.getvalue())\n",
    "#printing cell2 is much more readable than cell1"
   ]
  },
  {
   "cell_type": "code",
   "execution_count": 58,
   "metadata": {
    "deletable": false,
    "editable": false,
    "nbgrader": {
     "cell_type": "code",
     "checksum": "2bbf8a7a065a1af513cc5817eae0f0e4",
     "grade": true,
     "grade_id": "cell-a13744a71a6b94ff",
     "locked": true,
     "points": 0.5,
     "schema_version": 3,
     "solution": false,
     "task": false
    }
   },
   "outputs": [],
   "source": [
    "# Testing Cell\n",
    "\n",
    "assert True"
   ]
  },
  {
   "cell_type": "markdown",
   "metadata": {},
   "source": [
    "**Q16** Print the subset of rows from position 9 up to but not including position 15 from `topnames`.\n"
   ]
  },
  {
   "cell_type": "code",
   "execution_count": 59,
   "metadata": {
    "deletable": false,
    "nbgrader": {
     "cell_type": "code",
     "checksum": "9cad556597b28097ef05cba36876c3f9",
     "grade": false,
     "grade_id": "cell-131cf577bf29490a",
     "locked": false,
     "schema_version": 3,
     "solution": true,
     "task": false
    }
   },
   "outputs": [
    {
     "name": "stdout",
     "output_type": "stream",
     "text": [
      "             name  count\n",
      "year sex                \n",
      "1884 Male    John   9388\n",
      "1885 Female  Mary   9128\n",
      "     Male    John   8756\n",
      "1886 Female  Mary   9889\n",
      "     Male    John   9026\n",
      "1887 Female  Mary   9888\n",
      "\n"
     ]
    }
   ],
   "source": [
    "result =  io.StringIO()\n",
    "with redirect_stdout(result):\n",
    "    print(topnames[9:15])\n",
    "print(result.getvalue())"
   ]
  },
  {
   "cell_type": "code",
   "execution_count": 60,
   "metadata": {
    "deletable": false,
    "editable": false,
    "nbgrader": {
     "cell_type": "code",
     "checksum": "38bd126afa75bb27ae18cb167c2ef846",
     "grade": true,
     "grade_id": "cell-ac9a21d0d3ca736c",
     "locked": true,
     "points": 0.5,
     "schema_version": 3,
     "solution": false,
     "task": false
    }
   },
   "outputs": [],
   "source": [
    "# Testing Cell\n",
    "\n",
    "assert True"
   ]
  },
  {
   "cell_type": "markdown",
   "metadata": {},
   "source": [
    "**Q17** Print the selection of the subset of rows from the beginning of the rows up to but not including position 5 from `topnames0`."
   ]
  },
  {
   "cell_type": "code",
   "execution_count": 61,
   "metadata": {
    "deletable": false,
    "nbgrader": {
     "cell_type": "code",
     "checksum": "1e8f56171a9a2062876a5c00b52429b3",
     "grade": false,
     "grade_id": "cell-f5343ad5298ce12e",
     "locked": false,
     "schema_version": 3,
     "solution": true,
     "task": false
    }
   },
   "outputs": [
    {
     "name": "stdout",
     "output_type": "stream",
     "text": [
      "   year     sex  name  count\n",
      "0  1880  Female  Mary   7065\n",
      "1  1880    Male  John   9655\n",
      "2  1881  Female  Mary   6919\n",
      "3  1881    Male  John   8769\n",
      "4  1882  Female  Mary   8148\n",
      "\n"
     ]
    }
   ],
   "source": [
    "result =  io.StringIO()\n",
    "with redirect_stdout(result):\n",
    "    print(topnames0[:5])\n",
    "print(result.getvalue())"
   ]
  },
  {
   "cell_type": "code",
   "execution_count": 62,
   "metadata": {
    "deletable": false,
    "editable": false,
    "nbgrader": {
     "cell_type": "code",
     "checksum": "584bbff6afb56f95b5a96297a5be0837",
     "grade": true,
     "grade_id": "cell-8801257f42299350",
     "locked": true,
     "points": 0.5,
     "schema_version": 3,
     "solution": false,
     "task": false
    }
   },
   "outputs": [],
   "source": [
    "# Testing Cell\n",
    "\n",
    "assert True"
   ]
  },
  {
   "cell_type": "markdown",
   "metadata": {},
   "source": [
    "**Q18** Print the selection of the subset of rows starting from India (code `'IND'`) and ending with the United States (code `'USA'`) from `indicators`\n"
   ]
  },
  {
   "cell_type": "code",
   "execution_count": 63,
   "metadata": {
    "deletable": false,
    "nbgrader": {
     "cell_type": "code",
     "checksum": "65fdea6f228206ee1ee034a94bb28cc6",
     "grade": false,
     "grade_id": "cell-c245ab0b8e982b44",
     "locked": false,
     "schema_version": 3,
     "solution": true,
     "task": false
    }
   },
   "outputs": [
    {
     "name": "stdout",
     "output_type": "stream",
     "text": [
      "                 country      pop       gdp   life    cell\n",
      "code                                                      \n",
      "IND                India  1338.66   2652.55  68.80  1168.9\n",
      "RUS   Russian Federation   144.50   1578.62  72.12   227.3\n",
      "USA        United States   325.15  19485.39  78.54   391.6\n",
      "\n"
     ]
    }
   ],
   "source": [
    "result =  io.StringIO()\n",
    "with redirect_stdout(result):\n",
    "    print(indicators['IND':'USA'])\n",
    "print(result.getvalue())"
   ]
  },
  {
   "cell_type": "code",
   "execution_count": 64,
   "metadata": {
    "deletable": false,
    "editable": false,
    "nbgrader": {
     "cell_type": "code",
     "checksum": "665cec6e7bda4f8a2062442384796696",
     "grade": true,
     "grade_id": "cell-1ad29716170af096",
     "locked": true,
     "points": 0.5,
     "schema_version": 3,
     "solution": false,
     "task": false
    }
   },
   "outputs": [],
   "source": [
    "# Testing Cell\n",
    "\n",
    "assert True"
   ]
  },
  {
   "cell_type": "markdown",
   "metadata": {},
   "source": [
    "**Q19** Print the selection of rows from `indicators` starting with Vietnam and proceeding backward to the Russia row.\n"
   ]
  },
  {
   "cell_type": "code",
   "execution_count": 66,
   "metadata": {
    "deletable": false,
    "nbgrader": {
     "cell_type": "code",
     "checksum": "fff7f611442fb957f1684b2f39b10000",
     "grade": false,
     "grade_id": "cell-6b3a40a14bfa3c55",
     "locked": false,
     "schema_version": 3,
     "solution": true,
     "task": false
    }
   },
   "outputs": [
    {
     "name": "stdout",
     "output_type": "stream",
     "text": [
      "                 country     pop       gdp   life    cell\n",
      "code                                                     \n",
      "RUS   Russian Federation  144.50   1578.62  72.12  227.30\n",
      "USA        United States  325.15  19485.39  78.54  391.60\n",
      "VNM              Vietnam   94.60    223.78  76.45  120.02\n",
      "\n"
     ]
    }
   ],
   "source": [
    "result =  io.StringIO()\n",
    "with redirect_stdout(result):\n",
    "    print(indicators['RUS':'VNM'])\n",
    "print(result.getvalue())"
   ]
  },
  {
   "cell_type": "code",
   "execution_count": 67,
   "metadata": {
    "deletable": false,
    "editable": false,
    "nbgrader": {
     "cell_type": "code",
     "checksum": "de731cb30cf9200c7c768544cbf6f28f",
     "grade": true,
     "grade_id": "cell-26d18f0662c8124e",
     "locked": true,
     "points": 0.5,
     "schema_version": 3,
     "solution": false,
     "task": false
    }
   },
   "outputs": [],
   "source": [
    "# Testing Cell\n",
    "\n",
    "assert True"
   ]
  },
  {
   "cell_type": "markdown",
   "metadata": {},
   "source": [
    "**Q20** Using tuples for the two levels of the `topnames` row index,\n",
    "print the selection of rows from the 2002/Female row up to and including the 2004/Male row.\n"
   ]
  },
  {
   "cell_type": "code",
   "execution_count": 68,
   "metadata": {
    "deletable": false,
    "nbgrader": {
     "cell_type": "code",
     "checksum": "575210747bb70091a981a77768edd83a",
     "grade": false,
     "grade_id": "cell-f2ab4d419dcd375d",
     "locked": false,
     "schema_version": 3,
     "solution": true,
     "task": false
    }
   },
   "outputs": [
    {
     "name": "stdout",
     "output_type": "stream",
     "text": [
      "              name  count\n",
      "year sex                 \n",
      "2002 Female  Emily  24464\n",
      "     Male    Jacob  30574\n",
      "2003 Female  Emily  25691\n",
      "     Male    Jacob  29638\n",
      "2004 Female  Emily  25037\n",
      "     Male    Jacob  27881\n",
      "\n"
     ]
    }
   ],
   "source": [
    "result =  io.StringIO()\n",
    "with redirect_stdout(result):\n",
    "    print(topnames[(2002,'Female'):(2004,'Male')])\n",
    "print(result.getvalue())\n"
   ]
  },
  {
   "cell_type": "code",
   "execution_count": 69,
   "metadata": {
    "deletable": false,
    "editable": false,
    "nbgrader": {
     "cell_type": "code",
     "checksum": "06e0287c7096fde8b200dcdc04f73400",
     "grade": true,
     "grade_id": "cell-924fd1c63e51f476",
     "locked": true,
     "points": 0.5,
     "schema_version": 3,
     "solution": false,
     "task": false
    }
   },
   "outputs": [],
   "source": [
    "# Testing Cell\n",
    "\n",
    "assert True"
   ]
  },
  {
   "cell_type": "markdown",
   "metadata": {},
   "source": [
    "**Q21** Compute a boolean vector indicating whether or not `pop` column values are less than 100.  Assign to `small_country`, and print the vector.\n"
   ]
  },
  {
   "cell_type": "code",
   "execution_count": 70,
   "metadata": {
    "deletable": false,
    "nbgrader": {
     "cell_type": "code",
     "checksum": "c4cafec63ead5c69c9f95f1f8f50e31e",
     "grade": false,
     "grade_id": "cell-3532047db7ea30a8",
     "locked": false,
     "schema_version": 3,
     "solution": true,
     "task": false
    }
   },
   "outputs": [
    {
     "name": "stdout",
     "output_type": "stream",
     "text": [
      "code\n",
      "CHN    False\n",
      "IND    False\n",
      "RUS    False\n",
      "USA    False\n",
      "VNM     True\n",
      "Name: pop, dtype: bool\n",
      "\n"
     ]
    }
   ],
   "source": [
    "result =  io.StringIO()\n",
    "with redirect_stdout(result):\n",
    "    small_country = indicators['pop'] < 100\n",
    "    print(small_country)\n",
    "print(result.getvalue())"
   ]
  },
  {
   "cell_type": "code",
   "execution_count": 71,
   "metadata": {
    "deletable": false,
    "editable": false,
    "nbgrader": {
     "cell_type": "code",
     "checksum": "4cdccbceab35cdb5781cf96d14bacfff",
     "grade": true,
     "grade_id": "cell-939f4cf969dbc9d8",
     "locked": true,
     "points": 0.5,
     "schema_version": 3,
     "solution": false,
     "task": false
    }
   },
   "outputs": [],
   "source": [
    "# Testing Cell\n",
    "\n",
    "assert True"
   ]
  },
  {
   "cell_type": "markdown",
   "metadata": {},
   "source": [
    "**Q22** Print a selection of specific rows in `indicators` based on the boolean vector `small_country`.\n"
   ]
  },
  {
   "cell_type": "code",
   "execution_count": 72,
   "metadata": {
    "deletable": false,
    "nbgrader": {
     "cell_type": "code",
     "checksum": "e7985c70f6eef439129bd3f54c5b2e5a",
     "grade": false,
     "grade_id": "cell-c878bf5e134df3d5",
     "locked": false,
     "schema_version": 3,
     "solution": true,
     "task": false
    }
   },
   "outputs": [
    {
     "name": "stdout",
     "output_type": "stream",
     "text": [
      "      country   pop     gdp   life    cell\n",
      "code                                      \n",
      "VNM   Vietnam  94.6  223.78  76.45  120.02\n",
      "\n"
     ]
    }
   ],
   "source": [
    "result =  io.StringIO()\n",
    "with redirect_stdout(result):\n",
    "    print(indicators[small_country])\n",
    "print(result.getvalue())"
   ]
  },
  {
   "cell_type": "code",
   "execution_count": 73,
   "metadata": {
    "deletable": false,
    "editable": false,
    "nbgrader": {
     "cell_type": "code",
     "checksum": "9c21267a89b9b596ae7d2d151f110883",
     "grade": true,
     "grade_id": "cell-554fc580d96bffc6",
     "locked": true,
     "points": 0.5,
     "schema_version": 3,
     "solution": false,
     "task": false
    }
   },
   "outputs": [],
   "source": [
    "# Testing Cell\n",
    "\n",
    "assert True"
   ]
  },
  {
   "cell_type": "markdown",
   "metadata": {},
   "source": [
    "**Q23** Print the specific rows in `indicators` where the `pop` is less than 1000, without using an intermediate boolean vector computation.\n"
   ]
  },
  {
   "cell_type": "code",
   "execution_count": 74,
   "metadata": {
    "deletable": false,
    "nbgrader": {
     "cell_type": "code",
     "checksum": "fd0fc69006e054ca3b278102f13ac5bc",
     "grade": false,
     "grade_id": "cell-5e655c426b3a5a51",
     "locked": false,
     "schema_version": 3,
     "solution": true,
     "task": false
    }
   },
   "outputs": [
    {
     "name": "stdout",
     "output_type": "stream",
     "text": [
      "                 country     pop       gdp   life    cell\n",
      "code                                                     \n",
      "RUS   Russian Federation  144.50   1578.62  72.12  227.30\n",
      "USA        United States  325.15  19485.39  78.54  391.60\n",
      "VNM              Vietnam   94.60    223.78  76.45  120.02\n",
      "\n"
     ]
    }
   ],
   "source": [
    "result =  io.StringIO()\n",
    "with redirect_stdout(result):\n",
    "    print(indicators[indicators['pop'] < 1000])\n",
    "print(result.getvalue())"
   ]
  },
  {
   "cell_type": "code",
   "execution_count": 75,
   "metadata": {
    "deletable": false,
    "editable": false,
    "nbgrader": {
     "cell_type": "code",
     "checksum": "22d43413f4cad9949b3297a7d8391133",
     "grade": true,
     "grade_id": "cell-cdfaa3c6b6333626",
     "locked": true,
     "points": 0.5,
     "schema_version": 3,
     "solution": false,
     "task": false
    }
   },
   "outputs": [],
   "source": [
    "# Testing Cell\n",
    "\n",
    "assert True"
   ]
  },
  {
   "cell_type": "markdown",
   "metadata": {},
   "source": [
    "**Q24** Compute and assign to `fewer_people` the boolean vector based on `pop` in `indicators` being less than 1000. Compute and assign to `short_life` the boolean vector based on `life` in `indicators` being less than 73.  Compute, assign, and print the boolean vector, `combined`, which is the element-wise logical AND of the two previous boolean vectors.\n"
   ]
  },
  {
   "cell_type": "code",
   "execution_count": 76,
   "metadata": {
    "deletable": false,
    "nbgrader": {
     "cell_type": "code",
     "checksum": "7c58dbfc0b16cc33201165ff109c4d60",
     "grade": false,
     "grade_id": "cell-bb46c2ccef4762b2",
     "locked": false,
     "schema_version": 3,
     "solution": true,
     "task": false
    }
   },
   "outputs": [
    {
     "name": "stdout",
     "output_type": "stream",
     "text": [
      "code\n",
      "CHN    False\n",
      "IND    False\n",
      "RUS     True\n",
      "USA    False\n",
      "VNM    False\n",
      "dtype: bool\n",
      "\n"
     ]
    }
   ],
   "source": [
    "result =  io.StringIO()\n",
    "with redirect_stdout(result):\n",
    "    fewer_people = indicators['pop'] < 1000\n",
    "    short_life = indicators.life < 73\n",
    "    combined = fewer_people & short_life\n",
    "    print(combined)\n",
    "print(result.getvalue())"
   ]
  },
  {
   "cell_type": "code",
   "execution_count": 77,
   "metadata": {
    "deletable": false,
    "editable": false,
    "nbgrader": {
     "cell_type": "code",
     "checksum": "5b7fdc1c1478a314ac4345f027edffc9",
     "grade": true,
     "grade_id": "cell-1d270b2f96a9a950",
     "locked": true,
     "points": 0.5,
     "schema_version": 3,
     "solution": false,
     "task": false
    }
   },
   "outputs": [],
   "source": [
    "# Testing Cell\n",
    "\n",
    "assert True"
   ]
  },
  {
   "cell_type": "markdown",
   "metadata": {},
   "source": [
    "**Q25** Print a single expression that finds the selection of the specific rows in `indicators` where `pop` is less than 1000 and `life` is less than 73.\n"
   ]
  },
  {
   "cell_type": "code",
   "execution_count": 78,
   "metadata": {
    "deletable": false,
    "nbgrader": {
     "cell_type": "code",
     "checksum": "834ae40d2115838a85d6a2a2039d7aaf",
     "grade": false,
     "grade_id": "cell-197c601b0f8b2aa0",
     "locked": false,
     "schema_version": 3,
     "solution": true,
     "task": false
    }
   },
   "outputs": [
    {
     "name": "stdout",
     "output_type": "stream",
     "text": [
      "code\n",
      "CHN    False\n",
      "IND    False\n",
      "RUS     True\n",
      "USA    False\n",
      "VNM    False\n",
      "dtype: bool\n",
      "\n"
     ]
    }
   ],
   "source": [
    "result =  io.StringIO()\n",
    "with redirect_stdout(result):\n",
    "    print((indicators['pop'] < 1000) & (indicators.life < 73))\n",
    "print(result.getvalue())"
   ]
  },
  {
   "cell_type": "code",
   "execution_count": 79,
   "metadata": {
    "deletable": false,
    "editable": false,
    "nbgrader": {
     "cell_type": "code",
     "checksum": "d20849f3fcb2ab01de3754cc6d3c7344",
     "grade": true,
     "grade_id": "cell-0bdad155878214df",
     "locked": true,
     "points": 0.5,
     "schema_version": 3,
     "solution": false,
     "task": false
    }
   },
   "outputs": [],
   "source": [
    "# Testing Cell\n",
    "\n",
    "assert True"
   ]
  },
  {
   "cell_type": "markdown",
   "metadata": {},
   "source": [
    "**Q26** Print the selection of rows from `topnames0` with the 8 largest value of `year`.\n"
   ]
  },
  {
   "cell_type": "code",
   "execution_count": 80,
   "metadata": {
    "deletable": false,
    "nbgrader": {
     "cell_type": "code",
     "checksum": "60e49f25a5381d7fce9d77a4d9c40d7a",
     "grade": false,
     "grade_id": "cell-9bac498b257922ad",
     "locked": false,
     "schema_version": 3,
     "solution": true,
     "task": false
    }
   },
   "outputs": [
    {
     "name": "stdout",
     "output_type": "stream",
     "text": [
      "     year     sex  name  count\n",
      "276  2018  Female  Emma  18688\n",
      "277  2018    Male  Liam  19837\n",
      "274  2017  Female  Emma  19800\n",
      "275  2017    Male  Liam  18798\n",
      "272  2016  Female  Emma  19496\n",
      "273  2016    Male  Noah  19117\n",
      "270  2015  Female  Emma  20455\n",
      "271  2015    Male  Noah  19635\n",
      "\n"
     ]
    }
   ],
   "source": [
    "result =  io.StringIO()\n",
    "with redirect_stdout(result):\n",
    "    print(topnames0.nlargest(8,'year'))\n",
    "print(result.getvalue())"
   ]
  },
  {
   "cell_type": "code",
   "execution_count": 81,
   "metadata": {
    "deletable": false,
    "editable": false,
    "nbgrader": {
     "cell_type": "code",
     "checksum": "a6680a05d4260c4ed334d91309fcb3c3",
     "grade": true,
     "grade_id": "cell-f2a5f2f17eae9188",
     "locked": true,
     "points": 0.5,
     "schema_version": 3,
     "solution": false,
     "task": false
    }
   },
   "outputs": [],
   "source": [
    "# Testing Cell\n",
    "\n",
    "assert True"
   ]
  },
  {
   "cell_type": "markdown",
   "metadata": {},
   "source": [
    "**Q27** Print the selection of rows from `topnames` with the four smallest values for `count`.\n"
   ]
  },
  {
   "cell_type": "code",
   "execution_count": 82,
   "metadata": {
    "deletable": false,
    "nbgrader": {
     "cell_type": "code",
     "checksum": "9de34d1f28c66afb6a2bc6d342d2a696",
     "grade": false,
     "grade_id": "cell-9c18361c884e453b",
     "locked": false,
     "schema_version": 3,
     "solution": true,
     "task": false
    }
   },
   "outputs": [
    {
     "name": "stdout",
     "output_type": "stream",
     "text": [
      "             name  count\n",
      "year sex                \n",
      "1901 Male    John   6900\n",
      "1881 Female  Mary   6919\n",
      "1899 Male    John   6990\n",
      "1880 Female  Mary   7065\n",
      "\n"
     ]
    }
   ],
   "source": [
    "result =  io.StringIO()\n",
    "with redirect_stdout(result):\n",
    "    print(topnames.nsmallest(4,'count'))\n",
    "print(result.getvalue())"
   ]
  },
  {
   "cell_type": "code",
   "execution_count": 83,
   "metadata": {
    "deletable": false,
    "editable": false,
    "nbgrader": {
     "cell_type": "code",
     "checksum": "e9ee51171979fad13a736cc93c3f8dac",
     "grade": true,
     "grade_id": "cell-13bddf0bd5c4e8d4",
     "locked": true,
     "points": 0.5,
     "schema_version": 3,
     "solution": false,
     "task": false
    }
   },
   "outputs": [],
   "source": [
    "# Testing Cell\n",
    "\n",
    "assert True"
   ]
  },
  {
   "cell_type": "markdown",
   "metadata": {},
   "source": [
    "**Q28** By specifying *index* values, print the accessed value in `indicators` with the `cell` variable for the United States (code `USA`).\n"
   ]
  },
  {
   "cell_type": "code",
   "execution_count": 84,
   "metadata": {
    "deletable": false,
    "nbgrader": {
     "cell_type": "code",
     "checksum": "f25c7943c5b53577051c6ec03ce3ec25",
     "grade": false,
     "grade_id": "cell-9f3c2cb2df8854d0",
     "locked": false,
     "schema_version": 3,
     "solution": true,
     "task": false
    }
   },
   "outputs": [
    {
     "name": "stdout",
     "output_type": "stream",
     "text": [
      "391.6\n",
      "\n"
     ]
    }
   ],
   "source": [
    "result =  io.StringIO()\n",
    "with redirect_stdout(result):\n",
    "    print(indicators.loc['USA','cell'])\n",
    "print(result.getvalue())"
   ]
  },
  {
   "cell_type": "code",
   "execution_count": 85,
   "metadata": {
    "deletable": false,
    "editable": false,
    "nbgrader": {
     "cell_type": "code",
     "checksum": "d75a52275e5974bd0b8247981a4e4647",
     "grade": true,
     "grade_id": "cell-1cdb825a9c59f9f4",
     "locked": true,
     "points": 0.5,
     "schema_version": 3,
     "solution": false,
     "task": false
    }
   },
   "outputs": [],
   "source": [
    "# Testing Cell\n",
    "\n",
    "assert True"
   ]
  },
  {
   "cell_type": "markdown",
   "metadata": {},
   "source": [
    "**Q29** By specifying *index* values, print the accessed value in `topnames` with the `count` column and the row for 2002/Female.\n"
   ]
  },
  {
   "cell_type": "code",
   "execution_count": 91,
   "metadata": {
    "deletable": false,
    "nbgrader": {
     "cell_type": "code",
     "checksum": "d873409948fb2d90137bee0cd0eb21da",
     "grade": false,
     "grade_id": "cell-8235bb128df1c259",
     "locked": false,
     "schema_version": 3,
     "solution": true,
     "task": false
    }
   },
   "outputs": [
    {
     "name": "stdout",
     "output_type": "stream",
     "text": [
      "24464\n",
      "\n"
     ]
    }
   ],
   "source": [
    "result =  io.StringIO()\n",
    "with redirect_stdout(result):\n",
    "    print(topnames.loc[(2002,'Female'),'count'])\n",
    "print(result.getvalue())"
   ]
  },
  {
   "cell_type": "code",
   "execution_count": 88,
   "metadata": {
    "deletable": false,
    "editable": false,
    "nbgrader": {
     "cell_type": "code",
     "checksum": "0821d965ca0d7e1be02212add45ee2f3",
     "grade": true,
     "grade_id": "cell-6078d9537fb48d4c",
     "locked": true,
     "points": 0.5,
     "schema_version": 3,
     "solution": false,
     "task": false
    }
   },
   "outputs": [],
   "source": [
    "# Testing Cell\n",
    "\n",
    "assert True"
   ]
  },
  {
   "cell_type": "markdown",
   "metadata": {},
   "source": [
    "**Q30** By specifying *position* values, print the accessed value in `indicators0` at row position 3 and column position 2.\n"
   ]
  },
  {
   "cell_type": "code",
   "execution_count": 95,
   "metadata": {
    "deletable": false,
    "nbgrader": {
     "cell_type": "code",
     "checksum": "6fd241ebda5e9c7d2cc9265ddfd385f7",
     "grade": false,
     "grade_id": "cell-a5ba3a1a76982efe",
     "locked": false,
     "schema_version": 3,
     "solution": true,
     "task": false
    }
   },
   "outputs": [
    {
     "name": "stdout",
     "output_type": "stream",
     "text": [
      "19485.39\n",
      "\n"
     ]
    }
   ],
   "source": [
    "result =  io.StringIO()\n",
    "with redirect_stdout(result):\n",
    "    print(indicators.iloc[3,2])\n",
    "print(result.getvalue())"
   ]
  },
  {
   "cell_type": "code",
   "execution_count": 96,
   "metadata": {
    "deletable": false,
    "editable": false,
    "nbgrader": {
     "cell_type": "code",
     "checksum": "9ba0eb07bcde5bebfb4c24b6a6b4dff9",
     "grade": true,
     "grade_id": "cell-d06d7f9023aeda9c",
     "locked": true,
     "points": 0.5,
     "schema_version": 3,
     "solution": false,
     "task": false
    }
   },
   "outputs": [],
   "source": [
    "# Testing Cell\n",
    "\n",
    "assert True"
   ]
  },
  {
   "cell_type": "markdown",
   "metadata": {},
   "source": [
    "**Q31** In `indicators`, use a slice that specifies all rows, and an index to specify the `gdp` column, obtain a vector for that column, placing your expression within a `print` call.\n",
    "\n",
    "What is the data type of the result? What are the data types of the elements within the vector?  Answer as comments in your solution cell."
   ]
  },
  {
   "cell_type": "code",
   "execution_count": 100,
   "metadata": {
    "deletable": false,
    "nbgrader": {
     "cell_type": "code",
     "checksum": "a37d84d1b676bfabcdde49c96c4da2fd",
     "grade": false,
     "grade_id": "cell-bd117df3481d8205",
     "locked": false,
     "schema_version": 3,
     "solution": true,
     "task": false
    }
   },
   "outputs": [
    {
     "name": "stdout",
     "output_type": "stream",
     "text": [
      "code\n",
      "CHN    12143.49\n",
      "IND     2652.55\n",
      "RUS     1578.62\n",
      "USA    19485.39\n",
      "VNM      223.78\n",
      "Name: gdp, dtype: float64\n",
      "\n"
     ]
    }
   ],
   "source": [
    "result =  io.StringIO()\n",
    "with redirect_stdout(result):\n",
    "    print(indicators.loc[:,'gdp'])\n",
    "print(result.getvalue())\n",
    "#the datatype is float64 and everything in the gdp column is a float"
   ]
  },
  {
   "cell_type": "code",
   "execution_count": 101,
   "metadata": {
    "deletable": false,
    "editable": false,
    "nbgrader": {
     "cell_type": "code",
     "checksum": "9c9066e343f4839f6dd10255b4aa8e01",
     "grade": true,
     "grade_id": "cell-1aadab627a5b6dd4",
     "locked": true,
     "points": 0.5,
     "schema_version": 3,
     "solution": false,
     "task": false
    }
   },
   "outputs": [],
   "source": [
    "# Testing Cell\n",
    "\n",
    "assert True"
   ]
  },
  {
   "cell_type": "markdown",
   "metadata": {},
   "source": [
    "**Q32** Using the index for the 2001/Male row of `topnames` and a slice for all columns, obtain a vector for that row, printing the expression.  What is the data type of the result?  What are the data types of the elements within the vector?\n"
   ]
  },
  {
   "cell_type": "code",
   "execution_count": 103,
   "metadata": {
    "deletable": false,
    "nbgrader": {
     "cell_type": "code",
     "checksum": "aba6e52bc38e0f6bbde6e56776911d8a",
     "grade": false,
     "grade_id": "cell-db746a794e779e3c",
     "locked": false,
     "schema_version": 3,
     "solution": true,
     "task": false
    }
   },
   "outputs": [
    {
     "name": "stdout",
     "output_type": "stream",
     "text": [
      "name     Jacob\n",
      "count    32545\n",
      "Name: (2001, Male), dtype: object\n",
      "\n"
     ]
    }
   ],
   "source": [
    "result =  io.StringIO()\n",
    "with redirect_stdout(result):\n",
    "    print(topnames.loc[(2001,'Male'),:])\n",
    "print(result.getvalue())\n",
    "#the datatype is an object because it takes the name and count making it an object"
   ]
  },
  {
   "cell_type": "code",
   "execution_count": 104,
   "metadata": {
    "deletable": false,
    "editable": false,
    "nbgrader": {
     "cell_type": "code",
     "checksum": "879491521f0a42ac62719779ec22ad05",
     "grade": true,
     "grade_id": "cell-40bbf34ac2292ca9",
     "locked": true,
     "points": 0.5,
     "schema_version": 3,
     "solution": false,
     "task": false
    }
   },
   "outputs": [],
   "source": [
    "# Testing Cell\n",
    "\n",
    "assert True"
   ]
  },
  {
   "cell_type": "markdown",
   "metadata": {},
   "source": [
    "**Q33** In `indicators0`, using a slice for all rows, and column position 3, obtain and print a vector of values for that particular column.\n"
   ]
  },
  {
   "cell_type": "code",
   "execution_count": 105,
   "metadata": {
    "deletable": false,
    "nbgrader": {
     "cell_type": "code",
     "checksum": "145b08390c76a74e5d661dc332be531c",
     "grade": false,
     "grade_id": "cell-b3d8b3506e4d8abc",
     "locked": false,
     "schema_version": 3,
     "solution": true,
     "task": false
    }
   },
   "outputs": [
    {
     "name": "stdout",
     "output_type": "stream",
     "text": [
      "0    12143.49\n",
      "1     2652.55\n",
      "2     1578.62\n",
      "3    19485.39\n",
      "4      223.78\n",
      "Name: gdp, dtype: float64\n",
      "\n"
     ]
    }
   ],
   "source": [
    "result =  io.StringIO()\n",
    "with redirect_stdout(result):\n",
    "    print(indicators0.iloc[:,3])\n",
    "print(result.getvalue())"
   ]
  },
  {
   "cell_type": "code",
   "execution_count": 106,
   "metadata": {
    "deletable": false,
    "editable": false,
    "nbgrader": {
     "cell_type": "code",
     "checksum": "75bea0f1b66e93b20e5d770293de3619",
     "grade": true,
     "grade_id": "cell-132b20d27436c482",
     "locked": true,
     "points": 0.5,
     "schema_version": 3,
     "solution": false,
     "task": false
    }
   },
   "outputs": [],
   "source": [
    "# Testing Cell\n",
    "\n",
    "assert True"
   ]
  },
  {
   "cell_type": "markdown",
   "metadata": {},
   "source": [
    "**Q34** Access and assign to variable `row` the 2001/Female fow from `topnames`.  Then in a print with two arguments, give the `name` and the `count` column values based on `row`.\n"
   ]
  },
  {
   "cell_type": "code",
   "execution_count": 107,
   "metadata": {
    "deletable": false,
    "nbgrader": {
     "cell_type": "code",
     "checksum": "a19bf6403b09bcd06f5d09bc4dbbfcb7",
     "grade": false,
     "grade_id": "cell-0935d0ead869c0be",
     "locked": false,
     "schema_version": 3,
     "solution": true,
     "task": false
    }
   },
   "outputs": [
    {
     "name": "stdout",
     "output_type": "stream",
     "text": [
      "Emily 25057\n",
      "\n"
     ]
    }
   ],
   "source": [
    "result =  io.StringIO()\n",
    "with redirect_stdout(result):\n",
    "    row = topnames.loc[(2001,'Female'),:]\n",
    "    print(row['name'],row['count'])\n",
    "print(result.getvalue())"
   ]
  },
  {
   "cell_type": "code",
   "execution_count": 108,
   "metadata": {
    "deletable": false,
    "editable": false,
    "nbgrader": {
     "cell_type": "code",
     "checksum": "b5f114b15360007aac1fbea65d49ea81",
     "grade": true,
     "grade_id": "cell-6bfb5764bf87b59c",
     "locked": true,
     "points": 0.5,
     "schema_version": 3,
     "solution": false,
     "task": false
    }
   },
   "outputs": [],
   "source": [
    "# Testing Cell\n",
    "\n",
    "assert True"
   ]
  },
  {
   "cell_type": "markdown",
   "metadata": {},
   "source": [
    "**Q35** Within a print, use a slice to select rows in `topnames` from 2000/Male to 2002/Female and project column `name`.\n"
   ]
  },
  {
   "cell_type": "code",
   "execution_count": 109,
   "metadata": {
    "deletable": false,
    "nbgrader": {
     "cell_type": "code",
     "checksum": "e8e05280ebc9ca8a25db7f61093f3711",
     "grade": false,
     "grade_id": "cell-0e05351327dcdebf",
     "locked": false,
     "schema_version": 3,
     "solution": true,
     "task": false
    }
   },
   "outputs": [
    {
     "name": "stdout",
     "output_type": "stream",
     "text": [
      "year  sex   \n",
      "2000  Male      Jacob\n",
      "2001  Female    Emily\n",
      "      Male      Jacob\n",
      "2002  Female    Emily\n",
      "Name: name, dtype: object\n",
      "\n"
     ]
    }
   ],
   "source": [
    "result =  io.StringIO()\n",
    "with redirect_stdout(result):\n",
    "    print(topnames.loc[(2000, 'Male'):(2002,'Female'),'name'])\n",
    "print(result.getvalue())"
   ]
  },
  {
   "cell_type": "code",
   "execution_count": 110,
   "metadata": {
    "deletable": false,
    "editable": false,
    "nbgrader": {
     "cell_type": "code",
     "checksum": "1c28d74f55a7a01bd5a640a02401d161",
     "grade": true,
     "grade_id": "cell-b5c0c95aefbb43cc",
     "locked": true,
     "points": 0.5,
     "schema_version": 3,
     "solution": false,
     "task": false
    }
   },
   "outputs": [],
   "source": [
    "# Testing Cell\n",
    "\n",
    "assert True"
   ]
  },
  {
   "cell_type": "markdown",
   "metadata": {},
   "source": [
    "**Q36** Print the result of selecting specific rows in `indicators` where `life` is less than 75 and project the `pop` column."
   ]
  },
  {
   "cell_type": "code",
   "execution_count": 111,
   "metadata": {
    "deletable": false,
    "nbgrader": {
     "cell_type": "code",
     "checksum": "6de0bce9ac25f4ed523da727e3e8eb37",
     "grade": false,
     "grade_id": "cell-35739b6c848216e7",
     "locked": false,
     "schema_version": 3,
     "solution": true,
     "task": false
    }
   },
   "outputs": [
    {
     "name": "stdout",
     "output_type": "stream",
     "text": [
      "code\n",
      "IND    1338.66\n",
      "RUS     144.50\n",
      "Name: pop, dtype: float64\n",
      "\n"
     ]
    }
   ],
   "source": [
    "result =  io.StringIO()\n",
    "with redirect_stdout(result):\n",
    "    print(indicators.loc[(indicators.life < 75),'pop'])\n",
    "print(result.getvalue())"
   ]
  },
  {
   "cell_type": "code",
   "execution_count": 112,
   "metadata": {
    "deletable": false,
    "editable": false,
    "nbgrader": {
     "cell_type": "code",
     "checksum": "66a6d81193b5976108437d272c4b2fa4",
     "grade": true,
     "grade_id": "cell-1b6d70b1804e3be0",
     "locked": true,
     "points": 0.5,
     "schema_version": 3,
     "solution": false,
     "task": false
    }
   },
   "outputs": [],
   "source": [
    "# Testing Cell\n",
    "\n",
    "assert True"
   ]
  },
  {
   "cell_type": "markdown",
   "metadata": {},
   "source": [
    "**Q37** Select just the `CHN` row from `indicators` and project the columns of  `cell`, and `gdp`, printing the value of the expression.\n"
   ]
  },
  {
   "cell_type": "code",
   "execution_count": 113,
   "metadata": {
    "deletable": false,
    "nbgrader": {
     "cell_type": "code",
     "checksum": "4d42e13a7afd297eb92878431751ddfe",
     "grade": false,
     "grade_id": "cell-8b23acb2b778ada1",
     "locked": false,
     "schema_version": 3,
     "solution": true,
     "task": false
    }
   },
   "outputs": [
    {
     "name": "stdout",
     "output_type": "stream",
     "text": [
      "cell    1469.88\n",
      "gdp     12143.5\n",
      "Name: CHN, dtype: object\n",
      "\n"
     ]
    }
   ],
   "source": [
    "result =  io.StringIO()\n",
    "with redirect_stdout(result):\n",
    "    print(indicators.loc['CHN',['cell','gdp']])\n",
    "print(result.getvalue())"
   ]
  },
  {
   "cell_type": "code",
   "execution_count": 114,
   "metadata": {
    "deletable": false,
    "editable": false,
    "nbgrader": {
     "cell_type": "code",
     "checksum": "16b6b6e8114a6e6d8d28d13f7ad265ef",
     "grade": true,
     "grade_id": "cell-33eef0b30c1d44b3",
     "locked": true,
     "points": 0.5,
     "schema_version": 3,
     "solution": false,
     "task": false
    }
   },
   "outputs": [],
   "source": [
    "# Testing Cell\n",
    "\n",
    "assert True"
   ]
  },
  {
   "cell_type": "markdown",
   "metadata": {},
   "source": [
    "**Q38** Print the value obtained by selecting the position 4 row from `indicators` and projecting the columns at position 1, 3, and 0 (in that order).\n"
   ]
  },
  {
   "cell_type": "code",
   "execution_count": 115,
   "metadata": {
    "deletable": false,
    "nbgrader": {
     "cell_type": "code",
     "checksum": "b8623a47cb33cb41a4ed94046e91f972",
     "grade": false,
     "grade_id": "cell-19ce2e66e4ffc6f8",
     "locked": false,
     "schema_version": 3,
     "solution": true,
     "task": false
    }
   },
   "outputs": [
    {
     "name": "stdout",
     "output_type": "stream",
     "text": [
      "pop           94.6\n",
      "life         76.45\n",
      "country    Vietnam\n",
      "Name: VNM, dtype: object\n",
      "\n"
     ]
    }
   ],
   "source": [
    "result =  io.StringIO()\n",
    "with redirect_stdout(result):\n",
    "    print(indicators.iloc[4,[1,3,0]])\n",
    "print(result.getvalue())"
   ]
  },
  {
   "cell_type": "code",
   "execution_count": 116,
   "metadata": {
    "deletable": false,
    "editable": false,
    "nbgrader": {
     "cell_type": "code",
     "checksum": "c18fc651273e568b23a78242cd67e6c2",
     "grade": true,
     "grade_id": "cell-82789f171f42d878",
     "locked": true,
     "points": 0.5,
     "schema_version": 3,
     "solution": false,
     "task": false
    }
   },
   "outputs": [],
   "source": [
    "# Testing Cell\n",
    "\n",
    "assert True"
   ]
  },
  {
   "cell_type": "markdown",
   "metadata": {},
   "source": [
    "**Q39** Print the selection of the specific rows in `topnames0` where `count` is less than 7000, and project the `sex`, `count`, and `year` columns.\n"
   ]
  },
  {
   "cell_type": "code",
   "execution_count": 120,
   "metadata": {
    "deletable": false,
    "nbgrader": {
     "cell_type": "code",
     "checksum": "6073ac763101ea9568cdcec04b80a5c0",
     "grade": false,
     "grade_id": "cell-ec313b0ad5af0e22",
     "locked": false,
     "schema_version": 3,
     "solution": true,
     "task": false
    }
   },
   "outputs": [
    {
     "name": "stdout",
     "output_type": "stream",
     "text": [
      "       sex  count  year\n",
      "2   Female   6919  1881\n",
      "39    Male   6990  1899\n",
      "43    Male   6900  1901\n",
      "\n"
     ]
    }
   ],
   "source": [
    "result =  io.StringIO()\n",
    "with redirect_stdout(result):\n",
    "    print(topnames0.loc[(topnames0['count'] < 7000),['sex','count','year']])\n",
    "print(result.getvalue())"
   ]
  },
  {
   "cell_type": "code",
   "execution_count": 121,
   "metadata": {
    "deletable": false,
    "editable": false,
    "nbgrader": {
     "cell_type": "code",
     "checksum": "cf492293089b9d1805f19382c0287f80",
     "grade": true,
     "grade_id": "cell-e0b1f5c213ada473",
     "locked": true,
     "points": 0.5,
     "schema_version": 3,
     "solution": false,
     "task": false
    }
   },
   "outputs": [],
   "source": [
    "# Testing Cell\n",
    "\n",
    "assert True"
   ]
  },
  {
   "cell_type": "markdown",
   "metadata": {},
   "source": [
    "**Q40** Select the two rows of `indicators` for India and China, and project columns from the start of the columns through `gdp`, printing the result.\n"
   ]
  },
  {
   "cell_type": "code",
   "execution_count": 122,
   "metadata": {
    "deletable": false,
    "nbgrader": {
     "cell_type": "code",
     "checksum": "3bb6502dba9cd7c4711f8b23101b8d2e",
     "grade": false,
     "grade_id": "cell-48ff7455544d75ac",
     "locked": false,
     "schema_version": 3,
     "solution": true,
     "task": false
    }
   },
   "outputs": [
    {
     "name": "stdout",
     "output_type": "stream",
     "text": [
      "     country      pop       gdp\n",
      "code                           \n",
      "IND    India  1338.66   2652.55\n",
      "CHN    China  1386.40  12143.49\n",
      "\n"
     ]
    }
   ],
   "source": [
    "result =  io.StringIO()\n",
    "with redirect_stdout(result):\n",
    "    print(indicators.loc[['IND','CHN'], :'gdp'])\n",
    "print(result.getvalue())"
   ]
  },
  {
   "cell_type": "code",
   "execution_count": 123,
   "metadata": {
    "deletable": false,
    "editable": false,
    "nbgrader": {
     "cell_type": "code",
     "checksum": "2dcfa2bf1eff8b4fdb4453e47a06506d",
     "grade": true,
     "grade_id": "cell-377f647b4408af91",
     "locked": true,
     "points": 0.5,
     "schema_version": 3,
     "solution": false,
     "task": false
    }
   },
   "outputs": [],
   "source": [
    "# Testing Cell\n",
    "\n",
    "assert True"
   ]
  },
  {
   "cell_type": "markdown",
   "metadata": {},
   "source": [
    "**Q41** Iterate over the rows of `indicators`.  At each iteration, where you obtain both the row label/index and the Series for the row itself, then print the row label and then the `gdp` and `pop` column fields for that row.  Do not add any extra annotation to the print, just printing the three specified values.  (Slightly different than the book version.) \n"
   ]
  },
  {
   "cell_type": "code",
   "execution_count": 124,
   "metadata": {
    "deletable": false,
    "nbgrader": {
     "cell_type": "code",
     "checksum": "3a4f6ea7d7e6d78c0ec084eb479efce6",
     "grade": false,
     "grade_id": "cell-2c89471b263a9e2c",
     "locked": false,
     "schema_version": 3,
     "solution": true,
     "task": false
    }
   },
   "outputs": [
    {
     "name": "stdout",
     "output_type": "stream",
     "text": [
      "CHN 12143.49 1386.4\n",
      "IND 2652.55 1338.66\n",
      "RUS 1578.62 144.5\n",
      "USA 19485.39 325.15\n",
      "VNM 223.78 94.6\n",
      "\n"
     ]
    }
   ],
   "source": [
    "result =  io.StringIO()\n",
    "with redirect_stdout(result):\n",
    "    for rowlabel, rowseries in indicators.iterrows():\n",
    "        print(rowlabel, rowseries['gdp'],rowseries['pop'])\n",
    "print(result.getvalue())"
   ]
  },
  {
   "cell_type": "code",
   "execution_count": 125,
   "metadata": {
    "deletable": false,
    "editable": false,
    "nbgrader": {
     "cell_type": "code",
     "checksum": "d8c17aa197efe590474d0d5a4b0e42ef",
     "grade": true,
     "grade_id": "cell-a63da0c5ccbcbf0f",
     "locked": true,
     "points": 0.5,
     "schema_version": 3,
     "solution": false,
     "task": false
    }
   },
   "outputs": [],
   "source": [
    "# Testing Cell\n",
    "\n",
    "assert True"
   ]
  },
  {
   "cell_type": "markdown",
   "metadata": {},
   "source": [
    "**Q42** Iterate over the columns of `topnames`.  At each iteration, where you obtain both the column label/index and the Series for that column, then print the column label and then the column values for the 2002/Male and 2002/Female rows in that colunn.\n"
   ]
  },
  {
   "cell_type": "code",
   "execution_count": 126,
   "metadata": {
    "deletable": false,
    "nbgrader": {
     "cell_type": "code",
     "checksum": "17ad720d07ca60e46509fb83e2da2631",
     "grade": false,
     "grade_id": "cell-0aad5e98825e3d32",
     "locked": false,
     "schema_version": 3,
     "solution": true,
     "task": false
    }
   },
   "outputs": [
    {
     "name": "stdout",
     "output_type": "stream",
     "text": [
      "name Jacob Emily\n",
      "count 30574 24464\n",
      "\n"
     ]
    }
   ],
   "source": [
    "result =  io.StringIO()\n",
    "with redirect_stdout(result):\n",
    "    for collabel, colseries in topnames.iteritems():\n",
    "        print(collabel, colseries[(2002,'Male')], colseries[(2002,'Female')])\n",
    "print(result.getvalue())"
   ]
  },
  {
   "cell_type": "code",
   "execution_count": 127,
   "metadata": {
    "deletable": false,
    "editable": false,
    "nbgrader": {
     "cell_type": "code",
     "checksum": "a618611ec596ce043e89959593f76ab5",
     "grade": true,
     "grade_id": "cell-9a3135f940c77200",
     "locked": true,
     "points": 0.5,
     "schema_version": 3,
     "solution": false,
     "task": false
    }
   },
   "outputs": [],
   "source": [
    "# Testing Cell\n",
    "\n",
    "assert True"
   ]
  },
  {
   "cell_type": "code",
   "execution_count": null,
   "metadata": {},
   "outputs": [],
   "source": []
  }
 ],
 "metadata": {
  "kernelspec": {
   "display_name": "Python 3",
   "language": "python",
   "name": "python3"
  },
  "language_info": {
   "codemirror_mode": {
    "name": "ipython",
    "version": 3
   },
   "file_extension": ".py",
   "mimetype": "text/x-python",
   "name": "python",
   "nbconvert_exporter": "python",
   "pygments_lexer": "ipython3",
   "version": "3.8.5"
  }
 },
 "nbformat": 4,
 "nbformat_minor": 5
}
