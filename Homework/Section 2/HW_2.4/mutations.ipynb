{
 "cells": [
  {
   "cell_type": "markdown",
   "metadata": {},
   "source": [
    "# Denison CS-181/DA-210 Homework"
   ]
  },
  {
   "cell_type": "markdown",
   "metadata": {},
   "source": [
    "---"
   ]
  },
  {
   "cell_type": "markdown",
   "metadata": {},
   "source": [
    "## Tabular Mutations Exercises"
   ]
  },
  {
   "cell_type": "code",
   "execution_count": 53,
   "metadata": {},
   "outputs": [],
   "source": [
    "import os\n",
    "import io\n",
    "import sys\n",
    "import re\n",
    "import pandas as pd\n",
    "\n",
    "from contextlib import redirect_stdout\n",
    "\n",
    "def add_modules():\n",
    "    \"\"\"\n",
    "    Starting at the current directory and proceeding up the file system\n",
    "    tree, search for a directory named `modules`.  If found, and if not\n",
    "    already there, add to the Python module search path.\n",
    "    \n",
    "    Params: None\n",
    "    \n",
    "    Return: None\n",
    "    \"\"\"\n",
    "    directory = \".\"\n",
    "    levels = 0\n",
    "    while not os.path.isdir(os.path.join(directory, \"modules\")) and \\\n",
    "          levels < 5:\n",
    "        directory = os.path.join(directory, \"..\")\n",
    "        levels += 1\n",
    "    module_path = os.path.abspath(os.path.join(directory, \"modules\"))\n",
    "    if os.path.isdir(module_path):\n",
    "        if not module_path in sys.path:\n",
    "            sys.path.append(module_path)\n",
    "\n",
    "add_modules()\n",
    "import util\n",
    "\n",
    "datadir = util.resolve_dir(\"tabulardata\")"
   ]
  },
  {
   "cell_type": "markdown",
   "metadata": {},
   "source": [
    "### Mutations Using `indicators` Variant\n",
    "\n",
    "In the next few exercises, we will be using a data set from the file, `indicators3.csv` in the data directory.  It contains a variation of the indicators data.  This version contains data for four different countries over three different years, and also contains addtional country information, like the income categories, the world region, and the land area."
   ]
  },
  {
   "cell_type": "markdown",
   "metadata": {},
   "source": [
    "**Q1** Read the file into the data frame `indicators0` with no index. In separate print invocations, print a prefix of the first 6 rows, and then take the columns of the data frame, convert to a list, and print the list."
   ]
  },
  {
   "cell_type": "code",
   "execution_count": 54,
   "metadata": {},
   "outputs": [],
   "source": [
    "# Student Experimentation Cell\n",
    "\n"
   ]
  },
  {
   "cell_type": "code",
   "execution_count": 55,
   "metadata": {
    "deletable": false,
    "nbgrader": {
     "cell_type": "code",
     "checksum": "5c07a1f195b194edbf00aa39feaf1e79",
     "grade": false,
     "grade_id": "cell-19212fd5b0ac5a7e",
     "locked": false,
     "schema_version": 3,
     "solution": true,
     "task": false
    }
   },
   "outputs": [
    {
     "name": "stdout",
     "output_type": "stream",
     "text": [
      "          code_country  year         CNT01-region         CNT02-income  \\\n",
      "0          CHN (China)  2015  East Asia & Pacific  Upper middle income   \n",
      "1          IND (India)  2015           South Asia  Lower middle income   \n",
      "2  USA (United States)  2015        North America          High income   \n",
      "3        VNM (Vietnam)  2015  East Asia & Pacific  Lower middle income   \n",
      "4          CHN (China)  2016  East Asia & Pacific  Upper middle income   \n",
      "5          IND (India)  2016           South Asia  Lower middle income   \n",
      "\n",
      "   CNT03-land  IND01-pop  IND02-gdp  IND03-life  IND04-cell  \n",
      "0   9388210.0    1371.22   11015.54       76.09     1291.98  \n",
      "1   2973190.0    1310.15    2103.59       68.30     1001.06  \n",
      "2   9147420.0     320.74   18219.30       78.69      382.31  \n",
      "3    310070.0      92.68     193.24       76.05      120.32  \n",
      "4   9388210.0    1378.66   11137.95       76.25     1364.93  \n",
      "5   2973190.0    1324.51    2290.43       68.56     1127.81  \n",
      "['code_country', 'year', 'CNT01-region', 'CNT02-income', 'CNT03-land', 'IND01-pop', 'IND02-gdp', 'IND03-life', 'IND04-cell']\n",
      "\n"
     ]
    }
   ],
   "source": [
    "# Solution Cell\n",
    "\n",
    "result = io.StringIO()\n",
    "with redirect_stdout(result):\n",
    "    indicators0 = pd.read_csv(os.path.join(datadir, 'indicators3.csv'))\n",
    "    print(indicators0.head(6))\n",
    "    print([collabel for collabel, colseries in indicators0.iteritems()])\n",
    "print(result.getvalue())"
   ]
  },
  {
   "cell_type": "code",
   "execution_count": 56,
   "metadata": {
    "deletable": false,
    "editable": false,
    "nbgrader": {
     "cell_type": "code",
     "checksum": "99f522a2c4ace7481b2fc6790aea9fa7",
     "grade": true,
     "grade_id": "cell-9a74c05b8a5d6a37",
     "locked": true,
     "points": 2,
     "schema_version": 3,
     "solution": false,
     "task": false
    }
   },
   "outputs": [],
   "source": [
    "# Testing Cell\n",
    "\n",
    "assert True\n"
   ]
  },
  {
   "cell_type": "markdown",
   "metadata": {},
   "source": [
    "**Q2** Suppose we want to process the column names so that the columns whose names are of the form `XXX0n-<name>` get shortened to just `<name>`, and the rest remain as is.  This will proceed in three steps:\n",
    "\n",
    "1. Write a lambda function, assigned to `short_col` that, given a string name of a column, yields the part after a `-` if the name contains a `-`.\n",
    "2. Assign to `newcols` a list comprehension that applies `short_col` to the `columns` attribute of `indicators0`\n",
    "3. Change `indicators0` so that its columns are based on `newcols`.\n",
    "\n",
    "Print a prefix of the first five rows of the changed `indicators0`."
   ]
  },
  {
   "cell_type": "code",
   "execution_count": 57,
   "metadata": {},
   "outputs": [],
   "source": [
    "# Student Experimentation Cell\n",
    "\n"
   ]
  },
  {
   "cell_type": "code",
   "execution_count": 58,
   "metadata": {
    "deletable": false,
    "nbgrader": {
     "cell_type": "code",
     "checksum": "c93014f1b0dcb24cee1654d6115a3b8e",
     "grade": false,
     "grade_id": "cell-53fdcd187a39c3a5",
     "locked": false,
     "schema_version": 3,
     "solution": true,
     "task": false
    }
   },
   "outputs": [
    {
     "name": "stdout",
     "output_type": "stream",
     "text": [
      "          code_country  year               region               income  \\\n",
      "0          CHN (China)  2015  East Asia & Pacific  Upper middle income   \n",
      "1          IND (India)  2015           South Asia  Lower middle income   \n",
      "2  USA (United States)  2015        North America          High income   \n",
      "3        VNM (Vietnam)  2015  East Asia & Pacific  Lower middle income   \n",
      "4          CHN (China)  2016  East Asia & Pacific  Upper middle income   \n",
      "\n",
      "        land      pop       gdp   life     cell  \n",
      "0  9388210.0  1371.22  11015.54  76.09  1291.98  \n",
      "1  2973190.0  1310.15   2103.59  68.30  1001.06  \n",
      "2  9147420.0   320.74  18219.30  78.69   382.31  \n",
      "3   310070.0    92.68    193.24  76.05   120.32  \n",
      "4  9388210.0  1378.66  11137.95  76.25  1364.93  \n",
      "\n"
     ]
    }
   ],
   "source": [
    "# Solution Cell\n",
    "\n",
    "result = io.StringIO()\n",
    "with redirect_stdout(result):\n",
    "    short_col = lambda x: x.split('-')[1] if '-' in x else x\n",
    "    newcols = [short_col(collabel) for collabel, colseries in indicators0.iteritems()]\n",
    "    indicators0.columns = newcols\n",
    "    print(indicators0.head())\n",
    "print(result.getvalue())"
   ]
  },
  {
   "cell_type": "code",
   "execution_count": 59,
   "metadata": {
    "deletable": false,
    "editable": false,
    "nbgrader": {
     "cell_type": "code",
     "checksum": "707b99ecb40c0c84e3a0b88d33b3eaae",
     "grade": true,
     "grade_id": "cell-5b59b8bbf1aee877",
     "locked": true,
     "points": 3,
     "schema_version": 3,
     "solution": false,
     "task": false
    }
   },
   "outputs": [],
   "source": [
    "# Testing Cell\n",
    "\n",
    "assert str(type(short_col)) == \"<class 'function'>\"\n",
    "assert short_col('code_country') == 'code_country'\n",
    "assert short_col('IND03-life') =='life'\n"
   ]
  },
  {
   "cell_type": "markdown",
   "metadata": {},
   "source": [
    "**Q3** The column field `code_country` is a mashup, and we want to separate out the two distinct values (of `code` and `country`) for each row into their consituent parts.  This is also a multiple step process:\n",
    "\n",
    "1. Write a lambda function, assigned to `get_code`, that, given a value of the `code_country` obtains and yields the \"code\" part of the value.  Hint: The code always precedes the first space.\n",
    "2. Write a lambda function, assigned to `get_country` that, given a value of `code_country` obtains and yields the \"country\" part of the value.  Hint: If we can find the index of the opening parenthesis, slicing can obtain the part in-between.\n",
    "3. Generate the `code` column and add it to the data frame by applying `get_code` to the proper column.\n",
    "4. Generate the `country` column and add it to the data frame by applying `get_country` to the proper column.\n",
    "5. Drop the original mashup column, assigning the result to `indicators1`.\n",
    "\n",
    "Don't worry about re-ordering the columns or sorting rows at this point.\n",
    "\n",
    "Print the five row prefix of the resultant `indicators1`."
   ]
  },
  {
   "cell_type": "code",
   "execution_count": 60,
   "metadata": {},
   "outputs": [],
   "source": [
    "# Student Experimentation Cell\n",
    "ind2 = indicators0.copy()\n",
    "codes = [get_code(ind2.loc[rowlabel, \"code_country\"]) for rowlabel,rowseries in ind2.iterrows()]\n",
    "ind2['code'] = codes\n"
   ]
  },
  {
   "cell_type": "code",
   "execution_count": 61,
   "metadata": {
    "deletable": false,
    "nbgrader": {
     "cell_type": "code",
     "checksum": "061a5371be4d18ed1ff2cde5d2e47bcc",
     "grade": false,
     "grade_id": "cell-d333f603b3dc1342",
     "locked": false,
     "schema_version": 3,
     "solution": true,
     "task": false
    }
   },
   "outputs": [
    {
     "name": "stdout",
     "output_type": "stream",
     "text": [
      "    year               region               income       land      pop  \\\n",
      "0   2015  East Asia & Pacific  Upper middle income  9388210.0  1371.22   \n",
      "1   2015           South Asia  Lower middle income  2973190.0  1310.15   \n",
      "2   2015        North America          High income  9147420.0   320.74   \n",
      "3   2015  East Asia & Pacific  Lower middle income   310070.0    92.68   \n",
      "4   2016  East Asia & Pacific  Upper middle income  9388210.0  1378.66   \n",
      "5   2016           South Asia  Lower middle income  2973190.0  1324.51   \n",
      "6   2016        North America          High income  9147420.0   323.07   \n",
      "7   2016  East Asia & Pacific  Lower middle income   310070.0    93.64   \n",
      "8   2017  East Asia & Pacific  Upper middle income  9388210.0  1386.40   \n",
      "9   2017           South Asia  Lower middle income  2973190.0  1338.66   \n",
      "10  2017        North America          High income  9147420.0   325.15   \n",
      "11  2017  East Asia & Pacific  Lower middle income   310070.0    94.60   \n",
      "\n",
      "         gdp   life     cell code        country  \n",
      "0   11015.54  76.09  1291.98  CHN          China  \n",
      "1    2103.59  68.30  1001.06  IND          India  \n",
      "2   18219.30  78.69   382.31  USA  United States  \n",
      "3     193.24  76.05   120.32  VNM        Vietnam  \n",
      "4   11137.95  76.25  1364.93  CHN          China  \n",
      "5    2290.43  68.56  1127.81  IND          India  \n",
      "6   18707.19  78.54   387.40  USA  United States  \n",
      "7     205.28  76.25   120.60  VNM        Vietnam  \n",
      "8   12143.49  76.41  1469.88  CHN          China  \n",
      "9    2652.55  68.80  1168.90  IND          India  \n",
      "10  19485.39  78.54   391.60  USA  United States  \n",
      "11    223.78  76.45   120.02  VNM        Vietnam  \n",
      "\n"
     ]
    }
   ],
   "source": [
    "# Solution Cell\n",
    "\n",
    "result = io.StringIO()\n",
    "with redirect_stdout(result):\n",
    "    get_code = lambda x: x.split(' ')[0]\n",
    "    get_country = lambda x: x.split('(')[1].split(')')[0]\n",
    "    indicators0['code'] = [get_code(indicators0.loc[rowlabel, \"code_country\"]) for rowlabel,rowseries in indicators0.iterrows()]\n",
    "    indicators0['country'] = [get_country(indicators0.loc[rowlabel, \"code_country\"]) for rowlabel,rowseries in indicators0.iterrows()]\n",
    "    indicators1 = indicators0.drop('code_country', axis=1, inplace=False)\n",
    "    print(indicators1)\n",
    "print(result.getvalue())"
   ]
  },
  {
   "cell_type": "code",
   "execution_count": 62,
   "metadata": {
    "deletable": false,
    "editable": false,
    "nbgrader": {
     "cell_type": "code",
     "checksum": "e411ce0d7f9c81c3a8c3ede89d9d3cb0",
     "grade": true,
     "grade_id": "cell-2223fe52ad792beb",
     "locked": true,
     "points": 3,
     "schema_version": 3,
     "solution": false,
     "task": false
    }
   },
   "outputs": [],
   "source": [
    "# Testing Cell\n",
    "\n",
    "assert str(type(get_code)) == \"<class 'function'>\"\n",
    "assert str(type(get_country)) == \"<class 'function'>\"\n",
    "assert get_code('USA (United States)') == 'USA'\n",
    "assert get_country('USA (United States)') == 'United States'\n"
   ]
  },
  {
   "cell_type": "markdown",
   "metadata": {},
   "source": [
    "**Q4** If you were able to successfully solve the previous problem, create a temporary data frame, `df_temp`, which is `indicators1` with the index set to `code`, then `year`.  If you were not successful at the previous problem, set the index of `df_temp` to `code_country` and then `year` from `indicators0`.  Then create `indicators2` by sorting by the index of `df_temp` in ascending order.\n",
    "\n",
    "No need for printing of results in this solution."
   ]
  },
  {
   "cell_type": "code",
   "execution_count": null,
   "metadata": {},
   "outputs": [],
   "source": [
    "# Student Experimentation Cell\n",
    "\n"
   ]
  },
  {
   "cell_type": "code",
   "execution_count": 66,
   "metadata": {
    "deletable": false,
    "nbgrader": {
     "cell_type": "code",
     "checksum": "6f163d70627a335e2150f30e7f64c1d1",
     "grade": false,
     "grade_id": "cell-447f56655383913e",
     "locked": false,
     "schema_version": 3,
     "solution": true,
     "task": false
    }
   },
   "outputs": [],
   "source": [
    "# Solution Cell\n",
    "\n",
    "df_temp = indicators1.set_index(['code','year'])\n",
    "indicators2 = df_temp.sort_index(axis=0, inplace=False)"
   ]
  },
  {
   "cell_type": "code",
   "execution_count": 67,
   "metadata": {
    "deletable": false,
    "editable": false,
    "nbgrader": {
     "cell_type": "code",
     "checksum": "bb81e895f85fd7a3aefe45d4b3b67acf",
     "grade": true,
     "grade_id": "cell-ba4c90654dcc326e",
     "locked": true,
     "points": 1,
     "schema_version": 3,
     "solution": false,
     "task": false
    }
   },
   "outputs": [],
   "source": [
    "# Testing Cell\n",
    "\n",
    "secondrow0 = df_temp.iloc[1,:]\n",
    "lastrowm0 = df_temp.iloc[len(df_temp)-2,:]\n",
    "\n",
    "secondrow1 = indicators2.iloc[1,:]\n",
    "lastrowm1 = indicators2.iloc[len(indicators2)-2,:]\n",
    "\n",
    "assert secondrow0['pop'] == 1310.15\n",
    "assert lastrowm0['pop'] == 325.15\n",
    "\n",
    "assert secondrow1['pop'] == 1378.66\n",
    "assert lastrowm1['pop'] == 93.64\n"
   ]
  },
  {
   "cell_type": "markdown",
   "metadata": {},
   "source": [
    "**Q5** In the data directory you will find a file `sat.csv`, based on data from www.onlinestatbook.com. This data contains the high school GPA, SAT math score, SAT verbal score, and college GPAs, for a number of students.\n",
    "\n",
    "1. Read the data into a pandas data frame `dfsat` with column headers.\n",
    "2. From a copy of `dfsat`, add a new column 'total_SAT' containing the total SAT score for each student, calling the resulting data frame `dfsat2`.\n",
    "3. From a copy of `dfsat2`, add a column 'GPA_change' with the change in GPA from high school to college, calling the resulting data frame `dfsat3`.  If the GPA increased from high school to college, this would be a positive number.\n",
    "4. Update the column 'total_SAT' (in place in `dfsat3`) to scale it so that the max score is 2400 instead of 1600 (i.e., multiply each entry by 1.5).\n",
    "\n",
    "Print the prefix of the first five rows of `dfsat3`\n"
   ]
  },
  {
   "cell_type": "code",
   "execution_count": 73,
   "metadata": {},
   "outputs": [],
   "source": [
    "# Student Experimentation Cell\n",
    "\n"
   ]
  },
  {
   "cell_type": "code",
   "execution_count": 80,
   "metadata": {
    "deletable": false,
    "nbgrader": {
     "cell_type": "code",
     "checksum": "34e0095634cfe11199e846da159354b5",
     "grade": false,
     "grade_id": "cell-eb5fcbab2b8d45fe",
     "locked": false,
     "schema_version": 3,
     "solution": true,
     "task": false
    }
   },
   "outputs": [
    {
     "name": "stdout",
     "output_type": "stream",
     "text": [
      "   hs_GPA  math_SAT  verb_SAT  college_GPA  total_SAT  GPA_change\n",
      "0    3.45       643       589         3.52     1848.0        0.07\n",
      "1    2.78       558       512         2.91     1605.0        0.13\n",
      "2    2.52       583       503         2.40     1629.0       -0.12\n",
      "3    3.67       685       602         3.47     1930.5       -0.20\n",
      "4    3.24       592       538         3.47     1695.0        0.23\n",
      "\n"
     ]
    }
   ],
   "source": [
    "# Solution Cell\n",
    "\n",
    "result = io.StringIO()\n",
    "with redirect_stdout(result):\n",
    "    dfsat = pd.read_csv(os.path.join(datadir, \"sat.csv\"))\n",
    "    \n",
    "    dfsat2 = dfsat.copy()\n",
    "    dfsat2['total_SAT'] = [dfsat2.loc[rowlabel, \"math_SAT\"] + dfsat2.loc[rowlabel, \"verb_SAT\"] for rowlabel, rowseris in dfsat2.iterrows()]\n",
    "    \n",
    "    dfsat3 = dfsat2.copy()\n",
    "    dfsat3['GPA_change'] = [dfsat2.loc[rowlabel, \"college_GPA\"] - dfsat2.loc[rowlabel, \"hs_GPA\"] for rowlabel, rowseris in dfsat3.iterrows()]\n",
    "    \n",
    "    dfsat3['total_SAT'] = [dfsat3.loc[rowlabel,\"total_SAT\"] * 1.5 for rowlabel, rowseries in dfsat3.iterrows()]\n",
    "    print(dfsat3.head())\n",
    "print(result.getvalue())"
   ]
  },
  {
   "cell_type": "code",
   "execution_count": 81,
   "metadata": {
    "deletable": false,
    "editable": false,
    "nbgrader": {
     "cell_type": "code",
     "checksum": "b84579ccf364b8cd738c0592d70f7295",
     "grade": true,
     "grade_id": "cell-766654514b991632",
     "locked": true,
     "points": 2,
     "schema_version": 3,
     "solution": false,
     "task": false
    }
   },
   "outputs": [],
   "source": [
    "# Testing Cell\n",
    "\n",
    "assert True\n"
   ]
  },
  {
   "cell_type": "markdown",
   "metadata": {},
   "source": [
    "**Q6** Starting from a copy of original `dfsat` (name it `dfsat5`), we wish to create a column based on high school GPA. We name the column `rank`, and the value in the column should have value 1 if high school GPA is 3.5 and above, 2 if high school GPA is from 2.5 up to (but not including) 3.5, and value 3 if high school GPA is less than 2.5.\n",
    "\n",
    "Two approaches that do not involve an explicit loop include:\n",
    "\n",
    "1. Using a (lambda) function that yields the correct rank value given a high school GPA value, and then applying that function to the input column and assigning to the new column.\n",
    "2. Using **conditional assignment** that, in a sequence of assignment statements, uses the approriate condition as part of the left hand side of an assignment.\n",
    "\n",
    "You can solve this problem with either of these two approaches, but are disallowed from using a `for` loop.\n",
    "\n",
    "Print the prefix of the first five rows of the modified `dfsat5`, and then print the suffix of the last five rows of the modified `dfsat5`.\n"
   ]
  },
  {
   "cell_type": "code",
   "execution_count": 96,
   "metadata": {},
   "outputs": [],
   "source": [
    "# Student Experimentation Cell\n",
    "\n"
   ]
  },
  {
   "cell_type": "code",
   "execution_count": 99,
   "metadata": {
    "deletable": false,
    "nbgrader": {
     "cell_type": "code",
     "checksum": "46eaf13814429d7a4134e289b41c2ace",
     "grade": false,
     "grade_id": "cell-e432ebdd4d1f5fd2",
     "locked": false,
     "schema_version": 3,
     "solution": true,
     "task": false
    }
   },
   "outputs": [
    {
     "name": "stdout",
     "output_type": "stream",
     "text": [
      "   hs_GPA  math_SAT  verb_SAT  college_GPA  rank\n",
      "0    3.45       643       589         3.52     2\n",
      "1    2.78       558       512         2.91     2\n",
      "2    2.52       583       503         2.40     2\n",
      "3    3.67       685       602         3.47     1\n",
      "4    3.24       592       538         3.47     2\n",
      "     hs_GPA  math_SAT  verb_SAT  college_GPA  rank\n",
      "100    3.76       605       590         3.64     1\n",
      "101    3.49       692       683         3.42     2\n",
      "102    3.07       680       692         3.25     2\n",
      "103    2.19       617       503         2.76     3\n",
      "104    3.46       516       528         3.41     2\n",
      "\n"
     ]
    }
   ],
   "source": [
    "# Solution Cell\n",
    "\n",
    "result = io.StringIO()\n",
    "with redirect_stdout(result):\n",
    "    dfsat5 = dfsat.copy()\n",
    "    dfsat5['rank'] = dfsat5.apply(lambda x: 1 if x['hs_GPA'] >= 3.5 else (2 if x['hs_GPA'] > 2.5 else 3), axis=1)\n",
    "    print(dfsat5.head())\n",
    "    print(dfsat5.tail())\n",
    "print(result.getvalue())\n"
   ]
  },
  {
   "cell_type": "code",
   "execution_count": 100,
   "metadata": {
    "deletable": false,
    "editable": false,
    "nbgrader": {
     "cell_type": "code",
     "checksum": "bb5158b83d56c59bd48dc908b41f8530",
     "grade": true,
     "grade_id": "cell-344b53c7a9a6fc3f",
     "locked": true,
     "points": 3,
     "schema_version": 3,
     "solution": false,
     "task": false
    }
   },
   "outputs": [],
   "source": [
    "# Testing Cell\n",
    "\n",
    "assert True\n"
   ]
  },
  {
   "cell_type": "code",
   "execution_count": null,
   "metadata": {},
   "outputs": [],
   "source": []
  }
 ],
 "metadata": {
  "kernelspec": {
   "display_name": "Python 3",
   "language": "python",
   "name": "python3"
  },
  "language_info": {
   "codemirror_mode": {
    "name": "ipython",
    "version": 3
   },
   "file_extension": ".py",
   "mimetype": "text/x-python",
   "name": "python",
   "nbconvert_exporter": "python",
   "pygments_lexer": "ipython3",
   "version": "3.8.5"
  }
 },
 "nbformat": 4,
 "nbformat_minor": 5
}
