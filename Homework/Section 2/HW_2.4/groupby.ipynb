{
 "cells": [
  {
   "cell_type": "markdown",
   "metadata": {},
   "source": [
    "# Denison CS-181/DA-210 Homework"
   ]
  },
  {
   "cell_type": "markdown",
   "metadata": {},
   "source": [
    "---"
   ]
  },
  {
   "cell_type": "markdown",
   "metadata": {},
   "source": [
    "## GroupBy Exercises"
   ]
  },
  {
   "cell_type": "code",
   "execution_count": 1,
   "metadata": {},
   "outputs": [],
   "source": [
    "import os\n",
    "import io\n",
    "import sys\n",
    "import re\n",
    "import pandas as pd\n",
    "\n",
    "from contextlib import redirect_stdout\n",
    "\n",
    "def add_modules():\n",
    "    \"\"\"\n",
    "    Starting at the current directory and proceeding up the file system\n",
    "    tree, search for a directory named `modules`.  If found, and if not\n",
    "    already there, add to the Python module search path.\n",
    "    \n",
    "    Params: None\n",
    "    \n",
    "    Return: None\n",
    "    \"\"\"\n",
    "    directory = \".\"\n",
    "    levels = 0\n",
    "    while not os.path.isdir(os.path.join(directory, \"modules\")) and \\\n",
    "          levels < 5:\n",
    "        directory = os.path.join(directory, \"..\")\n",
    "        levels += 1\n",
    "    module_path = os.path.abspath(os.path.join(directory, \"modules\"))\n",
    "    if os.path.isdir(module_path):\n",
    "        if not module_path in sys.path:\n",
    "            sys.path.append(module_path)\n",
    "\n",
    "add_modules()\n",
    "import util\n",
    "\n",
    "datadir = util.resolve_dir(\"tabulardata\")"
   ]
  },
  {
   "cell_type": "markdown",
   "metadata": {},
   "source": [
    "**Q1** Read the CSV file, \"indicators4.csv\" from the tabular data directory into a data frame named `indicators`. Use index columns of `year` and `code` (in that order).  Print the prefix of the first 8 rows of the data frame."
   ]
  },
  {
   "cell_type": "code",
   "execution_count": null,
   "metadata": {},
   "outputs": [],
   "source": [
    "# Student Experimentation Cell\n",
    "\n"
   ]
  },
  {
   "cell_type": "code",
   "execution_count": 2,
   "metadata": {
    "deletable": false,
    "nbgrader": {
     "cell_type": "code",
     "checksum": "255b39b65c471609d013aa25ae86e706",
     "grade": false,
     "grade_id": "cell-5a5b2c18f07ac2c2",
     "locked": false,
     "schema_version": 3,
     "solution": true,
     "task": false
    }
   },
   "outputs": [
    {
     "name": "stdout",
     "output_type": "stream",
     "text": [
      "                 country       land               income               region  \\\n",
      "year code                                                                       \n",
      "2015 CHN           China  9388210.0  Upper middle income  East Asia & Pacific   \n",
      "     IND           India  2973190.0  Lower middle income           South Asia   \n",
      "     USA   United States  9147420.0          High income        North America   \n",
      "     VNM         Vietnam   310070.0  Lower middle income  East Asia & Pacific   \n",
      "2016 CHN           China  9388210.0  Upper middle income  East Asia & Pacific   \n",
      "     IND           India  2973190.0  Lower middle income           South Asia   \n",
      "     USA   United States  9147420.0          High income        North America   \n",
      "     VNM         Vietnam   310070.0  Lower middle income  East Asia & Pacific   \n",
      "\n",
      "               pop       gdp   life     cell  \n",
      "year code                                     \n",
      "2015 CHN   1371.22  11015.54  76.09  1291.98  \n",
      "     IND   1310.15   2103.59  68.30  1001.06  \n",
      "     USA    320.74  18219.30  78.69   382.31  \n",
      "     VNM     92.68    193.24  76.05   120.32  \n",
      "2016 CHN   1378.66  11137.95  76.25  1364.93  \n",
      "     IND   1324.51   2290.43  68.56  1127.81  \n",
      "     USA    323.07  18707.19  78.54   387.40  \n",
      "     VNM     93.64    205.28  76.25   120.60  \n",
      "\n"
     ]
    }
   ],
   "source": [
    "# Solution Cell\n",
    "\n",
    "result = io.StringIO()\n",
    "with redirect_stdout(result):\n",
    "    indicators = pd.read_csv(os.path.join(datadir, \"indicators4.csv\"), index_col = ['year', 'code'])\n",
    "    print(indicators.head(8))\n",
    "print(result.getvalue())"
   ]
  },
  {
   "cell_type": "code",
   "execution_count": 3,
   "metadata": {
    "deletable": false,
    "editable": false,
    "nbgrader": {
     "cell_type": "code",
     "checksum": "700083df502cac3c9f88e3a86dd46716",
     "grade": true,
     "grade_id": "cell-a00aad80d673b505",
     "locked": true,
     "points": 1,
     "schema_version": 3,
     "solution": false,
     "task": false
    }
   },
   "outputs": [],
   "source": [
    "# Testing Cell\n",
    "\n",
    "assert isinstance(indicators, pd.core.frame.DataFrame)\n",
    "assert result.getvalue() == '                 country       land               income               region  \\\\\\nyear code                                                                       \\n2015 CHN           China  9388210.0  Upper middle income  East Asia & Pacific   \\n     IND           India  2973190.0  Lower middle income           South Asia   \\n     USA   United States  9147420.0          High income        North America   \\n     VNM         Vietnam   310070.0  Lower middle income  East Asia & Pacific   \\n2016 CHN           China  9388210.0  Upper middle income  East Asia & Pacific   \\n     IND           India  2973190.0  Lower middle income           South Asia   \\n     USA   United States  9147420.0          High income        North America   \\n     VNM         Vietnam   310070.0  Lower middle income  East Asia & Pacific   \\n\\n               pop       gdp   life     cell  \\nyear code                                     \\n2015 CHN   1371.22  11015.54  76.09  1291.98  \\n     IND   1310.15   2103.59  68.30  1001.06  \\n     USA    320.74  18219.30  78.69   382.31  \\n     VNM     92.68    193.24  76.05   120.32  \\n2016 CHN   1378.66  11137.95  76.25  1364.93  \\n     IND   1324.51   2290.43  68.56  1127.81  \\n     USA    323.07  18707.19  78.54   387.40  \\n     VNM     93.64    205.28  76.25   120.60  \\n'\n"
   ]
  },
  {
   "cell_type": "markdown",
   "metadata": {},
   "source": [
    "**Q2** Find the min and max of variables `pop` and `gdp` **for each year**, printing the result."
   ]
  },
  {
   "cell_type": "code",
   "execution_count": null,
   "metadata": {},
   "outputs": [],
   "source": [
    "# Student Experimentation Cell\n",
    "\n"
   ]
  },
  {
   "cell_type": "code",
   "execution_count": 8,
   "metadata": {
    "deletable": false,
    "nbgrader": {
     "cell_type": "code",
     "checksum": "58150bff99cb33f6153142801b9d9acf",
     "grade": false,
     "grade_id": "cell-87dc826bdc157e84",
     "locked": false,
     "schema_version": 3,
     "solution": true,
     "task": false
    }
   },
   "outputs": [
    {
     "name": "stdout",
     "output_type": "stream",
     "text": [
      "        pop              gdp          \n",
      "        min      max     min       max\n",
      "year                                  \n",
      "2015  92.68  1371.22  193.24  18219.30\n",
      "2016  93.64  1378.66  205.28  18707.19\n",
      "2017  94.60  1386.40  223.78  19485.39\n",
      "\n"
     ]
    }
   ],
   "source": [
    "# Solution Cell\n",
    "\n",
    "result = io.StringIO()\n",
    "with redirect_stdout(result):\n",
    "    print(indicators.groupby('year').agg({'pop':['min','max'],'gdp':['min','max']}))\n",
    "print(result.getvalue())"
   ]
  },
  {
   "cell_type": "code",
   "execution_count": 9,
   "metadata": {
    "deletable": false,
    "editable": false,
    "nbgrader": {
     "cell_type": "code",
     "checksum": "960f07626b8a1b73dc5597aa93d9e9ee",
     "grade": true,
     "grade_id": "cell-3eb285cbb656fd31",
     "locked": true,
     "points": 2,
     "schema_version": 3,
     "solution": false,
     "task": false
    }
   },
   "outputs": [],
   "source": [
    "# Testing Cell\n",
    "\n",
    "assert result.getvalue() == '        pop              gdp          \\n        min      max     min       max\\nyear                                  \\n2015  92.68  1371.22  193.24  18219.30\\n2016  93.64  1378.66  205.28  18707.19\\n2017  94.60  1386.40  223.78  19485.39\\n'\n"
   ]
  },
  {
   "cell_type": "markdown",
   "metadata": {},
   "source": [
    "**Q3** Find the min and max of variables `pop` and `gdp` for each country code, printing the result."
   ]
  },
  {
   "cell_type": "code",
   "execution_count": null,
   "metadata": {},
   "outputs": [],
   "source": [
    "# Student Experimentation Cell\n",
    "\n"
   ]
  },
  {
   "cell_type": "code",
   "execution_count": 11,
   "metadata": {
    "deletable": false,
    "nbgrader": {
     "cell_type": "code",
     "checksum": "9e8292cef4a16fc92d7eb35631411fee",
     "grade": false,
     "grade_id": "cell-1e62db1ab9a3a2af",
     "locked": false,
     "schema_version": 3,
     "solution": true,
     "task": false
    }
   },
   "outputs": [
    {
     "name": "stdout",
     "output_type": "stream",
     "text": [
      "          pop                gdp          \n",
      "          min      max       min       max\n",
      "code                                      \n",
      "CHN   1371.22  1386.40  11015.54  12143.49\n",
      "IND   1310.15  1338.66   2103.59   2652.55\n",
      "USA    320.74   325.15  18219.30  19485.39\n",
      "VNM     92.68    94.60    193.24    223.78\n",
      "\n"
     ]
    }
   ],
   "source": [
    "# Solution Cell\n",
    "\n",
    "result = io.StringIO()\n",
    "with redirect_stdout(result):\n",
    "    print(indicators.groupby('code').agg({'pop':['min','max'],'gdp':['min','max']}))\n",
    "print(result.getvalue())"
   ]
  },
  {
   "cell_type": "code",
   "execution_count": 12,
   "metadata": {
    "deletable": false,
    "editable": false,
    "nbgrader": {
     "cell_type": "code",
     "checksum": "76a45aeb6fa3c3582f022e102e5e40b5",
     "grade": true,
     "grade_id": "cell-fd2134651e589bab",
     "locked": true,
     "points": 1,
     "schema_version": 3,
     "solution": false,
     "task": false
    }
   },
   "outputs": [],
   "source": [
    "# Testing Cell\n",
    "\n",
    "assert True\n"
   ]
  },
  {
   "cell_type": "markdown",
   "metadata": {},
   "source": [
    "**Q4** Suppose we want to compare countries in income categories.  To do this, we first need to summarize variables by country, since there are multiple years per country.  Given the resultant dataframe of stats by country, we can then group by and aggregate by income category.\n",
    "\n",
    "1. Compute the per country mean of `pop`, 'gdp`, `life', and 'cell', assigning to `country_stats`.  In the aggregation dictionary, start with asking for the `income` variable to get aggregated by `'first'` to get the *first* value in the partition for that country code.\n",
    "2. Compute the mean of `pop`, `gdp`, and `life` for each income category by grouping based on the result from step 1.  Print the result."
   ]
  },
  {
   "cell_type": "code",
   "execution_count": null,
   "metadata": {},
   "outputs": [],
   "source": [
    "# Student Experimentation Cell\n",
    "\n"
   ]
  },
  {
   "cell_type": "code",
   "execution_count": 16,
   "metadata": {
    "deletable": false,
    "nbgrader": {
     "cell_type": "code",
     "checksum": "b8420c50977db230578e0204e908d250",
     "grade": false,
     "grade_id": "cell-9691a58d8bf6ab53",
     "locked": false,
     "schema_version": 3,
     "solution": true,
     "task": false
    }
   },
   "outputs": [
    {
     "name": "stdout",
     "output_type": "stream",
     "text": [
      "                             pop           gdp       life\n",
      "income                                                   \n",
      "High income           322.986667  18803.960000  78.590000\n",
      "Lower middle income   709.040000   1278.145000  72.401667\n",
      "Upper middle income  1378.760000  11432.326667  76.250000\n",
      "\n"
     ]
    }
   ],
   "source": [
    "# Solution Cell\n",
    "\n",
    "result = io.StringIO()\n",
    "with redirect_stdout(result):\n",
    "    country_stats = indicators.groupby('country').agg({'income':'first','pop':'mean','gdp':'mean','life':'mean'})\n",
    "    country_stats = country_stats.groupby('income').agg({'pop':'mean','gdp':'mean','life':'mean'})\n",
    "    print(country_stats)\n",
    "print(result.getvalue())"
   ]
  },
  {
   "cell_type": "code",
   "execution_count": 17,
   "metadata": {
    "deletable": false,
    "editable": false,
    "nbgrader": {
     "cell_type": "code",
     "checksum": "0bf7c7e53c9a69175b7478b5db9aa329",
     "grade": true,
     "grade_id": "cell-39f8dae988e47de6",
     "locked": true,
     "points": 2,
     "schema_version": 3,
     "solution": false,
     "task": false
    }
   },
   "outputs": [],
   "source": [
    "# Testing Cell\n",
    "\n",
    "assert True\n"
   ]
  },
  {
   "cell_type": "code",
   "execution_count": null,
   "metadata": {},
   "outputs": [],
   "source": []
  }
 ],
 "metadata": {
  "kernelspec": {
   "display_name": "Python 3",
   "language": "python",
   "name": "python3"
  },
  "language_info": {
   "codemirror_mode": {
    "name": "ipython",
    "version": 3
   },
   "file_extension": ".py",
   "mimetype": "text/x-python",
   "name": "python",
   "nbconvert_exporter": "python",
   "pygments_lexer": "ipython3",
   "version": "3.8.5"
  }
 },
 "nbformat": 4,
 "nbformat_minor": 5
}
