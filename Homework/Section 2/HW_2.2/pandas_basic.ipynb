{
 "cells": [
  {
   "cell_type": "markdown",
   "metadata": {},
   "source": [
    "# Denison CS-181/DA-210 Homework"
   ]
  },
  {
   "cell_type": "markdown",
   "metadata": {},
   "source": [
    "---"
   ]
  },
  {
   "cell_type": "markdown",
   "metadata": {},
   "source": [
    "## Tabular Operations: `pandas` Access\n",
    "\n",
    "> Transition from mimicing operations with a close template from the book to\n",
    "> using different data sets and word specification of what needs to be done\n",
    "> to access data in `pandas` data frames."
   ]
  },
  {
   "cell_type": "code",
   "execution_count": 2,
   "metadata": {},
   "outputs": [],
   "source": [
    "import os\n",
    "import io\n",
    "import sys\n",
    "import re\n",
    "import pandas as pd\n",
    "import numpy\n",
    "\n",
    "from contextlib import redirect_stdout\n",
    "\n",
    "def add_modules():\n",
    "    \"\"\"\n",
    "    Starting at the current directory and proceeding up the file system\n",
    "    tree, search for a directory named `modules`.  If found, and if not\n",
    "    already there, add to the Python module search path.\n",
    "    \n",
    "    Params: None\n",
    "    \n",
    "    Return: None\n",
    "    \"\"\"\n",
    "    directory = \".\"\n",
    "    levels = 0\n",
    "    while not os.path.isdir(os.path.join(directory, \"modules\")) and \\\n",
    "          levels < 5:\n",
    "        directory = os.path.join(directory, \"..\")\n",
    "        levels += 1\n",
    "    module_path = os.path.abspath(os.path.join(directory, \"modules\"))\n",
    "    if os.path.isdir(module_path):\n",
    "        if not module_path in sys.path:\n",
    "            sys.path.append(module_path)\n",
    "\n",
    "add_modules()\n",
    "import util\n",
    "\n",
    "datadir = util.resolve_dir(\"tabulardata\")"
   ]
  },
  {
   "cell_type": "markdown",
   "metadata": {},
   "source": [
    "### Data Set\n",
    "\n",
    "The data for these exercises is real data that comes from FAA information from the collection of New York City airports and contains separate tables regarding flights, planes, and airports covering all flights between NYC and any destination for the entire year of 2013.  This is a well known data set in the R and data science community, known as `nycflights13`.\n",
    "\n",
    "We will see, as we work through these exercises, that the data is of significant size.  Effectively debugging of the processing on larger data sets involves trying your solution on a smaller set of the data.\n",
    "\n",
    "The files we will use are in the `\"tabulardata\"` directory, referred to by the Python variable `datadir`.  The files are `\"airports.csv\"`, `\"planes.csv\"`, and `\"flights.csv\"`.\n",
    "\n",
    "Because we want to acclimate to the process of data exploration, some of the questions will ask you to look at the data and reflect on what you observe, using manually graded Markdown cells."
   ]
  },
  {
   "cell_type": "markdown",
   "metadata": {},
   "source": [
    "**Q1** In the data directory, you will find `\"airports.csv\"`.  Read this into a data frame, assigning to `airports0`, with **no index**.  Print the first five rows of the data frame."
   ]
  },
  {
   "cell_type": "code",
   "execution_count": 3,
   "metadata": {
    "deletable": false,
    "nbgrader": {
     "cell_type": "code",
     "checksum": "db4f2aa0b68a32cfe28f85e50b565ca5",
     "grade": false,
     "grade_id": "cell-a6bbaa173c6ec988",
     "locked": false,
     "schema_version": 3,
     "solution": true,
     "task": false
    }
   },
   "outputs": [
    {
     "name": "stdout",
     "output_type": "stream",
     "text": [
      "   faa                           name        lat        lon   alt  tz dst  \\\n",
      "0  04G              Lansdowne Airport  41.130472 -80.619583  1044  -5   A   \n",
      "1  06A  Moton Field Municipal Airport  32.460572 -85.680028   264  -6   A   \n",
      "2  06C            Schaumburg Regional  41.989341 -88.101243   801  -6   A   \n",
      "3  06N                Randall Airport  41.431912 -74.391561   523  -5   A   \n",
      "4  09J          Jekyll Island Airport  31.074472 -81.427778    11  -5   A   \n",
      "\n",
      "              tzone  \n",
      "0  America/New_York  \n",
      "1   America/Chicago  \n",
      "2   America/Chicago  \n",
      "3  America/New_York  \n",
      "4  America/New_York  \n",
      "\n"
     ]
    }
   ],
   "source": [
    "result = io.StringIO()\n",
    "with redirect_stdout(result):\n",
    "    airports_path = os.path.join(datadir, \"airports.csv\")\n",
    "    airports0 = pd.read_csv(airports_path)\n",
    "    print(airports0.head())\n",
    "print(result.getvalue())"
   ]
  },
  {
   "cell_type": "code",
   "execution_count": 4,
   "metadata": {
    "deletable": false,
    "editable": false,
    "nbgrader": {
     "cell_type": "code",
     "checksum": "79787e5f64405b1d374b0c28a8a06a19",
     "grade": true,
     "grade_id": "cell-f3d15b6e6ed85126",
     "locked": true,
     "points": 1,
     "schema_version": 3,
     "solution": false,
     "task": false
    }
   },
   "outputs": [],
   "source": [
    "# Testing cell\n",
    "\n",
    "assert len(airports0) == 1458\n",
    "assert result.getvalue() == '   faa                           name        lat        lon   alt  tz dst  \\\\\\n0  04G              Lansdowne Airport  41.130472 -80.619583  1044  -5   A   \\n1  06A  Moton Field Municipal Airport  32.460572 -85.680028   264  -6   A   \\n2  06C            Schaumburg Regional  41.989341 -88.101243   801  -6   A   \\n3  06N                Randall Airport  41.431912 -74.391561   523  -5   A   \\n4  09J          Jekyll Island Airport  31.074472 -81.427778    11  -5   A   \\n\\n              tzone  \\n0  America/New_York  \\n1   America/Chicago  \\n2   America/Chicago  \\n3  America/New_York  \\n4  America/New_York  \\n'"
   ]
  },
  {
   "cell_type": "markdown",
   "metadata": {},
   "source": [
    "**Q2** An index for the rows should, generally, give a unique means of referring to rows.  In `airports0`, we would guess that the `faa` column is unique.  Project the `faa` column as a Series, assigning to `faas`.  Then assign to `unique_faa` the result of invoking the `unique()` method on `faas`.  Compare the `len()` of `unique_faa` to the `len()` of `airports0`, adding a comment in the solution cell with what you observe."
   ]
  },
  {
   "cell_type": "code",
   "execution_count": 5,
   "metadata": {
    "deletable": false,
    "nbgrader": {
     "cell_type": "code",
     "checksum": "0967d7e37e247060a4ec186b67c5d71f",
     "grade": false,
     "grade_id": "cell-3a5e49b8b7ca1f9f",
     "locked": false,
     "schema_version": 3,
     "solution": true,
     "task": false
    }
   },
   "outputs": [
    {
     "data": {
      "text/plain": [
       "'equal'"
      ]
     },
     "execution_count": 5,
     "metadata": {},
     "output_type": "execute_result"
    }
   ],
   "source": [
    "faas = airports0['faa']\n",
    "unique_faa = airports0['faa'].unique()\n",
    "comp_len = lambda x, y: \"equal\" if x == y else (\"unique shorter\" if x < y else \"unique longer\")\n",
    "comp_len(len(unique_faa), len(airports0))\n",
    "#with the lamda function we can see that the len of airports0 and\n",
    "#unique_faa is the same which makes sense because all airports have\n",
    "#a unique 3 character abreviation"
   ]
  },
  {
   "cell_type": "code",
   "execution_count": 6,
   "metadata": {
    "deletable": false,
    "editable": false,
    "nbgrader": {
     "cell_type": "code",
     "checksum": "54281b3ddf22b0189eb2bfffe38628bf",
     "grade": true,
     "grade_id": "cell-94b9ab88f8392b60",
     "locked": true,
     "points": 2,
     "schema_version": 3,
     "solution": false,
     "task": false
    }
   },
   "outputs": [],
   "source": [
    "# Testing cell\n",
    "\n",
    "assert list(faas.head()) == ['04G', '06A', '06C', '06N', '09J']\n",
    "assert list(unique_faa[:5]) == ['04G', '06A', '06C', '06N', '09J']"
   ]
  },
  {
   "cell_type": "markdown",
   "metadata": {},
   "source": [
    "**Q3** Repeat construction of a data frame from `\"airports.csv\"`, but **at construction time** use the `faa` column to be the index.  Assign to `airports`.  Print the first five rows."
   ]
  },
  {
   "cell_type": "code",
   "execution_count": 7,
   "metadata": {
    "deletable": false,
    "nbgrader": {
     "cell_type": "code",
     "checksum": "bd3e982557346ec5daa35aea8e165707",
     "grade": false,
     "grade_id": "cell-934c90bcbdf0eeb2",
     "locked": false,
     "schema_version": 3,
     "solution": true,
     "task": false
    }
   },
   "outputs": [
    {
     "name": "stdout",
     "output_type": "stream",
     "text": [
      "                              name        lat        lon   alt  tz dst  \\\n",
      "faa                                                                      \n",
      "04G              Lansdowne Airport  41.130472 -80.619583  1044  -5   A   \n",
      "06A  Moton Field Municipal Airport  32.460572 -85.680028   264  -6   A   \n",
      "06C            Schaumburg Regional  41.989341 -88.101243   801  -6   A   \n",
      "06N                Randall Airport  41.431912 -74.391561   523  -5   A   \n",
      "09J          Jekyll Island Airport  31.074472 -81.427778    11  -5   A   \n",
      "\n",
      "                tzone  \n",
      "faa                    \n",
      "04G  America/New_York  \n",
      "06A   America/Chicago  \n",
      "06C   America/Chicago  \n",
      "06N  America/New_York  \n",
      "09J  America/New_York  \n",
      "\n"
     ]
    }
   ],
   "source": [
    "result = io.StringIO()\n",
    "with redirect_stdout(result):\n",
    "    airports = pd.read_csv(airports_path, index_col=['faa'])\n",
    "    print(airports.head())\n",
    "print(result.getvalue())"
   ]
  },
  {
   "cell_type": "code",
   "execution_count": 8,
   "metadata": {
    "deletable": false,
    "editable": false,
    "nbgrader": {
     "cell_type": "code",
     "checksum": "a1dc4c997159ffc4722e0b6ecd1bbf80",
     "grade": true,
     "grade_id": "cell-abe381c5892e29e7",
     "locked": true,
     "points": 1,
     "schema_version": 3,
     "solution": false,
     "task": false
    }
   },
   "outputs": [],
   "source": [
    "# Testing cell\n",
    "\n",
    "assert len(airports) == 1458\n",
    "assert result.getvalue() == '                              name        lat        lon   alt  tz dst  \\\\\\nfaa                                                                      \\n04G              Lansdowne Airport  41.130472 -80.619583  1044  -5   A   \\n06A  Moton Field Municipal Airport  32.460572 -85.680028   264  -6   A   \\n06C            Schaumburg Regional  41.989341 -88.101243   801  -6   A   \\n06N                Randall Airport  41.431912 -74.391561   523  -5   A   \\n09J          Jekyll Island Airport  31.074472 -81.427778    11  -5   A   \\n\\n                tzone  \\nfaa                    \\n04G  America/New_York  \\n06A   America/Chicago  \\n06C   America/Chicago  \\n06N  America/New_York  \\n09J  America/New_York  \\n'"
   ]
  },
  {
   "cell_type": "markdown",
   "metadata": {},
   "source": [
    "**Q4** Project the three locational columns of `lat`, `lon`, and `alt` (with all rows), making a separate **copy** of the result, and assigning to `locations`.  "
   ]
  },
  {
   "cell_type": "code",
   "execution_count": 9,
   "metadata": {
    "deletable": false,
    "nbgrader": {
     "cell_type": "code",
     "checksum": "38d9b0e78f2ab4db094ed1beb5541117",
     "grade": false,
     "grade_id": "cell-07202a7c4d0e76fc",
     "locked": false,
     "schema_version": 3,
     "solution": true,
     "task": false
    }
   },
   "outputs": [
    {
     "name": "stdout",
     "output_type": "stream",
     "text": [
      "            lat         lon   alt\n",
      "0     41.130472  -80.619583  1044\n",
      "1     32.460572  -85.680028   264\n",
      "2     41.989341  -88.101243   801\n",
      "3     41.431912  -74.391561   523\n",
      "4     31.074472  -81.427778    11\n",
      "...         ...         ...   ...\n",
      "1453  35.083228 -108.791778  6454\n",
      "1454  41.298669  -72.925992     7\n",
      "1455  39.736667  -75.551667     0\n",
      "1456  38.897460  -77.006430    76\n",
      "1457  40.750500  -73.993500    35\n",
      "\n",
      "[1458 rows x 3 columns]\n"
     ]
    }
   ],
   "source": [
    "locations = airports0[['lat','lon','alt']].copy()\n",
    "print(locations)"
   ]
  },
  {
   "cell_type": "code",
   "execution_count": 10,
   "metadata": {
    "deletable": false,
    "editable": false,
    "nbgrader": {
     "cell_type": "code",
     "checksum": "8974b3104d1aecd484962d7396232c8b",
     "grade": true,
     "grade_id": "cell-1e9b334083002d93",
     "locked": true,
     "points": 1,
     "schema_version": 3,
     "solution": false,
     "task": false
    }
   },
   "outputs": [],
   "source": [
    "# Testing cell\n",
    "\n",
    "assert locations.shape == (1458, 3)\n",
    "assert list(locations.columns) == ['lat', 'lon', 'alt']"
   ]
  },
  {
   "cell_type": "markdown",
   "metadata": {},
   "source": [
    "**Q5** From `airports`, select the contiguous set of rows from the airport `CMH` up to and including the airport `COD`.  Make a seprate copy of the result, and assign to `airport_subset`.  Print the result."
   ]
  },
  {
   "cell_type": "code",
   "execution_count": 11,
   "metadata": {
    "deletable": false,
    "nbgrader": {
     "cell_type": "code",
     "checksum": "92130cb21c8f0f71682ec3027ab0b65c",
     "grade": false,
     "grade_id": "cell-7717afd009e3d46f",
     "locked": false,
     "schema_version": 3,
     "solution": true,
     "task": false
    }
   },
   "outputs": [
    {
     "name": "stdout",
     "output_type": "stream",
     "text": [
      "                                 name        lat         lon   alt  tz dst  \\\n",
      "faa                                                                          \n",
      "CMH                Port Columbus Intl  39.997972  -82.891889   815  -5   A   \n",
      "CMI                         Champaign  40.039250  -88.278056   754  -6   A   \n",
      "CMX  Houghton County Memorial Airport  47.168400  -88.489100  1095  -5   A   \n",
      "CNM          Cavern City Air Terminal  32.337472 -104.263278  3295  -7   A   \n",
      "CNW                         Tstc Waco  31.637831  -97.074139   470  -6   A   \n",
      "CNY                 Canyonlands Field  38.755000 -109.754722  4555  -7   A   \n",
      "COD                  Yellowstone Rgnl  44.520194 -109.023806  5102  -7   A   \n",
      "\n",
      "                tzone  \n",
      "faa                    \n",
      "CMH  America/New_York  \n",
      "CMI   America/Chicago  \n",
      "CMX  America/New_York  \n",
      "CNM    America/Denver  \n",
      "CNW   America/Chicago  \n",
      "CNY    America/Denver  \n",
      "COD    America/Denver  \n",
      "\n"
     ]
    }
   ],
   "source": [
    "result = io.StringIO()\n",
    "with redirect_stdout(result):\n",
    "    airport_subset = airports['CMH':'COD'].copy()\n",
    "    print(airport_subset)\n",
    "print(result.getvalue())"
   ]
  },
  {
   "cell_type": "code",
   "execution_count": 12,
   "metadata": {
    "deletable": false,
    "editable": false,
    "nbgrader": {
     "cell_type": "code",
     "checksum": "d2e9cdb9787d634101a7efe07b07a2b5",
     "grade": true,
     "grade_id": "cell-c7e1c36b02a66089",
     "locked": true,
     "points": 1,
     "schema_version": 3,
     "solution": false,
     "task": false
    }
   },
   "outputs": [],
   "source": [
    "# Testing cell\n",
    "\n",
    "assert airport_subset.shape == (7, 7)\n",
    "assert result.getvalue() == '                                 name        lat         lon   alt  tz dst  \\\\\\nfaa                                                                          \\nCMH                Port Columbus Intl  39.997972  -82.891889   815  -5   A   \\nCMI                         Champaign  40.039250  -88.278056   754  -6   A   \\nCMX  Houghton County Memorial Airport  47.168400  -88.489100  1095  -5   A   \\nCNM          Cavern City Air Terminal  32.337472 -104.263278  3295  -7   A   \\nCNW                         Tstc Waco  31.637831  -97.074139   470  -6   A   \\nCNY                 Canyonlands Field  38.755000 -109.754722  4555  -7   A   \\nCOD                  Yellowstone Rgnl  44.520194 -109.023806  5102  -7   A   \\n\\n                tzone  \\nfaa                    \\nCMH  America/New_York  \\nCMI   America/Chicago  \\nCMX  America/New_York  \\nCNM    America/Denver  \\nCNW   America/Chicago  \\nCNY    America/Denver  \\nCOD    America/Denver  \\n'"
   ]
  },
  {
   "cell_type": "markdown",
   "metadata": {},
   "source": [
    "**Q6** Create a dataframe for `\"planes.csv\"`, assigning to `planes0`.  Then create `planes` by starting from `planes0` and explicitly setting an index that corresponds to the tail number for the plane."
   ]
  },
  {
   "cell_type": "code",
   "execution_count": 13,
   "metadata": {
    "deletable": false,
    "nbgrader": {
     "cell_type": "code",
     "checksum": "76650e76a4536e5d15d362b5c9150b2c",
     "grade": false,
     "grade_id": "cell-4bdcf462a863d79b",
     "locked": false,
     "schema_version": 3,
     "solution": true,
     "task": false
    }
   },
   "outputs": [
    {
     "name": "stdout",
     "output_type": "stream",
     "text": [
      "  tailnum    year                     type      manufacturer      model  \\\n",
      "0  N10156  2004.0  Fixed wing multi engine           EMBRAER  EMB-145XR   \n",
      "1  N102UW  1998.0  Fixed wing multi engine  AIRBUS INDUSTRIE   A320-214   \n",
      "2  N103US  1999.0  Fixed wing multi engine  AIRBUS INDUSTRIE   A320-214   \n",
      "3  N104UW  1999.0  Fixed wing multi engine  AIRBUS INDUSTRIE   A320-214   \n",
      "4  N10575  2002.0  Fixed wing multi engine           EMBRAER  EMB-145LR   \n",
      "\n",
      "   engines  seats  speed     engine  \n",
      "0        2     55    NaN  Turbo-fan  \n",
      "1        2    182    NaN  Turbo-fan  \n",
      "2        2    182    NaN  Turbo-fan  \n",
      "3        2    182    NaN  Turbo-fan  \n",
      "4        2     55    NaN  Turbo-fan  \n",
      "           year                     type      manufacturer      model  \\\n",
      "tailnum                                                                 \n",
      "N10156   2004.0  Fixed wing multi engine           EMBRAER  EMB-145XR   \n",
      "N102UW   1998.0  Fixed wing multi engine  AIRBUS INDUSTRIE   A320-214   \n",
      "N103US   1999.0  Fixed wing multi engine  AIRBUS INDUSTRIE   A320-214   \n",
      "N104UW   1999.0  Fixed wing multi engine  AIRBUS INDUSTRIE   A320-214   \n",
      "N10575   2002.0  Fixed wing multi engine           EMBRAER  EMB-145LR   \n",
      "\n",
      "         engines  seats  speed     engine  \n",
      "tailnum                                    \n",
      "N10156         2     55    NaN  Turbo-fan  \n",
      "N102UW         2    182    NaN  Turbo-fan  \n",
      "N103US         2    182    NaN  Turbo-fan  \n",
      "N104UW         2    182    NaN  Turbo-fan  \n",
      "N10575         2     55    NaN  Turbo-fan  \n"
     ]
    }
   ],
   "source": [
    "planes0 = pd.read_csv(os.path.join(datadir, 'planes.csv'))\n",
    "planes = planes0.set_index('tailnum')\n",
    "print(planes0.head())\n",
    "print(planes.head())"
   ]
  },
  {
   "cell_type": "code",
   "execution_count": 14,
   "metadata": {
    "deletable": false,
    "editable": false,
    "nbgrader": {
     "cell_type": "code",
     "checksum": "95140fc4801819d1ffbd9c7ec5488c32",
     "grade": true,
     "grade_id": "cell-bf3239c2512e7d61",
     "locked": true,
     "points": 2,
     "schema_version": 3,
     "solution": false,
     "task": false
    }
   },
   "outputs": [],
   "source": [
    "# Testing cell\n",
    "\n",
    "assert planes0.shape == (3322, 9)\n",
    "assert planes.shape == (3322, 8)"
   ]
  },
  {
   "cell_type": "markdown",
   "metadata": {},
   "source": [
    "**Q7** Determine which columns of `planes` have missing data, showing your code along with a comment in the code cell answering: for each many rows are missing?"
   ]
  },
  {
   "cell_type": "code",
   "execution_count": 27,
   "metadata": {
    "deletable": false,
    "nbgrader": {
     "cell_type": "code",
     "checksum": "b2d58ea751d1dc3fc88713f16bfc679a",
     "grade": true,
     "grade_id": "cell-6c0983cb1299b90e",
     "locked": false,
     "points": 2,
     "schema_version": 3,
     "solution": true,
     "task": false
    }
   },
   "outputs": [
    {
     "name": "stdout",
     "output_type": "stream",
     "text": [
      "{'year': 70, 'type': 0, 'manufacturer': 0, 'model': 0, 'engines': 0, 'seats': 0, 'speed': 3299, 'engine': 0}\n"
     ]
    }
   ],
   "source": [
    "D = {}\n",
    "for collabel, colseries in planes.iteritems():\n",
    "    D[collabel] = len((planes[planes[collabel].isna() == True]))\n",
    "print(D)\n",
    "#for year there are 70 missing and for speed there are 3299 missing\n",
    "#none missing for the rest"
   ]
  },
  {
   "cell_type": "markdown",
   "metadata": {},
   "source": [
    "**Q8** The `isna()` method is one that can be used on a Series column vector, and results in a Boolean Series whose value is `True` if the value for an entry is missing.  Use this method to obtain a data frame consisting of the selection of rows that have missing data for the `year` column.  Assign to `planes_missing_year`.  Print the first five rows of this dataframe."
   ]
  },
  {
   "cell_type": "code",
   "execution_count": 16,
   "metadata": {
    "deletable": false,
    "nbgrader": {
     "cell_type": "code",
     "checksum": "c0d0e73a7394def846fdcc19df1d1add",
     "grade": false,
     "grade_id": "cell-e04be9f441ea2956",
     "locked": false,
     "schema_version": 3,
     "solution": true,
     "task": false
    }
   },
   "outputs": [
    {
     "name": "stdout",
     "output_type": "stream",
     "text": [
      "         year                     type      manufacturer      model  engines  \\\n",
      "tailnum                                                                        \n",
      "N14558    NaN  Fixed wing multi engine           EMBRAER  EMB-145LR        2   \n",
      "N15555    NaN  Fixed wing multi engine           EMBRAER  EMB-145LR        2   \n",
      "N15574    NaN  Fixed wing multi engine           EMBRAER  EMB-145LR        2   \n",
      "N174US    NaN  Fixed wing multi engine  AIRBUS INDUSTRIE   A321-211        2   \n",
      "N177US    NaN  Fixed wing multi engine  AIRBUS INDUSTRIE   A321-211        2   \n",
      "\n",
      "         seats  speed     engine  \n",
      "tailnum                           \n",
      "N14558      55    NaN  Turbo-fan  \n",
      "N15555      55    NaN  Turbo-fan  \n",
      "N15574      55    NaN  Turbo-fan  \n",
      "N174US     199    NaN  Turbo-jet  \n",
      "N177US     199    NaN  Turbo-jet  \n",
      "\n"
     ]
    }
   ],
   "source": [
    "result = io.StringIO()\n",
    "with redirect_stdout(result):\n",
    "    planes_missing_year = planes[planes['year'].isna() == True]\n",
    "    print(planes_missing_year.head())\n",
    "print(result.getvalue())"
   ]
  },
  {
   "cell_type": "code",
   "execution_count": 17,
   "metadata": {
    "deletable": false,
    "editable": false,
    "nbgrader": {
     "cell_type": "code",
     "checksum": "3dc44a86cae6893b024d788ac2bf19af",
     "grade": true,
     "grade_id": "cell-453a116a79be98e8",
     "locked": true,
     "points": 1,
     "schema_version": 3,
     "solution": false,
     "task": false
    }
   },
   "outputs": [],
   "source": [
    "# Testing cell\n",
    "\n",
    "assert planes_missing_year.shape == (70, 8)\n",
    "assert result.getvalue() == '         year                     type      manufacturer      model  engines  \\\\\\ntailnum                                                                        \\nN14558    NaN  Fixed wing multi engine           EMBRAER  EMB-145LR        2   \\nN15555    NaN  Fixed wing multi engine           EMBRAER  EMB-145LR        2   \\nN15574    NaN  Fixed wing multi engine           EMBRAER  EMB-145LR        2   \\nN174US    NaN  Fixed wing multi engine  AIRBUS INDUSTRIE   A321-211        2   \\nN177US    NaN  Fixed wing multi engine  AIRBUS INDUSTRIE   A321-211        2   \\n\\n         seats  speed     engine  \\ntailnum                           \\nN14558      55    NaN  Turbo-fan  \\nN15555      55    NaN  Turbo-fan  \\nN15574      55    NaN  Turbo-fan  \\nN174US     199    NaN  Turbo-jet  \\nN177US     199    NaN  Turbo-jet  \\n'"
   ]
  },
  {
   "cell_type": "markdown",
   "metadata": {},
   "source": [
    "**Q9** Find the unique values for the `type` field in `planes`.  Assign to `unique_plane_type` and print this."
   ]
  },
  {
   "cell_type": "code",
   "execution_count": 18,
   "metadata": {
    "deletable": false,
    "nbgrader": {
     "cell_type": "code",
     "checksum": "33dc6520023f5ba9b550ec546278db8f",
     "grade": false,
     "grade_id": "cell-4f07177538a63a5f",
     "locked": false,
     "schema_version": 3,
     "solution": true,
     "task": false
    }
   },
   "outputs": [
    {
     "name": "stdout",
     "output_type": "stream",
     "text": [
      "['Fixed wing multi engine' 'Fixed wing single engine' 'Rotorcraft']\n",
      "\n"
     ]
    }
   ],
   "source": [
    "result = io.StringIO()\n",
    "with redirect_stdout(result):\n",
    "    unique_plane_type = planes['type'].unique()\n",
    "    print(unique_plane_type)\n",
    "print(result.getvalue())"
   ]
  },
  {
   "cell_type": "code",
   "execution_count": 19,
   "metadata": {
    "deletable": false,
    "editable": false,
    "nbgrader": {
     "cell_type": "code",
     "checksum": "536d0fb36ddccf4b71e142d9e71bd218",
     "grade": true,
     "grade_id": "cell-cd2d7232c9d6b767",
     "locked": true,
     "points": 1,
     "schema_version": 3,
     "solution": false,
     "task": false
    }
   },
   "outputs": [],
   "source": [
    "# Testing cell\n",
    "\n",
    "assert len(unique_plane_type == 3)\n",
    "assert result.getvalue() == \"['Fixed wing multi engine' 'Fixed wing single engine' 'Rotorcraft']\\n\""
   ]
  },
  {
   "cell_type": "markdown",
   "metadata": {},
   "source": [
    "**Q10** Find the subset of rows from `planes` where type is `\"Rotorcraft\"` and project the columns of manufacturer, model, engines, seats, and engine.  Use a single expression to perform **both** projection and selection.  Assign to `rotors` and print the result."
   ]
  },
  {
   "cell_type": "code",
   "execution_count": 20,
   "metadata": {
    "deletable": false,
    "nbgrader": {
     "cell_type": "code",
     "checksum": "deeec7678f05d6937b47a435bb753134",
     "grade": false,
     "grade_id": "cell-8f9017991e1b7d98",
     "locked": false,
     "schema_version": 3,
     "solution": true,
     "task": false
    }
   },
   "outputs": [
    {
     "name": "stdout",
     "output_type": "stream",
     "text": [
      "                   manufacturer  model  engines  seats\n",
      "tailnum                                               \n",
      "N347AA                 SIKORSKY  S-76A        2     14\n",
      "N365AA               AGUSTA SPA  A109E        2      8\n",
      "N393AA                     BELL    230        2     11\n",
      "N508AA                     BELL   206B        1      5\n",
      "N537JB   ROBINSON HELICOPTER CO    R66        1      5\n",
      "\n"
     ]
    }
   ],
   "source": [
    "result = io.StringIO()\n",
    "with redirect_stdout(result):\n",
    "    rotors = planes.loc[planes[\"type\"]==\"Rotorcraft\",[\"manufacturer\", \"model\", \"engines\", \"seats\"]]\n",
    "    print(rotors)\n",
    "print(result.getvalue())"
   ]
  },
  {
   "cell_type": "code",
   "execution_count": 21,
   "metadata": {
    "deletable": false,
    "editable": false,
    "nbgrader": {
     "cell_type": "code",
     "checksum": "5db00956504f3a9d3f70cab5bbfa7c4b",
     "grade": true,
     "grade_id": "cell-460523bfea3476cb",
     "locked": true,
     "points": 2,
     "schema_version": 3,
     "solution": false,
     "task": false
    }
   },
   "outputs": [],
   "source": [
    "# Testing cell\n",
    "\n",
    "assert rotors.shape == (5, 4)\n",
    "assert result.getvalue() == '                   manufacturer  model  engines  seats\\ntailnum                                               \\nN347AA                 SIKORSKY  S-76A        2     14\\nN365AA               AGUSTA SPA  A109E        2      8\\nN393AA                     BELL    230        2     11\\nN508AA                     BELL   206B        1      5\\nN537JB   ROBINSON HELICOPTER CO    R66        1      5\\n'"
   ]
  },
  {
   "cell_type": "markdown",
   "metadata": {},
   "source": [
    "**Q11** When a value is **missing** in a field in a `pandas` dataframe, the entry is either an integer or float data type with a value that does not correspond to any \"valid\" value.  It is displayed as `NaN`, which is an acronym for \"Not A Number\".  Our goal in the next two questions is to process the `tzone` column from the `airports` table, and extract the \"city\" portion of the time zone.  However, some of the values in that column are missing, so we have to write code that can adapt and do something reasonable in such a case.\n",
    "\n",
    "Start by defining a `lambda` function of one argument, `v`, that, if the argument is a string data type (i.e, `isinstance(v, str)`, it splits the argument on the `/` character and returns the **second** field.  If, however, the argument is not a string, the lambda yields `numpy.nan`.  Assign this lambda to `tz_city`."
   ]
  },
  {
   "cell_type": "code",
   "execution_count": 22,
   "metadata": {
    "deletable": false,
    "nbgrader": {
     "cell_type": "code",
     "checksum": "05affb23479ed2051e2d5ebc5dece8bc",
     "grade": false,
     "grade_id": "cell-364ecce28042b204",
     "locked": false,
     "schema_version": 3,
     "solution": true,
     "task": false
    }
   },
   "outputs": [],
   "source": [
    "tz_city = lambda v: v.split(\"/\")[1] if (isinstance(v,str)) else numpy.nan"
   ]
  },
  {
   "cell_type": "code",
   "execution_count": 23,
   "metadata": {
    "deletable": false,
    "editable": false,
    "nbgrader": {
     "cell_type": "code",
     "checksum": "ac727e140bc232c8411b08edad5fa4a3",
     "grade": true,
     "grade_id": "cell-2d03ded727db8192",
     "locked": true,
     "points": 1,
     "schema_version": 3,
     "solution": false,
     "task": false
    }
   },
   "outputs": [],
   "source": [
    "# Testing cell\n",
    "\n",
    "assert numpy.isnan(tz_city(5))\n",
    "assert numpy.isnan(tz_city(2.5))\n",
    "assert tz_city('America/New York') == 'New York'"
   ]
  },
  {
   "cell_type": "markdown",
   "metadata": {},
   "source": [
    "**Q12** Create a Series that is a column vector whose values are the \"city\" portion of the `tzone` field for each of the rows of `airports`.  Do this by applying the unary function, `tz_city`, to the `tzone` column of `airports`.  Assign the result to `tz_cities`, and then print the result of converting the **unique** values from this vector to a list."
   ]
  },
  {
   "cell_type": "code",
   "execution_count": 24,
   "metadata": {
    "deletable": false,
    "nbgrader": {
     "cell_type": "code",
     "checksum": "e78c4ed7ff87dd0e0121d49711f7654a",
     "grade": false,
     "grade_id": "cell-441ed9259b509171",
     "locked": false,
     "schema_version": 3,
     "solution": true,
     "task": false
    }
   },
   "outputs": [
    {
     "name": "stdout",
     "output_type": "stream",
     "text": [
      "['New_York', 'Chicago', 'Los_Angeles', 'Vancouver', 'Phoenix', 'Anchorage', 'Denver', 'Honolulu', 'Chongqing', nan]\n",
      "\n"
     ]
    }
   ],
   "source": [
    "result = io.StringIO()\n",
    "with redirect_stdout(result):\n",
    "    tz_cities = pd.Series(dtype = 'object')\n",
    "    for rowlabel, rowseries in airports.iterrows():\n",
    "        if (airports.loc[rowlabel,\"tzone\"]!=numpy.nan):\n",
    "            city_name = tz_city(airports.loc[rowlabel, \"tzone\"])\n",
    "            city_series = pd.Series(city_name)\n",
    "            #print(city_series)\n",
    "            tz_cities = tz_cities.append(city_series, ignore_index = True)\n",
    "        else:\n",
    "            tz_cities = tz_cities.append(pd.Series(numpy.nan))\n",
    "    \n",
    "    uniqueList = []\n",
    "    for i in range(len(tz_cities.unique())):\n",
    "        uniqueList.append(tz_cities.unique()[i])\n",
    "    print(uniqueList)\n",
    "print(result.getvalue())"
   ]
  },
  {
   "cell_type": "code",
   "execution_count": 25,
   "metadata": {
    "deletable": false,
    "editable": false,
    "nbgrader": {
     "cell_type": "code",
     "checksum": "006bf47d2d6c2c17bee4986f60d1e77d",
     "grade": true,
     "grade_id": "cell-f0af3df67413c0f3",
     "locked": true,
     "points": 2,
     "schema_version": 3,
     "solution": false,
     "task": false
    }
   },
   "outputs": [],
   "source": [
    "# Testing cell\n",
    "\n",
    "assert result.getvalue() == \"['New_York', 'Chicago', 'Los_Angeles', 'Vancouver', 'Phoenix', 'Anchorage', 'Denver', 'Honolulu', 'Chongqing', nan]\\n\""
   ]
  },
  {
   "cell_type": "code",
   "execution_count": null,
   "metadata": {},
   "outputs": [],
   "source": []
  },
  {
   "cell_type": "code",
   "execution_count": null,
   "metadata": {},
   "outputs": [],
   "source": []
  }
 ],
 "metadata": {
  "kernelspec": {
   "display_name": "Python 3",
   "language": "python",
   "name": "python3"
  },
  "language_info": {
   "codemirror_mode": {
    "name": "ipython",
    "version": 3
   },
   "file_extension": ".py",
   "mimetype": "text/x-python",
   "name": "python",
   "nbconvert_exporter": "python",
   "pygments_lexer": "ipython3",
   "version": "3.8.5"
  }
 },
 "nbformat": 4,
 "nbformat_minor": 5
}
