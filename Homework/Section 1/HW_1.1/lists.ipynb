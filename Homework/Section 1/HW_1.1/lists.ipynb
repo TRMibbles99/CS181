{
 "cells": [
  {
   "cell_type": "markdown",
   "metadata": {},
   "source": [
    "# Denison CS181/DA210"
   ]
  },
  {
   "cell_type": "markdown",
   "metadata": {},
   "source": [
    "---"
   ]
  },
  {
   "cell_type": "markdown",
   "metadata": {},
   "source": [
    "## List Review Exercises\n",
    "\n",
    "Execute the prolog cell, and then complete the following exercises reviewing working with lists.\n",
    "\n",
    "Note that **all functions that you submit must have docstrings**.  Points will be deducted for missing docstrings."
   ]
  },
  {
   "cell_type": "code",
   "execution_count": 1,
   "metadata": {},
   "outputs": [],
   "source": [
    "import os\n",
    "import io\n",
    "import sys\n",
    "from contextlib import redirect_stdout\n",
    "from IPython.core.debugger import set_trace\n",
    "\n",
    "def add_modules():\n",
    "    \"\"\"\n",
    "    Starting at the current directory and proceeding up the file system\n",
    "    tree, search for a directory named `modules`.  If found, and if not\n",
    "    already there, add to the Python module search path.\n",
    "    \n",
    "    Params: None\n",
    "    \n",
    "    Return: None\n",
    "    \"\"\"\n",
    "    directory = \".\"\n",
    "    levels = 0\n",
    "    while not os.path.isdir(os.path.join(directory, \"modules\")) and \\\n",
    "          levels < 5:\n",
    "        directory = os.path.join(directory, \"..\")\n",
    "        levels += 1\n",
    "    module_path = os.path.abspath(os.path.join(directory, \"modules\"))\n",
    "    if os.path.isdir(module_path):\n",
    "        if not module_path in sys.path:\n",
    "            sys.path.append(module_path)\n",
    "\n",
    "add_modules()\n",
    "import util\n",
    "\n",
    "datadir = util.resolve_dir(\"otherdata\")"
   ]
  },
  {
   "cell_type": "markdown",
   "metadata": {},
   "source": [
    "**Q1** Incorporating a `range()` function expression, create a list of the even integers less than or equal to 14 and greater than 0, in descending order, assigning to `L1`.  Make sure the list is fully generated to integer elements, and thus `L1` is a real list and not a reference to a `range` object."
   ]
  },
  {
   "cell_type": "code",
   "execution_count": 8,
   "metadata": {
    "deletable": false,
    "nbgrader": {
     "cell_type": "code",
     "checksum": "bb32308da5cf5e6326b5690706036533",
     "grade": false,
     "grade_id": "cell-4e65eeb626916cf0",
     "locked": false,
     "schema_version": 3,
     "solution": true,
     "task": false
    }
   },
   "outputs": [
    {
     "name": "stdout",
     "output_type": "stream",
     "text": [
      "[14, 12, 10, 8, 6, 4, 2]\n"
     ]
    }
   ],
   "source": [
    "# Solution cell\n",
    "\n",
    "L1 = []\n",
    "i = 14\n",
    "while i > 0:\n",
    "    L1.append(i)\n",
    "    i = i - 2"
   ]
  },
  {
   "cell_type": "code",
   "execution_count": 9,
   "metadata": {
    "deletable": false,
    "editable": false,
    "nbgrader": {
     "cell_type": "code",
     "checksum": "517c4c256cd7593feb1ad3535c0cead9",
     "grade": true,
     "grade_id": "cell-241c20fdf54b9430",
     "locked": true,
     "points": 1,
     "schema_version": 3,
     "solution": false,
     "task": false
    }
   },
   "outputs": [],
   "source": [
    "assert len(L1) == 7\n",
    "for element in L1:\n",
    "    assert isinstance(element, int)\n",
    "assert L1[0] == 14\n",
    "assert L1[len(L1)-1] == 2"
   ]
  },
  {
   "cell_type": "markdown",
   "metadata": {},
   "source": [
    "**Q2** Construct a seven element list referred to by `L2` whose elements are all real-valued numbers of your choosing.  Then construct list `L3` whose values are, by index position, the value of each element from `L2` divided by the corresponding element from `L1`."
   ]
  },
  {
   "cell_type": "code",
   "execution_count": 13,
   "metadata": {
    "deletable": false,
    "nbgrader": {
     "cell_type": "code",
     "checksum": "a441f41ef10e51c043f56f8813c3c08d",
     "grade": false,
     "grade_id": "cell-50159efdc835e09c",
     "locked": false,
     "schema_version": 3,
     "solution": true,
     "task": false
    }
   },
   "outputs": [
    {
     "name": "stdout",
     "output_type": "stream",
     "text": [
      "[2.0, 5.5, 6.4, 4.2, 3.6, 2.2, 1.0]\n",
      "[0.14285714285714285, 0.4583333333333333, 0.64, 0.525, 0.6, 0.55, 0.5]\n"
     ]
    }
   ],
   "source": [
    "# Solution cell\n",
    "\n",
    "L2 = [2.0,5.5,6.4,4.2,3.6,2.2,1.0]\n",
    "L3 = []\n",
    "k=0\n",
    "for k in range(7):\n",
    "        L3.append(L2[k]/L1[k])\n",
    "print(L2)\n",
    "print(L3)"
   ]
  },
  {
   "cell_type": "code",
   "execution_count": 14,
   "metadata": {
    "deletable": false,
    "editable": false,
    "nbgrader": {
     "cell_type": "code",
     "checksum": "2524f143a663ffc6228250a077fa76b0",
     "grade": true,
     "grade_id": "cell-ecd6277a7553b198",
     "locked": true,
     "points": 1,
     "schema_version": 3,
     "solution": false,
     "task": false
    }
   },
   "outputs": [],
   "source": [
    "# Testing cell\n",
    "assert len(L2) == 7\n",
    "assert len(L3) == 7\n",
    "for element in L2:\n",
    "    assert isinstance(element, float)\n",
    "    \n",
    "# In the instructor's version, there follow hidden tests\n",
    "# to validate that the values in L3 match the specification\n"
   ]
  },
  {
   "cell_type": "markdown",
   "metadata": {},
   "source": [
    "**Execute the following cell prior to answering the questions in this section.**"
   ]
  },
  {
   "cell_type": "code",
   "execution_count": 15,
   "metadata": {},
   "outputs": [],
   "source": [
    "import random \n",
    "random.seed(19610218)\n",
    "\n",
    "L1 = [random.randint(-20,20) for sample in range(15)]\n",
    "L2 = [random.randint(-20,20) for sample in range(15)]"
   ]
  },
  {
   "cell_type": "markdown",
   "metadata": {},
   "source": [
    "**Q3** Perform the following assignments accessing the specified elements of `L1` and `L2`:\n",
    "\n",
    "- Assign to `v1` the value of the third element in list `L1`.\n",
    "- Assign to `v2` the value of the second to last element of list `L2`.\n",
    "- Assign to `S1` the sublist from the beginning of `L2` up to index 5 (inclusive).\n",
    "- Assign to `S2` the sublist from the fourth from the end of `L1` up to (but not including) the last element in that list.\n",
    "- Assign to `S3` the sublist from the fifth element up to the end of `L2`, selecting every third element."
   ]
  },
  {
   "cell_type": "code",
   "execution_count": 25,
   "metadata": {
    "deletable": false,
    "nbgrader": {
     "cell_type": "code",
     "checksum": "74a8a10f397f393bd449417d0991ae96",
     "grade": false,
     "grade_id": "cell-9c7b3ca62d1969f6",
     "locked": false,
     "schema_version": 3,
     "solution": true,
     "task": false
    }
   },
   "outputs": [
    {
     "name": "stdout",
     "output_type": "stream",
     "text": [
      "L1: [-1, 4, -17, 8, -2, 15, -18, -5, -4, 16, 3, -9, -17, 3, -14]\n",
      "L2: [12, 20, -8, 2, -10, 1, 14, 2, 5, 14, 11, 18, 10, 2, 13]\n",
      "v1: -17 v2: 2\n",
      "S1: [12, 20, -8, 2, -10, 1]\n",
      "S2: [-9, -17, 3]\n",
      "S3: [-10, 2, 11, 2]\n"
     ]
    }
   ],
   "source": [
    "print('L1:', L1)\n",
    "print('L2:', L2)\n",
    "v1 = L1[2]\n",
    "v2 = L2[13]\n",
    "S1 = L2[0:6]\n",
    "S2 = L1[11:14]\n",
    "S3 = []\n",
    "for i in range(4,16,3):\n",
    "    S3.append(L2[i])\n",
    "print('v1:', v1, 'v2:', v2)\n",
    "print('S1:', S1)\n",
    "print('S2:', S2)\n",
    "print('S3:', S3)"
   ]
  },
  {
   "cell_type": "code",
   "execution_count": 26,
   "metadata": {
    "deletable": false,
    "editable": false,
    "nbgrader": {
     "cell_type": "code",
     "checksum": "729db6b19fa108d7bed318e71621c4e1",
     "grade": true,
     "grade_id": "cell-1e7b76a3fbb1f9cd",
     "locked": true,
     "points": 3,
     "schema_version": 3,
     "solution": false,
     "task": false
    }
   },
   "outputs": [],
   "source": [
    "assert v1 == -17\n",
    "assert v2 == 2\n",
    "assert S1 == [12, 20, -8, 2, -10, 1]\n",
    "assert S2 == [-9, -17, 3]\n",
    "assert S3 == [-10, 2, 11, 2]"
   ]
  },
  {
   "cell_type": "markdown",
   "metadata": {},
   "source": [
    "**Q4** Write a function\n",
    "\n",
    "    listDecrement(plist)\n",
    "    \n",
    "that modifies the list given by `plist` so that each value is one less than before.  This function should work **in place** and mutate the given list."
   ]
  },
  {
   "cell_type": "code",
   "execution_count": 33,
   "metadata": {
    "deletable": false,
    "nbgrader": {
     "cell_type": "code",
     "checksum": "42ddaaf9cc864d3d88108c127e188579",
     "grade": false,
     "grade_id": "cell-7908ddf6259e6de5",
     "locked": false,
     "schema_version": 3,
     "solution": true,
     "task": false
    }
   },
   "outputs": [],
   "source": [
    "def listDecrement(plist):\n",
    "    \"\"\"\n",
    "    This function takes a list and decreases each of the elements\n",
    "    by 1.\n",
    "    \n",
    "    Params: plist: the list you want to decrease each element by 1\n",
    "    \n",
    "    Return: None\n",
    "    \"\"\"\n",
    "    for i in range(len(plist)):\n",
    "        plist[i] = plist[i] - 1\n"
   ]
  },
  {
   "cell_type": "code",
   "execution_count": 34,
   "metadata": {
    "deletable": false,
    "editable": false,
    "nbgrader": {
     "cell_type": "code",
     "checksum": "40576243ca32fbc4115bbdd2371a7511",
     "grade": true,
     "grade_id": "cell-6170c362782138b3",
     "locked": true,
     "points": 2,
     "schema_version": 3,
     "solution": false,
     "task": false
    }
   },
   "outputs": [],
   "source": [
    "L1 = []\n",
    "listDecrement(L1)\n",
    "assert L1 == []\n",
    "\n",
    "funout = io.StringIO()\n",
    "with redirect_stdout(funout):\n",
    "    listDecrement([5,4,3,2,1])\n",
    "assert funout.getvalue() == \"\"\n",
    "\n",
    "L2 = [5,4,3,2,1]\n",
    "listDecrement(L2)\n",
    "assert L2 == [4,3,2,1,0]\n",
    "\n",
    "assert listDecrement([5]) == None"
   ]
  },
  {
   "cell_type": "markdown",
   "metadata": {},
   "source": [
    "**Q5** Write a function\n",
    "\n",
    "    listDecrease(plist, amount)\n",
    "    \n",
    "that creates and returns a new list where values are determined by subtracting `amount` from each numeric value in `plist`.  **If an element in `plist` is neither an integer (int) nor a real-valued number (float), the element should be skipped over.**  So this function is an example of both accumulation and filtering list patterns.\n",
    "\n",
    "You may want to look up the function `isinstance` to find out how to determine if a variable is the same (or a subclass) of a specific type.  The `isinstance()` function is often used in homework testing cells."
   ]
  },
  {
   "cell_type": "code",
   "execution_count": 43,
   "metadata": {
    "deletable": false,
    "nbgrader": {
     "cell_type": "code",
     "checksum": "810b57dcf5a384e39dd8e0730aa2a8b1",
     "grade": false,
     "grade_id": "cell-ca43062d63ddb6e1",
     "locked": false,
     "schema_version": 3,
     "solution": true,
     "task": false
    }
   },
   "outputs": [],
   "source": [
    "def listDecrease(plist, amount):\n",
    "    \"\"\"\n",
    "    This function creates a new list using another list and decreasing\n",
    "    its values by a given amount. It will do the integers and the floats \n",
    "    of the list but will skip over any other data type.\n",
    "    \n",
    "    Params: plist: the list you want to decrease the values of.\n",
    "            amount: the amount you want to decrease the lists values of.\n",
    "    \n",
    "    Return: newList: the new decreased list\n",
    "    \"\"\"\n",
    "    newList = []\n",
    "    for i in range(len(plist)):\n",
    "        if isinstance(plist[i], float) or isinstance(plist[i], int):\n",
    "            newList.append(plist[i] - amount)\n",
    "    return newList"
   ]
  },
  {
   "cell_type": "code",
   "execution_count": 44,
   "metadata": {
    "deletable": false,
    "editable": false,
    "nbgrader": {
     "cell_type": "code",
     "checksum": "aa78a25fcff2be9e338a3d27637a14f8",
     "grade": true,
     "grade_id": "cell-941603e9308da167",
     "locked": true,
     "points": 2,
     "schema_version": 3,
     "solution": false,
     "task": false
    }
   },
   "outputs": [],
   "source": [
    "assert listDecrease([], 0) == []\n",
    "assert listDecrease([1], 1) == [0]\n",
    "assert listDecrease([5, 1, 3, 4, 2], 5) == [0, -4, -2, -1, -3]"
   ]
  },
  {
   "cell_type": "markdown",
   "metadata": {},
   "source": [
    "**Q6** Implement a function\n",
    "\n",
    "    mySearch(plist, key)\n",
    "    \n",
    "that searches `plist` for element instances that match `key`.  The function should **build a tuple** whose value contains the **set of indices** for where matches are found.  For instance, `mySearch([3, 5, 1, 5, 2], 5)` should return the tuple `(1, 3)`, while `mySearch([3, 5, 1, 5, 2], 4)` should return an empty tuple `()`."
   ]
  },
  {
   "cell_type": "code",
   "execution_count": 47,
   "metadata": {
    "deletable": false,
    "nbgrader": {
     "cell_type": "code",
     "checksum": "185a8668d0e7f33cf797e84a1655c97a",
     "grade": false,
     "grade_id": "cell-8e3ea24bd4b08307",
     "locked": false,
     "schema_version": 3,
     "solution": true,
     "task": false
    }
   },
   "outputs": [],
   "source": [
    "def mySearch(plist, key):\n",
    "    \"\"\"\n",
    "    This function searches an entire list for intergers that\n",
    "    match a key integer. Once if finds one it will add its index\n",
    "    to a tuple and continue searching. It will return tuple at\n",
    "    the end of its search.\n",
    "    \n",
    "    Params: plist: the list that is getting searched.\n",
    "            key: the integer that is being looked for.\n",
    "    \n",
    "    Return: indTup: the tuple with the indices of they keys in\n",
    "                    the list.\n",
    "    \"\"\"\n",
    "    indTup = () \n",
    "    for i in range(len(plist)):\n",
    "        if plist[i] == key:\n",
    "            indTup = indTup + (i,)\n",
    "    return indTup"
   ]
  },
  {
   "cell_type": "code",
   "execution_count": 48,
   "metadata": {
    "deletable": false,
    "editable": false,
    "nbgrader": {
     "cell_type": "code",
     "checksum": "4c626cbdc5fa4feb9c85766469adffc8",
     "grade": true,
     "grade_id": "cell-609c87bc561dff9d",
     "locked": true,
     "points": 2,
     "schema_version": 3,
     "solution": false,
     "task": false
    }
   },
   "outputs": [],
   "source": [
    "assert mySearch([], 0) == ()\n",
    "assert mySearch([3, 5, 1, 5, 2], 5) == (1, 3)\n",
    "assert mySearch([3, 5, 1, 5, 2], 4) == ()\n",
    "assert mySearch([3, 5, 1, 5, 2], 3) == (0,)\n",
    "assert mySearch([3, 5, 1, 5, 2], 2) == (4,)"
   ]
  },
  {
   "cell_type": "code",
   "execution_count": null,
   "metadata": {},
   "outputs": [],
   "source": []
  }
 ],
 "metadata": {
  "kernelspec": {
   "display_name": "Python 3",
   "language": "python",
   "name": "python3"
  },
  "language_info": {
   "codemirror_mode": {
    "name": "ipython",
    "version": 3
   },
   "file_extension": ".py",
   "mimetype": "text/x-python",
   "name": "python",
   "nbconvert_exporter": "python",
   "pygments_lexer": "ipython3",
   "version": "3.8.5"
  }
 },
 "nbformat": 4,
 "nbformat_minor": 4
}
