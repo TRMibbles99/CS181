{
 "cells": [
  {
   "cell_type": "markdown",
   "metadata": {},
   "source": [
    "# Denison CS181/DA210"
   ]
  },
  {
   "cell_type": "markdown",
   "metadata": {},
   "source": [
    "---"
   ]
  },
  {
   "cell_type": "markdown",
   "metadata": {},
   "source": [
    "## Filesystem Exercises\n",
    "\n",
    "Execute the prolog cell, and then complete the following exercises reviewing working with lists.\n",
    "\n",
    "Note that **all functions that you submit must have docstrings**.  Points will be deducted for missing docstrings."
   ]
  },
  {
   "cell_type": "code",
   "execution_count": 1,
   "metadata": {},
   "outputs": [],
   "source": [
    "import os\n",
    "import io\n",
    "import sys\n",
    "from contextlib import redirect_stdout\n",
    "from IPython.core.debugger import set_trace\n",
    "\n",
    "def add_modules():\n",
    "    \"\"\"\n",
    "    Starting at the current directory and proceeding up the file system\n",
    "    tree, search for a directory named `modules`.  If found, and if not\n",
    "    already there, add to the Python module search path.\n",
    "    \n",
    "    Params: None\n",
    "    \n",
    "    Return: None\n",
    "    \"\"\"\n",
    "    directory = \".\"\n",
    "    levels = 0\n",
    "    while not os.path.isdir(os.path.join(directory, \"modules\")) and \\\n",
    "          levels < 5:\n",
    "        directory = os.path.join(directory, \"..\")\n",
    "        levels += 1\n",
    "    module_path = os.path.abspath(os.path.join(directory, \"modules\"))\n",
    "    if os.path.isdir(module_path):\n",
    "        if not module_path in sys.path:\n",
    "            sys.path.append(module_path)\n",
    "\n",
    "add_modules()\n",
    "import util\n",
    "\n",
    "datadir = util.resolve_dir(\"otherdata\")"
   ]
  },
  {
   "cell_type": "markdown",
   "metadata": {},
   "source": [
    "**Q1** Write a function\n",
    "\n",
    "    parentDir()\n",
    "    \n",
    "that obtains the absolute path for the parent directory/folder relative to the execution directory of the current notebook.  While it is permissible to change the current working directory as part of your solution, upon completion of the function, the current working directory **must be** the same as it was before the function was called."
   ]
  },
  {
   "cell_type": "code",
   "execution_count": 20,
   "metadata": {
    "deletable": false,
    "nbgrader": {
     "cell_type": "code",
     "checksum": "a9937f1f1867755eb36dd023fb0f6b5a",
     "grade": false,
     "grade_id": "cell-af780bee653c4cef",
     "locked": false,
     "schema_version": 3,
     "solution": true,
     "task": false
    }
   },
   "outputs": [],
   "source": [
    "def parentDir():\n",
    "    \"\"\"\n",
    "    This function gets the directory that your current directory is in.\n",
    "    It will end in the directory the user started in after running.\n",
    "    \n",
    "    Params: None\n",
    "    \n",
    "    Return: The directory that your current directory is in.\n",
    "    \"\"\"\n",
    "    startDir = os.getcwd()\n",
    "    os.chdir(\"..\")\n",
    "    newDir = os.getcwd()\n",
    "    os.chdir(startDir)\n",
    "    return newDir\n",
    "    "
   ]
  },
  {
   "cell_type": "code",
   "execution_count": 21,
   "metadata": {
    "deletable": false,
    "editable": false,
    "nbgrader": {
     "cell_type": "code",
     "checksum": "1c71e03861da38339fc2080f87435902",
     "grade": true,
     "grade_id": "cell-58df57fbed4ae45f",
     "locked": true,
     "points": 2,
     "schema_version": 3,
     "solution": false,
     "task": false
    },
    "scrolled": true
   },
   "outputs": [],
   "source": [
    "pdir = parentDir()\n",
    "assert os.path.isdir(pdir)\n",
    "assert os.path.isdir(os.path.join(parentDir(), \"HW_1.1\"))"
   ]
  },
  {
   "cell_type": "markdown",
   "metadata": {},
   "source": [
    "**Q2** Just like we often search for an element in a collection, we often might want to search and determine whether a particular file or directory is present at a particular location in the file system.\n",
    "\n",
    "Write a function\n",
    "\n",
    "    searchForFolder(dir, keyfolder)\n",
    "    \n",
    "that searches for a folder, `keyfolder` in the direcory given by `dir`.  If the folder is found, the string **path** for the folder is returned.  This path can be either relative or absolute.  If the name in `keyfolder` is not present, or if it is not a **directory**, the function should return `None` to so indicate.  (Note that `None` is the Python \"empty\" type; it is not a string with those characters.)"
   ]
  },
  {
   "cell_type": "code",
   "execution_count": 32,
   "metadata": {
    "deletable": false,
    "nbgrader": {
     "cell_type": "code",
     "checksum": "c5cc48f43ddc58d09911fd8a5cc76814",
     "grade": false,
     "grade_id": "cell-5a2690ad91df7a9f",
     "locked": false,
     "schema_version": 3,
     "solution": true,
     "task": false
    }
   },
   "outputs": [],
   "source": [
    "def searchForFolder(dir, keyfolder):\n",
    "    \"\"\"\n",
    "    This function searches a given directory for a given folder\n",
    "    name.\n",
    "    \n",
    "    Params: dir: the directory that is going to be searched.\n",
    "            keyfolder: the folder that is being searched for.\n",
    "    \n",
    "    Return: searchPath: will return the path of the folder if\n",
    "                        the folder is found\n",
    "            None: will return none if the folder is not found.\n",
    "    \"\"\"\n",
    "    searchPath = os.path.join(dir, keyfolder)\n",
    "    if os.path.isdir(searchPath):\n",
    "        return searchPath\n",
    "    else:\n",
    "        return None"
   ]
  },
  {
   "cell_type": "code",
   "execution_count": 33,
   "metadata": {
    "deletable": false,
    "editable": false,
    "nbgrader": {
     "cell_type": "code",
     "checksum": "9cefe2c61f9fb0979d0b2e54d460cc01",
     "grade": true,
     "grade_id": "cell-07f7d7e0c1519cdf",
     "locked": true,
     "points": 2,
     "schema_version": 3,
     "solution": false,
     "task": false
    }
   },
   "outputs": [],
   "source": [
    "# Testing cell\n",
    "test1 = searchForFolder(\".\", \"testfolder\")\n",
    "assert isinstance(test1, str)\n",
    "assert os.path.isdir(test1)\n",
    "\n",
    "test2 = searchForFolder(os.path.join(os.getcwd(), \"..\"), \n",
    "                        \"HW_1.1\")\n",
    "assert isinstance(test2, str)\n",
    "assert os.path.isdir(test2)\n",
    "\n",
    "test3 = searchForFolder(\".\", \"lists.ipynb\")\n",
    "assert test3 == None\n",
    "\n",
    "test4 = searchForFolder(\".\", \"foobar\")\n",
    "assert test4 == None"
   ]
  },
  {
   "cell_type": "markdown",
   "metadata": {},
   "source": [
    "**Q** Write a function\n",
    "\n",
    "    countFileMatch(dir, prefix)\n",
    "    \n",
    "that searches the files in the give directory, `dir`, and determines the **count** of the number of files where the start of the file name matches `prefix`.  It should not count any folders whose name might match.  If no files in the directory match the prefix, the function should return 0.  If the directory does not exist or the variable refers to something that is not a directory, the function should return `None`."
   ]
  },
  {
   "cell_type": "code",
   "execution_count": 37,
   "metadata": {
    "deletable": false,
    "nbgrader": {
     "cell_type": "code",
     "checksum": "8bd2a33f0a4e7bd4bb931c188d1a692c",
     "grade": false,
     "grade_id": "cell-c545311236841784",
     "locked": false,
     "schema_version": 3,
     "solution": true,
     "task": false
    }
   },
   "outputs": [],
   "source": [
    "def countFileMatch(dir, prefix):\n",
    "    \"\"\"\n",
    "    This function counts the amount of files in a given directory that\n",
    "    start with a given prefix. The amount of prefix files gets returned.\n",
    "    \n",
    "    Params: dir: the directory that is being searched.\n",
    "            prefix: the prefix for files that is getting searched for.\n",
    "    \n",
    "    Return: numPre: the amount of files that start with the prefix\n",
    "            None: will return None if the directory given does not\n",
    "                  exist.\n",
    "    \"\"\"\n",
    "    if os.path.isdir(dir):\n",
    "        itemList = os.listdir(dir)\n",
    "        numPre = 0;\n",
    "        for i in range(len(itemList)):\n",
    "            if prefix == itemList[i][0:len(prefix)]:\n",
    "                if os.path.isfile(os.path.join(dir, itemList[i])):\n",
    "                    numPre = numPre + 1\n",
    "        return numPre\n",
    "    else:\n",
    "        return None\n",
    "    "
   ]
  },
  {
   "cell_type": "code",
   "execution_count": 38,
   "metadata": {
    "deletable": false,
    "editable": false,
    "nbgrader": {
     "cell_type": "code",
     "checksum": "281e892b87003ed993d8e43086f6b06a",
     "grade": true,
     "grade_id": "cell-bdb26bc354eb4f3b",
     "locked": true,
     "points": 3,
     "schema_version": 3,
     "solution": false,
     "task": false
    }
   },
   "outputs": [],
   "source": [
    "assert countFileMatch(\".\", \"file\") == 2\n",
    "assert countFileMatch(\"..\", \"HW\") == 0\n",
    "assert countFileMatch(\".\", \"file\") == 2\n",
    "assert countFileMatch(os.getcwd(), \"test\") == 0\n",
    "assert countFileMatch(\"lists.ipynb\", \"list\") == None\n",
    "assert countFileMatch(os.path.join(os.getcwd(), \"..\", \"foobar\"), \"\") == None\n",
    "assert countFileMatch(\".\", \"\") == 3"
   ]
  },
  {
   "cell_type": "code",
   "execution_count": null,
   "metadata": {},
   "outputs": [],
   "source": []
  }
 ],
 "metadata": {
  "kernelspec": {
   "display_name": "Python 3",
   "language": "python",
   "name": "python3"
  },
  "language_info": {
   "codemirror_mode": {
    "name": "ipython",
    "version": 3
   },
   "file_extension": ".py",
   "mimetype": "text/x-python",
   "name": "python",
   "nbconvert_exporter": "python",
   "pygments_lexer": "ipython3",
   "version": "3.8.5"
  }
 },
 "nbformat": 4,
 "nbformat_minor": 4
}
