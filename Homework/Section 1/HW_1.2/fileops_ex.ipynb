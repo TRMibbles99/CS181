{
 "cells": [
  {
   "cell_type": "markdown",
   "metadata": {},
   "source": [
    "# Denison CS181/DA210"
   ]
  },
  {
   "cell_type": "markdown",
   "metadata": {},
   "source": [
    "---"
   ]
  },
  {
   "cell_type": "markdown",
   "metadata": {},
   "source": [
    "## Python File Operations\n",
    "\n",
    "*First execute prolog cell*"
   ]
  },
  {
   "cell_type": "code",
   "execution_count": 11,
   "metadata": {},
   "outputs": [],
   "source": [
    "import os\n",
    "import io\n",
    "import sys\n",
    "from contextlib import redirect_stdout\n",
    "from IPython.core.debugger import set_trace\n",
    "\n",
    "def add_modules():\n",
    "    \"\"\"\n",
    "    Starting at the current directory and proceeding up the file system\n",
    "    tree, search for a directory named `modules`.  If found, and if not\n",
    "    already there, add to the Python module search path.\n",
    "    \n",
    "    Params: None\n",
    "    \n",
    "    Return: None\n",
    "    \"\"\"\n",
    "    directory = \".\"\n",
    "    levels = 0\n",
    "    while not os.path.isdir(os.path.join(directory, \"modules\")) and \\\n",
    "          levels < 5:\n",
    "        directory = os.path.join(directory, \"..\")\n",
    "        levels += 1\n",
    "    module_path = os.path.abspath(os.path.join(directory, \"modules\"))\n",
    "    if os.path.isdir(module_path):\n",
    "        if not module_path in sys.path:\n",
    "            sys.path.append(module_path)\n",
    "\n",
    "add_modules()\n",
    "import util\n",
    "\n",
    "datadir = util.resolve_dir(\"otherdata\")"
   ]
  },
  {
   "cell_type": "markdown",
   "metadata": {},
   "source": [
    "**Q1** Write a function\n",
    "\n",
    "    wordCount(s)\n",
    "    \n",
    "that takes a string, `s` and, after eliminating any leading or trailing invisible/whitespace characters, divides the remaining string into whitespace separated \"word\" tokens and then returns the number of words.  Punctuation, in this case, is considered part of the word.\n",
    "\n",
    "So if `s` was the string\n",
    "\n",
    "    '\\t this is a\\ttest  string. \\n'\n",
    "    \n",
    "`wordCount(s)` would return 5."
   ]
  },
  {
   "cell_type": "code",
   "execution_count": 98,
   "metadata": {
    "deletable": false,
    "nbgrader": {
     "cell_type": "code",
     "checksum": "fe417369d3c0cc12bd5fd2f992017df7",
     "grade": false,
     "grade_id": "cell-310d17340bd2a509",
     "locked": false,
     "schema_version": 3,
     "solution": true,
     "task": false
    }
   },
   "outputs": [
    {
     "name": "stdout",
     "output_type": "stream",
     "text": [
      "count: 5\n"
     ]
    }
   ],
   "source": [
    "s = \"\\t this is a\\ttest  string. \\n\"\n",
    "\n",
    "def wordCount(s):\n",
    "    \"\"\"\n",
    "    This function counts the words in a string and returns\n",
    "    the number of words in a string.\n",
    "    \n",
    "    Params: s: the string that you want to know the number\n",
    "            of words in it.\n",
    "    \n",
    "    Return: count: the number of words that are in the \n",
    "            given string.\n",
    "    \"\"\"\n",
    "    count = 0\n",
    "    sortS = s.strip()\n",
    "    if sortS == \"\":\n",
    "        return 0\n",
    "    preChar = ' '\n",
    "    for char in sortS:\n",
    "        if (char != ' ' and char != '\\a' and char != '\\t' and char != '\\n'):\n",
    "            if (preChar == ' ' or preChar == '\\a' or preChar == '\\t' or preChar == '\\n' ):\n",
    "                count = count + 1\n",
    "        preChar = char\n",
    "    return count\n",
    "\n",
    "print(\"count:\", wordCount(s))"
   ]
  },
  {
   "cell_type": "code",
   "execution_count": 99,
   "metadata": {
    "deletable": false,
    "editable": false,
    "nbgrader": {
     "cell_type": "code",
     "checksum": "13312c421cdef68ed2d1096c2f05da64",
     "grade": true,
     "grade_id": "cell-284db49b25cba8ce",
     "locked": true,
     "points": 2,
     "schema_version": 3,
     "solution": false,
     "task": false
    }
   },
   "outputs": [],
   "source": [
    "s2 = \"\"\n",
    "assert wordCount(s2) == 0\n",
    "s3 = \"\\n\\n\\n\\n\\n\\n\\n\"\n",
    "assert wordCount(s3) == 0\n",
    "\n",
    "s4 = \"one two three four five\"\n",
    "assert wordCount(s4) == 5\n",
    "\n",
    "s1 = \"\\t this is a\\ttest  string. \\n\"\n",
    "assert wordCount(s1) == 5\n"
   ]
  },
  {
   "cell_type": "markdown",
   "metadata": {},
   "source": [
    "**Q2** Now write a function\n",
    "\n",
    "    fileWordCount(path)\n",
    "    \n",
    "that operates on the file specified by the given `path` and creates a list containing the count of words (as defined above) on each of the lines of the file.  You should **use** the function you wrote for the last question, and should not cut and paste code.  In your solution cell, demonstrate correct **invocation** of your function by composing a path to the `tennyson.txt` file in the data directory and passing that path to your function, assigning the result to `tennyson_words`.\n",
    "\n",
    "If the `path` does not refer to an actual file, the function should return `None`."
   ]
  },
  {
   "cell_type": "code",
   "execution_count": 101,
   "metadata": {
    "deletable": false,
    "nbgrader": {
     "cell_type": "code",
     "checksum": "46308486e486255133776c657484f0d2",
     "grade": false,
     "grade_id": "cell-02889d90fccfeced",
     "locked": false,
     "schema_version": 3,
     "solution": true,
     "task": false
    }
   },
   "outputs": [
    {
     "name": "stdout",
     "output_type": "stream",
     "text": [
      "[4, 5, 0, 8, 3]\n"
     ]
    }
   ],
   "source": [
    "def fileWordCount(path):\n",
    "    \"\"\"\n",
    "    Makes a list that counts the amount of words on each\n",
    "    line of a file.\n",
    "    \n",
    "    Params: path: the path of the file that will be \n",
    "            counted\n",
    "    \n",
    "    Return: countList: the list of words on each line of\n",
    "            the given file.\n",
    "            None: if the path does not lead to a file.\n",
    "    \"\"\"\n",
    "    if os.path.isfile(path):\n",
    "        fObj = open(path)\n",
    "        countList = []\n",
    "        for line in fObj:\n",
    "            countList.append(wordCount(line))\n",
    "        fObj.close()\n",
    "        return countList\n",
    "    return None\n",
    "\n",
    "currDir = os.getcwd()\n",
    "os.chdir(\"..\")\n",
    "os.chdir(\"..\")\n",
    "os.chdir(\"otherdata\")\n",
    "tennyson_path = os.path.join(os.getcwd(), \"tennyson.txt\")\n",
    "os.chdir(currDir)\n",
    "\n",
    "tennyson_words = fileWordCount(tennyson_path)\n",
    "print(tennyson_words)"
   ]
  },
  {
   "cell_type": "code",
   "execution_count": 102,
   "metadata": {
    "deletable": false,
    "editable": false,
    "nbgrader": {
     "cell_type": "code",
     "checksum": "bbc7f8f2df3c3fbd93f8496ab9f31161",
     "grade": true,
     "grade_id": "cell-c02e0232b5456540",
     "locked": true,
     "points": 3,
     "schema_version": 3,
     "solution": false,
     "task": false
    }
   },
   "outputs": [],
   "source": [
    "assert tennyson_words == [4, 5, 0, 8, 3]\n",
    "assert fileWordCount(\"/foobar\") == None\n"
   ]
  },
  {
   "cell_type": "markdown",
   "metadata": {},
   "source": [
    "**Q3** Write a function\n",
    "\n",
    "    wordLengths(s)\n",
    "    \n",
    "that takes a string, `s` and, after eliminating any leading or trailing invisible/whitespace characters, divides the remaining string into whitespace separated \"word\" tokens and composes and returns a tuple consisting of the integer lengths of each of these word-tokens.\n",
    "\n",
    "So if `s` was the string\n",
    "\n",
    "    '\\t this is a\\ttest  string. \\n'\n",
    "    \n",
    "the leading tab-space and trailing space-newline would be dropped and the five word tokens would be `'this'`, `'is'`, `'a'`, `'test'`, `'string.'`, and the result would be the tuple\n",
    "\n",
    "    (4, 2, 1, 4, 7)"
   ]
  },
  {
   "cell_type": "code",
   "execution_count": 103,
   "metadata": {
    "deletable": false,
    "nbgrader": {
     "cell_type": "code",
     "checksum": "a796269b5a296c55eddc55c68a056778",
     "grade": false,
     "grade_id": "cell-fcca7e742b3ffafb",
     "locked": false,
     "schema_version": 3,
     "solution": true,
     "task": false
    }
   },
   "outputs": [
    {
     "name": "stdout",
     "output_type": "stream",
     "text": [
      "(4, 2, 1, 4, 7)\n"
     ]
    }
   ],
   "source": [
    "s = \"\\t this is a\\ttest  string. \\n\"\n",
    "def wordLengths(s):\n",
    "    \"\"\"\n",
    "    Makes a tuple that counts the amount of characters \n",
    "    in each word of a string.\n",
    "    \n",
    "    Params: s: the string that is going to have the\n",
    "            words counted.\n",
    "    \n",
    "    Return: wrdCountTup: a tuple that contains the \n",
    "            amount of leters in each word of a given\n",
    "            string.\n",
    "    \"\"\"\n",
    "    count = 0\n",
    "    sortS = s.strip()\n",
    "    wrdCountTup = ()\n",
    "    preChar = ''\n",
    "    if sortS == \"\":\n",
    "        return wrdCountTup\n",
    "    for char in sortS:\n",
    "        if (char != ' ' and char != '\\a' and char != '\\t' and char != '\\n'):\n",
    "            count = count + 1\n",
    "        elif (preChar != ' ' and preChar != '\\a' and preChar != '\\t' and preChar != '\\n'):\n",
    "            wrdCountTup = wrdCountTup + (count,)\n",
    "            count = 0\n",
    "        preChar = char\n",
    "    wrdCountTup = wrdCountTup + (count,)\n",
    "    return wrdCountTup\n",
    "\n",
    "print(wordLengths(s))"
   ]
  },
  {
   "cell_type": "code",
   "execution_count": 104,
   "metadata": {
    "deletable": false,
    "editable": false,
    "nbgrader": {
     "cell_type": "code",
     "checksum": "d3ba9202027d884511fad1986757377b",
     "grade": true,
     "grade_id": "cell-fa42e337ba7afd5a",
     "locked": true,
     "points": 2,
     "schema_version": 3,
     "solution": false,
     "task": false
    }
   },
   "outputs": [],
   "source": [
    "s2 = \"\"\n",
    "assert wordLengths(s2) == ()\n",
    "s3 = \"\\n\\n\\n\\n\\n\\n\\n\"\n",
    "assert wordLengths(s3) == ()\n",
    "\n",
    "s4 = \"one two three four five\"\n",
    "assert wordLengths(s4) == (3, 3, 5, 4, 4)\n",
    "\n",
    "s = \"\\t this is a\\ttest  string. \\n\"\n",
    "assert wordLengths(s) == (4, 2, 1, 4, 7)"
   ]
  },
  {
   "cell_type": "markdown",
   "metadata": {},
   "source": [
    "**Q4** Now write a function\n",
    "\n",
    "    fileWordLengths(path)\n",
    "    \n",
    "that operates on the file specified by the given `path` and creates a list containing, for each line, a tuple with the word lengths in the corresponding line.  In your solution cell, demonstrate correct **invocation** of your function by composing a path to the `tennyson.txt` file in the data directory and passing that path to your function, assigning the result to `tennyson_wordlengths`.\n",
    "\n",
    "If the `path` does not refer to an actual file, the function should return `None`."
   ]
  },
  {
   "cell_type": "code",
   "execution_count": 105,
   "metadata": {
    "deletable": false,
    "nbgrader": {
     "cell_type": "code",
     "checksum": "4a81365ff9298ef36eaf6ab8a660b536",
     "grade": false,
     "grade_id": "cell-dce165fd47e3120e",
     "locked": false,
     "schema_version": 3,
     "solution": true,
     "task": false
    }
   },
   "outputs": [
    {
     "name": "stdout",
     "output_type": "stream",
     "text": [
      "[(8, 3, 7, 5), (3, 5, 4, 3, 5), (), (3, 3, 5, 2, 2, 7, 2, 9), (4, 1, 7)]\n"
     ]
    }
   ],
   "source": [
    "def fileWordLengths(path):\n",
    "    \"\"\"\n",
    "    This function counts the amount of letters in each word \n",
    "    on each line of a given file and returns a list of \n",
    "    tuples. The tuples have the amount of letters in each\n",
    "    word and each item in the list is each line in the file.\n",
    "    \n",
    "    Params: path: the path of the file that will be counted.\n",
    "    \n",
    "    Return: countList: the list of tuples that contain the\n",
    "            amount of letters for each word in each line of\n",
    "            the given file.\n",
    "            None: if the path given does not lead to a file.\n",
    "    \"\"\"\n",
    "    if os.path.isfile(path):\n",
    "        fObj = open(path)\n",
    "        countList = []\n",
    "        for line in fObj:\n",
    "            countList.append(wordLengths(line))\n",
    "        fObj.close()\n",
    "        return countList\n",
    "    return None\n",
    "\n",
    "tennyson_wordlengths = fileWordLengths(tennyson_path)\n",
    "print(tennyson_wordlengths)"
   ]
  },
  {
   "cell_type": "code",
   "execution_count": 106,
   "metadata": {
    "deletable": false,
    "editable": false,
    "nbgrader": {
     "cell_type": "code",
     "checksum": "0929738bd7599036f54a1ac86649c856",
     "grade": true,
     "grade_id": "cell-36d5ec6ed4850aa7",
     "locked": true,
     "points": 3,
     "schema_version": 3,
     "solution": false,
     "task": false
    }
   },
   "outputs": [],
   "source": [
    "assert tennyson_wordlengths == [(8, 3, 7, 5), (3, 5, 4, 3, 5), (), (3, 3, 5, 2, 2, 7, 2, 9), (4, 1, 7)]\n"
   ]
  },
  {
   "cell_type": "markdown",
   "metadata": {},
   "source": [
    "The next two questions involve the `temps.csv` file in the data directory.  It's contents are reflected here:\n",
    "\n",
    "```\n",
    "01-03, Columbus, 47, 13\n",
    "01-04, Columbus, 48, 31\n",
    "01-05, Columbus, 36, 23\n",
    "01-06, Columbus, 50, 32\n",
    "01-07, Columbus, 34, 29\n",
    "01-08, Columbus, 51, 27\n",
    "01-09, Columbus, 47, 37\n",
    "01-03,   Dallas, 75, 48\n",
    "01-04,   Dallas, 63, 46\n",
    "01-05,   Dallas, 71, 54\n",
    "01-06,   Dallas, 62, 39\n",
    "01-07,   Dallas, 42, 39\n",
    "01-08,   Dallas, 41, 37\n",
    "01-09,   Dallas, 56, 36\n",
    "```\n",
    "where fields are separated by commas; spaces are embedded within for readability, there is **no** header line, and the fields represent the columns of *date*, *city*, *hightemp*, and *lowtemp*."
   ]
  },
  {
   "cell_type": "markdown",
   "metadata": {},
   "source": [
    "**Q5** Write code to process this file and generate **four parallel lists**, named `dates`, `cities`, `hightemps` and `lowtemps`.  **Make sure the temperature lists have integer elements**, and the date and city lists have string elements.  You are required to use file operations for this processing, and may not employ other packages."
   ]
  },
  {
   "cell_type": "code",
   "execution_count": 107,
   "metadata": {
    "deletable": false,
    "nbgrader": {
     "cell_type": "code",
     "checksum": "79576cdbb9f5a0896218274876fee225",
     "grade": false,
     "grade_id": "cell-98c72a122d657922",
     "locked": false,
     "schema_version": 3,
     "solution": true,
     "task": false
    }
   },
   "outputs": [],
   "source": [
    "currDir = os.getcwd()\n",
    "os.chdir(\"..\")\n",
    "os.chdir(\"..\")\n",
    "os.chdir(\"otherdata\")\n",
    "temps_path = os.path.join(os.getcwd(), \"temps.csv\")\n",
    "os.chdir(currDir)\n",
    "\n",
    "fObj = open(temps_path)\n",
    "dates = []\n",
    "cities = []\n",
    "hightemps = []\n",
    "lowtemps = []\n",
    "for line in fObj:\n",
    "    trimmed = line.strip()\n",
    "    fields = trimmed.split(',')\n",
    "    dates.append(fields[0])\n",
    "    cities.append(fields[1].strip())\n",
    "    hightemps.append(int(fields[2]))\n",
    "    lowtemps.append(int(fields[3]))\n",
    "fObj.close()"
   ]
  },
  {
   "cell_type": "code",
   "execution_count": 108,
   "metadata": {
    "deletable": false,
    "editable": false,
    "nbgrader": {
     "cell_type": "code",
     "checksum": "4627d73bdab56ae11e29f447ef151b78",
     "grade": true,
     "grade_id": "cell-8262a676135d3021",
     "locked": true,
     "points": 3,
     "schema_version": 3,
     "solution": false,
     "task": false
    }
   },
   "outputs": [],
   "source": [
    "assert dates == ['01-03', '01-04','01-05','01-06','01-07','01-08','01-09'] * 2\n",
    "assert cities == ['Columbus'] * 7 + ['Dallas'] * 7\n",
    "assert hightemps == [47, 48, 36, 50, 34, 51, 47, 75, 63, 71, 62, 42, 41, 56]\n",
    "assert lowtemps == [13, 31, 23, 32, 29, 27, 37, 48, 46, 54, 39, 39, 37, 36]"
   ]
  },
  {
   "cell_type": "markdown",
   "metadata": {},
   "source": [
    "**Q6** Repeat the processing of `temps.csv` generating a single **dictionary** representing the data.  The dictionary should have exactly one mapping per line of the file.  A dictionary item should map a key which is a **tuple** containing the date and the city (the independent variables in this data set), and this key maps to a tuple containing the hightemp and lowtemp.  \n",
    "\n",
    "So, for example, the first entry added to the dictionary will map `('02-03', 'Columbus')` to `(47, 13)`.\n",
    "\n",
    "Name the dictionary `temps`.  You are required to use file operations for this processing, and may not employ other packages."
   ]
  },
  {
   "cell_type": "code",
   "execution_count": 109,
   "metadata": {
    "deletable": false,
    "nbgrader": {
     "cell_type": "code",
     "checksum": "acef66e9b63ab36a1a8e744f753cec58",
     "grade": false,
     "grade_id": "cell-28ddcb5593f8c015",
     "locked": false,
     "schema_version": 3,
     "solution": true,
     "task": false
    }
   },
   "outputs": [],
   "source": [
    "temps = {}\n",
    "for i in range(len(cities)):\n",
    "    temps[(dates[i], cities[i])] = (hightemps[i], lowtemps[i])\n",
    "    "
   ]
  },
  {
   "cell_type": "code",
   "execution_count": 110,
   "metadata": {
    "deletable": false,
    "editable": false,
    "nbgrader": {
     "cell_type": "code",
     "checksum": "6cc1f4f36afce3858a4a600d8c67bb00",
     "grade": true,
     "grade_id": "cell-7dc02b59c96dde63",
     "locked": true,
     "points": 3,
     "schema_version": 3,
     "solution": false,
     "task": false
    }
   },
   "outputs": [],
   "source": [
    "assert temps == {('01-03', 'Columbus'): (47, 13),\n",
    " ('01-04', 'Columbus'): (48, 31),\n",
    " ('01-05', 'Columbus'): (36, 23),\n",
    " ('01-06', 'Columbus'): (50, 32),\n",
    " ('01-07', 'Columbus'): (34, 29),\n",
    " ('01-08', 'Columbus'): (51, 27),\n",
    " ('01-09', 'Columbus'): (47, 37),\n",
    " ('01-03', 'Dallas'): (75, 48),\n",
    " ('01-04', 'Dallas'): (63, 46),\n",
    " ('01-05', 'Dallas'): (71, 54),\n",
    " ('01-06', 'Dallas'): (62, 39),\n",
    " ('01-07', 'Dallas'): (42, 39),\n",
    " ('01-08', 'Dallas'): (41, 37),\n",
    " ('01-09', 'Dallas'): (56, 36)}"
   ]
  },
  {
   "cell_type": "code",
   "execution_count": null,
   "metadata": {},
   "outputs": [],
   "source": []
  }
 ],
 "metadata": {
  "kernelspec": {
   "display_name": "Python 3",
   "language": "python",
   "name": "python3"
  },
  "language_info": {
   "codemirror_mode": {
    "name": "ipython",
    "version": 3
   },
   "file_extension": ".py",
   "mimetype": "text/x-python",
   "name": "python",
   "nbconvert_exporter": "python",
   "pygments_lexer": "ipython3",
   "version": "3.8.5"
  }
 },
 "nbformat": 4,
 "nbformat_minor": 4
}
