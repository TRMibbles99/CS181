{
 "cells": [
  {
   "cell_type": "markdown",
   "metadata": {},
   "source": [
    "# Denison CS-181/DA-210 Homework"
   ]
  },
  {
   "cell_type": "markdown",
   "metadata": {},
   "source": [
    "---"
   ]
  },
  {
   "cell_type": "markdown",
   "metadata": {},
   "source": [
    "## Regular Expression Exercises\n",
    "\n",
    "*Execute the prolog cell*"
   ]
  },
  {
   "cell_type": "code",
   "execution_count": 1,
   "metadata": {},
   "outputs": [
    {
     "ename": "ModuleNotFoundError",
     "evalue": "No module named 'util'",
     "output_type": "error",
     "traceback": [
      "\u001b[0;31m---------------------------------------------------------------------------\u001b[0m",
      "\u001b[0;31mModuleNotFoundError\u001b[0m                       Traceback (most recent call last)",
      "\u001b[0;32m<ipython-input-1-4ae57f0ddae5>\u001b[0m in \u001b[0;36m<module>\u001b[0;34m\u001b[0m\n\u001b[1;32m     30\u001b[0m \u001b[0;34m\u001b[0m\u001b[0m\n\u001b[1;32m     31\u001b[0m \u001b[0madd_modules\u001b[0m\u001b[0;34m(\u001b[0m\u001b[0;34m)\u001b[0m\u001b[0;34m\u001b[0m\u001b[0;34m\u001b[0m\u001b[0m\n\u001b[0;32m---> 32\u001b[0;31m \u001b[0;32mimport\u001b[0m \u001b[0mutil\u001b[0m\u001b[0;34m\u001b[0m\u001b[0;34m\u001b[0m\u001b[0m\n\u001b[0m",
      "\u001b[0;31mModuleNotFoundError\u001b[0m: No module named 'util'"
     ]
    }
   ],
   "source": [
    "import re\n",
    "\n",
    "import os\n",
    "import io\n",
    "import sys\n",
    "\n",
    "from contextlib import redirect_stdout\n",
    "from IPython.core.debugger import set_trace\n",
    "\n",
    "def add_modules():\n",
    "    \"\"\"\n",
    "    Starting at the current directory and proceeding up the file system\n",
    "    tree, search for a directory named `modules`.  If found, and if not\n",
    "    already there, add to the Python module search path.\n",
    "    \n",
    "    Params: None\n",
    "    \n",
    "    Return: None\n",
    "    \"\"\"\n",
    "    directory = \".\"\n",
    "    levels = 0\n",
    "    while not os.path.isdir(os.path.join(directory, \"modules\")) and \\\n",
    "          levels < 5:\n",
    "        directory = os.path.join(directory, \"..\")\n",
    "        levels += 1\n",
    "    module_path = os.path.abspath(os.path.join(directory, \"modules\"))\n",
    "    if os.path.isdir(module_path):\n",
    "        if not module_path in sys.path:\n",
    "            sys.path.append(module_path)\n",
    "\n",
    "add_modules()\n",
    "import util"
   ]
  },
  {
   "cell_type": "markdown",
   "metadata": {},
   "source": [
    "### Instructions\n",
    "\n",
    "For these exercises, the focus is on your writing **restrictive** regular expressions to solve the stated problem.  The focus is **not** on regular expression programming and using the `re` module in Python.\n",
    "\n",
    "For each question, you will, as normal, delete the two-line sequence (the comment and the `raise` statement) and provide your solution.  But your solution will simply consist of entering your regular expression solution, as a raw Python string, and assign it to `pattern`.\n",
    "\n",
    "For both our own testing and your testing and debugging, we provide, in the `util` module, two new functions that take care of the Python programming side and return a list with the results of exercising the matching:\n",
    "\n",
    "- `util.assembleMatches(pattern, text, flag=0)`: find all matches of `pattern` in `text` (subject to behavior of `flags`) and return a list containing, for each match, the string of the match and the index in `text` where the match begins.  Use this if there are no capture groups.\n",
    "- `util.assembleCaptures(pattern, text, flag=0)`: find all matches of `pattern` in `text` (subject to behavior of `flags`) and return a list containing, for each match, a **list** containing the capture groups within the match.  The capture group is represented as a tuple with the string of the capture and the index in `text` where the capture begins.\n",
    "\n",
    "The testing cells will have minimal testing and asserts.  You should try other variations and boundary cases for yourself to make sure your regular expression pattern works per the specification."
   ]
  },
  {
   "cell_type": "markdown",
   "metadata": {},
   "source": [
    "**Q1** Write a regular expression that matches complete words that begin with `t` then `h` and then two following letters (i.e. they should match words that are four letters long)."
   ]
  },
  {
   "cell_type": "code",
   "execution_count": 2,
   "metadata": {
    "deletable": false,
    "nbgrader": {
     "cell_type": "code",
     "checksum": "562bb536a22c0ff3aaf660053d5d11a4",
     "grade": false,
     "grade_id": "cell-80843d486c3a5810",
     "locked": false,
     "schema_version": 3,
     "solution": true,
     "task": false
    }
   },
   "outputs": [
    {
     "data": {
      "text/plain": [
       "[('this', 5), ('that', 21)]"
      ]
     },
     "execution_count": 2,
     "metadata": {},
     "output_type": "execute_result"
    }
   ],
   "source": [
    "text1 = \"Does this text match that pattern?\"\n",
    "\n",
    "pattern = r\"th\\w\\w\"\n",
    "util.assembleMatches(pattern, text1)"
   ]
  },
  {
   "cell_type": "code",
   "execution_count": 3,
   "metadata": {
    "deletable": false,
    "editable": false,
    "nbgrader": {
     "cell_type": "code",
     "checksum": "8d86c26dd969627d3834c6d3a028fec1",
     "grade": true,
     "grade_id": "cell-58f6c2ac81241594",
     "locked": true,
     "points": 2,
     "schema_version": 3,
     "solution": false,
     "task": false
    }
   },
   "outputs": [],
   "source": [
    "text1 = \"Does this text match that pattern?\"\n",
    "\n",
    "assert util.assembleMatches(pattern, text1) == [('this', 5), ('that', 21)]"
   ]
  },
  {
   "cell_type": "markdown",
   "metadata": {},
   "source": [
    "**Q2:** Hexadecimal numbers are numbers that have 16 symbols, and the symbols use the digits 0 through 9 and then the first six alphabetic letters of A through F.  The letters may be in either upper or lower case, or some mix.  Numbers are written the same way as integers---with one or more of the 16 symbols in a sequence, with no intervening spaces or punctuation.\n",
    "\n",
    "Write a regular expression pattern that, if applied to a target, completely matches all hexadecimal numbers within that target."
   ]
  },
  {
   "cell_type": "code",
   "execution_count": 46,
   "metadata": {
    "deletable": false,
    "nbgrader": {
     "cell_type": "code",
     "checksum": "9b1365959724af6561f93ec621c0f4e1",
     "grade": false,
     "grade_id": "cell-e75a96329acfadee",
     "locked": false,
     "schema_version": 3,
     "solution": true,
     "task": false
    }
   },
   "outputs": [
    {
     "data": {
      "text/plain": [
       "[('43ac21', 27), ('feed', 37), ('beef', 42)]"
      ]
     },
     "execution_count": 46,
     "metadata": {},
     "output_type": "execute_result"
    }
   ],
   "source": [
    "text = \"The hex number may include 43ac21 or feed beef, but not fred\"\n",
    "\n",
    "pattern = r\"\\b[\\dabcdefABCDEF]+\\b\"\n",
    "util.assembleMatches(pattern, text)"
   ]
  },
  {
   "cell_type": "code",
   "execution_count": 47,
   "metadata": {
    "deletable": false,
    "editable": false,
    "nbgrader": {
     "cell_type": "code",
     "checksum": "e239e8da2d3ba7c703a7efdc373666ca",
     "grade": true,
     "grade_id": "cell-7e999933c3dc2d3c",
     "locked": true,
     "points": 2,
     "schema_version": 3,
     "solution": false,
     "task": false
    }
   },
   "outputs": [],
   "source": [
    "text = \"The hex number may include 43ac21 or feed beef, but not fred\"\n",
    "\n",
    "assert util.assembleMatches(pattern, text) == [('43ac21', 27), ('feed', 37), ('beef', 42)]"
   ]
  },
  {
   "cell_type": "markdown",
   "metadata": {},
   "source": [
    "**Q3** Outside of the US, it is common to write dates in the form `year.month.day`, e.g., `2020.01.05` for `January 05, 2020`. Write a regular expression that matches a date written in this form.  Note that single digits for the month and day will use a leading zero."
   ]
  },
  {
   "cell_type": "code",
   "execution_count": 40,
   "metadata": {
    "deletable": false,
    "nbgrader": {
     "cell_type": "code",
     "checksum": "a40eac8eb72bc220a67c9b8afd7d95a6",
     "grade": false,
     "grade_id": "cell-2cf8bb270ae4d9f3",
     "locked": false,
     "schema_version": 3,
     "solution": true,
     "task": false
    }
   },
   "outputs": [
    {
     "data": {
      "text/plain": [
       "[('2021.02.15', 0)]"
      ]
     },
     "execution_count": 40,
     "metadata": {},
     "output_type": "execute_result"
    }
   ],
   "source": [
    "text1 = \"2021.02.15 is the first day of week 3; but 123.45.6789 might be mistaken for a social security number\"\n",
    "\n",
    "pattern = r\"[\\d]{4}\\.[\\d]{2}\\.[\\d]{2}\"\n",
    "util.assembleMatches(pattern, text1)"
   ]
  },
  {
   "cell_type": "code",
   "execution_count": 41,
   "metadata": {
    "deletable": false,
    "editable": false,
    "nbgrader": {
     "cell_type": "code",
     "checksum": "3beed83c7d8eb8bdb683f17b973f8c30",
     "grade": true,
     "grade_id": "cell-73cb3978689668ca",
     "locked": true,
     "points": 2,
     "schema_version": 3,
     "solution": false,
     "task": false
    }
   },
   "outputs": [],
   "source": [
    "text1 = \"2021.02.15 is the first day of week 3; but 123.45.6789 might be mistaken for a social security number\"\n",
    "\n",
    "assert util.assembleMatches(pattern, text1) == [('2021.02.15', 0)]"
   ]
  },
  {
   "cell_type": "markdown",
   "metadata": {},
   "source": [
    "**Q4:** Write a regular expression pattern that matches 9 digit telephone numbers. The numbers will be formatted as `dddsdddsdddd` or `(ddd)sdddsdddd`, where `d` is a digit and `s` is a separator (space, period, or dash), e.g., `555 555.5555` or `(555) 555-5555`. Besides matching valid phone numbers, you should **capture** all three portions of the phone number---the area code, the three digit exchange prefix, and the four digit line number."
   ]
  },
  {
   "cell_type": "code",
   "execution_count": 49,
   "metadata": {
    "deletable": false,
    "nbgrader": {
     "cell_type": "code",
     "checksum": "90e34039e20fc661eec99c4b1d86021a",
     "grade": false,
     "grade_id": "cell-bc4fe3b529aa80ad",
     "locked": false,
     "schema_version": 3,
     "solution": true,
     "task": false
    }
   },
   "outputs": [
    {
     "data": {
      "text/plain": [
       "[[('555-123-4567', 17), ('555', 17), ('123', 21), ('4567', 25)],\n",
       " [('(800) 721-6432', 34), ('800', 35), ('721', 40), ('6432', 44)]]"
      ]
     },
     "execution_count": 49,
     "metadata": {},
     "output_type": "execute_result"
    }
   ],
   "source": [
    "text1 = \"Looking to match 555-123-4567 and (800) 721-6432 but 123.45.6789 might be mistaken for a social security number\"\n",
    "\n",
    "pattern = r\"\\({0,1}([\\d]{3})[\\-)\\s]{1,2}([\\d]{3})\\-([\\d]{4})\"\n",
    "util.assembleCaptures(pattern, text1)"
   ]
  },
  {
   "cell_type": "code",
   "execution_count": 50,
   "metadata": {
    "deletable": false,
    "editable": false,
    "nbgrader": {
     "cell_type": "code",
     "checksum": "99145f54aeb53c7f7cb6baebfb61e8db",
     "grade": true,
     "grade_id": "cell-b123b9e4cff35c31",
     "locked": true,
     "points": 3,
     "schema_version": 3,
     "solution": false,
     "task": false
    }
   },
   "outputs": [],
   "source": [
    "text1 = \"Looking to match 555-123-4567 and (800) 721-6432 but 123.45.6789 might be mistaken for a social security number\"\n",
    "\n",
    "assert util.assembleCaptures(pattern, text1) == [[('555-123-4567', 17), ('555', 17), ('123', 21), ('4567', 25)],\n",
    " [('(800) 721-6432', 34), ('800', 35), ('721', 40), ('6432', 44)]]\n"
   ]
  },
  {
   "cell_type": "markdown",
   "metadata": {},
   "source": [
    "**Q5:** Given the table below, reproduced as a single string within the solution cell, find a single regular expression that matches all the items in the first column (the entirety of the match, but stopping before the trailing spaces) but none of those in the second column.  You **must** use matching of true patterns, looking at the similarities and differences between the two columns.  A disjunction of the literals in the first column will not be awarded any points.\n",
    "```python\n",
    "\"\"\"\n",
    "Match     | No Match\n",
    "--------------------\n",
    "pit       | pt\n",
    "spot      | Pot\n",
    "spate     | peat\n",
    "slap two  | part\n",
    "respite   | top it\n",
    "\"\"\"\n",
    "```"
   ]
  },
  {
   "cell_type": "code",
   "execution_count": 74,
   "metadata": {
    "deletable": false,
    "nbgrader": {
     "cell_type": "code",
     "checksum": "be84f7cc7c4d7532f4af316f561d6bd0",
     "grade": false,
     "grade_id": "cell-538beb1d8774888b",
     "locked": false,
     "schema_version": 3,
     "solution": true,
     "task": false
    }
   },
   "outputs": [
    {
     "data": {
      "text/plain": [
       "[('pit', 43), ('spot', 58), ('spate', 74), ('slap two', 91), ('respite', 108)]"
      ]
     },
     "execution_count": 74,
     "metadata": {},
     "output_type": "execute_result"
    }
   ],
   "source": [
    "target = \"\"\"\n",
    "Match     | No Match\n",
    "--------------------\n",
    "pit       | pt\n",
    "spot      | Pot\n",
    "spate     | peat\n",
    "slap two  | part\n",
    "respite   | top it\n",
    "\"\"\"\n",
    "\n",
    "pattern = r\"s\\w+\\s\\w+|s\\w+|re\\w+|pi\\w+\"\n",
    "matches = util.assembleMatches(pattern, target)\n",
    "matches"
   ]
  },
  {
   "cell_type": "code",
   "execution_count": 75,
   "metadata": {
    "deletable": false,
    "editable": false,
    "nbgrader": {
     "cell_type": "code",
     "checksum": "2dc7f0e48145be8194a8f453c16c7616",
     "grade": true,
     "grade_id": "cell-b449a2546dc01a40",
     "locked": true,
     "points": 3,
     "schema_version": 3,
     "solution": false,
     "task": false
    }
   },
   "outputs": [],
   "source": [
    "target = \"\"\"\n",
    "Match     | No Match\n",
    "--------------------\n",
    "pit       | pt\n",
    "spot      | Pot\n",
    "spate     | peat\n",
    "slap two  | part\n",
    "respite   | top it\n",
    "\"\"\"\n",
    "\n",
    "matches = util.assembleMatches(pattern, target)\n",
    "assert len(matches) == 5\n",
    "assert matches == [('pit', 43), ('spot', 58), ('spate', 74), ('slap two', 91), ('respite', 108)]"
   ]
  },
  {
   "cell_type": "code",
   "execution_count": null,
   "metadata": {},
   "outputs": [],
   "source": []
  }
 ],
 "metadata": {
  "kernelspec": {
   "display_name": "Python 3",
   "language": "python",
   "name": "python3"
  },
  "language_info": {
   "codemirror_mode": {
    "name": "ipython",
    "version": 3
   },
   "file_extension": ".py",
   "mimetype": "text/x-python",
   "name": "python",
   "nbconvert_exporter": "python",
   "pygments_lexer": "ipython3",
   "version": "3.8.5"
  }
 },
 "nbformat": 4,
 "nbformat_minor": 5
}
