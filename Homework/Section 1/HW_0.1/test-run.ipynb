{
 "cells": [
  {
   "cell_type": "markdown",
   "metadata": {},
   "source": [
    "# Denison CS181/DA210"
   ]
  },
  {
   "cell_type": "markdown",
   "metadata": {},
   "source": [
    "---"
   ]
  },
  {
   "cell_type": "markdown",
   "metadata": {},
   "source": [
    "## Instructions and Preliminary Cells\n",
    "\n",
    "For many homework notebooks, there well be a prolog that contains a code cell containing setup code, like imports, global variable assignments, and utility functions.  You should execute this code cell prior to writing any solution code.\n",
    "\n",
    "\"Execution\" of a markdown cell causes it to be rendered, and clicking on the cell and hitting the Return key allows you to edit the cell.  Execution of a code cell causes the statements in the cell to be run by the Python interpreter.  These cells can be edited by clicking on the cell and typing in the new infornation.\n",
    "\n",
    "Execution of a single cell (markdown or code) can be accomplished with the keyboard by holding down the Shift key and then hitting the Return key.  This is much faster than using a mouse back and forth and clicking the Arrow/Play button in the toolbar.\n",
    "\n",
    "---"
   ]
  },
  {
   "cell_type": "code",
   "execution_count": 1,
   "metadata": {},
   "outputs": [],
   "source": [
    "import os\n",
    "import io\n",
    "import sys\n",
    "from contextlib import redirect_stdout\n",
    "\n",
    "def add_modules():\n",
    "    \"\"\"\n",
    "    Starting at the current directory and proceeding up the file system\n",
    "    tree, search for a directory named `modules`.  If found, and if not\n",
    "    already there, add to the Python module search path.\n",
    "    \n",
    "    Params: None\n",
    "    \n",
    "    Return: None\n",
    "    \"\"\"\n",
    "    directory = \".\"\n",
    "    levels = 0\n",
    "    while not os.path.isdir(os.path.join(directory, \"modules\")) and \\\n",
    "          levels < 5:\n",
    "        directory = os.path.join(directory, \"..\")\n",
    "        levels += 1\n",
    "    module_path = os.path.abspath(os.path.join(directory, \"modules\"))\n",
    "    if os.path.isdir(module_path):\n",
    "        if not module_path in sys.path:\n",
    "            sys.path.append(module_path)\n",
    "\n",
    "add_modules()\n",
    "import util\n",
    "\n",
    "datadir = util.resolve_dir(\"publicdata\")"
   ]
  },
  {
   "cell_type": "markdown",
   "metadata": {},
   "source": [
    "## Problem Structure\n",
    "\n",
    "After any prolog, the typical homework notebook will proceed with a set of problems.  Each problem is stated in a markdown cell.  You will not make any changes to the problem statement cell.\n",
    "\n",
    "What follows the problem statement is generally one of the following:\n",
    "\n",
    "1. If the question requires you to answer in English, there will be a following markdown cell, where you can enter (and format) your answer.  These answers will always be manually graded.\n",
    "\n",
    "2. If the question requires you to write Python code, there will be a following code cell.  Within the code cell, you will give your Python answer.  Sometimes this code cell will give you some preliminary code and/or some code that somehow uses or incorporates your answer and helps you see what is expected.  Whether these is initial or following code, the cell will have the two line sequence:\n",
    "\n",
    "```python\n",
    "    # YOUR CODE HERE\n",
    "    raise NotImplementedError()\n",
    "```\n",
    "\n",
    "You will **delete both of these lines** and replace them with your solution to the problem.  If you do not delete the second line, then even if you have correct code, execution of the cell will result in an error and the question will be assessed as incorrect.\n",
    "\n",
    "There are three main types of Python coding questions:\n",
    "\n",
    "A. We ask you to use `print` to demonstrate your answer.\n",
    "\n",
    "B. We ask you to write code and assign one or more answers to one or more Python variables, which we explicitly name.\n",
    "\n",
    "C. We ask you to write a Python function that performs some specified computation, uses parameters as specified, and *returns* some result.\n",
    "\n",
    "For code-type questions, there will often be an additional following code cell.  The purpose of this code in some way \"checks\" your code.  The purpose is (mostly) twofold:\n",
    "\n",
    "1. To give you some (preliminary) feedback on your answer.\n",
    "2. To permit some automation of checking your homework submissions by the course staff.\n",
    "\n",
    "The way the checking cell works is to, in some way, evaluate your code and compare the answer that you produce to the answer that is expected.  If your answer matches the expected answer, the cell should appear to simply execute (with no output).  But if your answer does not match the expected answer, a Python `exception` is raised, displaying some type of error message.\n",
    "\n",
    "To use this mechanism for good and productive feedback, you should look carefully at:\n",
    "\n",
    "- the error message, which will give specifics on the mismatch,\n",
    "- the **point** at which the checking cell resulted in an error.  You may find that your code is partially right, and \"passed\" some of the tests, but not others.\n",
    "- **what your code produced** and **what the expected result was**.  You can (and should) use good debugging techniques to figure out how and why the deviation occurred.\n",
    "\n",
    "I should note that sometimes giving checking code that is visible to the student can \"give away\" the answer.  So the system we use allows for \"hidden tests\" that are not visible in your Notebook, but get added and checked when we use the automated system for assessing your assignment.\n",
    "\n",
    "---"
   ]
  },
  {
   "cell_type": "markdown",
   "metadata": {},
   "source": [
    "## Example Problems\n",
    "\n",
    "In this section, we will present some example problems, with a variety of types of problems."
   ]
  },
  {
   "cell_type": "markdown",
   "metadata": {},
   "source": [
    "**Q1** (Markdown Solution) Give me a numeric list of your top three movies."
   ]
  },
  {
   "cell_type": "markdown",
   "metadata": {
    "deletable": false,
    "nbgrader": {
     "cell_type": "markdown",
     "checksum": "7dd6b4469ac9bf7be4b6b18e455c8224",
     "grade": true,
     "grade_id": "cell-5cd29a56eedf32df",
     "locked": false,
     "points": 1,
     "schema_version": 3,
     "solution": true,
     "task": false
    }
   },
   "source": [
    "1. Forest Gump\n",
    "2. Deadpool\n",
    "3. How to Train Your Dragon"
   ]
  },
  {
   "cell_type": "markdown",
   "metadata": {},
   "source": [
    "**Q2** (Code Solution: setting variable(s)) We define variable `F` with a real-valued temperature in degrees Farenheit.  Write code to compute the equivalent Celsius temperature, and assign to `result`."
   ]
  },
  {
   "cell_type": "code",
   "execution_count": 2,
   "metadata": {
    "deletable": false,
    "nbgrader": {
     "cell_type": "code",
     "checksum": "2f4fd418a0bf5881ed05debb2b4b96fe",
     "grade": false,
     "grade_id": "cell-ab5892a5ada0c7a8",
     "locked": false,
     "schema_version": 3,
     "solution": true,
     "task": false
    }
   },
   "outputs": [
    {
     "name": "stdout",
     "output_type": "stream",
     "text": [
      "Result: 100.0\n"
     ]
    }
   ],
   "source": [
    "# Solution cell\n",
    "\n",
    "F = 212.0\n",
    "\n",
    "result = (F - 32) * 5 / 9\n",
    "\n",
    "print(\"Result:\", result)"
   ]
  },
  {
   "cell_type": "code",
   "execution_count": 3,
   "metadata": {
    "deletable": false,
    "editable": false,
    "nbgrader": {
     "cell_type": "code",
     "checksum": "5522239af39fba09f941f41ea7a01deb",
     "grade": true,
     "grade_id": "cell-7f055bf7d6222e19",
     "locked": true,
     "points": 1,
     "schema_version": 3,
     "solution": false,
     "task": false
    }
   },
   "outputs": [],
   "source": [
    "# Testing cell\n",
    "assert result == 100.0"
   ]
  },
  {
   "cell_type": "markdown",
   "metadata": {},
   "source": [
    "**Q3** (Code Solution: printing) Write a loop to print the character sequence `Hello World!` five times, each on a separate line.  Do this within the `with` construct."
   ]
  },
  {
   "cell_type": "code",
   "execution_count": 7,
   "metadata": {
    "deletable": false,
    "nbgrader": {
     "cell_type": "code",
     "checksum": "42fffd83ba46608dda81d4a12b01efb6",
     "grade": false,
     "grade_id": "cell-134b3db88732a88d",
     "locked": false,
     "schema_version": 3,
     "solution": true,
     "task": false
    }
   },
   "outputs": [
    {
     "name": "stdout",
     "output_type": "stream",
     "text": [
      "Hello World!\n",
      "Hello World!\n",
      "Hello World!\n",
      "Hello World!\n",
      "Hello World!\n",
      "\n"
     ]
    }
   ],
   "source": [
    "result = io.StringIO()\n",
    "with redirect_stdout(result):\n",
    "    for i in range(5):\n",
    "        print('Hello World!')\n",
    "print(result.getvalue())"
   ]
  },
  {
   "cell_type": "code",
   "execution_count": 8,
   "metadata": {
    "deletable": false,
    "editable": false,
    "nbgrader": {
     "cell_type": "code",
     "checksum": "f90cd2b05eacfbaad7e915aab1ae9a86",
     "grade": true,
     "grade_id": "cell-7edee43a8bd7e532",
     "locked": true,
     "points": 1,
     "schema_version": 3,
     "solution": false,
     "task": false
    }
   },
   "outputs": [],
   "source": [
    "# Testing Cell\n",
    "s = result.getvalue()\n",
    "lines = s.split('\\n')\n",
    "\n",
    "assert s.count('\\n') == 5\n",
    "assert s[-1] == '\\n'\n",
    "for line in lines[:-1]:\n",
    "    assert line == \"Hello World!\""
   ]
  },
  {
   "cell_type": "markdown",
   "metadata": {},
   "source": [
    "**Q4** (Code Solution: function) Suppose we want a recursive function\n",
    "\n",
    "    recursive_sum(mylist)\n",
    "\n",
    "to sum the value of the elements in a list.  We give you the base case, and want you to write the recursive case for this function."
   ]
  },
  {
   "cell_type": "code",
   "execution_count": 9,
   "metadata": {
    "deletable": false,
    "nbgrader": {
     "cell_type": "code",
     "checksum": "324c3772c5d8e50a4ce3e45f465fda79",
     "grade": false,
     "grade_id": "cell-29e406974bda906d",
     "locked": false,
     "schema_version": 3,
     "solution": true,
     "task": false
    }
   },
   "outputs": [
    {
     "name": "stdout",
     "output_type": "stream",
     "text": [
      "6\n"
     ]
    }
   ],
   "source": [
    "# Solution Cell\n",
    "\n",
    "def recursive_sum(mylist):\n",
    "    \"\"\"\n",
    "    Sum the values of a list recursively.\n",
    "    \n",
    "    Params:\n",
    "      mylist: the list of values, assumed to be numeric\n",
    "      \n",
    "    Return:\n",
    "      integer or real-valued sum of the values\n",
    "    \"\"\"\n",
    "    \n",
    "    # Base case(s)\n",
    "    if len(mylist) == 0:\n",
    "        return 0\n",
    "    if len(mylist) == 1:\n",
    "        return mylist[0]\n",
    "    firstvalue = mylist[0]\n",
    "    rest_value = recursive_sum(mylist[1:])\n",
    "    return firstvalue + rest_value\n",
    "\n",
    "result = recursive_sum([1, 2, 3])\n",
    "print(result)"
   ]
  },
  {
   "cell_type": "code",
   "execution_count": 10,
   "metadata": {
    "deletable": false,
    "editable": false,
    "nbgrader": {
     "cell_type": "code",
     "checksum": "e415446cfe991fbeeae25bc2debd7cf6",
     "grade": true,
     "grade_id": "cell-eeacc5b2cba8e84e",
     "locked": true,
     "points": 1,
     "schema_version": 3,
     "solution": false,
     "task": false
    }
   },
   "outputs": [],
   "source": [
    "assert recursive_sum([]) == 0\n",
    "assert recursive_sum([42.1]) == 42.1\n",
    "assert recursive_sum([1, 2, 3]) == 6"
   ]
  },
  {
   "cell_type": "code",
   "execution_count": null,
   "metadata": {},
   "outputs": [],
   "source": []
  }
 ],
 "metadata": {
  "kernelspec": {
   "display_name": "Python 3",
   "language": "python",
   "name": "python3"
  },
  "language_info": {
   "codemirror_mode": {
    "name": "ipython",
    "version": 3
   },
   "file_extension": ".py",
   "mimetype": "text/x-python",
   "name": "python",
   "nbconvert_exporter": "python",
   "pygments_lexer": "ipython3",
   "version": "3.8.5"
  }
 },
 "nbformat": 4,
 "nbformat_minor": 4
}
