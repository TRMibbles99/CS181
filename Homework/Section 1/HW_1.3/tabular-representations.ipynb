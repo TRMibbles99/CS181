{
 "cells": [
  {
   "cell_type": "markdown",
   "metadata": {},
   "source": [
    "# Denison CS181/DA210"
   ]
  },
  {
   "cell_type": "markdown",
   "metadata": {},
   "source": [
    "---"
   ]
  },
  {
   "cell_type": "markdown",
   "metadata": {},
   "source": [
    "## Tabular Representations Exercises\n",
    "\n",
    "*Execute the prolog cell*"
   ]
  },
  {
   "cell_type": "code",
   "execution_count": 70,
   "metadata": {},
   "outputs": [],
   "source": [
    "import os\n",
    "import io\n",
    "import sys\n",
    "from contextlib import redirect_stdout\n",
    "from IPython.core.debugger import set_trace\n",
    "\n",
    "def add_modules():\n",
    "    \"\"\"\n",
    "    Starting at the current directory and proceeding up the file system\n",
    "    tree, search for a directory named `modules`.  If found, and if not\n",
    "    already there, add to the Python module search path.\n",
    "    \n",
    "    Params: None\n",
    "    \n",
    "    Return: None\n",
    "    \"\"\"\n",
    "    directory = \".\"\n",
    "    levels = 0\n",
    "    while not os.path.isdir(os.path.join(directory, \"modules\")) and \\\n",
    "          levels < 5:\n",
    "        directory = os.path.join(directory, \"..\")\n",
    "        levels += 1\n",
    "    module_path = os.path.abspath(os.path.join(directory, \"modules\"))\n",
    "    if os.path.isdir(module_path):\n",
    "        if not module_path in sys.path:\n",
    "            sys.path.append(module_path)\n",
    "\n",
    "add_modules()\n",
    "import util\n",
    "\n",
    "datadir = util.resolve_dir(\"tabulardata\")"
   ]
  },
  {
   "cell_type": "markdown",
   "metadata": {},
   "source": [
    "### Input File for Exercises\n",
    "\n",
    "In the tabular data directory (as determined in the final line of the prolog cell) is a file named `namespop10.csv`.  This file conforms to the \"simple CSV format\" as described in section 3.4.5 of the textbook.  A prefix of the file contents is diplayed below:\n",
    "```\n",
    "year,sex,name,count,population\n",
    "2010,Female,Isabella,22913,309330000\n",
    "2010,Male,Jacob,22127,309330000\n",
    "2011,Female,Sophia,21842,311580000\n",
    "2011,Male,Jacob,20371,311580000\n",
    "\n",
    "    ...\n",
    "```\n",
    "Since this file was exported as a CSV from Google Sheets, each line ends with the two invisibles of a carriage return and a newline.  The latest year in the dataset is 2018.\n",
    "\n",
    "Note that, in terms of data types for any in-memory data structure created, the year, count, and population columns should be **integers** so that summary information (like min, max, average, etc.) can be calculated from their values."
   ]
  },
  {
   "cell_type": "markdown",
   "metadata": {},
   "source": [
    "**Q** Write a function\n",
    "\n",
    "    readNamesPopLoL(path)\n",
    "    \n",
    "that reads from the CSV file at location `path` and returns two items:\n",
    "\n",
    "- a list of strings of the column variable names obtained from the first line,\n",
    "- a list of row lists (LoL) data structure containing the data obtained from the file.  The field values in the row lists should be the correct data type (with integers for the first, forth, and fifth elements of the row).\n",
    "\n",
    "You can assume that the data is formatted as described above, but your function should work correctly even if the file directory, the file name, or the number of lines in the file were different from the example `namespop10.csv` file.\n",
    "\n",
    "You should return `None, None` if no file is found at the specified location."
   ]
  },
  {
   "cell_type": "code",
   "execution_count": 71,
   "metadata": {
    "deletable": false,
    "nbgrader": {
     "cell_type": "code",
     "checksum": "74a95c756e12164fcd0970aec0d57171",
     "grade": false,
     "grade_id": "cell-eb4cae9d7b11d1e0",
     "locked": false,
     "schema_version": 3,
     "solution": true,
     "task": false
    }
   },
   "outputs": [],
   "source": [
    "def readNamesPopLoL(path):\n",
    "    \"\"\"\n",
    "    This function organizes data from csv files and puts \n",
    "    the data in a list of lists. It also puts the headers\n",
    "    for each column in another list.\n",
    "    \n",
    "    Params: path: this is the path of the file that will\n",
    "    have its data organized.\n",
    "    \n",
    "    Return: columns, LoL: returns two lists, the first is\n",
    "            has the names of each column and the second \n",
    "            is the data from the file.\n",
    "            None, None: this is returned when the path \n",
    "            does not lead to a file\n",
    "    \"\"\"\n",
    "    if os.path.isfile(path):\n",
    "        with open(path) as f:\n",
    "            line1 = f.readline()\n",
    "            trimheaders = line1.strip()\n",
    "            columns = trimheaders.split(',')\n",
    "            \n",
    "            LoL = []\n",
    "            for line in f:\n",
    "                linetrim = line.strip()\n",
    "                fields = linetrim.split(',')\n",
    "                fields[0] = int(fields[0])\n",
    "                fields[3] = int(fields[3])\n",
    "                fields[4] = int(fields[4])\n",
    "                LoL.append(fields)\n",
    "        return columns, LoL\n",
    "    return None, None"
   ]
  },
  {
   "cell_type": "code",
   "execution_count": 72,
   "metadata": {},
   "outputs": [
    {
     "name": "stdout",
     "output_type": "stream",
     "text": [
      "['year', 'sex', 'name', 'count', 'population']\n",
      "[[2010, 'Female', 'Isabella', 22913, 309330000], [2010, 'Male', 'Jacob', 22127, 309330000], [2011, 'Female', 'Sophia', 21842, 311580000], [2011, 'Male', 'Jacob', 20371, 311580000], [2012, 'Female', 'Sophia', 22313, 313870000], [2012, 'Male', 'Jacob', 19074, 313870000], [2013, 'Female', 'Sophia', 21223, 316060000], [2013, 'Male', 'Noah', 18257, 316060000], [2014, 'Female', 'Emma', 20936, 318390000], [2014, 'Male', 'Noah', 19305, 318390000], [2015, 'Female', 'Emma', 20455, 320740000], [2015, 'Male', 'Noah', 19635, 320740000], [2016, 'Female', 'Emma', 19496, 323070000], [2016, 'Male', 'Noah', 19117, 323070000], [2017, 'Female', 'Emma', 19800, 325150000], [2017, 'Male', 'Liam', 18798, 325150000], [2018, 'Female', 'Emma', 18688, 327170000], [2018, 'Male', 'Liam', 19837, 327170000]]\n"
     ]
    }
   ],
   "source": [
    "# Experimentation cell for students to debug\n",
    "\n",
    "path = os.path.join(datadir, \"namespop10.csv\")\n",
    "assert os.path.isfile(path)\n",
    "\n",
    "columns, dataset = readNamesPopLoL(path)\n",
    "print(columns)\n",
    "print(dataset)"
   ]
  },
  {
   "cell_type": "code",
   "execution_count": 73,
   "metadata": {
    "deletable": false,
    "editable": false,
    "nbgrader": {
     "cell_type": "code",
     "checksum": "f544c7d930a897afebb15143279d3a67",
     "grade": true,
     "grade_id": "cell-b7174e0404ab8501",
     "locked": true,
     "points": 4,
     "schema_version": 3,
     "solution": false,
     "task": false
    }
   },
   "outputs": [],
   "source": [
    "# Testing cell\n",
    "\n",
    "columns, dataset = readNamesPopLoL(os.path.join(datadir, \"namespop10.csv\"))\n",
    "assert columns == ['year', 'sex', 'name', 'count', 'population']\n",
    "assert len(dataset) == 18\n",
    "assert isinstance(dataset, list)\n",
    "assert isinstance(dataset[0], list)\n",
    "assert len(dataset[0]) == 5\n"
   ]
  },
  {
   "cell_type": "markdown",
   "metadata": {},
   "source": [
    "**Q** Create a function\n",
    "\n",
    "    columnAverageLoL(datasetLoL, column_index)\n",
    "    \n",
    "that computes the average of the numbers in a column in a list of lists data set, where the column is given by the integer parameter `column_index`.  For the `namespop10` dataset, we could compute the average of the values in column 0 (the year), column 3 (the count), or column 4 (the population).  The function should return the numeric average, and need not handle the case where the specified column values do **not** contain numeric data types."
   ]
  },
  {
   "cell_type": "code",
   "execution_count": 74,
   "metadata": {
    "deletable": false,
    "nbgrader": {
     "cell_type": "code",
     "checksum": "e77e54e9c213bbeb5cf184e71cebe8bf",
     "grade": false,
     "grade_id": "cell-3019d0d97c906da9",
     "locked": false,
     "schema_version": 3,
     "solution": true,
     "task": false
    }
   },
   "outputs": [],
   "source": [
    "def columnAverage(datasetLoL, column_index):\n",
    "    \"\"\"\n",
    "    This returns the average of the integers in the \n",
    "    columns of a dataset arranged in a list of lists.\n",
    "    \n",
    "    Params: datasetLoL: the list of list that will be\n",
    "            used to find the column average.\n",
    "            column_index: the index of the column that\n",
    "            needs to be averaged.\n",
    "    \n",
    "    Return: average of the integers in the column of the\n",
    "            dataset\n",
    "    \"\"\"\n",
    "    average = 0;\n",
    "    for item in datasetLoL:\n",
    "        average = average + item[column_index]\n",
    "    return average/len(datasetLoL)"
   ]
  },
  {
   "cell_type": "code",
   "execution_count": 75,
   "metadata": {},
   "outputs": [
    {
     "name": "stdout",
     "output_type": "stream",
     "text": [
      "5.0\n",
      "4.5\n",
      "6.0\n"
     ]
    }
   ],
   "source": [
    "# Experimentation cell for students to debug\n",
    "\n",
    "LoL0 = [\n",
    "    [5, 3, 7, 2]\n",
    "]\n",
    "\n",
    "LoL1 = [\n",
    "    [5, 3, 7, 2],\n",
    "    [4, 4, 8, 3]\n",
    "]\n",
    "\n",
    "LoL2 = [\n",
    "    [5, 3, 7, 2],\n",
    "    [4, 4, 8, 3],\n",
    "    [9, 3, 0, 4]\n",
    "]\n",
    "\n",
    "print(columnAverage(LoL0, 0))\n",
    "print(columnAverage(LoL1, 0))\n",
    "print(columnAverage(LoL2, 0))"
   ]
  },
  {
   "cell_type": "code",
   "execution_count": 76,
   "metadata": {
    "deletable": false,
    "editable": false,
    "nbgrader": {
     "cell_type": "code",
     "checksum": "51561b5aff3b6f88479774907bc76ddf",
     "grade": true,
     "grade_id": "cell-0fff84ac39207525",
     "locked": true,
     "points": 3,
     "schema_version": 3,
     "solution": false,
     "task": false
    }
   },
   "outputs": [],
   "source": [
    "LoL2 = [\n",
    "    [5, 3, 7, 2],\n",
    "    [4, 4, 8, 3],\n",
    "    [9, 5, 0, 4]\n",
    "]\n",
    "assert columnAverage(LoL2, 0) == 6.0\n",
    "assert columnAverage(LoL2, 1) == 4.0\n",
    "assert columnAverage(LoL2, 2) == 5.0\n"
   ]
  },
  {
   "cell_type": "markdown",
   "metadata": {},
   "source": [
    "**Q** Write a function\n",
    "\n",
    "    readNamesPopDoL(path)\n",
    "    \n",
    "that reads from the CSV file at location `path` and returns a dictionary of column lists (DoL) representation of the data.  \n",
    "\n",
    "You can assume that the data is formatted as described above, but your function should work correctly even if the file directory, the file name, or the number of lines in the file were different from the example `namespop10.csv` file.\n",
    "\n",
    "You should return `None` if no file is found at the specified location."
   ]
  },
  {
   "cell_type": "code",
   "execution_count": 77,
   "metadata": {
    "deletable": false,
    "nbgrader": {
     "cell_type": "code",
     "checksum": "8ea6d84576c19025c005698660c6183c",
     "grade": false,
     "grade_id": "cell-18431b2b6be22aea",
     "locked": false,
     "schema_version": 3,
     "solution": true,
     "task": false
    }
   },
   "outputs": [],
   "source": [
    "def readNamesPopDoL(path):\n",
    "    \"\"\"\n",
    "    This function returns a dictionary of lists that\n",
    "    contains data from a csv file.\n",
    "    \n",
    "    Params: path: the path of the file that will get its\n",
    "            data organized.\n",
    "    \n",
    "    Return: DoL: the dictionary of lists with the \n",
    "            organized data.\n",
    "            None: if the path does not lead to a file.\n",
    "    \"\"\"\n",
    "    if os.path.isfile(path):\n",
    "        DoL = {}\n",
    "        with open(path) as fObj:\n",
    "            line1 = fObj.readline()\n",
    "            keys = line1.strip().split(',')\n",
    "            for item in keys:\n",
    "                DoL[item] = []\n",
    "            for line in fObj:\n",
    "                fields = line.strip().split(',')\n",
    "                fields[0] = int(fields[0])\n",
    "                fields[3] = int(fields[3])\n",
    "                fields[4] = int(fields[4])\n",
    "                for i in range(len(keys)):\n",
    "                    DoL[keys[i]].append(fields[i])\n",
    "        return DoL        \n",
    "    return None"
   ]
  },
  {
   "cell_type": "code",
   "execution_count": 78,
   "metadata": {},
   "outputs": [
    {
     "name": "stdout",
     "output_type": "stream",
     "text": [
      "{'year': [2010, 2010, 2011, 2011, 2012, 2012, 2013, 2013, 2014, 2014, 2015, 2015, 2016, 2016, 2017, 2017, 2018, 2018], 'sex': ['Female', 'Male', 'Female', 'Male', 'Female', 'Male', 'Female', 'Male', 'Female', 'Male', 'Female', 'Male', 'Female', 'Male', 'Female', 'Male', 'Female', 'Male'], 'name': ['Isabella', 'Jacob', 'Sophia', 'Jacob', 'Sophia', 'Jacob', 'Sophia', 'Noah', 'Emma', 'Noah', 'Emma', 'Noah', 'Emma', 'Noah', 'Emma', 'Liam', 'Emma', 'Liam'], 'count': [22913, 22127, 21842, 20371, 22313, 19074, 21223, 18257, 20936, 19305, 20455, 19635, 19496, 19117, 19800, 18798, 18688, 19837], 'population': [309330000, 309330000, 311580000, 311580000, 313870000, 313870000, 316060000, 316060000, 318390000, 318390000, 320740000, 320740000, 323070000, 323070000, 325150000, 325150000, 327170000, 327170000]}\n"
     ]
    }
   ],
   "source": [
    "# Experimentation cell for students to debug\n",
    "\n",
    "path = os.path.join(datadir, \"namespop10.csv\")\n",
    "assert os.path.isfile(path)\n",
    "\n",
    "dataset = readNamesPopDoL(path)\n",
    "print(dataset)"
   ]
  },
  {
   "cell_type": "code",
   "execution_count": 79,
   "metadata": {
    "deletable": false,
    "editable": false,
    "nbgrader": {
     "cell_type": "code",
     "checksum": "495a6c2f3b408e6e7ec8fb6f16bd7c23",
     "grade": true,
     "grade_id": "cell-1219c82de0c359f8",
     "locked": true,
     "points": 4,
     "schema_version": 3,
     "solution": false,
     "task": false
    }
   },
   "outputs": [],
   "source": [
    "# Testing cell\n",
    "\n",
    "dataset = readNamesPopDoL(os.path.join(datadir, \"namespop10.csv\"))\n",
    "assert isinstance(dataset, dict)\n",
    "for column in ['year', 'sex', 'name', 'count', 'population']:\n",
    "    assert column in dataset\n",
    "assert len(dataset['year']) == 18\n",
    "assert isinstance(dataset['year'], list)\n"
   ]
  },
  {
   "cell_type": "markdown",
   "metadata": {},
   "source": [
    "**Q** Write a function\n",
    "\n",
    "    getNamesPopDoLRow(dataset, row_index)\n",
    "\n",
    "that obtains a single row from a dictionary of lists representation of the `namespop` dataset, where the DoL is given by `dataset` and the row index is given by `row_index`.  The row should be representd as a list of the field values.\n",
    "\n",
    "For example, if we wanted to obtain row 17 (the last row) from the example data set, then `getNamesPopDoLRow(dataset, 17)` would yield the list\n",
    "\n",
    "    [2018, 'Male', 'Liam', 19837, 327170000]\n",
    "    \n",
    "    "
   ]
  },
  {
   "cell_type": "code",
   "execution_count": 80,
   "metadata": {
    "deletable": false,
    "nbgrader": {
     "cell_type": "code",
     "checksum": "1bbc928b0ee3d15df01beffe9d125f0e",
     "grade": false,
     "grade_id": "cell-0d70f38c9ed446b1",
     "locked": false,
     "schema_version": 3,
     "solution": true,
     "task": false
    }
   },
   "outputs": [],
   "source": [
    "def getNamesPopDoLRow(dataset, row_index):\n",
    "    \"\"\"\n",
    "    This function makes a list of the data in a row of a\n",
    "    dictionary of lists.\n",
    "    \n",
    "    Params: dataset: the dictionary of lists that the row\n",
    "            is needed from.\n",
    "            row_index: the index of the row that the data\n",
    "            is located in.\n",
    "    \n",
    "    Return: rowList: the list that has the data from a row\n",
    "            of a dictionary of lists.\n",
    "    \"\"\"\n",
    "    rowList = []\n",
    "    for item in dataset:\n",
    "        rowList.append(dataset[item][row_index])\n",
    "    return rowList"
   ]
  },
  {
   "cell_type": "code",
   "execution_count": 81,
   "metadata": {},
   "outputs": [
    {
     "name": "stdout",
     "output_type": "stream",
     "text": [
      "[2016, 'Female', 'Emma', 19496, 323070000]\n"
     ]
    }
   ],
   "source": [
    "# Experimentation cell for students to debug\n",
    "\n",
    "dataset = {'year': [2016, 2016, 2017, 2017, 2018, 2018], \n",
    "           'sex': ['Female', 'Male', 'Female', 'Male', 'Female', 'Male'], \n",
    "           'name': ['Emma', 'Noah', 'Emma', 'Liam', 'Emma', 'Liam'], \n",
    "           'count': [19496, 19117, 19800, 18798, 18688, 19837], \n",
    "           'population': [323070000, 323070000, 325150000, \n",
    "                          325150000, 327170000, 327170000]}\n",
    "\n",
    "print(getNamesPopDoLRow(dataset, 0))"
   ]
  },
  {
   "cell_type": "code",
   "execution_count": 82,
   "metadata": {
    "deletable": false,
    "editable": false,
    "nbgrader": {
     "cell_type": "code",
     "checksum": "68b74f706bc08731f0e49c8a5f5d0350",
     "grade": true,
     "grade_id": "cell-c9ef218d2a8c6ac5",
     "locked": true,
     "points": 3,
     "schema_version": 3,
     "solution": false,
     "task": false
    }
   },
   "outputs": [],
   "source": [
    "dataset = {'year': [2016, 2016, 2017, 2017, 2018, 2018], \n",
    "           'sex': ['Female', 'Male', 'Female', 'Male', 'Female', 'Male'], \n",
    "           'name': ['Emma', 'Noah', 'Emma', 'Liam', 'Emma', 'Liam'], \n",
    "           'count': [19496, 19117, 19800, 18798, 18688, 19837], \n",
    "           'population': [323070000, 323070000, 325150000, \n",
    "                          325150000, 327170000, 327170000]}\n",
    "assert getNamesPopDoLRow(dataset, 0) == [2016, 'Female', 'Emma', 19496, 323070000]\n",
    "assert getNamesPopDoLRow(dataset, 5) == [2018, 'Male', 'Liam', 19837, 327170000]"
   ]
  },
  {
   "cell_type": "code",
   "execution_count": null,
   "metadata": {},
   "outputs": [],
   "source": []
  }
 ],
 "metadata": {
  "kernelspec": {
   "display_name": "Python 3",
   "language": "python",
   "name": "python3"
  },
  "language_info": {
   "codemirror_mode": {
    "name": "ipython",
    "version": 3
   },
   "file_extension": ".py",
   "mimetype": "text/x-python",
   "name": "python",
   "nbconvert_exporter": "python",
   "pygments_lexer": "ipython3",
   "version": "3.8.5"
  }
 },
 "nbformat": 4,
 "nbformat_minor": 4
}
