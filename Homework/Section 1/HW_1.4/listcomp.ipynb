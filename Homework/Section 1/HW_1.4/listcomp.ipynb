{
 "cells": [
  {
   "cell_type": "markdown",
   "metadata": {},
   "source": [
    "# Denison CS-181/DA-210 Homework"
   ]
  },
  {
   "cell_type": "markdown",
   "metadata": {},
   "source": [
    "---"
   ]
  },
  {
   "cell_type": "markdown",
   "metadata": {},
   "source": [
    "## List Comprehension Exercises\n",
    "\n",
    "*Execute the prolog cell*"
   ]
  },
  {
   "cell_type": "code",
   "execution_count": 1,
   "metadata": {},
   "outputs": [],
   "source": [
    "import os\n",
    "import io\n",
    "import sys\n",
    "from contextlib import redirect_stdout\n",
    "from IPython.core.debugger import set_trace\n",
    "\n",
    "def add_modules():\n",
    "    \"\"\"\n",
    "    Starting at the current directory and proceeding up the file system\n",
    "    tree, search for a directory named `modules`.  If found, and if not\n",
    "    already there, add to the Python module search path.\n",
    "    \n",
    "    Params: None\n",
    "    \n",
    "    Return: None\n",
    "    \"\"\"\n",
    "    directory = \".\"\n",
    "    levels = 0\n",
    "    while not os.path.isdir(os.path.join(directory, \"modules\")) and \\\n",
    "          levels < 5:\n",
    "        directory = os.path.join(directory, \"..\")\n",
    "        levels += 1\n",
    "    module_path = os.path.abspath(os.path.join(directory, \"modules\"))\n",
    "    if os.path.isdir(module_path):\n",
    "        if not module_path in sys.path:\n",
    "            sys.path.append(module_path)\n",
    "\n",
    "add_modules()\n",
    "import util"
   ]
  },
  {
   "cell_type": "markdown",
   "metadata": {},
   "source": [
    "**Q1** Suppose we have a list of strings, named by `L1`, such as the following example:\n",
    "\n",
    "    L1 = ['this', 'is', 'a', 'short', 'list']\n",
    "    \n",
    "Write code using a list comprehension to assign to `L2` a list composed of the lengths of each of the items in `L1`."
   ]
  },
  {
   "cell_type": "code",
   "execution_count": 2,
   "metadata": {
    "deletable": false,
    "nbgrader": {
     "cell_type": "code",
     "checksum": "840f5fa70ff4f040f76f77b8b66e8beb",
     "grade": false,
     "grade_id": "cell-26e10e0d9c1057b9",
     "locked": false,
     "schema_version": 3,
     "solution": true,
     "task": false
    }
   },
   "outputs": [
    {
     "name": "stdout",
     "output_type": "stream",
     "text": [
      "[4, 2, 1, 5, 4]\n"
     ]
    }
   ],
   "source": [
    "L1 = ['this', 'is', 'a', 'short', 'list']\n",
    "L2 = [len(item) for item in L1]\n",
    "\n",
    "print(L2)"
   ]
  },
  {
   "cell_type": "code",
   "execution_count": 3,
   "metadata": {
    "deletable": false,
    "editable": false,
    "nbgrader": {
     "cell_type": "code",
     "checksum": "f455dc4806d0a84b6a1553f5d533a30b",
     "grade": true,
     "grade_id": "cell-a97a611df60f4c22",
     "locked": true,
     "points": 2,
     "schema_version": 3,
     "solution": false,
     "task": false
    }
   },
   "outputs": [],
   "source": [
    "assert L2 == [4, 2, 1, 5, 4]"
   ]
  },
  {
   "cell_type": "markdown",
   "metadata": {},
   "source": [
    "**Q2** Abstract your work from the previous question by writing a function\n",
    "\n",
    "    vectorLengths(data)\n",
    " \n",
    "that generates and returns a new list based on the list in `data`, containing the lengths of the elements in `data`.  Use a list comprehension."
   ]
  },
  {
   "cell_type": "code",
   "execution_count": 4,
   "metadata": {
    "deletable": false,
    "nbgrader": {
     "cell_type": "code",
     "checksum": "726824a59eb5b4362cbbbd5e74daa267",
     "grade": false,
     "grade_id": "cell-4e069cba131d2102",
     "locked": false,
     "schema_version": 3,
     "solution": true,
     "task": false
    }
   },
   "outputs": [
    {
     "name": "stdout",
     "output_type": "stream",
     "text": [
      "[4, 2, 1, 5, 4]\n"
     ]
    }
   ],
   "source": [
    "def vectorLengths(data):\n",
    "    '''\n",
    "    This function takes in a list and returns another list with\n",
    "    the length of the items in each index of the original list.\n",
    "    \n",
    "    Params: data: The list that will be examined.\n",
    "    \n",
    "    Returns: A list with the lengths of the items in the\n",
    "             original list.\n",
    "    '''\n",
    "    return [len(item) for item in data]\n",
    "print(vectorLengths(['this', 'is', 'a', 'short', 'list']))"
   ]
  },
  {
   "cell_type": "code",
   "execution_count": 5,
   "metadata": {
    "deletable": false,
    "editable": false,
    "nbgrader": {
     "cell_type": "code",
     "checksum": "e54b3e58c42305c024994ce59a2f7ceb",
     "grade": true,
     "grade_id": "cell-98dd199fb2f32ed2",
     "locked": true,
     "points": 2,
     "schema_version": 3,
     "solution": false,
     "task": false
    }
   },
   "outputs": [],
   "source": [
    "assert vectorLengths(['this', 'is', 'a', 'short', 'list']) == [4, 2, 1, 5, 4]\n",
    "assert vectorLengths([]) == []\n",
    "assert vectorLengths(['a', 'ab', 'abc']) == [1, 2, 3]\n",
    "\n",
    "temps = [\n",
    "   ['01-03', 'Dallas', 75, 48],\n",
    "   ['01-04', 'Dallas', 63, 46],\n",
    "   ['01-05', 'Dallas', 71, 54]\n",
    "]\n",
    "\n",
    "assert vectorLengths(temps) == [4, 4, 4]"
   ]
  },
  {
   "cell_type": "markdown",
   "metadata": {},
   "source": [
    "**Q3** Suppose we want to implement the binary vector operation of \"less than or equal\", where, given vectors `a` and `b`, a resultant vector `c` is the list of **boolean** `True` or `False` values, where each $c_i$ is the boolean comparison $a_i \\le b_i$.  So, for example, if\n",
    "\n",
    "    a = [4, 7, 2]\n",
    "    b = [5, 6, 2]\n",
    "\n",
    "the result, `c` is `[True, False, True]`.  Use a list comprehension to compute `c`, given that `a` and `b` are lists of numeric values of the same length."
   ]
  },
  {
   "cell_type": "code",
   "execution_count": 6,
   "metadata": {
    "deletable": false,
    "nbgrader": {
     "cell_type": "code",
     "checksum": "4d40df3245367c0e08700a21033232d8",
     "grade": false,
     "grade_id": "cell-debbac193f13bbb5",
     "locked": false,
     "schema_version": 3,
     "solution": true,
     "task": false
    }
   },
   "outputs": [
    {
     "name": "stdout",
     "output_type": "stream",
     "text": [
      "[True, False, True]\n"
     ]
    }
   ],
   "source": [
    "a = [4, 7, 2]\n",
    "b = [5, 6, 2]\n",
    "c = [item[0] <= item[1] for item in zip(a,b)]\n",
    "\n",
    "print(c)"
   ]
  },
  {
   "cell_type": "code",
   "execution_count": 7,
   "metadata": {
    "deletable": false,
    "editable": false,
    "nbgrader": {
     "cell_type": "code",
     "checksum": "3e16b3a6408dc2f349ecca010c36b6fa",
     "grade": true,
     "grade_id": "cell-4e9df362c27e8bb1",
     "locked": true,
     "points": 2,
     "schema_version": 3,
     "solution": false,
     "task": false
    }
   },
   "outputs": [],
   "source": [
    "assert isinstance(c, list)\n",
    "assert isinstance(c[0], bool)\n",
    "assert len(c) == 3\n",
    "assert c == [True, False, True]"
   ]
  },
  {
   "cell_type": "markdown",
   "metadata": {},
   "source": [
    "**Q4** Write a function\n",
    "\n",
    "    dropTwosThrees(L)\n",
    "    \n",
    "that uses a list comprehension to create and return a filtered list from `L`, which only includes the elements of L whose values are *not* 2 or 3."
   ]
  },
  {
   "cell_type": "code",
   "execution_count": 8,
   "metadata": {
    "deletable": false,
    "nbgrader": {
     "cell_type": "code",
     "checksum": "0450154b65c44e93835dc1afa26d8901",
     "grade": false,
     "grade_id": "cell-fd3f53043982493e",
     "locked": false,
     "schema_version": 3,
     "solution": true,
     "task": false
    }
   },
   "outputs": [
    {
     "name": "stdout",
     "output_type": "stream",
     "text": [
      "[7, 4, 5, 6, 1]\n"
     ]
    }
   ],
   "source": [
    "def dropTwosThrees(L):\n",
    "    '''\n",
    "    This function takes in a list and takes out the\n",
    "    2's and 3's from the orignal list.\n",
    "    \n",
    "    Params: L: A list of integers.\n",
    "    \n",
    "    Returns: A list of integers that does not have 2's\n",
    "             or 3's.\n",
    "    '''\n",
    "    return [item for item in L if item != 2 and item != 3]\n",
    "print(dropTwosThrees([7, 2, 4, 3, 3, 5, 2, 6, 1]))"
   ]
  },
  {
   "cell_type": "code",
   "execution_count": 9,
   "metadata": {
    "deletable": false,
    "editable": false,
    "nbgrader": {
     "cell_type": "code",
     "checksum": "5a6e5bb04f5db2bfd1bcbee437062081",
     "grade": true,
     "grade_id": "cell-8abcf23c44a4ab5c",
     "locked": true,
     "points": 2,
     "schema_version": 3,
     "solution": false,
     "task": false
    }
   },
   "outputs": [],
   "source": [
    "assert dropTwosThrees([7, 2, 4, 3, 3, 5, 2, 6, 1]) == [7, 4, 5, 6, 1]"
   ]
  },
  {
   "cell_type": "markdown",
   "metadata": {},
   "source": [
    "**Q5** Write a function \n",
    "\n",
    "    getLoLcolumn(LoL, column_index)\n",
    "\n",
    "that uses a list comprehension to compose and return a new list whose values are the **column** from the list of lists, `LoL` as determined by `column_index`.  So if the `LoL` were\n",
    "```python\n",
    "[\n",
    "    ['01-07', 'Columbus', 34, 29],\n",
    "    ['01-08', 'Columbus', 51, 27],\n",
    "    ['01-09', 'Columbus', 47, 37],\n",
    "    ['01-03', 'Dallas',   75, 48],\n",
    "    ['01-04', 'Dallas',   63, 46]\n",
    "]\n",
    "```\n",
    "and we used a column index of 3, the function would return `[29, 27, 37, 48, 46]`."
   ]
  },
  {
   "cell_type": "code",
   "execution_count": 10,
   "metadata": {
    "deletable": false,
    "nbgrader": {
     "cell_type": "code",
     "checksum": "ea913751d2f1dece9020917202f9f5b1",
     "grade": false,
     "grade_id": "cell-bd11e983c03c1cf0",
     "locked": false,
     "schema_version": 3,
     "solution": true,
     "task": false
    }
   },
   "outputs": [
    {
     "name": "stdout",
     "output_type": "stream",
     "text": [
      "[29, 27, 37, 48, 46]\n"
     ]
    }
   ],
   "source": [
    "def getLoLcolumn(LoL, column_index):\n",
    "    '''\n",
    "    This function returns a column of a list of lists.\n",
    "    The column is returned in a list.\n",
    "    \n",
    "    Params: LoL: A list of lists.\n",
    "            column_index: An integer that will represent\n",
    "                          the column index.\n",
    "    \n",
    "    Returns: A list of the items in the given column spots\n",
    "             of a list of lists.\n",
    "    '''\n",
    "    return [item[column_index] for item in LoL]\n",
    "t = [\n",
    "    ['01-07', 'Columbus', 34, 29],\n",
    "    ['01-08', 'Columbus', 51, 27],\n",
    "    ['01-09', 'Columbus', 47, 37],\n",
    "    ['01-03', 'Dallas',   75, 48],\n",
    "    ['01-04', 'Dallas',   63, 46]\n",
    "]\n",
    "print(getLoLcolumn(t, 3))"
   ]
  },
  {
   "cell_type": "code",
   "execution_count": 11,
   "metadata": {
    "deletable": false,
    "editable": false,
    "nbgrader": {
     "cell_type": "code",
     "checksum": "0b585748e9c6ef2cef214c18db414949",
     "grade": true,
     "grade_id": "cell-f9e3f921684f3df4",
     "locked": true,
     "points": 2,
     "schema_version": 3,
     "solution": false,
     "task": false
    }
   },
   "outputs": [],
   "source": [
    "t = [\n",
    "    ['01-07', 'Columbus', 34, 29],\n",
    "    ['01-08', 'Columbus', 51, 27],\n",
    "    ['01-09', 'Columbus', 47, 37],\n",
    "    ['01-03', 'Dallas',   75, 48],\n",
    "    ['01-04', 'Dallas',   63, 46]\n",
    "]\n",
    "assert getLoLcolumn(t, 3) == [29, 27, 37, 48, 46]"
   ]
  },
  {
   "cell_type": "code",
   "execution_count": null,
   "metadata": {},
   "outputs": [],
   "source": []
  }
 ],
 "metadata": {
  "kernelspec": {
   "display_name": "Python 3",
   "language": "python",
   "name": "python3"
  },
  "language_info": {
   "codemirror_mode": {
    "name": "ipython",
    "version": 3
   },
   "file_extension": ".py",
   "mimetype": "text/x-python",
   "name": "python",
   "nbconvert_exporter": "python",
   "pygments_lexer": "ipython3",
   "version": "3.8.5"
  }
 },
 "nbformat": 4,
 "nbformat_minor": 4
}
