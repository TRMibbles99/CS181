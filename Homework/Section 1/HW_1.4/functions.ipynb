{
 "cells": [
  {
   "cell_type": "markdown",
   "metadata": {},
   "source": [
    "# Denison CS-181/DA-210 Homework"
   ]
  },
  {
   "cell_type": "markdown",
   "metadata": {},
   "source": [
    "---"
   ]
  },
  {
   "cell_type": "markdown",
   "metadata": {},
   "source": [
    "## Functions and Lambda Expressions\n",
    "\n",
    "*Execute the prolog cell*"
   ]
  },
  {
   "cell_type": "code",
   "execution_count": 1,
   "metadata": {},
   "outputs": [],
   "source": [
    "import os\n",
    "import io\n",
    "import sys\n",
    "from contextlib import redirect_stdout\n",
    "\n",
    "def add_modules():\n",
    "    \"\"\"\n",
    "    Starting at the current directory and proceeding up the file system\n",
    "    tree, search for a directory named `modules`.  If found, and if not\n",
    "    already there, add to the Python module search path.\n",
    "    \n",
    "    Params: None\n",
    "    \n",
    "    Return: None\n",
    "    \"\"\"\n",
    "    directory = \".\"\n",
    "    levels = 0\n",
    "    while not os.path.isdir(os.path.join(directory, \"modules\")) and \\\n",
    "          levels < 5:\n",
    "        directory = os.path.join(directory, \"..\")\n",
    "        levels += 1\n",
    "    module_path = os.path.abspath(os.path.join(directory, \"modules\"))\n",
    "    if os.path.isdir(module_path):\n",
    "        if not module_path in sys.path:\n",
    "            sys.path.append(module_path)\n",
    "\n",
    "add_modules()\n",
    "import util"
   ]
  },
  {
   "cell_type": "markdown",
   "metadata": {},
   "source": [
    "**Q1** Write a lambda function that takes three parameters and multiplies them together.  Assign the lambda function expression to `mult3`."
   ]
  },
  {
   "cell_type": "code",
   "execution_count": 2,
   "metadata": {
    "deletable": false,
    "nbgrader": {
     "cell_type": "code",
     "checksum": "feeec88828b79982cf5e5c1052ea5d5c",
     "grade": false,
     "grade_id": "cell-c3740a7586d5d621",
     "locked": false,
     "schema_version": 3,
     "solution": true,
     "task": false
    }
   },
   "outputs": [
    {
     "data": {
      "text/plain": [
       "1080"
      ]
     },
     "execution_count": 2,
     "metadata": {},
     "output_type": "execute_result"
    }
   ],
   "source": [
    "# Solution cell\n",
    "\n",
    "mult3 = lambda x, y, z : x*y*z\n",
    "mult3(10,12, 9)"
   ]
  },
  {
   "cell_type": "code",
   "execution_count": 3,
   "metadata": {
    "deletable": false,
    "editable": false,
    "nbgrader": {
     "cell_type": "code",
     "checksum": "d1102c10a86300686e27e8c6126a7d24",
     "grade": true,
     "grade_id": "cell-26c960f88ccba2cb",
     "locked": true,
     "points": 1,
     "schema_version": 3,
     "solution": false,
     "task": false
    }
   },
   "outputs": [],
   "source": [
    "assert mult3(10, 12, 9) == 1080"
   ]
  },
  {
   "cell_type": "markdown",
   "metadata": {},
   "source": [
    "**Q2** Write a lambda expression and assign it to the variable `oddcubed` such that it cubes the value of its single argument if the argument is odd, and doubles it if the argument if it is even.\n",
    "\n",
    "Afterward, for example, expression `oddcubed(5)` should yield `125`, while `oddcubed(4)` should yield `8`.\n",
    "\n",
    "Hint: We need an *expression* to handle an `if` type condition.  See the book discussion on the ternary `if`."
   ]
  },
  {
   "cell_type": "code",
   "execution_count": 4,
   "metadata": {
    "deletable": false,
    "nbgrader": {
     "cell_type": "code",
     "checksum": "733df49c971eeadc31fe3967df250cce",
     "grade": false,
     "grade_id": "cell-2d5fb1f763401dd7",
     "locked": false,
     "schema_version": 3,
     "solution": true,
     "task": false
    }
   },
   "outputs": [
    {
     "name": "stdout",
     "output_type": "stream",
     "text": [
      "125\n",
      "8\n"
     ]
    }
   ],
   "source": [
    "# Solution cell\n",
    "\n",
    "oddcubed = lambda x : x**3 if x % 2 != 0 else 2*x\n",
    "\n",
    "print(oddcubed(5))\n",
    "print(oddcubed(4))\n"
   ]
  },
  {
   "cell_type": "code",
   "execution_count": 5,
   "metadata": {
    "deletable": false,
    "editable": false,
    "nbgrader": {
     "cell_type": "code",
     "checksum": "8ed118a3ae51d34064e5ce2fcffeede8",
     "grade": true,
     "grade_id": "cell-a02c95146482fa97",
     "locked": true,
     "points": 2,
     "schema_version": 3,
     "solution": false,
     "task": false
    }
   },
   "outputs": [],
   "source": [
    "assert oddcubed(5) == 125\n",
    "assert oddcubed(0) == 0\n",
    "assert oddcubed(-1) == -1\n",
    "assert oddcubed(2) == 4\n",
    "assert oddcubed(-2) == -4"
   ]
  },
  {
   "cell_type": "markdown",
   "metadata": {},
   "source": [
    "**Q3** Write a function\n",
    "\n",
    "`whichIsSmaller(f1,f2,n)`\n",
    "\n",
    "which, in the body of the function, computes `f1(n)` and `f2(n)`, and returns a reference to the function (`f1` or `f2`) which results in the smaller resultant value when an integer `n` is passed as a parameter. In case of a tie, return the first passed function (`f1`). Test with `fun1(x)` defined as $x^3$ and `fun2(x)` defined as $5x^2+4$ and using $n=2$. Test again with $n=100$."
   ]
  },
  {
   "cell_type": "code",
   "execution_count": 6,
   "metadata": {
    "deletable": false,
    "nbgrader": {
     "cell_type": "code",
     "checksum": "4b235a12e40cff411ce335761ec233f6",
     "grade": false,
     "grade_id": "cell-456f1456d974fe9f",
     "locked": false,
     "schema_version": 3,
     "solution": true,
     "task": false
    }
   },
   "outputs": [
    {
     "name": "stdout",
     "output_type": "stream",
     "text": [
      "<function fun1 at 0x000002C389BDB9D0>\n",
      "<function fun2 at 0x000002C389BDB940>\n"
     ]
    }
   ],
   "source": [
    "# Solution cell\n",
    "def whichIsSmaller(f1,f2,n):\n",
    "    '''\n",
    "    This function takes in two functions and an integer, puts\n",
    "    the integer in the two functions and which ever results\n",
    "    in a smaller number will be referenced.\n",
    "    \n",
    "    Params: f1: The first function you will put an integer in.\n",
    "            f2: The second function you will put an integer in.\n",
    "            n: The integer you will pass through the two functions.\n",
    "    \n",
    "    Returns: A reference to the function that outputs the smaller\n",
    "             result.\n",
    "    '''\n",
    "    if f1(n) <= f2(n):\n",
    "        return f1\n",
    "    return f2\n",
    "\n",
    "def fun1(x):\n",
    "    return x**3\n",
    "\n",
    "def fun2(x):\n",
    "    return 5*x*x + 4\n",
    "\n",
    "print(whichIsSmaller(fun1,fun2,2))\n",
    "print(whichIsSmaller(fun1,fun2,100))"
   ]
  },
  {
   "cell_type": "code",
   "execution_count": 7,
   "metadata": {
    "deletable": false,
    "editable": false,
    "nbgrader": {
     "cell_type": "code",
     "checksum": "cf55a2721094ac906a908859b923cbde",
     "grade": true,
     "grade_id": "cell-dd38486315718564",
     "locked": true,
     "points": 3,
     "schema_version": 3,
     "solution": false,
     "task": false
    }
   },
   "outputs": [],
   "source": [
    "# Testing cell\n",
    "\n",
    "def fun1(x):\n",
    "    return x**3 - 7\n",
    "\n",
    "def fun2(x):\n",
    "    return 5*x*x + 4*x + 2\n",
    "\n",
    "assert whichIsSmaller(fun1,fun2,0) == fun1\n",
    "assert whichIsSmaller(fun1,fun2,-10) == fun1\n",
    "assert whichIsSmaller(fun1,fun2,2) == fun1\n",
    "assert whichIsSmaller(fun1,fun2,50) == fun2\n"
   ]
  },
  {
   "cell_type": "code",
   "execution_count": null,
   "metadata": {},
   "outputs": [],
   "source": []
  }
 ],
 "metadata": {
  "kernelspec": {
   "display_name": "Python 3",
   "language": "python",
   "name": "python3"
  },
  "language_info": {
   "codemirror_mode": {
    "name": "ipython",
    "version": 3
   },
   "file_extension": ".py",
   "mimetype": "text/x-python",
   "name": "python",
   "nbconvert_exporter": "python",
   "pygments_lexer": "ipython3",
   "version": "3.8.5"
  }
 },
 "nbformat": 4,
 "nbformat_minor": 5
}
